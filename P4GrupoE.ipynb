{
  "cells": [
    {
      "cell_type": "markdown",
      "metadata": {
        "id": "OUBRwgEu3yu1"
      },
      "source": [
        "# Práctica 4: Procesamiento del Lenguaje Natural\n",
        "\n",
        "__Fecha de entrega: 14 de mayo de 2024__\n",
        "\n",
        "El objetivo de esta práctica es aplicar los conceptos teóricos vistos en clase en el módulo de PLN.\n",
        "\n",
        "Lo más importante en esta práctica no es el código Python, sino el análisis de los datos y modelos que construyas y las explicaciones razonadas de cada una de las decisiones que tomes. __No se valorarán trozos de código o gráficas sin ningún tipo de contexto o explicación__.\n",
        "\n",
        "Finalmente, recuerda establecer el parámetro `random_state` en todas las funciones que tomen decisiones aleatorias para que los resultados sean reproducibles (los resultados no varíen entre ejecuciones)."
      ]
    },
    {
      "cell_type": "markdown",
      "metadata": {
        "id": "yeVD_g2D3yvC"
      },
      "source": [
        "# 1) Carga del conjunto de datos\n",
        "\n",
        "El fichero `spam.csv` contiene mensajes SMS etiquetados como spam or ham (legítimo).\n",
        "\n",
        "Muestra un ejemplo de cada clase.\n",
        "\n",
        "Haz un estudio del conjunto de datos. ¿qué palabras aparecen más veces?, ¿tendría sentido normalizar de alguna manera el corpus?\n",
        "\n",
        "Crea una partición de los datos dejando el 60% para entrenamiento, 20% para validación y el 20% restante para test. Comprueba que la distribución de los ejemplos en las particiones es similar."
      ]
    },
    {
      "cell_type": "code",
      "execution_count": 111,
      "metadata": {
        "id": "V3YxCTUW3yu9"
      },
      "outputs": [],
      "source": [
        "RANDOM_STATE = 1234"
      ]
    },
    {
      "cell_type": "code",
      "source": [
        "# acceso a google drive\n",
        "from google.colab import drive\n",
        "drive.mount('/content/drive')\n"
      ],
      "metadata": {
        "id": "CUSCxqoh40_k",
        "colab": {
          "base_uri": "https://localhost:8080/"
        },
        "outputId": "2b7df935-1a4f-4bde-ea21-fc51c68bbb5a"
      },
      "execution_count": 112,
      "outputs": [
        {
          "output_type": "stream",
          "name": "stdout",
          "text": [
            "Drive already mounted at /content/drive; to attempt to forcibly remount, call drive.mount(\"/content/drive\", force_remount=True).\n"
          ]
        }
      ]
    },
    {
      "cell_type": "code",
      "source": [
        "import pandas as pd\n",
        "import numpy as np\n",
        "import re\n",
        "import nltk\n",
        "import matplotlib.pyplot as plt\n",
        "df1 = pd.read_csv('/content/drive/MyDrive/spam.csv')\n",
        "df1"
      ],
      "metadata": {
        "colab": {
          "base_uri": "https://localhost:8080/",
          "height": 424
        },
        "id": "k9HPGct048c3",
        "outputId": "9f0c601f-26db-49c8-cfa6-2fbb0d116337"
      },
      "execution_count": 113,
      "outputs": [
        {
          "output_type": "execute_result",
          "data": {
            "text/plain": [
              "        v1                                                 v2 Unnamed: 2  \\\n",
              "0      ham  Go until jurong point, crazy.. Available only ...        NaN   \n",
              "1      ham                      Ok lar... Joking wif u oni...        NaN   \n",
              "2     spam  Free entry in 2 a wkly comp to win FA Cup fina...        NaN   \n",
              "3      ham  U dun say so early hor... U c already then say...        NaN   \n",
              "4      ham  Nah I don't think he goes to usf, he lives aro...        NaN   \n",
              "...    ...                                                ...        ...   \n",
              "5568   ham              Will �_ b going to esplanade fr home?        NaN   \n",
              "5569   ham  Pity, * was in mood for that. So...any other s...        NaN   \n",
              "5570   ham  The guy did some bitching but I acted like i'd...        NaN   \n",
              "5571   ham                         Rofl. Its true to its name        NaN   \n",
              "5572   NaN                                encoding = 'cp1252'        NaN   \n",
              "\n",
              "     Unnamed: 3 Unnamed: 4  \n",
              "0           NaN        NaN  \n",
              "1           NaN        NaN  \n",
              "2           NaN        NaN  \n",
              "3           NaN        NaN  \n",
              "4           NaN        NaN  \n",
              "...         ...        ...  \n",
              "5568        NaN        NaN  \n",
              "5569        NaN        NaN  \n",
              "5570        NaN        NaN  \n",
              "5571        NaN        NaN  \n",
              "5572        NaN        NaN  \n",
              "\n",
              "[5573 rows x 5 columns]"
            ],
            "text/html": [
              "\n",
              "  <div id=\"df-d2811c43-782d-4488-aba5-c719d23dd1b7\" class=\"colab-df-container\">\n",
              "    <div>\n",
              "<style scoped>\n",
              "    .dataframe tbody tr th:only-of-type {\n",
              "        vertical-align: middle;\n",
              "    }\n",
              "\n",
              "    .dataframe tbody tr th {\n",
              "        vertical-align: top;\n",
              "    }\n",
              "\n",
              "    .dataframe thead th {\n",
              "        text-align: right;\n",
              "    }\n",
              "</style>\n",
              "<table border=\"1\" class=\"dataframe\">\n",
              "  <thead>\n",
              "    <tr style=\"text-align: right;\">\n",
              "      <th></th>\n",
              "      <th>v1</th>\n",
              "      <th>v2</th>\n",
              "      <th>Unnamed: 2</th>\n",
              "      <th>Unnamed: 3</th>\n",
              "      <th>Unnamed: 4</th>\n",
              "    </tr>\n",
              "  </thead>\n",
              "  <tbody>\n",
              "    <tr>\n",
              "      <th>0</th>\n",
              "      <td>ham</td>\n",
              "      <td>Go until jurong point, crazy.. Available only ...</td>\n",
              "      <td>NaN</td>\n",
              "      <td>NaN</td>\n",
              "      <td>NaN</td>\n",
              "    </tr>\n",
              "    <tr>\n",
              "      <th>1</th>\n",
              "      <td>ham</td>\n",
              "      <td>Ok lar... Joking wif u oni...</td>\n",
              "      <td>NaN</td>\n",
              "      <td>NaN</td>\n",
              "      <td>NaN</td>\n",
              "    </tr>\n",
              "    <tr>\n",
              "      <th>2</th>\n",
              "      <td>spam</td>\n",
              "      <td>Free entry in 2 a wkly comp to win FA Cup fina...</td>\n",
              "      <td>NaN</td>\n",
              "      <td>NaN</td>\n",
              "      <td>NaN</td>\n",
              "    </tr>\n",
              "    <tr>\n",
              "      <th>3</th>\n",
              "      <td>ham</td>\n",
              "      <td>U dun say so early hor... U c already then say...</td>\n",
              "      <td>NaN</td>\n",
              "      <td>NaN</td>\n",
              "      <td>NaN</td>\n",
              "    </tr>\n",
              "    <tr>\n",
              "      <th>4</th>\n",
              "      <td>ham</td>\n",
              "      <td>Nah I don't think he goes to usf, he lives aro...</td>\n",
              "      <td>NaN</td>\n",
              "      <td>NaN</td>\n",
              "      <td>NaN</td>\n",
              "    </tr>\n",
              "    <tr>\n",
              "      <th>...</th>\n",
              "      <td>...</td>\n",
              "      <td>...</td>\n",
              "      <td>...</td>\n",
              "      <td>...</td>\n",
              "      <td>...</td>\n",
              "    </tr>\n",
              "    <tr>\n",
              "      <th>5568</th>\n",
              "      <td>ham</td>\n",
              "      <td>Will �_ b going to esplanade fr home?</td>\n",
              "      <td>NaN</td>\n",
              "      <td>NaN</td>\n",
              "      <td>NaN</td>\n",
              "    </tr>\n",
              "    <tr>\n",
              "      <th>5569</th>\n",
              "      <td>ham</td>\n",
              "      <td>Pity, * was in mood for that. So...any other s...</td>\n",
              "      <td>NaN</td>\n",
              "      <td>NaN</td>\n",
              "      <td>NaN</td>\n",
              "    </tr>\n",
              "    <tr>\n",
              "      <th>5570</th>\n",
              "      <td>ham</td>\n",
              "      <td>The guy did some bitching but I acted like i'd...</td>\n",
              "      <td>NaN</td>\n",
              "      <td>NaN</td>\n",
              "      <td>NaN</td>\n",
              "    </tr>\n",
              "    <tr>\n",
              "      <th>5571</th>\n",
              "      <td>ham</td>\n",
              "      <td>Rofl. Its true to its name</td>\n",
              "      <td>NaN</td>\n",
              "      <td>NaN</td>\n",
              "      <td>NaN</td>\n",
              "    </tr>\n",
              "    <tr>\n",
              "      <th>5572</th>\n",
              "      <td>NaN</td>\n",
              "      <td>encoding = 'cp1252'</td>\n",
              "      <td>NaN</td>\n",
              "      <td>NaN</td>\n",
              "      <td>NaN</td>\n",
              "    </tr>\n",
              "  </tbody>\n",
              "</table>\n",
              "<p>5573 rows × 5 columns</p>\n",
              "</div>\n",
              "    <div class=\"colab-df-buttons\">\n",
              "\n",
              "  <div class=\"colab-df-container\">\n",
              "    <button class=\"colab-df-convert\" onclick=\"convertToInteractive('df-d2811c43-782d-4488-aba5-c719d23dd1b7')\"\n",
              "            title=\"Convert this dataframe to an interactive table.\"\n",
              "            style=\"display:none;\">\n",
              "\n",
              "  <svg xmlns=\"http://www.w3.org/2000/svg\" height=\"24px\" viewBox=\"0 -960 960 960\">\n",
              "    <path d=\"M120-120v-720h720v720H120Zm60-500h600v-160H180v160Zm220 220h160v-160H400v160Zm0 220h160v-160H400v160ZM180-400h160v-160H180v160Zm440 0h160v-160H620v160ZM180-180h160v-160H180v160Zm440 0h160v-160H620v160Z\"/>\n",
              "  </svg>\n",
              "    </button>\n",
              "\n",
              "  <style>\n",
              "    .colab-df-container {\n",
              "      display:flex;\n",
              "      gap: 12px;\n",
              "    }\n",
              "\n",
              "    .colab-df-convert {\n",
              "      background-color: #E8F0FE;\n",
              "      border: none;\n",
              "      border-radius: 50%;\n",
              "      cursor: pointer;\n",
              "      display: none;\n",
              "      fill: #1967D2;\n",
              "      height: 32px;\n",
              "      padding: 0 0 0 0;\n",
              "      width: 32px;\n",
              "    }\n",
              "\n",
              "    .colab-df-convert:hover {\n",
              "      background-color: #E2EBFA;\n",
              "      box-shadow: 0px 1px 2px rgba(60, 64, 67, 0.3), 0px 1px 3px 1px rgba(60, 64, 67, 0.15);\n",
              "      fill: #174EA6;\n",
              "    }\n",
              "\n",
              "    .colab-df-buttons div {\n",
              "      margin-bottom: 4px;\n",
              "    }\n",
              "\n",
              "    [theme=dark] .colab-df-convert {\n",
              "      background-color: #3B4455;\n",
              "      fill: #D2E3FC;\n",
              "    }\n",
              "\n",
              "    [theme=dark] .colab-df-convert:hover {\n",
              "      background-color: #434B5C;\n",
              "      box-shadow: 0px 1px 3px 1px rgba(0, 0, 0, 0.15);\n",
              "      filter: drop-shadow(0px 1px 2px rgba(0, 0, 0, 0.3));\n",
              "      fill: #FFFFFF;\n",
              "    }\n",
              "  </style>\n",
              "\n",
              "    <script>\n",
              "      const buttonEl =\n",
              "        document.querySelector('#df-d2811c43-782d-4488-aba5-c719d23dd1b7 button.colab-df-convert');\n",
              "      buttonEl.style.display =\n",
              "        google.colab.kernel.accessAllowed ? 'block' : 'none';\n",
              "\n",
              "      async function convertToInteractive(key) {\n",
              "        const element = document.querySelector('#df-d2811c43-782d-4488-aba5-c719d23dd1b7');\n",
              "        const dataTable =\n",
              "          await google.colab.kernel.invokeFunction('convertToInteractive',\n",
              "                                                    [key], {});\n",
              "        if (!dataTable) return;\n",
              "\n",
              "        const docLinkHtml = 'Like what you see? Visit the ' +\n",
              "          '<a target=\"_blank\" href=https://colab.research.google.com/notebooks/data_table.ipynb>data table notebook</a>'\n",
              "          + ' to learn more about interactive tables.';\n",
              "        element.innerHTML = '';\n",
              "        dataTable['output_type'] = 'display_data';\n",
              "        await google.colab.output.renderOutput(dataTable, element);\n",
              "        const docLink = document.createElement('div');\n",
              "        docLink.innerHTML = docLinkHtml;\n",
              "        element.appendChild(docLink);\n",
              "      }\n",
              "    </script>\n",
              "  </div>\n",
              "\n",
              "\n",
              "<div id=\"df-3fd6056d-4968-4c29-a538-186f7a788969\">\n",
              "  <button class=\"colab-df-quickchart\" onclick=\"quickchart('df-3fd6056d-4968-4c29-a538-186f7a788969')\"\n",
              "            title=\"Suggest charts\"\n",
              "            style=\"display:none;\">\n",
              "\n",
              "<svg xmlns=\"http://www.w3.org/2000/svg\" height=\"24px\"viewBox=\"0 0 24 24\"\n",
              "     width=\"24px\">\n",
              "    <g>\n",
              "        <path d=\"M19 3H5c-1.1 0-2 .9-2 2v14c0 1.1.9 2 2 2h14c1.1 0 2-.9 2-2V5c0-1.1-.9-2-2-2zM9 17H7v-7h2v7zm4 0h-2V7h2v10zm4 0h-2v-4h2v4z\"/>\n",
              "    </g>\n",
              "</svg>\n",
              "  </button>\n",
              "\n",
              "<style>\n",
              "  .colab-df-quickchart {\n",
              "      --bg-color: #E8F0FE;\n",
              "      --fill-color: #1967D2;\n",
              "      --hover-bg-color: #E2EBFA;\n",
              "      --hover-fill-color: #174EA6;\n",
              "      --disabled-fill-color: #AAA;\n",
              "      --disabled-bg-color: #DDD;\n",
              "  }\n",
              "\n",
              "  [theme=dark] .colab-df-quickchart {\n",
              "      --bg-color: #3B4455;\n",
              "      --fill-color: #D2E3FC;\n",
              "      --hover-bg-color: #434B5C;\n",
              "      --hover-fill-color: #FFFFFF;\n",
              "      --disabled-bg-color: #3B4455;\n",
              "      --disabled-fill-color: #666;\n",
              "  }\n",
              "\n",
              "  .colab-df-quickchart {\n",
              "    background-color: var(--bg-color);\n",
              "    border: none;\n",
              "    border-radius: 50%;\n",
              "    cursor: pointer;\n",
              "    display: none;\n",
              "    fill: var(--fill-color);\n",
              "    height: 32px;\n",
              "    padding: 0;\n",
              "    width: 32px;\n",
              "  }\n",
              "\n",
              "  .colab-df-quickchart:hover {\n",
              "    background-color: var(--hover-bg-color);\n",
              "    box-shadow: 0 1px 2px rgba(60, 64, 67, 0.3), 0 1px 3px 1px rgba(60, 64, 67, 0.15);\n",
              "    fill: var(--button-hover-fill-color);\n",
              "  }\n",
              "\n",
              "  .colab-df-quickchart-complete:disabled,\n",
              "  .colab-df-quickchart-complete:disabled:hover {\n",
              "    background-color: var(--disabled-bg-color);\n",
              "    fill: var(--disabled-fill-color);\n",
              "    box-shadow: none;\n",
              "  }\n",
              "\n",
              "  .colab-df-spinner {\n",
              "    border: 2px solid var(--fill-color);\n",
              "    border-color: transparent;\n",
              "    border-bottom-color: var(--fill-color);\n",
              "    animation:\n",
              "      spin 1s steps(1) infinite;\n",
              "  }\n",
              "\n",
              "  @keyframes spin {\n",
              "    0% {\n",
              "      border-color: transparent;\n",
              "      border-bottom-color: var(--fill-color);\n",
              "      border-left-color: var(--fill-color);\n",
              "    }\n",
              "    20% {\n",
              "      border-color: transparent;\n",
              "      border-left-color: var(--fill-color);\n",
              "      border-top-color: var(--fill-color);\n",
              "    }\n",
              "    30% {\n",
              "      border-color: transparent;\n",
              "      border-left-color: var(--fill-color);\n",
              "      border-top-color: var(--fill-color);\n",
              "      border-right-color: var(--fill-color);\n",
              "    }\n",
              "    40% {\n",
              "      border-color: transparent;\n",
              "      border-right-color: var(--fill-color);\n",
              "      border-top-color: var(--fill-color);\n",
              "    }\n",
              "    60% {\n",
              "      border-color: transparent;\n",
              "      border-right-color: var(--fill-color);\n",
              "    }\n",
              "    80% {\n",
              "      border-color: transparent;\n",
              "      border-right-color: var(--fill-color);\n",
              "      border-bottom-color: var(--fill-color);\n",
              "    }\n",
              "    90% {\n",
              "      border-color: transparent;\n",
              "      border-bottom-color: var(--fill-color);\n",
              "    }\n",
              "  }\n",
              "</style>\n",
              "\n",
              "  <script>\n",
              "    async function quickchart(key) {\n",
              "      const quickchartButtonEl =\n",
              "        document.querySelector('#' + key + ' button');\n",
              "      quickchartButtonEl.disabled = true;  // To prevent multiple clicks.\n",
              "      quickchartButtonEl.classList.add('colab-df-spinner');\n",
              "      try {\n",
              "        const charts = await google.colab.kernel.invokeFunction(\n",
              "            'suggestCharts', [key], {});\n",
              "      } catch (error) {\n",
              "        console.error('Error during call to suggestCharts:', error);\n",
              "      }\n",
              "      quickchartButtonEl.classList.remove('colab-df-spinner');\n",
              "      quickchartButtonEl.classList.add('colab-df-quickchart-complete');\n",
              "    }\n",
              "    (() => {\n",
              "      let quickchartButtonEl =\n",
              "        document.querySelector('#df-3fd6056d-4968-4c29-a538-186f7a788969 button');\n",
              "      quickchartButtonEl.style.display =\n",
              "        google.colab.kernel.accessAllowed ? 'block' : 'none';\n",
              "    })();\n",
              "  </script>\n",
              "</div>\n",
              "    </div>\n",
              "  </div>\n"
            ],
            "application/vnd.google.colaboratory.intrinsic+json": {
              "type": "dataframe",
              "variable_name": "df1",
              "summary": "{\n  \"name\": \"df1\",\n  \"rows\": 5573,\n  \"fields\": [\n    {\n      \"column\": \"v1\",\n      \"properties\": {\n        \"dtype\": \"category\",\n        \"num_unique_values\": 2,\n        \"samples\": [\n          \"spam\",\n          \"ham\"\n        ],\n        \"semantic_type\": \"\",\n        \"description\": \"\"\n      }\n    },\n    {\n      \"column\": \"v2\",\n      \"properties\": {\n        \"dtype\": \"string\",\n        \"num_unique_values\": 5170,\n        \"samples\": [\n          \"Did u download the fring app?\",\n          \"Pass dis to all ur contacts n see wat u get! Red;i'm in luv wid u. Blue;u put a smile on my face. Purple;u r realy hot. Pink;u r so swt. Orange;i thnk i lyk u. Green;i realy wana go out wid u. Yelow;i wnt u bck. Black;i'm jealous of u. Brown;i miss you Nw plz giv me one color\"\n        ],\n        \"semantic_type\": \"\",\n        \"description\": \"\"\n      }\n    },\n    {\n      \"column\": \"Unnamed: 2\",\n      \"properties\": {\n        \"dtype\": \"category\",\n        \"num_unique_values\": 43,\n        \"samples\": [\n          \" GOD said\",\n          \" SHE SHUDVETOLD U. DID URGRAN KNOW?NEWAY\"\n        ],\n        \"semantic_type\": \"\",\n        \"description\": \"\"\n      }\n    },\n    {\n      \"column\": \"Unnamed: 3\",\n      \"properties\": {\n        \"dtype\": \"category\",\n        \"num_unique_values\": 10,\n        \"samples\": [\n          \" \\\\\\\"OH No! COMPETITION\\\\\\\". Who knew\",\n          \" why to miss them\"\n        ],\n        \"semantic_type\": \"\",\n        \"description\": \"\"\n      }\n    },\n    {\n      \"column\": \"Unnamed: 4\",\n      \"properties\": {\n        \"dtype\": \"category\",\n        \"num_unique_values\": 5,\n        \"samples\": [\n          \"GNT:-)\\\"\",\n          \" one day these two will become FREINDS FOREVER!\\\"\"\n        ],\n        \"semantic_type\": \"\",\n        \"description\": \"\"\n      }\n    }\n  ]\n}"
            }
          },
          "metadata": {},
          "execution_count": 113
        }
      ]
    },
    {
      "cell_type": "code",
      "source": [
        "#df_1 = df1[df1.iloc[:, 2].isna()]\n",
        "#df_1 = df_1[df_1.iloc[:, 3].isna()]\n",
        "#df_1 = df_1[df_1.iloc[:, 4].isna()]\n",
        "\n",
        "df1 = df1.iloc[:, :-3]\n",
        "df1 = df1.dropna()\n",
        "'''\n",
        "for indice_fila, fila in df_filtrado.iterrows():\n",
        "     palabra = fila.iloc[3]  # Acceder al valor en la tercera columna de cada fila\n",
        "     if not pd.isna(palabra):  # Verificar si el valor no es NaN\n",
        "        print(palabra)\n",
        "'''\n",
        "\n",
        "df1"
      ],
      "metadata": {
        "id": "7hUrClD8GiKK",
        "outputId": "fa33b6e2-9733-484d-dc00-46a25b6d7652",
        "colab": {
          "base_uri": "https://localhost:8080/",
          "height": 424
        }
      },
      "execution_count": 114,
      "outputs": [
        {
          "output_type": "execute_result",
          "data": {
            "text/plain": [
              "        v1                                                 v2\n",
              "0      ham  Go until jurong point, crazy.. Available only ...\n",
              "1      ham                      Ok lar... Joking wif u oni...\n",
              "2     spam  Free entry in 2 a wkly comp to win FA Cup fina...\n",
              "3      ham  U dun say so early hor... U c already then say...\n",
              "4      ham  Nah I don't think he goes to usf, he lives aro...\n",
              "...    ...                                                ...\n",
              "5567  spam  This is the 2nd time we have tried 2 contact u...\n",
              "5568   ham              Will �_ b going to esplanade fr home?\n",
              "5569   ham  Pity, * was in mood for that. So...any other s...\n",
              "5570   ham  The guy did some bitching but I acted like i'd...\n",
              "5571   ham                         Rofl. Its true to its name\n",
              "\n",
              "[5572 rows x 2 columns]"
            ],
            "text/html": [
              "\n",
              "  <div id=\"df-caf88c5d-4634-4117-9f03-4ab567fcd2d8\" class=\"colab-df-container\">\n",
              "    <div>\n",
              "<style scoped>\n",
              "    .dataframe tbody tr th:only-of-type {\n",
              "        vertical-align: middle;\n",
              "    }\n",
              "\n",
              "    .dataframe tbody tr th {\n",
              "        vertical-align: top;\n",
              "    }\n",
              "\n",
              "    .dataframe thead th {\n",
              "        text-align: right;\n",
              "    }\n",
              "</style>\n",
              "<table border=\"1\" class=\"dataframe\">\n",
              "  <thead>\n",
              "    <tr style=\"text-align: right;\">\n",
              "      <th></th>\n",
              "      <th>v1</th>\n",
              "      <th>v2</th>\n",
              "    </tr>\n",
              "  </thead>\n",
              "  <tbody>\n",
              "    <tr>\n",
              "      <th>0</th>\n",
              "      <td>ham</td>\n",
              "      <td>Go until jurong point, crazy.. Available only ...</td>\n",
              "    </tr>\n",
              "    <tr>\n",
              "      <th>1</th>\n",
              "      <td>ham</td>\n",
              "      <td>Ok lar... Joking wif u oni...</td>\n",
              "    </tr>\n",
              "    <tr>\n",
              "      <th>2</th>\n",
              "      <td>spam</td>\n",
              "      <td>Free entry in 2 a wkly comp to win FA Cup fina...</td>\n",
              "    </tr>\n",
              "    <tr>\n",
              "      <th>3</th>\n",
              "      <td>ham</td>\n",
              "      <td>U dun say so early hor... U c already then say...</td>\n",
              "    </tr>\n",
              "    <tr>\n",
              "      <th>4</th>\n",
              "      <td>ham</td>\n",
              "      <td>Nah I don't think he goes to usf, he lives aro...</td>\n",
              "    </tr>\n",
              "    <tr>\n",
              "      <th>...</th>\n",
              "      <td>...</td>\n",
              "      <td>...</td>\n",
              "    </tr>\n",
              "    <tr>\n",
              "      <th>5567</th>\n",
              "      <td>spam</td>\n",
              "      <td>This is the 2nd time we have tried 2 contact u...</td>\n",
              "    </tr>\n",
              "    <tr>\n",
              "      <th>5568</th>\n",
              "      <td>ham</td>\n",
              "      <td>Will �_ b going to esplanade fr home?</td>\n",
              "    </tr>\n",
              "    <tr>\n",
              "      <th>5569</th>\n",
              "      <td>ham</td>\n",
              "      <td>Pity, * was in mood for that. So...any other s...</td>\n",
              "    </tr>\n",
              "    <tr>\n",
              "      <th>5570</th>\n",
              "      <td>ham</td>\n",
              "      <td>The guy did some bitching but I acted like i'd...</td>\n",
              "    </tr>\n",
              "    <tr>\n",
              "      <th>5571</th>\n",
              "      <td>ham</td>\n",
              "      <td>Rofl. Its true to its name</td>\n",
              "    </tr>\n",
              "  </tbody>\n",
              "</table>\n",
              "<p>5572 rows × 2 columns</p>\n",
              "</div>\n",
              "    <div class=\"colab-df-buttons\">\n",
              "\n",
              "  <div class=\"colab-df-container\">\n",
              "    <button class=\"colab-df-convert\" onclick=\"convertToInteractive('df-caf88c5d-4634-4117-9f03-4ab567fcd2d8')\"\n",
              "            title=\"Convert this dataframe to an interactive table.\"\n",
              "            style=\"display:none;\">\n",
              "\n",
              "  <svg xmlns=\"http://www.w3.org/2000/svg\" height=\"24px\" viewBox=\"0 -960 960 960\">\n",
              "    <path d=\"M120-120v-720h720v720H120Zm60-500h600v-160H180v160Zm220 220h160v-160H400v160Zm0 220h160v-160H400v160ZM180-400h160v-160H180v160Zm440 0h160v-160H620v160ZM180-180h160v-160H180v160Zm440 0h160v-160H620v160Z\"/>\n",
              "  </svg>\n",
              "    </button>\n",
              "\n",
              "  <style>\n",
              "    .colab-df-container {\n",
              "      display:flex;\n",
              "      gap: 12px;\n",
              "    }\n",
              "\n",
              "    .colab-df-convert {\n",
              "      background-color: #E8F0FE;\n",
              "      border: none;\n",
              "      border-radius: 50%;\n",
              "      cursor: pointer;\n",
              "      display: none;\n",
              "      fill: #1967D2;\n",
              "      height: 32px;\n",
              "      padding: 0 0 0 0;\n",
              "      width: 32px;\n",
              "    }\n",
              "\n",
              "    .colab-df-convert:hover {\n",
              "      background-color: #E2EBFA;\n",
              "      box-shadow: 0px 1px 2px rgba(60, 64, 67, 0.3), 0px 1px 3px 1px rgba(60, 64, 67, 0.15);\n",
              "      fill: #174EA6;\n",
              "    }\n",
              "\n",
              "    .colab-df-buttons div {\n",
              "      margin-bottom: 4px;\n",
              "    }\n",
              "\n",
              "    [theme=dark] .colab-df-convert {\n",
              "      background-color: #3B4455;\n",
              "      fill: #D2E3FC;\n",
              "    }\n",
              "\n",
              "    [theme=dark] .colab-df-convert:hover {\n",
              "      background-color: #434B5C;\n",
              "      box-shadow: 0px 1px 3px 1px rgba(0, 0, 0, 0.15);\n",
              "      filter: drop-shadow(0px 1px 2px rgba(0, 0, 0, 0.3));\n",
              "      fill: #FFFFFF;\n",
              "    }\n",
              "  </style>\n",
              "\n",
              "    <script>\n",
              "      const buttonEl =\n",
              "        document.querySelector('#df-caf88c5d-4634-4117-9f03-4ab567fcd2d8 button.colab-df-convert');\n",
              "      buttonEl.style.display =\n",
              "        google.colab.kernel.accessAllowed ? 'block' : 'none';\n",
              "\n",
              "      async function convertToInteractive(key) {\n",
              "        const element = document.querySelector('#df-caf88c5d-4634-4117-9f03-4ab567fcd2d8');\n",
              "        const dataTable =\n",
              "          await google.colab.kernel.invokeFunction('convertToInteractive',\n",
              "                                                    [key], {});\n",
              "        if (!dataTable) return;\n",
              "\n",
              "        const docLinkHtml = 'Like what you see? Visit the ' +\n",
              "          '<a target=\"_blank\" href=https://colab.research.google.com/notebooks/data_table.ipynb>data table notebook</a>'\n",
              "          + ' to learn more about interactive tables.';\n",
              "        element.innerHTML = '';\n",
              "        dataTable['output_type'] = 'display_data';\n",
              "        await google.colab.output.renderOutput(dataTable, element);\n",
              "        const docLink = document.createElement('div');\n",
              "        docLink.innerHTML = docLinkHtml;\n",
              "        element.appendChild(docLink);\n",
              "      }\n",
              "    </script>\n",
              "  </div>\n",
              "\n",
              "\n",
              "<div id=\"df-a88a9ece-c50f-4b04-b889-f53853b294cb\">\n",
              "  <button class=\"colab-df-quickchart\" onclick=\"quickchart('df-a88a9ece-c50f-4b04-b889-f53853b294cb')\"\n",
              "            title=\"Suggest charts\"\n",
              "            style=\"display:none;\">\n",
              "\n",
              "<svg xmlns=\"http://www.w3.org/2000/svg\" height=\"24px\"viewBox=\"0 0 24 24\"\n",
              "     width=\"24px\">\n",
              "    <g>\n",
              "        <path d=\"M19 3H5c-1.1 0-2 .9-2 2v14c0 1.1.9 2 2 2h14c1.1 0 2-.9 2-2V5c0-1.1-.9-2-2-2zM9 17H7v-7h2v7zm4 0h-2V7h2v10zm4 0h-2v-4h2v4z\"/>\n",
              "    </g>\n",
              "</svg>\n",
              "  </button>\n",
              "\n",
              "<style>\n",
              "  .colab-df-quickchart {\n",
              "      --bg-color: #E8F0FE;\n",
              "      --fill-color: #1967D2;\n",
              "      --hover-bg-color: #E2EBFA;\n",
              "      --hover-fill-color: #174EA6;\n",
              "      --disabled-fill-color: #AAA;\n",
              "      --disabled-bg-color: #DDD;\n",
              "  }\n",
              "\n",
              "  [theme=dark] .colab-df-quickchart {\n",
              "      --bg-color: #3B4455;\n",
              "      --fill-color: #D2E3FC;\n",
              "      --hover-bg-color: #434B5C;\n",
              "      --hover-fill-color: #FFFFFF;\n",
              "      --disabled-bg-color: #3B4455;\n",
              "      --disabled-fill-color: #666;\n",
              "  }\n",
              "\n",
              "  .colab-df-quickchart {\n",
              "    background-color: var(--bg-color);\n",
              "    border: none;\n",
              "    border-radius: 50%;\n",
              "    cursor: pointer;\n",
              "    display: none;\n",
              "    fill: var(--fill-color);\n",
              "    height: 32px;\n",
              "    padding: 0;\n",
              "    width: 32px;\n",
              "  }\n",
              "\n",
              "  .colab-df-quickchart:hover {\n",
              "    background-color: var(--hover-bg-color);\n",
              "    box-shadow: 0 1px 2px rgba(60, 64, 67, 0.3), 0 1px 3px 1px rgba(60, 64, 67, 0.15);\n",
              "    fill: var(--button-hover-fill-color);\n",
              "  }\n",
              "\n",
              "  .colab-df-quickchart-complete:disabled,\n",
              "  .colab-df-quickchart-complete:disabled:hover {\n",
              "    background-color: var(--disabled-bg-color);\n",
              "    fill: var(--disabled-fill-color);\n",
              "    box-shadow: none;\n",
              "  }\n",
              "\n",
              "  .colab-df-spinner {\n",
              "    border: 2px solid var(--fill-color);\n",
              "    border-color: transparent;\n",
              "    border-bottom-color: var(--fill-color);\n",
              "    animation:\n",
              "      spin 1s steps(1) infinite;\n",
              "  }\n",
              "\n",
              "  @keyframes spin {\n",
              "    0% {\n",
              "      border-color: transparent;\n",
              "      border-bottom-color: var(--fill-color);\n",
              "      border-left-color: var(--fill-color);\n",
              "    }\n",
              "    20% {\n",
              "      border-color: transparent;\n",
              "      border-left-color: var(--fill-color);\n",
              "      border-top-color: var(--fill-color);\n",
              "    }\n",
              "    30% {\n",
              "      border-color: transparent;\n",
              "      border-left-color: var(--fill-color);\n",
              "      border-top-color: var(--fill-color);\n",
              "      border-right-color: var(--fill-color);\n",
              "    }\n",
              "    40% {\n",
              "      border-color: transparent;\n",
              "      border-right-color: var(--fill-color);\n",
              "      border-top-color: var(--fill-color);\n",
              "    }\n",
              "    60% {\n",
              "      border-color: transparent;\n",
              "      border-right-color: var(--fill-color);\n",
              "    }\n",
              "    80% {\n",
              "      border-color: transparent;\n",
              "      border-right-color: var(--fill-color);\n",
              "      border-bottom-color: var(--fill-color);\n",
              "    }\n",
              "    90% {\n",
              "      border-color: transparent;\n",
              "      border-bottom-color: var(--fill-color);\n",
              "    }\n",
              "  }\n",
              "</style>\n",
              "\n",
              "  <script>\n",
              "    async function quickchart(key) {\n",
              "      const quickchartButtonEl =\n",
              "        document.querySelector('#' + key + ' button');\n",
              "      quickchartButtonEl.disabled = true;  // To prevent multiple clicks.\n",
              "      quickchartButtonEl.classList.add('colab-df-spinner');\n",
              "      try {\n",
              "        const charts = await google.colab.kernel.invokeFunction(\n",
              "            'suggestCharts', [key], {});\n",
              "      } catch (error) {\n",
              "        console.error('Error during call to suggestCharts:', error);\n",
              "      }\n",
              "      quickchartButtonEl.classList.remove('colab-df-spinner');\n",
              "      quickchartButtonEl.classList.add('colab-df-quickchart-complete');\n",
              "    }\n",
              "    (() => {\n",
              "      let quickchartButtonEl =\n",
              "        document.querySelector('#df-a88a9ece-c50f-4b04-b889-f53853b294cb button');\n",
              "      quickchartButtonEl.style.display =\n",
              "        google.colab.kernel.accessAllowed ? 'block' : 'none';\n",
              "    })();\n",
              "  </script>\n",
              "</div>\n",
              "    </div>\n",
              "  </div>\n"
            ],
            "application/vnd.google.colaboratory.intrinsic+json": {
              "type": "dataframe",
              "variable_name": "df1",
              "summary": "{\n  \"name\": \"df1\",\n  \"rows\": 5572,\n  \"fields\": [\n    {\n      \"column\": \"v1\",\n      \"properties\": {\n        \"dtype\": \"category\",\n        \"num_unique_values\": 2,\n        \"samples\": [\n          \"spam\",\n          \"ham\"\n        ],\n        \"semantic_type\": \"\",\n        \"description\": \"\"\n      }\n    },\n    {\n      \"column\": \"v2\",\n      \"properties\": {\n        \"dtype\": \"string\",\n        \"num_unique_values\": 5169,\n        \"samples\": [\n          \"Did u download the fring app?\",\n          \"Pass dis to all ur contacts n see wat u get! Red;i'm in luv wid u. Blue;u put a smile on my face. Purple;u r realy hot. Pink;u r so swt. Orange;i thnk i lyk u. Green;i realy wana go out wid u. Yelow;i wnt u bck. Black;i'm jealous of u. Brown;i miss you Nw plz giv me one color\"\n        ],\n        \"semantic_type\": \"\",\n        \"description\": \"\"\n      }\n    }\n  ]\n}"
            }
          },
          "metadata": {},
          "execution_count": 114
        }
      ]
    },
    {
      "cell_type": "code",
      "source": [
        "for clase in df1['v1'].unique():\n",
        " if not pd.isna(clase):\n",
        "      # Obtener el primer elemento de cada clase\n",
        "      primer_elemento = df1[df1['v1'] == clase].iloc[0]\n",
        "      # Agregarlo al diccionario\n",
        "      print(primer_elemento)"
      ],
      "metadata": {
        "id": "8n2NhNqI7pB4",
        "colab": {
          "base_uri": "https://localhost:8080/"
        },
        "outputId": "74f4e838-7ab7-47fc-c86a-3a367fd267c5"
      },
      "execution_count": 115,
      "outputs": [
        {
          "output_type": "stream",
          "name": "stdout",
          "text": [
            "v1                                                  ham\n",
            "v2    Go until jurong point, crazy.. Available only ...\n",
            "Name: 0, dtype: object\n",
            "v1                                                 spam\n",
            "v2    Free entry in 2 a wkly comp to win FA Cup fina...\n",
            "Name: 2, dtype: object\n"
          ]
        }
      ]
    },
    {
      "cell_type": "code",
      "source": [
        "print(df1['v1'].value_counts())"
      ],
      "metadata": {
        "id": "QmetXzn583gV",
        "colab": {
          "base_uri": "https://localhost:8080/"
        },
        "outputId": "8f3db1f4-2936-49ca-e185-d9bcab431d8d"
      },
      "execution_count": 116,
      "outputs": [
        {
          "output_type": "stream",
          "name": "stdout",
          "text": [
            "v1\n",
            "ham     4825\n",
            "spam     747\n",
            "Name: count, dtype: int64\n"
          ]
        }
      ]
    },
    {
      "cell_type": "markdown",
      "source": [
        "Vemos que la cantidad de mensajes del tipo 'ham' aparece mucho más que el tipo 'spam' lo que indica que no estña balanceado. Por tanto, a la hora de sacar conlcusiones tendremos que tener en mente este hecho, ya que podría suceder que no fueran todo lo representativas que qusiéramos."
      ],
      "metadata": {
        "id": "iFOBmvDa9Qbg"
      }
    },
    {
      "cell_type": "markdown",
      "source": [
        "A continuación normalizaremos el documento eliminando caracteres especiales, pasando a minúsculas y eliminando palabras vacías."
      ],
      "metadata": {
        "id": "6i8nFNEY-NtH"
      }
    },
    {
      "cell_type": "code",
      "source": [
        "wpt = nltk.WordPunctTokenizer()\n",
        "nltk.download('stopwords')\n",
        "stop_words = nltk.corpus.stopwords.words('english')\n",
        "\n",
        "def normalize_document(doc):\n",
        "    # lower case and remove special characters\\whitespaces\n",
        "    doc = re.sub(r'[^a-zA-Z\\s]', '', doc, re.I|re.A)\n",
        "    doc = doc.lower()\n",
        "    doc = doc.strip()\n",
        "    # tokenize document\n",
        "    tokens = wpt.tokenize(doc)\n",
        "    # filter stopwords out of document\n",
        "    filtered_tokens = [token for token in tokens if token not in stop_words]\n",
        "    # re-create document from filtered tokens\n",
        "    doc = ' '.join(filtered_tokens)\n",
        "    return doc\n",
        "\n",
        "normalize_corpus = np.vectorize(normalize_document)"
      ],
      "metadata": {
        "colab": {
          "base_uri": "https://localhost:8080/"
        },
        "id": "6TtJNEc6-M79",
        "outputId": "d52bacc3-faa2-48b0-c459-44054617dfd6"
      },
      "execution_count": 117,
      "outputs": [
        {
          "output_type": "stream",
          "name": "stderr",
          "text": [
            "[nltk_data] Downloading package stopwords to /root/nltk_data...\n",
            "[nltk_data]   Package stopwords is already up-to-date!\n"
          ]
        }
      ]
    },
    {
      "cell_type": "code",
      "source": [
        "df1_normalizado = normalize_corpus(df1['v2'].values)\n"
      ],
      "metadata": {
        "id": "TNiasTQm_CjD"
      },
      "execution_count": 118,
      "outputs": []
    },
    {
      "cell_type": "code",
      "source": [
        "from sklearn.feature_extraction.text import CountVectorizer\n",
        "\n",
        "cv = CountVectorizer()\n",
        "cv_matrix = cv.fit_transform(df1_normalizado)\n",
        "cv_matrix\n",
        "cv_matrix = cv_matrix.toarray()\n",
        "cv_matrix\n",
        "suma_columnas = cv_matrix.sum(axis = 0)\n",
        "indice_columna_maxima = np.argmax(suma_columnas)\n",
        "\n",
        "nombres_columnas = cv.get_feature_names_out()\n",
        "\n",
        "print(nombres_columnas[indice_columna_maxima])\n",
        "print(np.max(suma_columnas))"
      ],
      "metadata": {
        "colab": {
          "base_uri": "https://localhost:8080/"
        },
        "id": "1_sHM_xS-BxQ",
        "outputId": "baf422e2-2595-4972-e877-928b943cfa94"
      },
      "execution_count": 119,
      "outputs": [
        {
          "output_type": "stream",
          "name": "stdout",
          "text": [
            "call\n",
            "579\n"
          ]
        }
      ]
    },
    {
      "cell_type": "markdown",
      "source": [
        "La palabra que más se repite es call y aparece 579 veces."
      ],
      "metadata": {
        "id": "442AG3ZSEP7Y"
      }
    },
    {
      "cell_type": "markdown",
      "metadata": {
        "id": "r4rXv3xX3yvG"
      },
      "source": [
        "# 2) Representación como bolsa de palabras\n",
        "\n",
        "Elige justificadamente una representación de bolsa de palabras y aplícala.\n",
        "Muestra un ejemplo antes y después de aplicar la representación. Explica los cambios."
      ]
    },
    {
      "cell_type": "markdown",
      "metadata": {
        "id": "jaUSgloS4xHS"
      },
      "source": [
        "# 3) Aplica 3 algoritmos de aprendizaje automático para resolver la tarea\n",
        "\n",
        "Justifica porqué los has elegido.\n",
        "Ajusta los modelos respecto a un hiperparámetro que consideres oportuno. Justifica tu elección.\n",
        "Explica los resultados obtenidos."
      ]
    },
    {
      "cell_type": "markdown",
      "metadata": {
        "id": "eV9JSByt4xHS"
      },
      "source": [
        "# 4) Construye redes neuronales con Keras con distintas maneras de usar word embeddings\n",
        "\n",
        "Justifica tus decisiones y explica los resultados obtenidos."
      ]
    },
    {
      "cell_type": "markdown",
      "source": [
        "A continuación, veremos distintas formas de usar word embeddings:"
      ],
      "metadata": {
        "id": "3vGA0fMxWCC-"
      }
    },
    {
      "cell_type": "code",
      "execution_count": 120,
      "metadata": {
        "colab": {
          "base_uri": "https://localhost:8080/"
        },
        "id": "jWi6XDaxBAom",
        "outputId": "ee2b2668-6851-4413-aa24-7c25880ae48d"
      },
      "outputs": [
        {
          "output_type": "stream",
          "name": "stdout",
          "text": [
            "Se han encontrado 8916 tokens únicos.\n"
          ]
        }
      ],
      "source": [
        "from keras.preprocessing.text import Tokenizer\n",
        "from keras.utils import pad_sequences\n",
        "\n",
        "max_words = 1500\n",
        "max_comment_length = 20\n",
        "\n",
        "\n",
        "\n",
        "df1['v1'] = df1['v1'].replace({'ham': 1, 'spam': 0})\n",
        "\n",
        "\n",
        "tokenizer = Tokenizer(num_words=max_words)\n",
        "tokenizer.fit_on_texts(df1.v2)\n",
        "\n",
        "sequences = tokenizer.texts_to_sequences(df1.v2)\n",
        "\n",
        "word_index = tokenizer.word_index\n",
        "print('Se han encontrado %s tokens únicos.' % len(word_index))\n",
        "max_words = len(word_index)\n",
        "\n",
        "data = pad_sequences(sequences, maxlen=max_comment_length)"
      ]
    },
    {
      "cell_type": "code",
      "execution_count": 121,
      "metadata": {
        "colab": {
          "base_uri": "https://localhost:8080/"
        },
        "id": "ccvxgdjZ0NwO",
        "outputId": "cdfb22f9-a908-439b-c10e-ed8a09a4ab6e"
      },
      "outputs": [
        {
          "output_type": "stream",
          "name": "stdout",
          "text": [
            "Nah I don't think he goes to usf, he lives around here though\n",
            "[   0    0    0    0    0    0    0    0 1017    1   98  107   69  487\n",
            "    2  955   69  219  111  471]\n",
            "1\n"
          ]
        }
      ],
      "source": [
        "print(df1.v2[4])\n",
        "print(data[4])\n",
        "print(df1.v1[4])"
      ]
    },
    {
      "cell_type": "code",
      "execution_count": 122,
      "metadata": {
        "colab": {
          "base_uri": "https://localhost:8080/"
        },
        "id": "vHUP_sBf9IQt",
        "outputId": "d011b789-7d9f-457f-80b0-d73ba5459c2c"
      },
      "outputs": [
        {
          "output_type": "stream",
          "name": "stdout",
          "text": [
            "Textos de entrenamiento: 4457\n",
            "Testear textos: 1115\n"
          ]
        }
      ],
      "source": [
        "from sklearn.model_selection import train_test_split\n",
        "\n",
        "#valor de random state\n",
        "rs=333\n",
        "\n",
        "df1['v1'].replace({'ham': 1, 'spam': 0})\n",
        "d=df1.values\n",
        "\n",
        "x_train, x_test, y_train, y_test = train_test_split(data, df1.v1, test_size=0.20, random_state=rs, stratify = df1.v1)\n",
        "\n",
        "print(\"Textos de entrenamiento:\", len(y_train))\n",
        "print(\"Testear textos:\", len(y_test))"
      ]
    },
    {
      "cell_type": "code",
      "execution_count": 123,
      "metadata": {
        "id": "6YL5tXWuu1v6"
      },
      "outputs": [],
      "source": [
        "# Fijamos el tamaño de los embedding a 50 dimensiones\n",
        "\n",
        "embedding_dim = 50"
      ]
    },
    {
      "cell_type": "markdown",
      "source": [
        "###MODELO 1"
      ],
      "metadata": {
        "id": "5a_IPWx9NpPK"
      }
    },
    {
      "cell_type": "markdown",
      "source": [
        "En primer lugar, veamos como se comporta sin embeddings pre-entrenados."
      ],
      "metadata": {
        "id": "O_SERmdOWX19"
      }
    },
    {
      "cell_type": "code",
      "execution_count": 124,
      "metadata": {
        "colab": {
          "base_uri": "https://localhost:8080/"
        },
        "id": "2P1FmfpU5HXn",
        "outputId": "0a182ac2-9d18-4512-ea52-658e2c148433"
      },
      "outputs": [
        {
          "output_type": "stream",
          "name": "stdout",
          "text": [
            "Model: \"sequential_17\"\n",
            "_________________________________________________________________\n",
            " Layer (type)                Output Shape              Param #   \n",
            "=================================================================\n",
            " embedding_17 (Embedding)    (None, 20, 50)            445800    \n",
            "                                                                 \n",
            " flatten_17 (Flatten)        (None, 1000)              0         \n",
            "                                                                 \n",
            " dense_17 (Dense)            (None, 1)                 1001      \n",
            "                                                                 \n",
            "=================================================================\n",
            "Total params: 446801 (1.70 MB)\n",
            "Trainable params: 446801 (1.70 MB)\n",
            "Non-trainable params: 0 (0.00 Byte)\n",
            "_________________________________________________________________\n",
            "Epoch 1/20\n",
            "140/140 [==============================] - 2s 8ms/step - loss: 0.3118 - accuracy: 0.9177 - val_loss: 0.1590 - val_accuracy: 0.9578\n",
            "Epoch 2/20\n",
            "140/140 [==============================] - 1s 7ms/step - loss: 0.0990 - accuracy: 0.9733 - val_loss: 0.0727 - val_accuracy: 0.9803\n",
            "Epoch 3/20\n",
            "140/140 [==============================] - 1s 7ms/step - loss: 0.0507 - accuracy: 0.9859 - val_loss: 0.0525 - val_accuracy: 0.9848\n",
            "Epoch 4/20\n",
            "140/140 [==============================] - 1s 7ms/step - loss: 0.0327 - accuracy: 0.9908 - val_loss: 0.0442 - val_accuracy: 0.9874\n",
            "Epoch 5/20\n",
            "140/140 [==============================] - 1s 7ms/step - loss: 0.0226 - accuracy: 0.9937 - val_loss: 0.0409 - val_accuracy: 0.9883\n",
            "Epoch 6/20\n",
            "140/140 [==============================] - 1s 7ms/step - loss: 0.0161 - accuracy: 0.9957 - val_loss: 0.0385 - val_accuracy: 0.9901\n",
            "Epoch 7/20\n",
            "140/140 [==============================] - 1s 7ms/step - loss: 0.0115 - accuracy: 0.9978 - val_loss: 0.0375 - val_accuracy: 0.9892\n",
            "Epoch 8/20\n",
            "140/140 [==============================] - 1s 7ms/step - loss: 0.0084 - accuracy: 0.9984 - val_loss: 0.0377 - val_accuracy: 0.9892\n",
            "Epoch 9/20\n",
            "140/140 [==============================] - 1s 7ms/step - loss: 0.0063 - accuracy: 0.9993 - val_loss: 0.0380 - val_accuracy: 0.9892\n",
            "Epoch 10/20\n",
            "140/140 [==============================] - 1s 8ms/step - loss: 0.0048 - accuracy: 0.9991 - val_loss: 0.0389 - val_accuracy: 0.9883\n",
            "Epoch 11/20\n",
            "140/140 [==============================] - 2s 12ms/step - loss: 0.0038 - accuracy: 0.9996 - val_loss: 0.0397 - val_accuracy: 0.9892\n",
            "Epoch 12/20\n",
            "140/140 [==============================] - 2s 12ms/step - loss: 0.0031 - accuracy: 0.9996 - val_loss: 0.0400 - val_accuracy: 0.9883\n",
            "Epoch 13/20\n",
            "140/140 [==============================] - 1s 8ms/step - loss: 0.0025 - accuracy: 0.9996 - val_loss: 0.0409 - val_accuracy: 0.9892\n",
            "Epoch 14/20\n",
            "140/140 [==============================] - 1s 7ms/step - loss: 0.0021 - accuracy: 0.9998 - val_loss: 0.0412 - val_accuracy: 0.9892\n",
            "Epoch 15/20\n",
            "140/140 [==============================] - 1s 7ms/step - loss: 0.0017 - accuracy: 0.9998 - val_loss: 0.0423 - val_accuracy: 0.9892\n",
            "Epoch 16/20\n",
            "140/140 [==============================] - 1s 7ms/step - loss: 0.0014 - accuracy: 1.0000 - val_loss: 0.0444 - val_accuracy: 0.9892\n",
            "Epoch 17/20\n",
            "140/140 [==============================] - 1s 7ms/step - loss: 0.0013 - accuracy: 0.9998 - val_loss: 0.0443 - val_accuracy: 0.9892\n",
            "Epoch 18/20\n",
            "140/140 [==============================] - 1s 7ms/step - loss: 0.0011 - accuracy: 1.0000 - val_loss: 0.0447 - val_accuracy: 0.9892\n",
            "Epoch 19/20\n",
            "140/140 [==============================] - 1s 7ms/step - loss: 9.1431e-04 - accuracy: 1.0000 - val_loss: 0.0457 - val_accuracy: 0.9892\n",
            "Epoch 20/20\n",
            "140/140 [==============================] - 1s 7ms/step - loss: 8.0247e-04 - accuracy: 1.0000 - val_loss: 0.0462 - val_accuracy: 0.9892\n",
            "35/35 [==============================] - 0s 1ms/step - loss: 0.0462 - accuracy: 0.9892\n",
            "Precisión: 98.92%\n"
          ]
        }
      ],
      "source": [
        "# MODELO 1. SIN EMBEDDINGS PRE-ENTRENADOS\n",
        "\n",
        "from keras.models import Sequential\n",
        "from keras.layers import Flatten, Dense, Embedding\n",
        "\n",
        "model1 = Sequential()\n",
        "\n",
        "model1.add(Embedding(max_words, embedding_dim, input_length=max_comment_length))\n",
        "\n",
        "model1.add(Flatten())\n",
        "\n",
        "# Añadimos el clasificador\n",
        "model1.add(Dense(1, activation='sigmoid'))\n",
        "\n",
        "model1.compile(optimizer='adam', loss='binary_crossentropy', metrics=['accuracy'])\n",
        "model1.summary()\n",
        "\n",
        "history = model1.fit(x_train, y_train,\n",
        "                    epochs=20,\n",
        "                    batch_size=32,\n",
        "                    validation_data=(x_test, y_test))\n",
        "\n",
        "score1 = model1.evaluate(x_test, y_test)\n",
        "\n",
        "print(\"Precisión: %.2f%%\" % (score1[1]*100))"
      ]
    },
    {
      "cell_type": "markdown",
      "source": [
        "Como podemos observar, utilizando una capa de embedding la precisión es del 98.74 %."
      ],
      "metadata": {
        "id": "Cm5hEqHyWcdb"
      }
    },
    {
      "cell_type": "markdown",
      "source": [
        "### EMBEDDINGS PRE-ENTRENADOS"
      ],
      "metadata": {
        "id": "lpRDcjKYS_PC"
      }
    },
    {
      "cell_type": "markdown",
      "source": [
        "Ahora utilizaremos un embeddings pre-entrenados. Para ellos, haremos uso del word embedding GloVe"
      ],
      "metadata": {
        "id": "9DHX8dQ6W8JK"
      }
    },
    {
      "cell_type": "code",
      "execution_count": 125,
      "metadata": {
        "colab": {
          "base_uri": "https://localhost:8080/"
        },
        "id": "fEZv4hve5HXr",
        "outputId": "e5a9cc8f-dec5-435a-df4f-dffb0bbc4f18"
      },
      "outputs": [
        {
          "output_type": "stream",
          "name": "stdout",
          "text": [
            "Se han encontrado 0 vectores de palabras.\n"
          ]
        }
      ],
      "source": [
        "import os\n",
        "import numpy as np\n",
        "\n",
        "glove_dir = '/content/drive/MyDrive/'\n",
        "\n",
        "embeddings_index = {}\n",
        "f = open(os.path.join(glove_dir, 'glove.6B.50d.txt'))\n",
        "for line in f:\n",
        "    values = line.split()\n",
        "    word = values[0]\n",
        "    coefs = np.asarray(values[1:], dtype='float32')\n",
        "    embeddings_index[word] = coefs\n",
        "f.close()\n",
        "\n",
        "print('Se han encontrado %s vectores de palabras.' % len(embeddings_index))"
      ]
    },
    {
      "cell_type": "code",
      "execution_count": 126,
      "metadata": {
        "collapsed": true,
        "id": "m5Zs0sIU5HXs"
      },
      "outputs": [],
      "source": [
        "embedding_dim = 50\n",
        "\n",
        "embedding_matrix = np.zeros((max_words, embedding_dim))\n",
        "for word, i in word_index.items():\n",
        "    embedding_vector = embeddings_index.get(word)\n",
        "    if i < max_words:\n",
        "        if embedding_vector is not None:\n",
        "            # La palabras no encontradas serán 0.\n",
        "            embedding_matrix[i] = embedding_vector"
      ]
    },
    {
      "cell_type": "markdown",
      "source": [
        "### MODELO 2"
      ],
      "metadata": {
        "id": "goJ9ls22N8K7"
      }
    },
    {
      "cell_type": "markdown",
      "metadata": {
        "id": "Zqvm9DNK5HXs"
      },
      "source": [
        "## Definimos un modelo\n",
        "\n",
        "Usaremos la misma arquitectura de modelo que antes:"
      ]
    },
    {
      "cell_type": "code",
      "execution_count": 127,
      "metadata": {
        "colab": {
          "base_uri": "https://localhost:8080/"
        },
        "id": "QnP6jLBR5HXs",
        "outputId": "dfe148eb-c4e7-4968-a482-e10e8cca1b33"
      },
      "outputs": [
        {
          "output_type": "stream",
          "name": "stdout",
          "text": [
            "Model: \"sequential_18\"\n",
            "_________________________________________________________________\n",
            " Layer (type)                Output Shape              Param #   \n",
            "=================================================================\n",
            " embedding_18 (Embedding)    (None, 20, 50)            445800    \n",
            "                                                                 \n",
            " flatten_18 (Flatten)        (None, 1000)              0         \n",
            "                                                                 \n",
            " dense_18 (Dense)            (None, 1)                 1001      \n",
            "                                                                 \n",
            "=================================================================\n",
            "Total params: 446801 (1.70 MB)\n",
            "Trainable params: 446801 (1.70 MB)\n",
            "Non-trainable params: 0 (0.00 Byte)\n",
            "_________________________________________________________________\n"
          ]
        }
      ],
      "source": [
        "# MODELO 2. EMBEDDINGS PRE-ENTRENADOS CONGELADOS\n",
        "\n",
        "from keras.models import Sequential\n",
        "from keras.layers import Embedding, Flatten, Dense\n",
        "\n",
        "model2 = Sequential()\n",
        "model2.add(Embedding(max_words, embedding_dim, input_length=max_comment_length))\n",
        "model2.add(Flatten())\n",
        "model2.add(Dense(1, activation='sigmoid'))\n",
        "model2.summary()"
      ]
    },
    {
      "cell_type": "markdown",
      "source": [
        "La capa de Embedding tiene una sola matriz de pesos, una matriz bidimensional donde cada entrada i es el vector de palabras asociadas al índice i. Procedamos a cargar dicha matriz:"
      ],
      "metadata": {
        "id": "OicO7PGJXMFY"
      }
    },
    {
      "cell_type": "code",
      "execution_count": 128,
      "metadata": {
        "collapsed": true,
        "id": "x38tZ6Fn5HXs"
      },
      "outputs": [],
      "source": [
        "model2.layers[0].set_weights([embedding_matrix])\n",
        "model2.layers[0].trainable = False"
      ]
    },
    {
      "cell_type": "markdown",
      "metadata": {
        "id": "HcWGxxEU5HXt"
      },
      "source": [
        "### Entrenar y evaluar\n",
        "\n",
        "Compilemos nuestro modelo y evaluémoslo."
      ]
    },
    {
      "cell_type": "code",
      "execution_count": 129,
      "metadata": {
        "colab": {
          "base_uri": "https://localhost:8080/"
        },
        "id": "EMK_DYeI5HXt",
        "outputId": "0d08e2b6-02bc-4367-b76f-c11164f3cd12"
      },
      "outputs": [
        {
          "output_type": "stream",
          "name": "stdout",
          "text": [
            "Epoch 1/20\n",
            "140/140 [==============================] - 1s 4ms/step - loss: 0.6692 - accuracy: 0.8609 - val_loss: 0.6457 - val_accuracy: 0.8664\n",
            "Epoch 2/20\n",
            "140/140 [==============================] - 0s 2ms/step - loss: 0.6251 - accuracy: 0.8658 - val_loss: 0.6047 - val_accuracy: 0.8664\n",
            "Epoch 3/20\n",
            "140/140 [==============================] - 0s 3ms/step - loss: 0.5872 - accuracy: 0.8658 - val_loss: 0.5698 - val_accuracy: 0.8664\n",
            "Epoch 4/20\n",
            "140/140 [==============================] - 0s 3ms/step - loss: 0.5549 - accuracy: 0.8658 - val_loss: 0.5400 - val_accuracy: 0.8664\n",
            "Epoch 5/20\n",
            "140/140 [==============================] - 0s 3ms/step - loss: 0.5275 - accuracy: 0.8658 - val_loss: 0.5147 - val_accuracy: 0.8664\n",
            "Epoch 6/20\n",
            "140/140 [==============================] - 0s 4ms/step - loss: 0.5042 - accuracy: 0.8658 - val_loss: 0.4934 - val_accuracy: 0.8664\n",
            "Epoch 7/20\n",
            "140/140 [==============================] - 1s 4ms/step - loss: 0.4847 - accuracy: 0.8658 - val_loss: 0.4755 - val_accuracy: 0.8664\n",
            "Epoch 8/20\n",
            "140/140 [==============================] - 1s 4ms/step - loss: 0.4683 - accuracy: 0.8658 - val_loss: 0.4605 - val_accuracy: 0.8664\n",
            "Epoch 9/20\n",
            "140/140 [==============================] - 1s 4ms/step - loss: 0.4546 - accuracy: 0.8658 - val_loss: 0.4479 - val_accuracy: 0.8664\n",
            "Epoch 10/20\n",
            "140/140 [==============================] - 1s 5ms/step - loss: 0.4433 - accuracy: 0.8658 - val_loss: 0.4376 - val_accuracy: 0.8664\n",
            "Epoch 11/20\n",
            "140/140 [==============================] - 0s 3ms/step - loss: 0.4338 - accuracy: 0.8658 - val_loss: 0.4289 - val_accuracy: 0.8664\n",
            "Epoch 12/20\n",
            "140/140 [==============================] - 0s 2ms/step - loss: 0.4260 - accuracy: 0.8658 - val_loss: 0.4219 - val_accuracy: 0.8664\n",
            "Epoch 13/20\n",
            "140/140 [==============================] - 0s 2ms/step - loss: 0.4196 - accuracy: 0.8658 - val_loss: 0.4161 - val_accuracy: 0.8664\n",
            "Epoch 14/20\n",
            "140/140 [==============================] - 0s 3ms/step - loss: 0.4144 - accuracy: 0.8658 - val_loss: 0.4113 - val_accuracy: 0.8664\n",
            "Epoch 15/20\n",
            "140/140 [==============================] - 0s 2ms/step - loss: 0.4102 - accuracy: 0.8658 - val_loss: 0.4075 - val_accuracy: 0.8664\n",
            "Epoch 16/20\n",
            "140/140 [==============================] - 0s 2ms/step - loss: 0.4066 - accuracy: 0.8658 - val_loss: 0.4043 - val_accuracy: 0.8664\n",
            "Epoch 17/20\n",
            "140/140 [==============================] - 0s 3ms/step - loss: 0.4039 - accuracy: 0.8658 - val_loss: 0.4018 - val_accuracy: 0.8664\n",
            "Epoch 18/20\n",
            "140/140 [==============================] - 0s 2ms/step - loss: 0.4016 - accuracy: 0.8658 - val_loss: 0.3998 - val_accuracy: 0.8664\n",
            "Epoch 19/20\n",
            "140/140 [==============================] - 0s 2ms/step - loss: 0.3998 - accuracy: 0.8658 - val_loss: 0.3983 - val_accuracy: 0.8664\n",
            "Epoch 20/20\n",
            "140/140 [==============================] - 0s 2ms/step - loss: 0.3985 - accuracy: 0.8658 - val_loss: 0.3970 - val_accuracy: 0.8664\n",
            "35/35 [==============================] - 0s 1ms/step - loss: 0.3970 - accuracy: 0.8664\n",
            "Precisión: 86.64%\n"
          ]
        }
      ],
      "source": [
        "model2.compile(optimizer='adam',\n",
        "              loss='binary_crossentropy',\n",
        "              metrics=['accuracy'])\n",
        "\n",
        "history = model2.fit(x_train, y_train,\n",
        "                    epochs=20,\n",
        "                    batch_size=32,\n",
        "                    validation_data=(x_test, y_test))\n",
        "\n",
        "score2 = model2.evaluate(x_test, y_test)\n",
        "print(\"Precisión: %.2f%%\" % (score2[1]*100))"
      ]
    },
    {
      "cell_type": "markdown",
      "source": [
        "Obtenemos un 86,64 % de precisión con el modelo pre-procesado congelado."
      ],
      "metadata": {
        "id": "mApnpYuIXvpk"
      }
    },
    {
      "cell_type": "markdown",
      "source": [
        "### MODELO 3"
      ],
      "metadata": {
        "id": "EOvSnamPOABV"
      }
    },
    {
      "cell_type": "markdown",
      "source": [
        "También podemos entrenar el mismo modelo sin congelar la capa de embedding."
      ],
      "metadata": {
        "id": "RV_kbXbqQr9Y"
      }
    },
    {
      "cell_type": "code",
      "execution_count": 130,
      "metadata": {
        "colab": {
          "base_uri": "https://localhost:8080/"
        },
        "id": "QtegIcSE5HXu",
        "outputId": "d2439494-5f6a-446e-87d3-25a5e129f959"
      },
      "outputs": [
        {
          "output_type": "stream",
          "name": "stdout",
          "text": [
            "Model: \"sequential_19\"\n",
            "_________________________________________________________________\n",
            " Layer (type)                Output Shape              Param #   \n",
            "=================================================================\n",
            " embedding_19 (Embedding)    (None, 20, 50)            445800    \n",
            "                                                                 \n",
            " flatten_19 (Flatten)        (None, 1000)              0         \n",
            "                                                                 \n",
            " dense_19 (Dense)            (None, 1)                 1001      \n",
            "                                                                 \n",
            "=================================================================\n",
            "Total params: 446801 (1.70 MB)\n",
            "Trainable params: 446801 (1.70 MB)\n",
            "Non-trainable params: 0 (0.00 Byte)\n",
            "_________________________________________________________________\n",
            "Epoch 1/20\n",
            "140/140 [==============================] - 2s 8ms/step - loss: 0.2906 - accuracy: 0.9242 - val_loss: 0.1145 - val_accuracy: 0.9641\n",
            "Epoch 2/20\n",
            "140/140 [==============================] - 1s 7ms/step - loss: 0.0733 - accuracy: 0.9796 - val_loss: 0.0594 - val_accuracy: 0.9848\n",
            "Epoch 3/20\n",
            "140/140 [==============================] - 1s 7ms/step - loss: 0.0408 - accuracy: 0.9886 - val_loss: 0.0468 - val_accuracy: 0.9857\n",
            "Epoch 4/20\n",
            "140/140 [==============================] - 1s 7ms/step - loss: 0.0271 - accuracy: 0.9930 - val_loss: 0.0412 - val_accuracy: 0.9892\n",
            "Epoch 5/20\n",
            "140/140 [==============================] - 1s 7ms/step - loss: 0.0187 - accuracy: 0.9946 - val_loss: 0.0387 - val_accuracy: 0.9883\n",
            "Epoch 6/20\n",
            "140/140 [==============================] - 1s 10ms/step - loss: 0.0130 - accuracy: 0.9969 - val_loss: 0.0379 - val_accuracy: 0.9892\n",
            "Epoch 7/20\n",
            "140/140 [==============================] - 2s 11ms/step - loss: 0.0092 - accuracy: 0.9978 - val_loss: 0.0379 - val_accuracy: 0.9883\n",
            "Epoch 8/20\n",
            "140/140 [==============================] - 2s 12ms/step - loss: 0.0067 - accuracy: 0.9991 - val_loss: 0.0388 - val_accuracy: 0.9883\n",
            "Epoch 9/20\n",
            "140/140 [==============================] - 1s 7ms/step - loss: 0.0051 - accuracy: 0.9993 - val_loss: 0.0392 - val_accuracy: 0.9883\n",
            "Epoch 10/20\n",
            "140/140 [==============================] - 1s 7ms/step - loss: 0.0042 - accuracy: 0.9993 - val_loss: 0.0402 - val_accuracy: 0.9883\n",
            "Epoch 11/20\n",
            "140/140 [==============================] - 1s 8ms/step - loss: 0.0032 - accuracy: 0.9996 - val_loss: 0.0414 - val_accuracy: 0.9874\n",
            "Epoch 12/20\n",
            "140/140 [==============================] - 1s 7ms/step - loss: 0.0026 - accuracy: 0.9996 - val_loss: 0.0437 - val_accuracy: 0.9883\n",
            "Epoch 13/20\n",
            "140/140 [==============================] - 1s 7ms/step - loss: 0.0021 - accuracy: 0.9996 - val_loss: 0.0436 - val_accuracy: 0.9874\n",
            "Epoch 14/20\n",
            "140/140 [==============================] - 1s 7ms/step - loss: 0.0018 - accuracy: 1.0000 - val_loss: 0.0453 - val_accuracy: 0.9883\n",
            "Epoch 15/20\n",
            "140/140 [==============================] - 1s 7ms/step - loss: 0.0014 - accuracy: 0.9996 - val_loss: 0.0454 - val_accuracy: 0.9874\n",
            "Epoch 16/20\n",
            "140/140 [==============================] - 1s 7ms/step - loss: 0.0013 - accuracy: 1.0000 - val_loss: 0.0477 - val_accuracy: 0.9874\n",
            "Epoch 17/20\n",
            "140/140 [==============================] - 1s 7ms/step - loss: 0.0011 - accuracy: 1.0000 - val_loss: 0.0484 - val_accuracy: 0.9874\n",
            "Epoch 18/20\n",
            "140/140 [==============================] - 1s 10ms/step - loss: 8.9508e-04 - accuracy: 1.0000 - val_loss: 0.0490 - val_accuracy: 0.9874\n",
            "Epoch 19/20\n",
            "140/140 [==============================] - 2s 16ms/step - loss: 7.7867e-04 - accuracy: 1.0000 - val_loss: 0.0501 - val_accuracy: 0.9874\n",
            "Epoch 20/20\n",
            "140/140 [==============================] - 2s 15ms/step - loss: 6.6440e-04 - accuracy: 1.0000 - val_loss: 0.0520 - val_accuracy: 0.9874\n",
            "35/35 [==============================] - 0s 3ms/step - loss: 0.0520 - accuracy: 0.9874\n",
            "Precisión: 98.74%\n"
          ]
        }
      ],
      "source": [
        "# MODELO3. EMBEDDINGS PREENTRENADOS SIN CONGELAR\n",
        "\n",
        "from keras.models import Sequential\n",
        "from keras.layers import Embedding, Flatten, Dense\n",
        "\n",
        "model3 = Sequential()\n",
        "model3.add(Embedding(max_words, embedding_dim, input_length=max_comment_length))\n",
        "model3.add(Flatten())\n",
        "model3.add(Dense(1, activation='sigmoid'))\n",
        "model3.summary()\n",
        "\n",
        "model3.layers[0].set_weights([embedding_matrix])\n",
        "model3.layers[0].trainable = True\n",
        "\n",
        "model3.compile(optimizer='adam',\n",
        "              loss='binary_crossentropy',\n",
        "              metrics=['accuracy'])\n",
        "history = model3.fit(x_train, y_train,\n",
        "                    epochs=20,\n",
        "                    batch_size=32,\n",
        "                    validation_data=(x_test, y_test))\n",
        "\n",
        "score3 = model3.evaluate(x_test, y_test)\n",
        "print(\"Precisión: %.2f%%\" % (score3[1]*100))"
      ]
    },
    {
      "cell_type": "markdown",
      "source": [
        "En este caso, con el modelo pre-procesado sin congelar obtenemos un 98.74 % de precisión."
      ],
      "metadata": {
        "id": "IMgOILcpYHCP"
      }
    },
    {
      "cell_type": "markdown",
      "source": [
        "### RESUMEN DE LOS RESULTADOS"
      ],
      "metadata": {
        "id": "pBlUzXYuOHDA"
      }
    },
    {
      "cell_type": "code",
      "execution_count": 131,
      "metadata": {
        "colab": {
          "base_uri": "https://localhost:8080/"
        },
        "id": "PG05YT6hssVI",
        "outputId": "03df59ab-bc77-4702-e796-e2f8400111ed"
      },
      "outputs": [
        {
          "output_type": "stream",
          "name": "stdout",
          "text": [
            "Sin word embeddings pre-entrenados\n",
            "Precisión: 98.92%\n",
            "Con word embeddings pre-entrenados congelados\n",
            "Precisión: 86.64%\n",
            "Con word embeddings pre-entrenados sin congelar\n",
            "Precisión: 98.74%\n"
          ]
        }
      ],
      "source": [
        "print(\"Sin word embeddings pre-entrenados\")\n",
        "print(\"Precisión: %.2f%%\" % (score1[1]*100))\n",
        "print(\"Con word embeddings pre-entrenados congelados\")\n",
        "print(\"Precisión: %.2f%%\" % (score2[1]*100))\n",
        "print(\"Con word embeddings pre-entrenados sin congelar\")\n",
        "print(\"Precisión: %.2f%%\" % (score3[1]*100))"
      ]
    },
    {
      "cell_type": "markdown",
      "metadata": {
        "id": "r180VgcW4xHT"
      },
      "source": [
        "# 5) Aplica los modelos construidos a los datos de test y compáralos.\n",
        "\n",
        "Calcula las métricas de recall, precisión y f1.\n",
        "Discute cual es el mejor modelo y cual es peor y porqué."
      ]
    },
    {
      "cell_type": "markdown",
      "metadata": {
        "id": "CwDBPcs8PjvI"
      },
      "source": [
        "\n",
        "\n",
        "En un problema de clasificación multiclase suele ser muy interesante analizar el rendimiento de la clasificación en cada una de las clases\n",
        "\n",
        "Esto nos permite analizar en qué clases funciona mejor o peor el clasificador, de acuerdo a métricas como la precisión (cuando predice dicha clase cuánto acierta) y la exhaustividad  (cuántos ejemplos de una clase predice correctamente). También podemos ver la media (armònica) entre ambas medidas (F1 score).\n",
        "\n",
        "\n",
        "---\n",
        "\n"
      ]
    },
    {
      "cell_type": "markdown",
      "source": [
        "### NAIVE BAYES"
      ],
      "metadata": {
        "id": "btce_mnUeq72"
      }
    },
    {
      "cell_type": "code",
      "execution_count": null,
      "metadata": {
        "id": "2j9gcgzdPjvI",
        "outputId": "4fdbe7a9-549e-41c1-ddfa-9f7f4c225923",
        "colab": {
          "base_uri": "https://localhost:8080/"
        }
      },
      "outputs": [
        {
          "output_type": "stream",
          "name": "stdout",
          "text": [
            "                          precision    recall  f1-score   support\n",
            "\n",
            "             alt.atheism       0.83      0.44      0.57       319\n",
            "           comp.graphics       0.66      0.69      0.67       389\n",
            " comp.os.ms-windows.misc       0.65      0.63      0.64       394\n",
            "comp.sys.ibm.pc.hardware       0.55      0.72      0.63       392\n",
            "   comp.sys.mac.hardware       0.73      0.59      0.65       385\n",
            "          comp.windows.x       0.75      0.74      0.75       395\n",
            "            misc.forsale       0.88      0.72      0.79       390\n",
            "               rec.autos       0.87      0.86      0.86       396\n",
            "         rec.motorcycles       0.88      0.87      0.87       398\n",
            "      rec.sport.baseball       0.93      0.88      0.91       397\n",
            "        rec.sport.hockey       0.91      0.95      0.93       399\n",
            "               sci.crypt       0.66      0.95      0.78       396\n",
            "         sci.electronics       0.76      0.63      0.69       393\n",
            "                 sci.med       0.92      0.81      0.86       396\n",
            "               sci.space       0.84      0.86      0.85       394\n",
            "  soc.religion.christian       0.50      0.94      0.65       398\n",
            "      talk.politics.guns       0.64      0.86      0.74       364\n",
            "   talk.politics.mideast       0.77      0.86      0.81       376\n",
            "      talk.politics.misc       0.92      0.39      0.55       310\n",
            "      talk.religion.misc       0.86      0.05      0.09       251\n",
            "\n",
            "                accuracy                           0.74      7532\n",
            "               macro avg       0.77      0.72      0.71      7532\n",
            "            weighted avg       0.77      0.74      0.73      7532\n",
            "\n"
          ]
        }
      ],
      "source": [
        "from sklearn.metrics import classification_report, confusion_matrix\n",
        "predictions = mnb_test_predictions\n",
        "print(classification_report(test_data.target, predictions, target_names=test_data.target_names))"
      ]
    },
    {
      "cell_type": "markdown",
      "metadata": {
        "id": "4Ocg4HwdPjvJ"
      },
      "source": [
        "(En el caso del Naive Bayes Multinomial hay clases que se clasifican muy bien, como `rec.sport.hockey`, `rec.sport.baseball` y `rec.motorcycles`.\n",
        "\n",
        "Sin embargo, es interesante que hay clases como `talk.religion.misc` con una precisión muy alta y una exhaustividad muy bajo, y por otro lado clases donde sucede lo contrario, aunque no tan acusado, como en `soc.religion.christian`.\n",
        "\n",
        "La exhaustividad muy baja indica que esos textos tienden a confundirse mucho con otros. Una precisión baja por el contrario quiere decir que el clasificador no ha sido capaz de encontrar rasgos distintivos para dichos textos que los diferencien de otros.)\n"
      ]
    },
    {
      "cell_type": "markdown",
      "source": [
        "### K-MEANS"
      ],
      "metadata": {
        "id": "4Oue7bw6eb5b"
      }
    },
    {
      "cell_type": "code",
      "execution_count": null,
      "metadata": {
        "outputId": "4fdbe7a9-549e-41c1-ddfa-9f7f4c225923",
        "colab": {
          "base_uri": "https://localhost:8080/"
        },
        "id": "43flM_TFelDa"
      },
      "outputs": [
        {
          "output_type": "stream",
          "name": "stdout",
          "text": [
            "                          precision    recall  f1-score   support\n",
            "\n",
            "             alt.atheism       0.83      0.44      0.57       319\n",
            "           comp.graphics       0.66      0.69      0.67       389\n",
            " comp.os.ms-windows.misc       0.65      0.63      0.64       394\n",
            "comp.sys.ibm.pc.hardware       0.55      0.72      0.63       392\n",
            "   comp.sys.mac.hardware       0.73      0.59      0.65       385\n",
            "          comp.windows.x       0.75      0.74      0.75       395\n",
            "            misc.forsale       0.88      0.72      0.79       390\n",
            "               rec.autos       0.87      0.86      0.86       396\n",
            "         rec.motorcycles       0.88      0.87      0.87       398\n",
            "      rec.sport.baseball       0.93      0.88      0.91       397\n",
            "        rec.sport.hockey       0.91      0.95      0.93       399\n",
            "               sci.crypt       0.66      0.95      0.78       396\n",
            "         sci.electronics       0.76      0.63      0.69       393\n",
            "                 sci.med       0.92      0.81      0.86       396\n",
            "               sci.space       0.84      0.86      0.85       394\n",
            "  soc.religion.christian       0.50      0.94      0.65       398\n",
            "      talk.politics.guns       0.64      0.86      0.74       364\n",
            "   talk.politics.mideast       0.77      0.86      0.81       376\n",
            "      talk.politics.misc       0.92      0.39      0.55       310\n",
            "      talk.religion.misc       0.86      0.05      0.09       251\n",
            "\n",
            "                accuracy                           0.74      7532\n",
            "               macro avg       0.77      0.72      0.71      7532\n",
            "            weighted avg       0.77      0.74      0.73      7532\n",
            "\n"
          ]
        }
      ],
      "source": [
        "from sklearn.metrics import classification_report, confusion_matrix\n",
        "predictions = kmeans_test_predictions\n",
        "print(classification_report(test_data.target, predictions, target_names=test_data.target_names))"
      ]
    },
    {
      "cell_type": "markdown",
      "source": [
        "### ÁRBOLES DE DECISIÓN"
      ],
      "metadata": {
        "id": "m7UwODUVeu6V"
      }
    },
    {
      "cell_type": "code",
      "source": [
        "from sklearn.metrics import classification_report, confusion_matrix\n",
        "predictions = arbol_test_predictions\n",
        "print(classification_report(test_data.target, predictions, target_names=test_data.target_names))"
      ],
      "metadata": {
        "id": "VpfasKRze2ta"
      },
      "execution_count": null,
      "outputs": []
    }
  ],
  "metadata": {
    "colab": {
      "provenance": [],
      "toc_visible": true
    },
    "kernelspec": {
      "display_name": "Python 3",
      "language": "python",
      "name": "python3"
    },
    "language_info": {
      "codemirror_mode": {
        "name": "ipython",
        "version": 3
      },
      "file_extension": ".py",
      "mimetype": "text/x-python",
      "name": "python",
      "nbconvert_exporter": "python",
      "pygments_lexer": "ipython3",
      "version": "3.8.12"
    }
  },
  "nbformat": 4,
  "nbformat_minor": 0
}