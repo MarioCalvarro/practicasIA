{
  "cells": [
    {
      "cell_type": "markdown",
      "metadata": {
        "id": "OUBRwgEu3yu1"
      },
      "source": [
        "# Práctica 4: Procesamiento del Lenguaje Natural\n",
        "\n",
        "__Fecha de entrega: 14 de mayo de 2024__\n",
        "\n",
        "El objetivo de esta práctica es aplicar los conceptos teóricos vistos en clase en el módulo de PLN.\n",
        "\n",
        "Lo más importante en esta práctica no es el código Python, sino el análisis de los datos y modelos que construyas y las explicaciones razonadas de cada una de las decisiones que tomes. __No se valorarán trozos de código o gráficas sin ningún tipo de contexto o explicación__.\n",
        "\n",
        "Finalmente, recuerda establecer el parámetro `random_state` en todas las funciones que tomen decisiones aleatorias para que los resultados sean reproducibles (los resultados no varíen entre ejecuciones)."
      ]
    },
    {
      "cell_type": "markdown",
      "metadata": {
        "id": "yeVD_g2D3yvC"
      },
      "source": [
        "# 1) Carga del conjunto de datos\n",
        "\n",
        "El fichero `spam.csv` contiene mensajes SMS etiquetados como spam or ham (legítimo).\n",
        "\n",
        "Muestra un ejemplo de cada clase.\n",
        "\n",
        "Haz un estudio del conjunto de datos. ¿qué palabras aparecen más veces?, ¿tendría sentido normalizar de alguna manera el corpus?\n",
        "\n",
        "Crea una partición de los datos dejando el 60% para entrenamiento, 20% para validación y el 20% restante para test. Comprueba que la distribución de los ejemplos en las particiones es similar."
      ]
    },
    {
      "cell_type": "code",
      "execution_count": 1,
      "metadata": {
        "id": "V3YxCTUW3yu9"
      },
      "outputs": [],
      "source": [
        "RANDOM_STATE = 1234"
      ]
    },
    {
      "cell_type": "code",
      "source": [
        "# acceso a google drive\n",
        "from google.colab import drive\n",
        "drive.mount('/content/drive')\n"
      ],
      "metadata": {
        "id": "CUSCxqoh40_k",
        "colab": {
          "base_uri": "https://localhost:8080/"
        },
        "outputId": "e2cfbf78-07fe-4f90-f464-62550c5cc804"
      },
      "execution_count": 4,
      "outputs": [
        {
          "output_type": "stream",
          "name": "stdout",
          "text": [
            "Drive already mounted at /content/drive; to attempt to forcibly remount, call drive.mount(\"/content/drive\", force_remount=True).\n"
          ]
        }
      ]
    },
    {
      "cell_type": "code",
      "source": [
        "import pandas as pd\n",
        "import numpy as np\n",
        "import re\n",
        "import nltk\n",
        "import matplotlib.pyplot as plt\n",
        "df1 = pd.read_csv('/content/drive/MyDrive/spam.csv', encoding=\"cp1252\")\n",
        "df1"
      ],
      "metadata": {
        "colab": {
          "base_uri": "https://localhost:8080/",
          "height": 424
        },
        "id": "k9HPGct048c3",
        "outputId": "2f5263b7-f918-4d53-f044-f8a165bf9a8d"
      },
      "execution_count": 5,
      "outputs": [
        {
          "output_type": "execute_result",
          "data": {
            "text/plain": [
              "        v1                                                 v2 Unnamed: 2  \\\n",
              "0      ham  Go until jurong point, crazy.. Available only ...        NaN   \n",
              "1      ham                      Ok lar... Joking wif u oni...        NaN   \n",
              "2     spam  Free entry in 2 a wkly comp to win FA Cup fina...        NaN   \n",
              "3      ham  U dun say so early hor... U c already then say...        NaN   \n",
              "4      ham  Nah I don't think he goes to usf, he lives aro...        NaN   \n",
              "...    ...                                                ...        ...   \n",
              "5568   ham            Will ï¿½_ b going to esplanade fr home?        NaN   \n",
              "5569   ham  Pity, * was in mood for that. So...any other s...        NaN   \n",
              "5570   ham  The guy did some bitching but I acted like i'd...        NaN   \n",
              "5571   ham                         Rofl. Its true to its name        NaN   \n",
              "5572   NaN                                encoding = 'cp1252'        NaN   \n",
              "\n",
              "     Unnamed: 3 Unnamed: 4  \n",
              "0           NaN        NaN  \n",
              "1           NaN        NaN  \n",
              "2           NaN        NaN  \n",
              "3           NaN        NaN  \n",
              "4           NaN        NaN  \n",
              "...         ...        ...  \n",
              "5568        NaN        NaN  \n",
              "5569        NaN        NaN  \n",
              "5570        NaN        NaN  \n",
              "5571        NaN        NaN  \n",
              "5572        NaN        NaN  \n",
              "\n",
              "[5573 rows x 5 columns]"
            ],
            "text/html": [
              "\n",
              "  <div id=\"df-5a3a8b7a-5fdc-44c0-b800-a57e876536f2\" class=\"colab-df-container\">\n",
              "    <div>\n",
              "<style scoped>\n",
              "    .dataframe tbody tr th:only-of-type {\n",
              "        vertical-align: middle;\n",
              "    }\n",
              "\n",
              "    .dataframe tbody tr th {\n",
              "        vertical-align: top;\n",
              "    }\n",
              "\n",
              "    .dataframe thead th {\n",
              "        text-align: right;\n",
              "    }\n",
              "</style>\n",
              "<table border=\"1\" class=\"dataframe\">\n",
              "  <thead>\n",
              "    <tr style=\"text-align: right;\">\n",
              "      <th></th>\n",
              "      <th>v1</th>\n",
              "      <th>v2</th>\n",
              "      <th>Unnamed: 2</th>\n",
              "      <th>Unnamed: 3</th>\n",
              "      <th>Unnamed: 4</th>\n",
              "    </tr>\n",
              "  </thead>\n",
              "  <tbody>\n",
              "    <tr>\n",
              "      <th>0</th>\n",
              "      <td>ham</td>\n",
              "      <td>Go until jurong point, crazy.. Available only ...</td>\n",
              "      <td>NaN</td>\n",
              "      <td>NaN</td>\n",
              "      <td>NaN</td>\n",
              "    </tr>\n",
              "    <tr>\n",
              "      <th>1</th>\n",
              "      <td>ham</td>\n",
              "      <td>Ok lar... Joking wif u oni...</td>\n",
              "      <td>NaN</td>\n",
              "      <td>NaN</td>\n",
              "      <td>NaN</td>\n",
              "    </tr>\n",
              "    <tr>\n",
              "      <th>2</th>\n",
              "      <td>spam</td>\n",
              "      <td>Free entry in 2 a wkly comp to win FA Cup fina...</td>\n",
              "      <td>NaN</td>\n",
              "      <td>NaN</td>\n",
              "      <td>NaN</td>\n",
              "    </tr>\n",
              "    <tr>\n",
              "      <th>3</th>\n",
              "      <td>ham</td>\n",
              "      <td>U dun say so early hor... U c already then say...</td>\n",
              "      <td>NaN</td>\n",
              "      <td>NaN</td>\n",
              "      <td>NaN</td>\n",
              "    </tr>\n",
              "    <tr>\n",
              "      <th>4</th>\n",
              "      <td>ham</td>\n",
              "      <td>Nah I don't think he goes to usf, he lives aro...</td>\n",
              "      <td>NaN</td>\n",
              "      <td>NaN</td>\n",
              "      <td>NaN</td>\n",
              "    </tr>\n",
              "    <tr>\n",
              "      <th>...</th>\n",
              "      <td>...</td>\n",
              "      <td>...</td>\n",
              "      <td>...</td>\n",
              "      <td>...</td>\n",
              "      <td>...</td>\n",
              "    </tr>\n",
              "    <tr>\n",
              "      <th>5568</th>\n",
              "      <td>ham</td>\n",
              "      <td>Will ï¿½_ b going to esplanade fr home?</td>\n",
              "      <td>NaN</td>\n",
              "      <td>NaN</td>\n",
              "      <td>NaN</td>\n",
              "    </tr>\n",
              "    <tr>\n",
              "      <th>5569</th>\n",
              "      <td>ham</td>\n",
              "      <td>Pity, * was in mood for that. So...any other s...</td>\n",
              "      <td>NaN</td>\n",
              "      <td>NaN</td>\n",
              "      <td>NaN</td>\n",
              "    </tr>\n",
              "    <tr>\n",
              "      <th>5570</th>\n",
              "      <td>ham</td>\n",
              "      <td>The guy did some bitching but I acted like i'd...</td>\n",
              "      <td>NaN</td>\n",
              "      <td>NaN</td>\n",
              "      <td>NaN</td>\n",
              "    </tr>\n",
              "    <tr>\n",
              "      <th>5571</th>\n",
              "      <td>ham</td>\n",
              "      <td>Rofl. Its true to its name</td>\n",
              "      <td>NaN</td>\n",
              "      <td>NaN</td>\n",
              "      <td>NaN</td>\n",
              "    </tr>\n",
              "    <tr>\n",
              "      <th>5572</th>\n",
              "      <td>NaN</td>\n",
              "      <td>encoding = 'cp1252'</td>\n",
              "      <td>NaN</td>\n",
              "      <td>NaN</td>\n",
              "      <td>NaN</td>\n",
              "    </tr>\n",
              "  </tbody>\n",
              "</table>\n",
              "<p>5573 rows × 5 columns</p>\n",
              "</div>\n",
              "    <div class=\"colab-df-buttons\">\n",
              "\n",
              "  <div class=\"colab-df-container\">\n",
              "    <button class=\"colab-df-convert\" onclick=\"convertToInteractive('df-5a3a8b7a-5fdc-44c0-b800-a57e876536f2')\"\n",
              "            title=\"Convert this dataframe to an interactive table.\"\n",
              "            style=\"display:none;\">\n",
              "\n",
              "  <svg xmlns=\"http://www.w3.org/2000/svg\" height=\"24px\" viewBox=\"0 -960 960 960\">\n",
              "    <path d=\"M120-120v-720h720v720H120Zm60-500h600v-160H180v160Zm220 220h160v-160H400v160Zm0 220h160v-160H400v160ZM180-400h160v-160H180v160Zm440 0h160v-160H620v160ZM180-180h160v-160H180v160Zm440 0h160v-160H620v160Z\"/>\n",
              "  </svg>\n",
              "    </button>\n",
              "\n",
              "  <style>\n",
              "    .colab-df-container {\n",
              "      display:flex;\n",
              "      gap: 12px;\n",
              "    }\n",
              "\n",
              "    .colab-df-convert {\n",
              "      background-color: #E8F0FE;\n",
              "      border: none;\n",
              "      border-radius: 50%;\n",
              "      cursor: pointer;\n",
              "      display: none;\n",
              "      fill: #1967D2;\n",
              "      height: 32px;\n",
              "      padding: 0 0 0 0;\n",
              "      width: 32px;\n",
              "    }\n",
              "\n",
              "    .colab-df-convert:hover {\n",
              "      background-color: #E2EBFA;\n",
              "      box-shadow: 0px 1px 2px rgba(60, 64, 67, 0.3), 0px 1px 3px 1px rgba(60, 64, 67, 0.15);\n",
              "      fill: #174EA6;\n",
              "    }\n",
              "\n",
              "    .colab-df-buttons div {\n",
              "      margin-bottom: 4px;\n",
              "    }\n",
              "\n",
              "    [theme=dark] .colab-df-convert {\n",
              "      background-color: #3B4455;\n",
              "      fill: #D2E3FC;\n",
              "    }\n",
              "\n",
              "    [theme=dark] .colab-df-convert:hover {\n",
              "      background-color: #434B5C;\n",
              "      box-shadow: 0px 1px 3px 1px rgba(0, 0, 0, 0.15);\n",
              "      filter: drop-shadow(0px 1px 2px rgba(0, 0, 0, 0.3));\n",
              "      fill: #FFFFFF;\n",
              "    }\n",
              "  </style>\n",
              "\n",
              "    <script>\n",
              "      const buttonEl =\n",
              "        document.querySelector('#df-5a3a8b7a-5fdc-44c0-b800-a57e876536f2 button.colab-df-convert');\n",
              "      buttonEl.style.display =\n",
              "        google.colab.kernel.accessAllowed ? 'block' : 'none';\n",
              "\n",
              "      async function convertToInteractive(key) {\n",
              "        const element = document.querySelector('#df-5a3a8b7a-5fdc-44c0-b800-a57e876536f2');\n",
              "        const dataTable =\n",
              "          await google.colab.kernel.invokeFunction('convertToInteractive',\n",
              "                                                    [key], {});\n",
              "        if (!dataTable) return;\n",
              "\n",
              "        const docLinkHtml = 'Like what you see? Visit the ' +\n",
              "          '<a target=\"_blank\" href=https://colab.research.google.com/notebooks/data_table.ipynb>data table notebook</a>'\n",
              "          + ' to learn more about interactive tables.';\n",
              "        element.innerHTML = '';\n",
              "        dataTable['output_type'] = 'display_data';\n",
              "        await google.colab.output.renderOutput(dataTable, element);\n",
              "        const docLink = document.createElement('div');\n",
              "        docLink.innerHTML = docLinkHtml;\n",
              "        element.appendChild(docLink);\n",
              "      }\n",
              "    </script>\n",
              "  </div>\n",
              "\n",
              "\n",
              "<div id=\"df-3774b9b2-1ae6-439b-9f59-7ef64e7a464c\">\n",
              "  <button class=\"colab-df-quickchart\" onclick=\"quickchart('df-3774b9b2-1ae6-439b-9f59-7ef64e7a464c')\"\n",
              "            title=\"Suggest charts\"\n",
              "            style=\"display:none;\">\n",
              "\n",
              "<svg xmlns=\"http://www.w3.org/2000/svg\" height=\"24px\"viewBox=\"0 0 24 24\"\n",
              "     width=\"24px\">\n",
              "    <g>\n",
              "        <path d=\"M19 3H5c-1.1 0-2 .9-2 2v14c0 1.1.9 2 2 2h14c1.1 0 2-.9 2-2V5c0-1.1-.9-2-2-2zM9 17H7v-7h2v7zm4 0h-2V7h2v10zm4 0h-2v-4h2v4z\"/>\n",
              "    </g>\n",
              "</svg>\n",
              "  </button>\n",
              "\n",
              "<style>\n",
              "  .colab-df-quickchart {\n",
              "      --bg-color: #E8F0FE;\n",
              "      --fill-color: #1967D2;\n",
              "      --hover-bg-color: #E2EBFA;\n",
              "      --hover-fill-color: #174EA6;\n",
              "      --disabled-fill-color: #AAA;\n",
              "      --disabled-bg-color: #DDD;\n",
              "  }\n",
              "\n",
              "  [theme=dark] .colab-df-quickchart {\n",
              "      --bg-color: #3B4455;\n",
              "      --fill-color: #D2E3FC;\n",
              "      --hover-bg-color: #434B5C;\n",
              "      --hover-fill-color: #FFFFFF;\n",
              "      --disabled-bg-color: #3B4455;\n",
              "      --disabled-fill-color: #666;\n",
              "  }\n",
              "\n",
              "  .colab-df-quickchart {\n",
              "    background-color: var(--bg-color);\n",
              "    border: none;\n",
              "    border-radius: 50%;\n",
              "    cursor: pointer;\n",
              "    display: none;\n",
              "    fill: var(--fill-color);\n",
              "    height: 32px;\n",
              "    padding: 0;\n",
              "    width: 32px;\n",
              "  }\n",
              "\n",
              "  .colab-df-quickchart:hover {\n",
              "    background-color: var(--hover-bg-color);\n",
              "    box-shadow: 0 1px 2px rgba(60, 64, 67, 0.3), 0 1px 3px 1px rgba(60, 64, 67, 0.15);\n",
              "    fill: var(--button-hover-fill-color);\n",
              "  }\n",
              "\n",
              "  .colab-df-quickchart-complete:disabled,\n",
              "  .colab-df-quickchart-complete:disabled:hover {\n",
              "    background-color: var(--disabled-bg-color);\n",
              "    fill: var(--disabled-fill-color);\n",
              "    box-shadow: none;\n",
              "  }\n",
              "\n",
              "  .colab-df-spinner {\n",
              "    border: 2px solid var(--fill-color);\n",
              "    border-color: transparent;\n",
              "    border-bottom-color: var(--fill-color);\n",
              "    animation:\n",
              "      spin 1s steps(1) infinite;\n",
              "  }\n",
              "\n",
              "  @keyframes spin {\n",
              "    0% {\n",
              "      border-color: transparent;\n",
              "      border-bottom-color: var(--fill-color);\n",
              "      border-left-color: var(--fill-color);\n",
              "    }\n",
              "    20% {\n",
              "      border-color: transparent;\n",
              "      border-left-color: var(--fill-color);\n",
              "      border-top-color: var(--fill-color);\n",
              "    }\n",
              "    30% {\n",
              "      border-color: transparent;\n",
              "      border-left-color: var(--fill-color);\n",
              "      border-top-color: var(--fill-color);\n",
              "      border-right-color: var(--fill-color);\n",
              "    }\n",
              "    40% {\n",
              "      border-color: transparent;\n",
              "      border-right-color: var(--fill-color);\n",
              "      border-top-color: var(--fill-color);\n",
              "    }\n",
              "    60% {\n",
              "      border-color: transparent;\n",
              "      border-right-color: var(--fill-color);\n",
              "    }\n",
              "    80% {\n",
              "      border-color: transparent;\n",
              "      border-right-color: var(--fill-color);\n",
              "      border-bottom-color: var(--fill-color);\n",
              "    }\n",
              "    90% {\n",
              "      border-color: transparent;\n",
              "      border-bottom-color: var(--fill-color);\n",
              "    }\n",
              "  }\n",
              "</style>\n",
              "\n",
              "  <script>\n",
              "    async function quickchart(key) {\n",
              "      const quickchartButtonEl =\n",
              "        document.querySelector('#' + key + ' button');\n",
              "      quickchartButtonEl.disabled = true;  // To prevent multiple clicks.\n",
              "      quickchartButtonEl.classList.add('colab-df-spinner');\n",
              "      try {\n",
              "        const charts = await google.colab.kernel.invokeFunction(\n",
              "            'suggestCharts', [key], {});\n",
              "      } catch (error) {\n",
              "        console.error('Error during call to suggestCharts:', error);\n",
              "      }\n",
              "      quickchartButtonEl.classList.remove('colab-df-spinner');\n",
              "      quickchartButtonEl.classList.add('colab-df-quickchart-complete');\n",
              "    }\n",
              "    (() => {\n",
              "      let quickchartButtonEl =\n",
              "        document.querySelector('#df-3774b9b2-1ae6-439b-9f59-7ef64e7a464c button');\n",
              "      quickchartButtonEl.style.display =\n",
              "        google.colab.kernel.accessAllowed ? 'block' : 'none';\n",
              "    })();\n",
              "  </script>\n",
              "</div>\n",
              "    </div>\n",
              "  </div>\n"
            ],
            "application/vnd.google.colaboratory.intrinsic+json": {
              "type": "dataframe",
              "variable_name": "df1",
              "summary": "{\n  \"name\": \"df1\",\n  \"rows\": 5573,\n  \"fields\": [\n    {\n      \"column\": \"v1\",\n      \"properties\": {\n        \"dtype\": \"category\",\n        \"num_unique_values\": 2,\n        \"samples\": [\n          \"spam\",\n          \"ham\"\n        ],\n        \"semantic_type\": \"\",\n        \"description\": \"\"\n      }\n    },\n    {\n      \"column\": \"v2\",\n      \"properties\": {\n        \"dtype\": \"string\",\n        \"num_unique_values\": 5170,\n        \"samples\": [\n          \"Did u download the fring app?\",\n          \"Pass dis to all ur contacts n see wat u get! Red;i'm in luv wid u. Blue;u put a smile on my face. Purple;u r realy hot. Pink;u r so swt. Orange;i thnk i lyk u. Green;i realy wana go out wid u. Yelow;i wnt u bck. Black;i'm jealous of u. Brown;i miss you Nw plz giv me one color\"\n        ],\n        \"semantic_type\": \"\",\n        \"description\": \"\"\n      }\n    },\n    {\n      \"column\": \"Unnamed: 2\",\n      \"properties\": {\n        \"dtype\": \"category\",\n        \"num_unique_values\": 43,\n        \"samples\": [\n          \" GOD said\",\n          \" SHE SHUDVETOLD U. DID URGRAN KNOW?NEWAY\"\n        ],\n        \"semantic_type\": \"\",\n        \"description\": \"\"\n      }\n    },\n    {\n      \"column\": \"Unnamed: 3\",\n      \"properties\": {\n        \"dtype\": \"category\",\n        \"num_unique_values\": 10,\n        \"samples\": [\n          \" \\\\\\\"OH No! COMPETITION\\\\\\\". Who knew\",\n          \" why to miss them\"\n        ],\n        \"semantic_type\": \"\",\n        \"description\": \"\"\n      }\n    },\n    {\n      \"column\": \"Unnamed: 4\",\n      \"properties\": {\n        \"dtype\": \"category\",\n        \"num_unique_values\": 5,\n        \"samples\": [\n          \"GNT:-)\\\"\",\n          \" one day these two will become FREINDS FOREVER!\\\"\"\n        ],\n        \"semantic_type\": \"\",\n        \"description\": \"\"\n      }\n    }\n  ]\n}"
            }
          },
          "metadata": {},
          "execution_count": 5
        }
      ]
    },
    {
      "cell_type": "markdown",
      "source": [
        "Ahora eliminamos las columnas con valores nulos."
      ],
      "metadata": {
        "id": "b_76t7qpOC3z"
      }
    },
    {
      "cell_type": "code",
      "source": [
        "#df_1 = df1[df1.iloc[:, 2].isna()]\n",
        "#df_1 = df_1[df_1.iloc[:, 3].isna()]\n",
        "#df_1 = df_1[df_1.iloc[:, 4].isna()]\n",
        "'''\n",
        "for indice_fila, fila in df_filtrado.iterrows():\n",
        "     palabra = fila.iloc[3]  # Acceder al valor en la tercera columna de cada fila\n",
        "     if not pd.isna(palabra):  # Verificar si el valor no es NaN\n",
        "        print(palabra)\n",
        "'''\n",
        "\n",
        "df1 = df1.iloc[:, :2]\n",
        "df1 = df1.dropna()\n",
        "df1"
      ],
      "metadata": {
        "id": "7hUrClD8GiKK",
        "outputId": "1ce8c994-5491-4a67-b8cb-c5406783f9dc",
        "colab": {
          "base_uri": "https://localhost:8080/",
          "height": 424
        }
      },
      "execution_count": 6,
      "outputs": [
        {
          "output_type": "execute_result",
          "data": {
            "text/plain": [
              "        v1                                                 v2\n",
              "0      ham  Go until jurong point, crazy.. Available only ...\n",
              "1      ham                      Ok lar... Joking wif u oni...\n",
              "2     spam  Free entry in 2 a wkly comp to win FA Cup fina...\n",
              "3      ham  U dun say so early hor... U c already then say...\n",
              "4      ham  Nah I don't think he goes to usf, he lives aro...\n",
              "...    ...                                                ...\n",
              "5567  spam  This is the 2nd time we have tried 2 contact u...\n",
              "5568   ham            Will ï¿½_ b going to esplanade fr home?\n",
              "5569   ham  Pity, * was in mood for that. So...any other s...\n",
              "5570   ham  The guy did some bitching but I acted like i'd...\n",
              "5571   ham                         Rofl. Its true to its name\n",
              "\n",
              "[5572 rows x 2 columns]"
            ],
            "text/html": [
              "\n",
              "  <div id=\"df-377d541c-3d65-4304-a95c-754416ac8fe3\" class=\"colab-df-container\">\n",
              "    <div>\n",
              "<style scoped>\n",
              "    .dataframe tbody tr th:only-of-type {\n",
              "        vertical-align: middle;\n",
              "    }\n",
              "\n",
              "    .dataframe tbody tr th {\n",
              "        vertical-align: top;\n",
              "    }\n",
              "\n",
              "    .dataframe thead th {\n",
              "        text-align: right;\n",
              "    }\n",
              "</style>\n",
              "<table border=\"1\" class=\"dataframe\">\n",
              "  <thead>\n",
              "    <tr style=\"text-align: right;\">\n",
              "      <th></th>\n",
              "      <th>v1</th>\n",
              "      <th>v2</th>\n",
              "    </tr>\n",
              "  </thead>\n",
              "  <tbody>\n",
              "    <tr>\n",
              "      <th>0</th>\n",
              "      <td>ham</td>\n",
              "      <td>Go until jurong point, crazy.. Available only ...</td>\n",
              "    </tr>\n",
              "    <tr>\n",
              "      <th>1</th>\n",
              "      <td>ham</td>\n",
              "      <td>Ok lar... Joking wif u oni...</td>\n",
              "    </tr>\n",
              "    <tr>\n",
              "      <th>2</th>\n",
              "      <td>spam</td>\n",
              "      <td>Free entry in 2 a wkly comp to win FA Cup fina...</td>\n",
              "    </tr>\n",
              "    <tr>\n",
              "      <th>3</th>\n",
              "      <td>ham</td>\n",
              "      <td>U dun say so early hor... U c already then say...</td>\n",
              "    </tr>\n",
              "    <tr>\n",
              "      <th>4</th>\n",
              "      <td>ham</td>\n",
              "      <td>Nah I don't think he goes to usf, he lives aro...</td>\n",
              "    </tr>\n",
              "    <tr>\n",
              "      <th>...</th>\n",
              "      <td>...</td>\n",
              "      <td>...</td>\n",
              "    </tr>\n",
              "    <tr>\n",
              "      <th>5567</th>\n",
              "      <td>spam</td>\n",
              "      <td>This is the 2nd time we have tried 2 contact u...</td>\n",
              "    </tr>\n",
              "    <tr>\n",
              "      <th>5568</th>\n",
              "      <td>ham</td>\n",
              "      <td>Will ï¿½_ b going to esplanade fr home?</td>\n",
              "    </tr>\n",
              "    <tr>\n",
              "      <th>5569</th>\n",
              "      <td>ham</td>\n",
              "      <td>Pity, * was in mood for that. So...any other s...</td>\n",
              "    </tr>\n",
              "    <tr>\n",
              "      <th>5570</th>\n",
              "      <td>ham</td>\n",
              "      <td>The guy did some bitching but I acted like i'd...</td>\n",
              "    </tr>\n",
              "    <tr>\n",
              "      <th>5571</th>\n",
              "      <td>ham</td>\n",
              "      <td>Rofl. Its true to its name</td>\n",
              "    </tr>\n",
              "  </tbody>\n",
              "</table>\n",
              "<p>5572 rows × 2 columns</p>\n",
              "</div>\n",
              "    <div class=\"colab-df-buttons\">\n",
              "\n",
              "  <div class=\"colab-df-container\">\n",
              "    <button class=\"colab-df-convert\" onclick=\"convertToInteractive('df-377d541c-3d65-4304-a95c-754416ac8fe3')\"\n",
              "            title=\"Convert this dataframe to an interactive table.\"\n",
              "            style=\"display:none;\">\n",
              "\n",
              "  <svg xmlns=\"http://www.w3.org/2000/svg\" height=\"24px\" viewBox=\"0 -960 960 960\">\n",
              "    <path d=\"M120-120v-720h720v720H120Zm60-500h600v-160H180v160Zm220 220h160v-160H400v160Zm0 220h160v-160H400v160ZM180-400h160v-160H180v160Zm440 0h160v-160H620v160ZM180-180h160v-160H180v160Zm440 0h160v-160H620v160Z\"/>\n",
              "  </svg>\n",
              "    </button>\n",
              "\n",
              "  <style>\n",
              "    .colab-df-container {\n",
              "      display:flex;\n",
              "      gap: 12px;\n",
              "    }\n",
              "\n",
              "    .colab-df-convert {\n",
              "      background-color: #E8F0FE;\n",
              "      border: none;\n",
              "      border-radius: 50%;\n",
              "      cursor: pointer;\n",
              "      display: none;\n",
              "      fill: #1967D2;\n",
              "      height: 32px;\n",
              "      padding: 0 0 0 0;\n",
              "      width: 32px;\n",
              "    }\n",
              "\n",
              "    .colab-df-convert:hover {\n",
              "      background-color: #E2EBFA;\n",
              "      box-shadow: 0px 1px 2px rgba(60, 64, 67, 0.3), 0px 1px 3px 1px rgba(60, 64, 67, 0.15);\n",
              "      fill: #174EA6;\n",
              "    }\n",
              "\n",
              "    .colab-df-buttons div {\n",
              "      margin-bottom: 4px;\n",
              "    }\n",
              "\n",
              "    [theme=dark] .colab-df-convert {\n",
              "      background-color: #3B4455;\n",
              "      fill: #D2E3FC;\n",
              "    }\n",
              "\n",
              "    [theme=dark] .colab-df-convert:hover {\n",
              "      background-color: #434B5C;\n",
              "      box-shadow: 0px 1px 3px 1px rgba(0, 0, 0, 0.15);\n",
              "      filter: drop-shadow(0px 1px 2px rgba(0, 0, 0, 0.3));\n",
              "      fill: #FFFFFF;\n",
              "    }\n",
              "  </style>\n",
              "\n",
              "    <script>\n",
              "      const buttonEl =\n",
              "        document.querySelector('#df-377d541c-3d65-4304-a95c-754416ac8fe3 button.colab-df-convert');\n",
              "      buttonEl.style.display =\n",
              "        google.colab.kernel.accessAllowed ? 'block' : 'none';\n",
              "\n",
              "      async function convertToInteractive(key) {\n",
              "        const element = document.querySelector('#df-377d541c-3d65-4304-a95c-754416ac8fe3');\n",
              "        const dataTable =\n",
              "          await google.colab.kernel.invokeFunction('convertToInteractive',\n",
              "                                                    [key], {});\n",
              "        if (!dataTable) return;\n",
              "\n",
              "        const docLinkHtml = 'Like what you see? Visit the ' +\n",
              "          '<a target=\"_blank\" href=https://colab.research.google.com/notebooks/data_table.ipynb>data table notebook</a>'\n",
              "          + ' to learn more about interactive tables.';\n",
              "        element.innerHTML = '';\n",
              "        dataTable['output_type'] = 'display_data';\n",
              "        await google.colab.output.renderOutput(dataTable, element);\n",
              "        const docLink = document.createElement('div');\n",
              "        docLink.innerHTML = docLinkHtml;\n",
              "        element.appendChild(docLink);\n",
              "      }\n",
              "    </script>\n",
              "  </div>\n",
              "\n",
              "\n",
              "<div id=\"df-172b55fa-b571-4cfb-8770-d62026b95e3c\">\n",
              "  <button class=\"colab-df-quickchart\" onclick=\"quickchart('df-172b55fa-b571-4cfb-8770-d62026b95e3c')\"\n",
              "            title=\"Suggest charts\"\n",
              "            style=\"display:none;\">\n",
              "\n",
              "<svg xmlns=\"http://www.w3.org/2000/svg\" height=\"24px\"viewBox=\"0 0 24 24\"\n",
              "     width=\"24px\">\n",
              "    <g>\n",
              "        <path d=\"M19 3H5c-1.1 0-2 .9-2 2v14c0 1.1.9 2 2 2h14c1.1 0 2-.9 2-2V5c0-1.1-.9-2-2-2zM9 17H7v-7h2v7zm4 0h-2V7h2v10zm4 0h-2v-4h2v4z\"/>\n",
              "    </g>\n",
              "</svg>\n",
              "  </button>\n",
              "\n",
              "<style>\n",
              "  .colab-df-quickchart {\n",
              "      --bg-color: #E8F0FE;\n",
              "      --fill-color: #1967D2;\n",
              "      --hover-bg-color: #E2EBFA;\n",
              "      --hover-fill-color: #174EA6;\n",
              "      --disabled-fill-color: #AAA;\n",
              "      --disabled-bg-color: #DDD;\n",
              "  }\n",
              "\n",
              "  [theme=dark] .colab-df-quickchart {\n",
              "      --bg-color: #3B4455;\n",
              "      --fill-color: #D2E3FC;\n",
              "      --hover-bg-color: #434B5C;\n",
              "      --hover-fill-color: #FFFFFF;\n",
              "      --disabled-bg-color: #3B4455;\n",
              "      --disabled-fill-color: #666;\n",
              "  }\n",
              "\n",
              "  .colab-df-quickchart {\n",
              "    background-color: var(--bg-color);\n",
              "    border: none;\n",
              "    border-radius: 50%;\n",
              "    cursor: pointer;\n",
              "    display: none;\n",
              "    fill: var(--fill-color);\n",
              "    height: 32px;\n",
              "    padding: 0;\n",
              "    width: 32px;\n",
              "  }\n",
              "\n",
              "  .colab-df-quickchart:hover {\n",
              "    background-color: var(--hover-bg-color);\n",
              "    box-shadow: 0 1px 2px rgba(60, 64, 67, 0.3), 0 1px 3px 1px rgba(60, 64, 67, 0.15);\n",
              "    fill: var(--button-hover-fill-color);\n",
              "  }\n",
              "\n",
              "  .colab-df-quickchart-complete:disabled,\n",
              "  .colab-df-quickchart-complete:disabled:hover {\n",
              "    background-color: var(--disabled-bg-color);\n",
              "    fill: var(--disabled-fill-color);\n",
              "    box-shadow: none;\n",
              "  }\n",
              "\n",
              "  .colab-df-spinner {\n",
              "    border: 2px solid var(--fill-color);\n",
              "    border-color: transparent;\n",
              "    border-bottom-color: var(--fill-color);\n",
              "    animation:\n",
              "      spin 1s steps(1) infinite;\n",
              "  }\n",
              "\n",
              "  @keyframes spin {\n",
              "    0% {\n",
              "      border-color: transparent;\n",
              "      border-bottom-color: var(--fill-color);\n",
              "      border-left-color: var(--fill-color);\n",
              "    }\n",
              "    20% {\n",
              "      border-color: transparent;\n",
              "      border-left-color: var(--fill-color);\n",
              "      border-top-color: var(--fill-color);\n",
              "    }\n",
              "    30% {\n",
              "      border-color: transparent;\n",
              "      border-left-color: var(--fill-color);\n",
              "      border-top-color: var(--fill-color);\n",
              "      border-right-color: var(--fill-color);\n",
              "    }\n",
              "    40% {\n",
              "      border-color: transparent;\n",
              "      border-right-color: var(--fill-color);\n",
              "      border-top-color: var(--fill-color);\n",
              "    }\n",
              "    60% {\n",
              "      border-color: transparent;\n",
              "      border-right-color: var(--fill-color);\n",
              "    }\n",
              "    80% {\n",
              "      border-color: transparent;\n",
              "      border-right-color: var(--fill-color);\n",
              "      border-bottom-color: var(--fill-color);\n",
              "    }\n",
              "    90% {\n",
              "      border-color: transparent;\n",
              "      border-bottom-color: var(--fill-color);\n",
              "    }\n",
              "  }\n",
              "</style>\n",
              "\n",
              "  <script>\n",
              "    async function quickchart(key) {\n",
              "      const quickchartButtonEl =\n",
              "        document.querySelector('#' + key + ' button');\n",
              "      quickchartButtonEl.disabled = true;  // To prevent multiple clicks.\n",
              "      quickchartButtonEl.classList.add('colab-df-spinner');\n",
              "      try {\n",
              "        const charts = await google.colab.kernel.invokeFunction(\n",
              "            'suggestCharts', [key], {});\n",
              "      } catch (error) {\n",
              "        console.error('Error during call to suggestCharts:', error);\n",
              "      }\n",
              "      quickchartButtonEl.classList.remove('colab-df-spinner');\n",
              "      quickchartButtonEl.classList.add('colab-df-quickchart-complete');\n",
              "    }\n",
              "    (() => {\n",
              "      let quickchartButtonEl =\n",
              "        document.querySelector('#df-172b55fa-b571-4cfb-8770-d62026b95e3c button');\n",
              "      quickchartButtonEl.style.display =\n",
              "        google.colab.kernel.accessAllowed ? 'block' : 'none';\n",
              "    })();\n",
              "  </script>\n",
              "</div>\n",
              "    </div>\n",
              "  </div>\n"
            ],
            "application/vnd.google.colaboratory.intrinsic+json": {
              "type": "dataframe",
              "variable_name": "df1",
              "summary": "{\n  \"name\": \"df1\",\n  \"rows\": 5572,\n  \"fields\": [\n    {\n      \"column\": \"v1\",\n      \"properties\": {\n        \"dtype\": \"category\",\n        \"num_unique_values\": 2,\n        \"samples\": [\n          \"spam\",\n          \"ham\"\n        ],\n        \"semantic_type\": \"\",\n        \"description\": \"\"\n      }\n    },\n    {\n      \"column\": \"v2\",\n      \"properties\": {\n        \"dtype\": \"string\",\n        \"num_unique_values\": 5169,\n        \"samples\": [\n          \"Did u download the fring app?\",\n          \"Pass dis to all ur contacts n see wat u get! Red;i'm in luv wid u. Blue;u put a smile on my face. Purple;u r realy hot. Pink;u r so swt. Orange;i thnk i lyk u. Green;i realy wana go out wid u. Yelow;i wnt u bck. Black;i'm jealous of u. Brown;i miss you Nw plz giv me one color\"\n        ],\n        \"semantic_type\": \"\",\n        \"description\": \"\"\n      }\n    }\n  ]\n}"
            }
          },
          "metadata": {},
          "execution_count": 6
        }
      ]
    },
    {
      "cell_type": "code",
      "source": [
        "for clase in df1['v1'].unique():\n",
        " if not pd.isna(clase):\n",
        "      # Obtener el primer elemento de cada clase\n",
        "      primer_elemento = df1[df1['v1'] == clase].iloc[0]\n",
        "      # Agregarlo al diccionario\n",
        "      print(primer_elemento)"
      ],
      "metadata": {
        "id": "8n2NhNqI7pB4",
        "colab": {
          "base_uri": "https://localhost:8080/"
        },
        "outputId": "54ea7634-0bac-4ebc-d1f6-d492c554a18b"
      },
      "execution_count": 7,
      "outputs": [
        {
          "output_type": "stream",
          "name": "stdout",
          "text": [
            "v1                                                  ham\n",
            "v2    Go until jurong point, crazy.. Available only ...\n",
            "Name: 0, dtype: object\n",
            "v1                                                 spam\n",
            "v2    Free entry in 2 a wkly comp to win FA Cup fina...\n",
            "Name: 2, dtype: object\n"
          ]
        }
      ]
    },
    {
      "cell_type": "code",
      "source": [
        "print(df1['v1'].value_counts())"
      ],
      "metadata": {
        "id": "QmetXzn583gV",
        "colab": {
          "base_uri": "https://localhost:8080/"
        },
        "outputId": "d755bc88-ce96-45d8-b760-03065f44ad94"
      },
      "execution_count": 8,
      "outputs": [
        {
          "output_type": "stream",
          "name": "stdout",
          "text": [
            "v1\n",
            "ham     4825\n",
            "spam     747\n",
            "Name: count, dtype: int64\n"
          ]
        }
      ]
    },
    {
      "cell_type": "markdown",
      "source": [
        "Vemos que la cantidad de mensajes del tipo *ham* aparece mucho más que el tipo *spam* lo que indica que el *dataset* no esta balanceado. Por tanto, a la hora de sacar conclusiones tendremos que tener en mente este hecho, ya que podría suceder que no fueran todo lo representativas que quisiéramos."
      ],
      "metadata": {
        "id": "iFOBmvDa9Qbg"
      }
    },
    {
      "cell_type": "markdown",
      "source": [
        "A continuación normalizaremos el documento eliminando caracteres especiales, pasando a minúsculas y eliminando palabras vacías."
      ],
      "metadata": {
        "id": "6i8nFNEY-NtH"
      }
    },
    {
      "cell_type": "code",
      "source": [
        "wpt = nltk.WordPunctTokenizer()\n",
        "nltk.download('stopwords')\n",
        "stop_words = nltk.corpus.stopwords.words('english')\n",
        "\n",
        "def normalize_document(doc):\n",
        "    # lower case and remove special characters\\whitespaces\n",
        "    doc = re.sub(r'[^a-zA-Z\\s]', '', doc, re.I|re.A)\n",
        "    doc = doc.lower()\n",
        "    doc = doc.strip()\n",
        "    # tokenize document\n",
        "    tokens = wpt.tokenize(doc)\n",
        "    # filter stopwords out of document\n",
        "    filtered_tokens = [token for token in tokens if token not in stop_words]\n",
        "    # re-create document from filtered tokens\n",
        "    doc = ' '.join(filtered_tokens)\n",
        "    return doc\n",
        "\n",
        "normalize_corpus = np.vectorize(normalize_document)"
      ],
      "metadata": {
        "colab": {
          "base_uri": "https://localhost:8080/"
        },
        "id": "6TtJNEc6-M79",
        "outputId": "821a8176-9e8a-48fb-e5dd-37e3dab47fa2"
      },
      "execution_count": 9,
      "outputs": [
        {
          "output_type": "stream",
          "name": "stderr",
          "text": [
            "[nltk_data] Downloading package stopwords to /root/nltk_data...\n",
            "[nltk_data]   Unzipping corpora/stopwords.zip.\n"
          ]
        }
      ]
    },
    {
      "cell_type": "code",
      "source": [
        "from sklearn.feature_extraction.text import CountVectorizer\n",
        "\n",
        "# Normalizamos los datos\n",
        "datos_normalizados = normalize_corpus(df1['v2'].values)\n",
        "\n",
        "cv = CountVectorizer()\n",
        "cv_matrix = cv.fit_transform(datos_normalizados)\n",
        "cv_matrix = cv_matrix.toarray()\n",
        "suma_columnas = cv_matrix.sum(axis = 0)\n",
        "indice_columna_maxima = np.argmax(suma_columnas)\n",
        "\n",
        "nombres_columnas = cv.get_feature_names_out()\n",
        "\n",
        "print(f\"La palabra más repetida es '{nombres_columnas[indice_columna_maxima]}'.\")\n",
        "print(f\"Se repite un total de {np.max(suma_columnas)} veces.\")"
      ],
      "metadata": {
        "colab": {
          "base_uri": "https://localhost:8080/"
        },
        "id": "1_sHM_xS-BxQ",
        "outputId": "50e6f289-c362-43ab-e00e-4679257346c5"
      },
      "execution_count": 10,
      "outputs": [
        {
          "output_type": "stream",
          "name": "stdout",
          "text": [
            "La palabra más repetida es 'call'.\n",
            "Se repite un total de 579 veces.\n"
          ]
        }
      ]
    },
    {
      "cell_type": "markdown",
      "source": [
        "Creamos ahora la partición del dataset."
      ],
      "metadata": {
        "id": "d5KSCbAwUpfZ"
      }
    },
    {
      "cell_type": "code",
      "source": [
        "# Aplicamos la normalización de los datos sobre el dataset\n",
        "df1['v2'] = df1['v2'].apply(lambda x: normalize_corpus(x))\n",
        "\n",
        "from sklearn.model_selection import train_test_split\n",
        "\n",
        "# Creamos una partición temporal del 40%\n",
        "train_df, temp_df = train_test_split(df1, test_size=0.4, random_state=RANDOM_STATE)\n",
        "\n",
        "# Del 40% temporal, 50% a test y 50% a validación\n",
        "val_df, test_df = train_test_split(temp_df, test_size=0.5, random_state=RANDOM_STATE)"
      ],
      "metadata": {
        "id": "klEPrFRbUt77"
      },
      "execution_count": 11,
      "outputs": []
    },
    {
      "cell_type": "markdown",
      "metadata": {
        "id": "r4rXv3xX3yvG"
      },
      "source": [
        "# 2) Representación como bolsa de palabras\n",
        "\n",
        "Elige justificadamente una representación de bolsa de palabras y aplícala.\n",
        "Muestra un ejemplo antes y después de aplicar la representación. Explica los cambios."
      ]
    },
    {
      "cell_type": "markdown",
      "source": [
        "Debido a que las palabras que se encuentran en el corpus pueden o no estar en un diccionario habitual (ya que utilizan una «jerga» de los SMS en la que las palabras se acortan) y no aparecen demasiadas palabras \"raras\" (números sueltos y demás símbolos), nos hemos decantado por usar el diccionario inferido por el conjunto de entrenamiento. Para eliminar las palabras con poco valor diferenciador, aplicaremos una transformación TF-IDF."
      ],
      "metadata": {
        "id": "xMZETF0jhU6G"
      }
    },
    {
      "cell_type": "code",
      "source": [
        "import numpy as np\n",
        "import numpy.ma as ma\n",
        "\n",
        "def write_terms (feature_names, data, vector_data, index):\n",
        "    '''\n",
        "    Escribe los términos presentes en un mensaje representado como bolsa de palabras.\n",
        "\n",
        "    - feature_names: terminos usados para vectorizar\n",
        "    - data: lista de mensajes original (si data==None no se muestra el mensaje original)\n",
        "    - vector_data: matriz (dispersa) de mensaje vectorizados\n",
        "    - index: posición del mensaje a mostrar\n",
        "    '''\n",
        "    # máscara para seleccionar sólo el mensaje en posición index\n",
        "    mask=vector_data[index,:]>0\n",
        "\n",
        "    # términos que aparecen en ese mensaje vectorizado\n",
        "    terminos = ma.array(feature_names, mask = ~(mask[0].toarray()))\n",
        "\n",
        "    # mostrar mensaje original\n",
        "    if data is not None:\n",
        "        print('Mensaje', index, ':', data[index])\n",
        "\n",
        "    # mostrar términos que aparecen en el mensaje vectorizado\n",
        "    print('Mensaje', index, 'vectorizado:', terminos.compressed(),'\\n')"
      ],
      "metadata": {
        "id": "2GYCVAd0bic5"
      },
      "execution_count": 12,
      "outputs": []
    },
    {
      "cell_type": "code",
      "source": [
        "from sklearn.feature_extraction.text import TfidfTransformer\n",
        "\n",
        "vectorizer = CountVectorizer(stop_words='english')\n",
        "\n",
        "# Tomamos los textos del conjunto de entrenamiento y los transformamos en\n",
        "# una matriz de datos (palabras) según el diccionario estándar\n",
        "train_vector_data = vectorizer.fit_transform(train_df['v2'])\n",
        "\n",
        "# Sacamos las palabras asociadas a los vectores\n",
        "feature_names = vectorizer.get_feature_names_out()\n",
        "\n",
        "tfidfer = TfidfTransformer()\n",
        "train_preprocessed = tfidfer.fit_transform(train_vector_data)"
      ],
      "metadata": {
        "id": "ejUtnRiSZ_6M"
      },
      "execution_count": 13,
      "outputs": []
    },
    {
      "cell_type": "code",
      "source": [
        "write_terms(feature_names, train_df['v2'].values, train_preprocessed, 10)"
      ],
      "metadata": {
        "colab": {
          "base_uri": "https://localhost:8080/"
        },
        "id": "pTllAL9Vbvsm",
        "outputId": "3a1bf4f0-c001-44bb-ad96-37789b0b4d91"
      },
      "execution_count": 14,
      "outputs": [
        {
          "output_type": "stream",
          "name": "stdout",
          "text": [
            "Mensaje 10 : premium phone services call\n",
            "Mensaje 10 vectorizado: ['phone' 'premium' 'services'] \n",
            "\n"
          ]
        }
      ]
    },
    {
      "cell_type": "markdown",
      "source": [
        "Los datos que hemos usado para entrenar el `CountVectorizer` y el `TfidfTransformer` son los de entrenamiento que hemos sacado al hacer las particiones.\n",
        "\n",
        "El ejemplo de mensaje que hemos puesto (el 100 de entre los de entrenamiento) muestra la diferencia entre el original y el vector de la bolsa de palabras que surge de él. Podemos apreciar que el vector no tiene palabras repetidas y palabras muy comunes como *u* han sido ignoradas.\n",
        "\n",
        "Ahora aplicamos las transformaciones sobre los datos de test y validación."
      ],
      "metadata": {
        "id": "nFE9HgqqiePx"
      }
    },
    {
      "cell_type": "code",
      "source": [
        "# Test\n",
        "test_vector_data = vectorizer.transform(test_df['v2'])\n",
        "test_preprocessed = tfidfer.transform(test_vector_data)\n",
        "\n",
        "# Validación\n",
        "val_vector_data = vectorizer.transform(val_df['v2'])\n",
        "val_preprocessed = tfidfer.transform(val_vector_data)"
      ],
      "metadata": {
        "id": "mHW1qafDk41x"
      },
      "execution_count": 15,
      "outputs": []
    },
    {
      "cell_type": "markdown",
      "metadata": {
        "id": "jaUSgloS4xHS"
      },
      "source": [
        "# 3) Aplica 3 algoritmos de aprendizaje automático para resolver la tarea\n",
        "\n",
        "Justifica porqué los has elegido.\n",
        "Ajusta los modelos respecto a un hiperparámetro que consideres oportuno. Justifica tu elección.\n",
        "Explica los resultados obtenidos."
      ]
    },
    {
      "cell_type": "markdown",
      "source": [
        "## Árbol de decisión\n",
        "Como en la anterior práctica usaremos árboles de decisión. El hiperparámetro que optimizaremos será, de nuevo, la profundidad máxima."
      ],
      "metadata": {
        "id": "0RqABpqlsFud"
      }
    },
    {
      "cell_type": "code",
      "source": [
        "from sklearn.tree import DecisionTreeClassifier\n",
        "import matplotlib.pyplot as plt\n",
        "from sklearn.model_selection import cross_validate\n",
        "\n",
        "train_accuracy = []\n",
        "test_accuracy = []\n",
        "\n",
        "# Entrenamos y validamos varios árboles con distintas profundidades máximas\n",
        "max_depths = range(1, 20)\n",
        "for md in max_depths:\n",
        "    clf = DecisionTreeClassifier(criterion=\"entropy\", max_depth=md, min_samples_split=2, random_state=RANDOM_STATE)\n",
        "    scores = cross_validate(clf, train_preprocessed, train_df['v1'].values, scoring='accuracy', cv=10, return_train_score=True)\n",
        "\n",
        "    train_accuracy.append(np.mean(scores['train_score']))\n",
        "    test_accuracy.append(np.mean(scores['test_score']))\n",
        "\n",
        "\n",
        "# Draw lines\n",
        "plt.plot(max_depths, train_accuracy, color=\"r\",  label=\"Training\")\n",
        "plt.plot(max_depths, test_accuracy, color=\"g\", label=\"Test\")\n",
        "\n",
        "# Create plot\n",
        "plt.title(\"Curva de aprendizaje\")\n",
        "plt.xlabel(\"Parametro\"), plt.ylabel(\"Accuracy Score\"), plt.legend(loc=\"best\")\n",
        "plt.tight_layout()\n",
        "plt.show()"
      ],
      "metadata": {
        "colab": {
          "base_uri": "https://localhost:8080/",
          "height": 487
        },
        "id": "15CdhylusSFW",
        "outputId": "6165ed6b-b74d-4f91-980e-31898d310279"
      },
      "execution_count": 50,
      "outputs": [
        {
          "output_type": "display_data",
          "data": {
            "text/plain": [
              "<Figure size 640x480 with 1 Axes>"
            ],
            "image/png": "[encoded data removed]"
          },
          "metadata": {}
        }
      ]
    },
    {
      "cell_type": "markdown",
      "source": [
        "Como podemos apreciar a partir del valor `10` el algoritmo comienza a tener overfitting y los resultados del test no mejoran por lo que usaremos ese valor."
      ],
      "metadata": {
        "id": "FRa7EagQt8WB"
      }
    },
    {
      "cell_type": "code",
      "source": [
        "tree_classifier = DecisionTreeClassifier(criterion=\"entropy\", max_depth=10, min_samples_split=2, random_state=RANDOM_STATE)\n",
        "tree_classifier.fit(train_preprocessed, train_df['v1'].values)\n",
        "\n",
        "tree_train_predictions = tree_classifier.predict(train_preprocessed)\n",
        "tree_test_predictions = tree_classifier.predict(test_preprocessed)\n",
        "\n",
        "print(\"Árbol, porcentaje de aciertos en entrenamiento:\", np.mean(tree_train_predictions == train_df['v1'].values))\n",
        "print(\"Árbol, porcentaje de aciertos en test:\", np.mean(tree_test_predictions == test_df['v1'].values))"
      ],
      "metadata": {
        "colab": {
          "base_uri": "https://localhost:8080/"
        },
        "id": "ow1x3kQUuJhZ",
        "outputId": "730a61eb-f0d3-47ba-f7fd-b170f9b2ca4b"
      },
      "execution_count": 51,
      "outputs": [
        {
          "output_type": "stream",
          "name": "stdout",
          "text": [
            "Árbol, porcentaje de aciertos en entrenamiento: 0.9661980257253964\n",
            "Árbol, porcentaje de aciertos en test: 0.9372197309417041\n"
          ]
        }
      ]
    },
    {
      "cell_type": "markdown",
      "source": [
        "Podemos apreciar que este algoritmo con esta profundidad aporta un alto porcentaje de aciertos (93%) incluso en un *dataset* sobre el que no ha sido entrenado."
      ],
      "metadata": {
        "id": "CLbMtZdHuyb2"
      }
    },
    {
      "cell_type": "markdown",
      "source": [
        "## K-NN\n",
        "Como en la anterior práctica usaremos `k` vecinos más cercanos. El hiperparámetro que optimizaremos será, de nuevo, el número de vecinos.\n",
        "Ya adelantamos que este algoritmo no es la mejor opción debido a que sufre la «maldición de la dimensionalidad» que en esta clase de problemas es muy acusada (muchas dimensiones y matrices muy dispersas) lo que causará que el algoritmo tenga un rendimiento muy pobre."
      ],
      "metadata": {
        "id": "PFxJE1YGvNJf"
      }
    },
    {
      "cell_type": "code",
      "source": [
        "import matplotlib.pyplot as plt\n",
        "from sklearn.neighbors import KNeighborsClassifier\n",
        "from sklearn.model_selection import cross_validate\n",
        "\n",
        "test_accuracy = []\n",
        "test_std = []\n",
        "\n",
        "# Entrenamos y validamos varios algoritmos con distinto número de vecinos\n",
        "num_vec = range(1, 15)\n",
        "for nv in num_vec:\n",
        "    clf = KNeighborsClassifier(n_neighbors=nv, weights='distance')\n",
        "    scores = cross_validate(clf, train_preprocessed, train_df['v1'].values, scoring='accuracy', cv=10, return_train_score=True)\n",
        "\n",
        "    test_accuracy.append(np.mean(scores['test_score']))\n",
        "    test_std.append(np.std(scores['test_score']))\n",
        "\n",
        "\n",
        "# Dibujamos la línea con la accuracy (exactitud) en el test\n",
        "plt.plot(num_vec, test_accuracy, color=\"g\", label=\"Accuracy\")\n",
        "\n",
        "# Dibujamos la banda de la desviación típica\n",
        "lower_limit = np.array(test_accuracy) - np.array(test_std)\n",
        "upper_limit = np.array(test_accuracy) + np.array(test_std)\n",
        "plt.fill_between(num_vec, lower_limit, upper_limit, color=\"#DDDDDD\")\n",
        "\n",
        "# Creamos el gráfico\n",
        "plt.title(\"Curva de aprendizaje\")\n",
        "plt.xlabel(\"Parametro\"), plt.ylabel(\"Accuracy Score\"), plt.legend(loc=\"best\")\n",
        "plt.tight_layout()\n",
        "plt.show()"
      ],
      "metadata": {
        "colab": {
          "base_uri": "https://localhost:8080/",
          "height": 426
        },
        "id": "B3RU2Eepv4x2",
        "outputId": "fefd07b3-a643-404a-847b-33a0bea24db8"
      },
      "execution_count": 49,
      "outputs": [
        {
          "output_type": "error",
          "ename": "KeyboardInterrupt",
          "evalue": "",
          "traceback": [
            "\u001b[0;31m---------------------------------------------------------------------------\u001b[0m",
            "\u001b[0;31mKeyboardInterrupt\u001b[0m                         Traceback (most recent call last)",
            "\u001b[0;32m<ipython-input-49-0bf0ad509607>\u001b[0m in \u001b[0;36m<cell line: 10>\u001b[0;34m()\u001b[0m\n\u001b[1;32m     10\u001b[0m \u001b[0;32mfor\u001b[0m \u001b[0mnv\u001b[0m \u001b[0;32min\u001b[0m \u001b[0mnum_vec\u001b[0m\u001b[0;34m:\u001b[0m\u001b[0;34m\u001b[0m\u001b[0;34m\u001b[0m\u001b[0m\n\u001b[1;32m     11\u001b[0m     \u001b[0mclf\u001b[0m \u001b[0;34m=\u001b[0m \u001b[0mKNeighborsClassifier\u001b[0m\u001b[0;34m(\u001b[0m\u001b[0mn_neighbors\u001b[0m\u001b[0;34m=\u001b[0m\u001b[0mnv\u001b[0m\u001b[0;34m,\u001b[0m \u001b[0mweights\u001b[0m\u001b[0;34m=\u001b[0m\u001b[0;34m'distance'\u001b[0m\u001b[0;34m)\u001b[0m\u001b[0;34m\u001b[0m\u001b[0;34m\u001b[0m\u001b[0m\n\u001b[0;32m---> 12\u001b[0;31m     \u001b[0mscores\u001b[0m \u001b[0;34m=\u001b[0m \u001b[0mcross_validate\u001b[0m\u001b[0;34m(\u001b[0m\u001b[0mclf\u001b[0m\u001b[0;34m,\u001b[0m \u001b[0mtrain_preprocessed\u001b[0m\u001b[0;34m,\u001b[0m \u001b[0mtrain_df\u001b[0m\u001b[0;34m[\u001b[0m\u001b[0;34m'v1'\u001b[0m\u001b[0;34m]\u001b[0m\u001b[0;34m.\u001b[0m\u001b[0mvalues\u001b[0m\u001b[0;34m,\u001b[0m \u001b[0mscoring\u001b[0m\u001b[0;34m=\u001b[0m\u001b[0;34m'accuracy'\u001b[0m\u001b[0;34m,\u001b[0m \u001b[0mcv\u001b[0m\u001b[0;34m=\u001b[0m\u001b[0;36m10\u001b[0m\u001b[0;34m,\u001b[0m \u001b[0mreturn_train_score\u001b[0m\u001b[0;34m=\u001b[0m\u001b[0;32mTrue\u001b[0m\u001b[0;34m)\u001b[0m\u001b[0;34m\u001b[0m\u001b[0;34m\u001b[0m\u001b[0m\n\u001b[0m\u001b[1;32m     13\u001b[0m \u001b[0;34m\u001b[0m\u001b[0m\n\u001b[1;32m     14\u001b[0m     \u001b[0mtest_accuracy\u001b[0m\u001b[0;34m.\u001b[0m\u001b[0mappend\u001b[0m\u001b[0;34m(\u001b[0m\u001b[0mnp\u001b[0m\u001b[0;34m.\u001b[0m\u001b[0mmean\u001b[0m\u001b[0;34m(\u001b[0m\u001b[0mscores\u001b[0m\u001b[0;34m[\u001b[0m\u001b[0;34m'test_score'\u001b[0m\u001b[0;34m]\u001b[0m\u001b[0;34m)\u001b[0m\u001b[0;34m)\u001b[0m\u001b[0;34m\u001b[0m\u001b[0;34m\u001b[0m\u001b[0m\n",
            "\u001b[0;32m/usr/local/lib/python3.10/dist-packages/sklearn/model_selection/_validation.py\u001b[0m in \u001b[0;36mcross_validate\u001b[0;34m(estimator, X, y, groups, scoring, cv, n_jobs, verbose, fit_params, pre_dispatch, return_train_score, return_estimator, error_score)\u001b[0m\n\u001b[1;32m    264\u001b[0m     \u001b[0;31m# independent, and that it is pickle-able.\u001b[0m\u001b[0;34m\u001b[0m\u001b[0;34m\u001b[0m\u001b[0m\n\u001b[1;32m    265\u001b[0m     \u001b[0mparallel\u001b[0m \u001b[0;34m=\u001b[0m \u001b[0mParallel\u001b[0m\u001b[0;34m(\u001b[0m\u001b[0mn_jobs\u001b[0m\u001b[0;34m=\u001b[0m\u001b[0mn_jobs\u001b[0m\u001b[0;34m,\u001b[0m \u001b[0mverbose\u001b[0m\u001b[0;34m=\u001b[0m\u001b[0mverbose\u001b[0m\u001b[0;34m,\u001b[0m \u001b[0mpre_dispatch\u001b[0m\u001b[0;34m=\u001b[0m\u001b[0mpre_dispatch\u001b[0m\u001b[0;34m)\u001b[0m\u001b[0;34m\u001b[0m\u001b[0;34m\u001b[0m\u001b[0m\n\u001b[0;32m--> 266\u001b[0;31m     results = parallel(\n\u001b[0m\u001b[1;32m    267\u001b[0m         delayed(_fit_and_score)(\n\u001b[1;32m    268\u001b[0m             \u001b[0mclone\u001b[0m\u001b[0;34m(\u001b[0m\u001b[0mestimator\u001b[0m\u001b[0;34m)\u001b[0m\u001b[0;34m,\u001b[0m\u001b[0;34m\u001b[0m\u001b[0;34m\u001b[0m\u001b[0m\n",
            "\u001b[0;32m/usr/local/lib/python3.10/dist-packages/sklearn/utils/parallel.py\u001b[0m in \u001b[0;36m__call__\u001b[0;34m(self, iterable)\u001b[0m\n\u001b[1;32m     61\u001b[0m             \u001b[0;32mfor\u001b[0m \u001b[0mdelayed_func\u001b[0m\u001b[0;34m,\u001b[0m \u001b[0margs\u001b[0m\u001b[0;34m,\u001b[0m \u001b[0mkwargs\u001b[0m \u001b[0;32min\u001b[0m \u001b[0miterable\u001b[0m\u001b[0;34m\u001b[0m\u001b[0;34m\u001b[0m\u001b[0m\n\u001b[1;32m     62\u001b[0m         )\n\u001b[0;32m---> 63\u001b[0;31m         \u001b[0;32mreturn\u001b[0m \u001b[0msuper\u001b[0m\u001b[0;34m(\u001b[0m\u001b[0;34m)\u001b[0m\u001b[0;34m.\u001b[0m\u001b[0m__call__\u001b[0m\u001b[0;34m(\u001b[0m\u001b[0miterable_with_config\u001b[0m\u001b[0;34m)\u001b[0m\u001b[0;34m\u001b[0m\u001b[0;34m\u001b[0m\u001b[0m\n\u001b[0m\u001b[1;32m     64\u001b[0m \u001b[0;34m\u001b[0m\u001b[0m\n\u001b[1;32m     65\u001b[0m \u001b[0;34m\u001b[0m\u001b[0m\n",
            "\u001b[0;32m/usr/local/lib/python3.10/dist-packages/joblib/parallel.py\u001b[0m in \u001b[0;36m__call__\u001b[0;34m(self, iterable)\u001b[0m\n\u001b[1;32m   1916\u001b[0m             \u001b[0moutput\u001b[0m \u001b[0;34m=\u001b[0m \u001b[0mself\u001b[0m\u001b[0;34m.\u001b[0m\u001b[0m_get_sequential_output\u001b[0m\u001b[0;34m(\u001b[0m\u001b[0miterable\u001b[0m\u001b[0;34m)\u001b[0m\u001b[0;34m\u001b[0m\u001b[0;34m\u001b[0m\u001b[0m\n\u001b[1;32m   1917\u001b[0m             \u001b[0mnext\u001b[0m\u001b[0;34m(\u001b[0m\u001b[0moutput\u001b[0m\u001b[0;34m)\u001b[0m\u001b[0;34m\u001b[0m\u001b[0;34m\u001b[0m\u001b[0m\n\u001b[0;32m-> 1918\u001b[0;31m             \u001b[0;32mreturn\u001b[0m \u001b[0moutput\u001b[0m \u001b[0;32mif\u001b[0m \u001b[0mself\u001b[0m\u001b[0;34m.\u001b[0m\u001b[0mreturn_generator\u001b[0m \u001b[0;32melse\u001b[0m \u001b[0mlist\u001b[0m\u001b[0;34m(\u001b[0m\u001b[0moutput\u001b[0m\u001b[0;34m)\u001b[0m\u001b[0;34m\u001b[0m\u001b[0;34m\u001b[0m\u001b[0m\n\u001b[0m\u001b[1;32m   1919\u001b[0m \u001b[0;34m\u001b[0m\u001b[0m\n\u001b[1;32m   1920\u001b[0m         \u001b[0;31m# Let's create an ID that uniquely identifies the current call. If the\u001b[0m\u001b[0;34m\u001b[0m\u001b[0;34m\u001b[0m\u001b[0m\n",
            "\u001b[0;32m/usr/local/lib/python3.10/dist-packages/joblib/parallel.py\u001b[0m in \u001b[0;36m_get_sequential_output\u001b[0;34m(self, iterable)\u001b[0m\n\u001b[1;32m   1845\u001b[0m                 \u001b[0mself\u001b[0m\u001b[0;34m.\u001b[0m\u001b[0mn_dispatched_batches\u001b[0m \u001b[0;34m+=\u001b[0m \u001b[0;36m1\u001b[0m\u001b[0;34m\u001b[0m\u001b[0;34m\u001b[0m\u001b[0m\n\u001b[1;32m   1846\u001b[0m                 \u001b[0mself\u001b[0m\u001b[0;34m.\u001b[0m\u001b[0mn_dispatched_tasks\u001b[0m \u001b[0;34m+=\u001b[0m \u001b[0;36m1\u001b[0m\u001b[0;34m\u001b[0m\u001b[0;34m\u001b[0m\u001b[0m\n\u001b[0;32m-> 1847\u001b[0;31m                 \u001b[0mres\u001b[0m \u001b[0;34m=\u001b[0m \u001b[0mfunc\u001b[0m\u001b[0;34m(\u001b[0m\u001b[0;34m*\u001b[0m\u001b[0margs\u001b[0m\u001b[0;34m,\u001b[0m \u001b[0;34m**\u001b[0m\u001b[0mkwargs\u001b[0m\u001b[0;34m)\u001b[0m\u001b[0;34m\u001b[0m\u001b[0;34m\u001b[0m\u001b[0m\n\u001b[0m\u001b[1;32m   1848\u001b[0m                 \u001b[0mself\u001b[0m\u001b[0;34m.\u001b[0m\u001b[0mn_completed_tasks\u001b[0m \u001b[0;34m+=\u001b[0m \u001b[0;36m1\u001b[0m\u001b[0;34m\u001b[0m\u001b[0;34m\u001b[0m\u001b[0m\n\u001b[1;32m   1849\u001b[0m                 \u001b[0mself\u001b[0m\u001b[0;34m.\u001b[0m\u001b[0mprint_progress\u001b[0m\u001b[0;34m(\u001b[0m\u001b[0;34m)\u001b[0m\u001b[0;34m\u001b[0m\u001b[0;34m\u001b[0m\u001b[0m\n",
            "\u001b[0;32m/usr/local/lib/python3.10/dist-packages/sklearn/utils/parallel.py\u001b[0m in \u001b[0;36m__call__\u001b[0;34m(self, *args, **kwargs)\u001b[0m\n\u001b[1;32m    121\u001b[0m             \u001b[0mconfig\u001b[0m \u001b[0;34m=\u001b[0m \u001b[0;34m{\u001b[0m\u001b[0;34m}\u001b[0m\u001b[0;34m\u001b[0m\u001b[0;34m\u001b[0m\u001b[0m\n\u001b[1;32m    122\u001b[0m         \u001b[0;32mwith\u001b[0m \u001b[0mconfig_context\u001b[0m\u001b[0;34m(\u001b[0m\u001b[0;34m**\u001b[0m\u001b[0mconfig\u001b[0m\u001b[0;34m)\u001b[0m\u001b[0;34m:\u001b[0m\u001b[0;34m\u001b[0m\u001b[0;34m\u001b[0m\u001b[0m\n\u001b[0;32m--> 123\u001b[0;31m             \u001b[0;32mreturn\u001b[0m \u001b[0mself\u001b[0m\u001b[0;34m.\u001b[0m\u001b[0mfunction\u001b[0m\u001b[0;34m(\u001b[0m\u001b[0;34m*\u001b[0m\u001b[0margs\u001b[0m\u001b[0;34m,\u001b[0m \u001b[0;34m**\u001b[0m\u001b[0mkwargs\u001b[0m\u001b[0;34m)\u001b[0m\u001b[0;34m\u001b[0m\u001b[0;34m\u001b[0m\u001b[0m\n\u001b[0m",
            "\u001b[0;32m/usr/local/lib/python3.10/dist-packages/sklearn/model_selection/_validation.py\u001b[0m in \u001b[0;36m_fit_and_score\u001b[0;34m(estimator, X, y, scorer, train, test, verbose, parameters, fit_params, return_train_score, return_parameters, return_n_test_samples, return_times, return_estimator, split_progress, candidate_progress, error_score)\u001b[0m\n\u001b[1;32m    709\u001b[0m         \u001b[0mscore_time\u001b[0m \u001b[0;34m=\u001b[0m \u001b[0mtime\u001b[0m\u001b[0;34m.\u001b[0m\u001b[0mtime\u001b[0m\u001b[0;34m(\u001b[0m\u001b[0;34m)\u001b[0m \u001b[0;34m-\u001b[0m \u001b[0mstart_time\u001b[0m \u001b[0;34m-\u001b[0m \u001b[0mfit_time\u001b[0m\u001b[0;34m\u001b[0m\u001b[0;34m\u001b[0m\u001b[0m\n\u001b[1;32m    710\u001b[0m         \u001b[0;32mif\u001b[0m \u001b[0mreturn_train_score\u001b[0m\u001b[0;34m:\u001b[0m\u001b[0;34m\u001b[0m\u001b[0;34m\u001b[0m\u001b[0m\n\u001b[0;32m--> 711\u001b[0;31m             \u001b[0mtrain_scores\u001b[0m \u001b[0;34m=\u001b[0m \u001b[0m_score\u001b[0m\u001b[0;34m(\u001b[0m\u001b[0mestimator\u001b[0m\u001b[0;34m,\u001b[0m \u001b[0mX_train\u001b[0m\u001b[0;34m,\u001b[0m \u001b[0my_train\u001b[0m\u001b[0;34m,\u001b[0m \u001b[0mscorer\u001b[0m\u001b[0;34m,\u001b[0m \u001b[0merror_score\u001b[0m\u001b[0;34m)\u001b[0m\u001b[0;34m\u001b[0m\u001b[0;34m\u001b[0m\u001b[0m\n\u001b[0m\u001b[1;32m    712\u001b[0m \u001b[0;34m\u001b[0m\u001b[0m\n\u001b[1;32m    713\u001b[0m     \u001b[0;32mif\u001b[0m \u001b[0mverbose\u001b[0m \u001b[0;34m>\u001b[0m \u001b[0;36m1\u001b[0m\u001b[0;34m:\u001b[0m\u001b[0;34m\u001b[0m\u001b[0;34m\u001b[0m\u001b[0m\n",
            "\u001b[0;32m/usr/local/lib/python3.10/dist-packages/sklearn/model_selection/_validation.py\u001b[0m in \u001b[0;36m_score\u001b[0;34m(estimator, X_test, y_test, scorer, error_score)\u001b[0m\n\u001b[1;32m    765\u001b[0m             \u001b[0mscores\u001b[0m \u001b[0;34m=\u001b[0m \u001b[0mscorer\u001b[0m\u001b[0;34m(\u001b[0m\u001b[0mestimator\u001b[0m\u001b[0;34m,\u001b[0m \u001b[0mX_test\u001b[0m\u001b[0;34m)\u001b[0m\u001b[0;34m\u001b[0m\u001b[0;34m\u001b[0m\u001b[0m\n\u001b[1;32m    766\u001b[0m         \u001b[0;32melse\u001b[0m\u001b[0;34m:\u001b[0m\u001b[0;34m\u001b[0m\u001b[0;34m\u001b[0m\u001b[0m\n\u001b[0;32m--> 767\u001b[0;31m             \u001b[0mscores\u001b[0m \u001b[0;34m=\u001b[0m \u001b[0mscorer\u001b[0m\u001b[0;34m(\u001b[0m\u001b[0mestimator\u001b[0m\u001b[0;34m,\u001b[0m \u001b[0mX_test\u001b[0m\u001b[0;34m,\u001b[0m \u001b[0my_test\u001b[0m\u001b[0;34m)\u001b[0m\u001b[0;34m\u001b[0m\u001b[0;34m\u001b[0m\u001b[0m\n\u001b[0m\u001b[1;32m    768\u001b[0m     \u001b[0;32mexcept\u001b[0m \u001b[0mException\u001b[0m\u001b[0;34m:\u001b[0m\u001b[0;34m\u001b[0m\u001b[0;34m\u001b[0m\u001b[0m\n\u001b[1;32m    769\u001b[0m         \u001b[0;32mif\u001b[0m \u001b[0misinstance\u001b[0m\u001b[0;34m(\u001b[0m\u001b[0mscorer\u001b[0m\u001b[0;34m,\u001b[0m \u001b[0m_MultimetricScorer\u001b[0m\u001b[0;34m)\u001b[0m\u001b[0;34m:\u001b[0m\u001b[0;34m\u001b[0m\u001b[0;34m\u001b[0m\u001b[0m\n",
            "\u001b[0;32m/usr/local/lib/python3.10/dist-packages/sklearn/metrics/_scorer.py\u001b[0m in \u001b[0;36m__call__\u001b[0;34m(self, estimator, X, y_true, sample_weight)\u001b[0m\n\u001b[1;32m    232\u001b[0m             \u001b[0mScore\u001b[0m \u001b[0mfunction\u001b[0m \u001b[0mapplied\u001b[0m \u001b[0mto\u001b[0m \u001b[0mprediction\u001b[0m \u001b[0mof\u001b[0m \u001b[0mestimator\u001b[0m \u001b[0mon\u001b[0m \u001b[0mX\u001b[0m\u001b[0;34m.\u001b[0m\u001b[0;34m\u001b[0m\u001b[0;34m\u001b[0m\u001b[0m\n\u001b[1;32m    233\u001b[0m         \"\"\"\n\u001b[0;32m--> 234\u001b[0;31m         return self._score(\n\u001b[0m\u001b[1;32m    235\u001b[0m             \u001b[0mpartial\u001b[0m\u001b[0;34m(\u001b[0m\u001b[0m_cached_call\u001b[0m\u001b[0;34m,\u001b[0m \u001b[0;32mNone\u001b[0m\u001b[0;34m)\u001b[0m\u001b[0;34m,\u001b[0m\u001b[0;34m\u001b[0m\u001b[0;34m\u001b[0m\u001b[0m\n\u001b[1;32m    236\u001b[0m             \u001b[0mestimator\u001b[0m\u001b[0;34m,\u001b[0m\u001b[0;34m\u001b[0m\u001b[0;34m\u001b[0m\u001b[0m\n",
            "\u001b[0;32m/usr/local/lib/python3.10/dist-packages/sklearn/metrics/_scorer.py\u001b[0m in \u001b[0;36m_score\u001b[0;34m(self, method_caller, estimator, X, y_true, sample_weight)\u001b[0m\n\u001b[1;32m    274\u001b[0m         \"\"\"\n\u001b[1;32m    275\u001b[0m \u001b[0;34m\u001b[0m\u001b[0m\n\u001b[0;32m--> 276\u001b[0;31m         \u001b[0my_pred\u001b[0m \u001b[0;34m=\u001b[0m \u001b[0mmethod_caller\u001b[0m\u001b[0;34m(\u001b[0m\u001b[0mestimator\u001b[0m\u001b[0;34m,\u001b[0m \u001b[0;34m\"predict\"\u001b[0m\u001b[0;34m,\u001b[0m \u001b[0mX\u001b[0m\u001b[0;34m)\u001b[0m\u001b[0;34m\u001b[0m\u001b[0;34m\u001b[0m\u001b[0m\n\u001b[0m\u001b[1;32m    277\u001b[0m         \u001b[0;32mif\u001b[0m \u001b[0msample_weight\u001b[0m \u001b[0;32mis\u001b[0m \u001b[0;32mnot\u001b[0m \u001b[0;32mNone\u001b[0m\u001b[0;34m:\u001b[0m\u001b[0;34m\u001b[0m\u001b[0;34m\u001b[0m\u001b[0m\n\u001b[1;32m    278\u001b[0m             return self._sign * self._score_func(\n",
            "\u001b[0;32m/usr/local/lib/python3.10/dist-packages/sklearn/metrics/_scorer.py\u001b[0m in \u001b[0;36m_cached_call\u001b[0;34m(cache, estimator, method, *args, **kwargs)\u001b[0m\n\u001b[1;32m     71\u001b[0m     \u001b[0;34m\"\"\"Call estimator with method and args and kwargs.\"\"\"\u001b[0m\u001b[0;34m\u001b[0m\u001b[0;34m\u001b[0m\u001b[0m\n\u001b[1;32m     72\u001b[0m     \u001b[0;32mif\u001b[0m \u001b[0mcache\u001b[0m \u001b[0;32mis\u001b[0m \u001b[0;32mNone\u001b[0m\u001b[0;34m:\u001b[0m\u001b[0;34m\u001b[0m\u001b[0;34m\u001b[0m\u001b[0m\n\u001b[0;32m---> 73\u001b[0;31m         \u001b[0;32mreturn\u001b[0m \u001b[0mgetattr\u001b[0m\u001b[0;34m(\u001b[0m\u001b[0mestimator\u001b[0m\u001b[0;34m,\u001b[0m \u001b[0mmethod\u001b[0m\u001b[0;34m)\u001b[0m\u001b[0;34m(\u001b[0m\u001b[0;34m*\u001b[0m\u001b[0margs\u001b[0m\u001b[0;34m,\u001b[0m \u001b[0;34m**\u001b[0m\u001b[0mkwargs\u001b[0m\u001b[0;34m)\u001b[0m\u001b[0;34m\u001b[0m\u001b[0;34m\u001b[0m\u001b[0m\n\u001b[0m\u001b[1;32m     74\u001b[0m \u001b[0;34m\u001b[0m\u001b[0m\n\u001b[1;32m     75\u001b[0m     \u001b[0;32mtry\u001b[0m\u001b[0;34m:\u001b[0m\u001b[0;34m\u001b[0m\u001b[0;34m\u001b[0m\u001b[0m\n",
            "\u001b[0;32m/usr/local/lib/python3.10/dist-packages/sklearn/neighbors/_classification.py\u001b[0m in \u001b[0;36mpredict\u001b[0;34m(self, X)\u001b[0m\n\u001b[1;32m    235\u001b[0m             \u001b[0mneigh_dist\u001b[0m \u001b[0;34m=\u001b[0m \u001b[0;32mNone\u001b[0m\u001b[0;34m\u001b[0m\u001b[0;34m\u001b[0m\u001b[0m\n\u001b[1;32m    236\u001b[0m         \u001b[0;32melse\u001b[0m\u001b[0;34m:\u001b[0m\u001b[0;34m\u001b[0m\u001b[0;34m\u001b[0m\u001b[0m\n\u001b[0;32m--> 237\u001b[0;31m             \u001b[0mneigh_dist\u001b[0m\u001b[0;34m,\u001b[0m \u001b[0mneigh_ind\u001b[0m \u001b[0;34m=\u001b[0m \u001b[0mself\u001b[0m\u001b[0;34m.\u001b[0m\u001b[0mkneighbors\u001b[0m\u001b[0;34m(\u001b[0m\u001b[0mX\u001b[0m\u001b[0;34m)\u001b[0m\u001b[0;34m\u001b[0m\u001b[0;34m\u001b[0m\u001b[0m\n\u001b[0m\u001b[1;32m    238\u001b[0m \u001b[0;34m\u001b[0m\u001b[0m\n\u001b[1;32m    239\u001b[0m         \u001b[0mclasses_\u001b[0m \u001b[0;34m=\u001b[0m \u001b[0mself\u001b[0m\u001b[0;34m.\u001b[0m\u001b[0mclasses_\u001b[0m\u001b[0;34m\u001b[0m\u001b[0;34m\u001b[0m\u001b[0m\n",
            "\u001b[0;32m/usr/local/lib/python3.10/dist-packages/sklearn/neighbors/_base.py\u001b[0m in \u001b[0;36mkneighbors\u001b[0;34m(self, X, n_neighbors, return_distance)\u001b[0m\n\u001b[1;32m    822\u001b[0m         )\n\u001b[1;32m    823\u001b[0m         \u001b[0;32mif\u001b[0m \u001b[0muse_pairwise_distances_reductions\u001b[0m\u001b[0;34m:\u001b[0m\u001b[0;34m\u001b[0m\u001b[0;34m\u001b[0m\u001b[0m\n\u001b[0;32m--> 824\u001b[0;31m             results = ArgKmin.compute(\n\u001b[0m\u001b[1;32m    825\u001b[0m                 \u001b[0mX\u001b[0m\u001b[0;34m=\u001b[0m\u001b[0mX\u001b[0m\u001b[0;34m,\u001b[0m\u001b[0;34m\u001b[0m\u001b[0;34m\u001b[0m\u001b[0m\n\u001b[1;32m    826\u001b[0m                 \u001b[0mY\u001b[0m\u001b[0;34m=\u001b[0m\u001b[0mself\u001b[0m\u001b[0;34m.\u001b[0m\u001b[0m_fit_X\u001b[0m\u001b[0;34m,\u001b[0m\u001b[0;34m\u001b[0m\u001b[0;34m\u001b[0m\u001b[0m\n",
            "\u001b[0;32m/usr/local/lib/python3.10/dist-packages/sklearn/metrics/_pairwise_distances_reduction/_dispatcher.py\u001b[0m in \u001b[0;36mcompute\u001b[0;34m(cls, X, Y, k, metric, chunk_size, metric_kwargs, strategy, return_distance)\u001b[0m\n\u001b[1;32m    275\u001b[0m         \"\"\"\n\u001b[1;32m    276\u001b[0m         \u001b[0;32mif\u001b[0m \u001b[0mX\u001b[0m\u001b[0;34m.\u001b[0m\u001b[0mdtype\u001b[0m \u001b[0;34m==\u001b[0m \u001b[0mY\u001b[0m\u001b[0;34m.\u001b[0m\u001b[0mdtype\u001b[0m \u001b[0;34m==\u001b[0m \u001b[0mnp\u001b[0m\u001b[0;34m.\u001b[0m\u001b[0mfloat64\u001b[0m\u001b[0;34m:\u001b[0m\u001b[0;34m\u001b[0m\u001b[0;34m\u001b[0m\u001b[0m\n\u001b[0;32m--> 277\u001b[0;31m             return ArgKmin64.compute(\n\u001b[0m\u001b[1;32m    278\u001b[0m                 \u001b[0mX\u001b[0m\u001b[0;34m=\u001b[0m\u001b[0mX\u001b[0m\u001b[0;34m,\u001b[0m\u001b[0;34m\u001b[0m\u001b[0;34m\u001b[0m\u001b[0m\n\u001b[1;32m    279\u001b[0m                 \u001b[0mY\u001b[0m\u001b[0;34m=\u001b[0m\u001b[0mY\u001b[0m\u001b[0;34m,\u001b[0m\u001b[0;34m\u001b[0m\u001b[0;34m\u001b[0m\u001b[0m\n",
            "\u001b[0;32msklearn/metrics/_pairwise_distances_reduction/_argkmin.pyx\u001b[0m in \u001b[0;36msklearn.metrics._pairwise_distances_reduction._argkmin.ArgKmin64.compute\u001b[0;34m()\u001b[0m\n",
            "\u001b[0;32m/usr/local/lib/python3.10/dist-packages/threadpoolctl.py\u001b[0m in \u001b[0;36m__exit__\u001b[0;34m(self, type, value, traceback)\u001b[0m\n\u001b[1;32m    590\u001b[0m         \u001b[0;32mreturn\u001b[0m \u001b[0mself\u001b[0m\u001b[0;34m\u001b[0m\u001b[0;34m\u001b[0m\u001b[0m\n\u001b[1;32m    591\u001b[0m \u001b[0;34m\u001b[0m\u001b[0m\n\u001b[0;32m--> 592\u001b[0;31m     \u001b[0;32mdef\u001b[0m \u001b[0m__exit__\u001b[0m\u001b[0;34m(\u001b[0m\u001b[0mself\u001b[0m\u001b[0;34m,\u001b[0m \u001b[0mtype\u001b[0m\u001b[0;34m,\u001b[0m \u001b[0mvalue\u001b[0m\u001b[0;34m,\u001b[0m \u001b[0mtraceback\u001b[0m\u001b[0;34m)\u001b[0m\u001b[0;34m:\u001b[0m\u001b[0;34m\u001b[0m\u001b[0;34m\u001b[0m\u001b[0m\n\u001b[0m\u001b[1;32m    593\u001b[0m         \u001b[0mself\u001b[0m\u001b[0;34m.\u001b[0m\u001b[0mrestore_original_limits\u001b[0m\u001b[0;34m(\u001b[0m\u001b[0;34m)\u001b[0m\u001b[0;34m\u001b[0m\u001b[0;34m\u001b[0m\u001b[0m\n\u001b[1;32m    594\u001b[0m \u001b[0;34m\u001b[0m\u001b[0m\n",
            "\u001b[0;31mKeyboardInterrupt\u001b[0m: "
          ]
        }
      ]
    },
    {
      "cell_type": "markdown",
      "source": [
        "Como podemos apreciar este algoritmo comienza a perder precisión a partir de un valor del hiperparámetro muy bajo, `2`."
      ],
      "metadata": {
        "id": "DEG9Lakbz8yb"
      }
    },
    {
      "cell_type": "code",
      "source": [
        "knn_classifier = KNeighborsClassifier(n_neighbors=2, weights='distance')\n",
        "knn_classifier.fit(train_preprocessed, train_df['v1'].values)\n",
        "\n",
        "knn_train_predictions = knn_classifier.predict(train_preprocessed)\n",
        "knn_test_predictions = knn_classifier.predict(test_preprocessed)\n",
        "\n",
        "print(\"k-NN, porcentaje de aciertos en entrenamiento:\", np.mean(knn_train_predictions == train_df['v1'].values))\n",
        "print(\"k-NN, porcentaje de aciertos en test:\", np.mean(knn_test_predictions == test_df['v1'].values))"
      ],
      "metadata": {
        "colab": {
          "base_uri": "https://localhost:8080/"
        },
        "id": "_FoHtmf-0LKg",
        "outputId": "8acb17b9-2af7-450c-bfc2-e0f572a46d6f"
      },
      "execution_count": 52,
      "outputs": [
        {
          "output_type": "stream",
          "name": "stdout",
          "text": [
            "k-NN, porcentaje de aciertos en entrenamiento: 1.0\n",
            "k-NN, porcentaje de aciertos en test: 0.947085201793722\n"
          ]
        }
      ]
    },
    {
      "cell_type": "markdown",
      "source": [
        "A pesar de todo, este algoritmo sigue aportando un resultado más que aceptable."
      ],
      "metadata": {
        "id": "wxmWFjU00h72"
      }
    },
    {
      "cell_type": "markdown",
      "source": [
        "## Naive Bayes\n",
        "Como clasificador *Naive Bayes* usaremos el **Bernoulli** ya que es el más apto para clasificar documentos cortos y detectar contenido muy específico (como es en este caso ser o no *spam*). Ya que los datos que surgen de aplicar TF-IDF son continuos y este algoritmo necesita valores binarios, usaremos como hiperpárametro el *threshold* a partir del cuál se «binariza» un valor."
      ],
      "metadata": {
        "id": "49SDF9-jyPtz"
      }
    },
    {
      "cell_type": "code",
      "source": [
        "from sklearn.naive_bayes import BernoulliNB\n",
        "import matplotlib.pyplot as plt\n",
        "from sklearn.model_selection import cross_validate\n",
        "\n",
        "train_accuracy = []\n",
        "test_accuracy = []\n",
        "\n",
        "# Entrenamos y validamos varios thresholds\n",
        "thres = [x / 10 for x in range(0, 11)]\n",
        "for th in thres:\n",
        "    clf = BernoulliNB(binarize=th)\n",
        "    scores = cross_validate(clf, train_preprocessed, train_df['v1'].values, scoring='accuracy', cv=10, return_train_score=True)\n",
        "\n",
        "    train_accuracy.append(np.mean(scores['train_score']))\n",
        "    test_accuracy.append(np.mean(scores['test_score']))\n",
        "\n",
        "\n",
        "# Draw lines\n",
        "plt.plot(thres, train_accuracy, color=\"r\",  label=\"Training\")\n",
        "plt.plot(thres, test_accuracy, color=\"g\", label=\"Test\")\n",
        "\n",
        "# Create plot\n",
        "plt.title(\"Curva de aprendizaje\")\n",
        "plt.xlabel(\"Parametro\"), plt.ylabel(\"Accuracy Score\"), plt.legend(loc=\"best\")\n",
        "plt.tight_layout()\n",
        "plt.show()"
      ],
      "metadata": {
        "colab": {
          "base_uri": "https://localhost:8080/",
          "height": 487
        },
        "id": "rM_msft1zmcu",
        "outputId": "c18b491e-c105-420a-c190-8fab4e895888"
      },
      "execution_count": 53,
      "outputs": [
        {
          "output_type": "display_data",
          "data": {
            "text/plain": [
              "<Figure size 640x480 with 1 Axes>"
            ],
            "image/png": "[encoded data removed]"
          },
          "metadata": {}
        }
      ]
    },
    {
      "cell_type": "markdown",
      "source": [
        "Claramente, un valor bajo, `0.2`, es la mejor opción en este caso."
      ],
      "metadata": {
        "id": "aI_D4gEd2r4l"
      }
    },
    {
      "cell_type": "code",
      "source": [
        "bnb_classifier = BernoulliNB(binarize=0.2)\n",
        "\n",
        "bnb_classifier.fit(train_preprocessed, train_df['v1'].values)\n",
        "\n",
        "bnb_train_predictions = bnb_classifier.predict(train_preprocessed)\n",
        "bnb_test_predictions = bnb_classifier.predict(test_preprocessed)\n",
        "\n",
        "print(\"Multinomial Naive Bayes, porcentaje de aciertos en entrenamiento:\", np.mean(bnb_train_predictions == train_df['v1'].values))\n",
        "print(\"Multinomial Naive Bayes, porcentaje de aciertos en test:\", np.mean(bnb_test_predictions == test_df['v1'].values))"
      ],
      "metadata": {
        "colab": {
          "base_uri": "https://localhost:8080/"
        },
        "id": "mkNNsBCi2zAi",
        "outputId": "915e0cfa-b358-4ab4-8f8c-4c1533a02350"
      },
      "execution_count": 54,
      "outputs": [
        {
          "output_type": "stream",
          "name": "stdout",
          "text": [
            "Multinomial Naive Bayes, porcentaje de aciertos en entrenamiento: 0.9814537840263237\n",
            "Multinomial Naive Bayes, porcentaje de aciertos en test: 0.9614349775784753\n"
          ]
        }
      ]
    },
    {
      "cell_type": "markdown",
      "source": [
        "Este algoritmo aporta los mejores resultados sobre las métricas que comparamos teniendo un coste computacional sustancialmente menor."
      ],
      "metadata": {
        "id": "MDxJbgG03NrV"
      }
    },
    {
      "cell_type": "markdown",
      "metadata": {
        "id": "eV9JSByt4xHS"
      },
      "source": [
        "# 4) Construye redes neuronales con Keras con distintas maneras de usar word embeddings\n",
        "\n",
        "Justifica tus decisiones y explica los resultados obtenidos."
      ]
    },
    {
      "cell_type": "markdown",
      "source": [
        "A continuación, veremos distintas formas de usar word embeddings:"
      ],
      "metadata": {
        "id": "3vGA0fMxWCC-"
      }
    },
    {
      "cell_type": "code",
      "execution_count": 22,
      "metadata": {
        "colab": {
          "base_uri": "https://localhost:8080/"
        },
        "id": "jWi6XDaxBAom",
        "outputId": "7f33b005-820d-4aae-ac1c-0b19bf163eee"
      },
      "outputs": [
        {
          "output_type": "stream",
          "name": "stdout",
          "text": [
            "Se han encontrado 8407 tokens únicos.\n"
          ]
        }
      ],
      "source": [
        "from keras.preprocessing.text import Tokenizer\n",
        "from keras.utils import pad_sequences\n",
        "\n",
        "max_words = 1500\n",
        "max_comment_length = 20\n",
        "\n",
        "\n",
        "\n",
        "df1['v1'] = df1['v1'].replace({'ham': 1, 'spam': 0})\n",
        "\n",
        "\n",
        "tokenizer = Tokenizer(num_words=max_words)\n",
        "tokenizer.fit_on_texts(df1.v2)\n",
        "\n",
        "sequences = tokenizer.texts_to_sequences(df1.v2)\n",
        "\n",
        "word_index = tokenizer.word_index\n",
        "print('Se han encontrado %s tokens únicos.' % len(word_index))\n",
        "max_words = len(word_index)\n",
        "\n",
        "data = pad_sequences(sequences, maxlen=max_comment_length)"
      ]
    },
    {
      "cell_type": "code",
      "execution_count": 23,
      "metadata": {
        "colab": {
          "base_uri": "https://localhost:8080/"
        },
        "id": "ccvxgdjZ0NwO",
        "outputId": "b7f70ec8-64c1-4a07-e6d7-2b5ab10130c8"
      },
      "outputs": [
        {
          "output_type": "stream",
          "name": "stdout",
          "text": [
            "nah dont think goes usf lives around though\n",
            "[  0   0   0   0   0   0   0   0   0   0   0   0   0 815   6  44 356 763\n",
            " 119 357]\n",
            "1\n"
          ]
        }
      ],
      "source": [
        "print(df1.v2[4])\n",
        "print(data[4])\n",
        "print(df1.v1[4])"
      ]
    },
    {
      "cell_type": "code",
      "execution_count": 24,
      "metadata": {
        "colab": {
          "base_uri": "https://localhost:8080/"
        },
        "id": "vHUP_sBf9IQt",
        "outputId": "2ade1fe2-a0ca-4a44-ecca-800b3cc1a7a2"
      },
      "outputs": [
        {
          "output_type": "stream",
          "name": "stdout",
          "text": [
            "Textos de entrenamiento: 4457\n",
            "Testear textos: 1115\n"
          ]
        }
      ],
      "source": [
        "from sklearn.model_selection import train_test_split\n",
        "\n",
        "#valor de random state\n",
        "rs=333\n",
        "\n",
        "df1['v1'].replace({'ham': 1, 'spam': 0})\n",
        "d=df1.values\n",
        "\n",
        "x_train, x_test, y_train, y_test = train_test_split(data, df1.v1, test_size=0.20, random_state=rs, stratify = df1.v1)\n",
        "\n",
        "print(\"Textos de entrenamiento:\", len(y_train))\n",
        "print(\"Testear textos:\", len(y_test))"
      ]
    },
    {
      "cell_type": "code",
      "execution_count": 25,
      "metadata": {
        "id": "6YL5tXWuu1v6"
      },
      "outputs": [],
      "source": [
        "# Fijamos el tamaño de los embedding a 50 dimensiones\n",
        "\n",
        "embedding_dim = 50"
      ]
    },
    {
      "cell_type": "markdown",
      "source": [
        "###MODELO 1"
      ],
      "metadata": {
        "id": "5a_IPWx9NpPK"
      }
    },
    {
      "cell_type": "markdown",
      "source": [
        "En primer lugar, veamos como se comporta sin embeddings pre-entrenados."
      ],
      "metadata": {
        "id": "O_SERmdOWX19"
      }
    },
    {
      "cell_type": "code",
      "execution_count": 26,
      "metadata": {
        "colab": {
          "base_uri": "https://localhost:8080/"
        },
        "id": "2P1FmfpU5HXn",
        "outputId": "50a84758-f2e7-4209-d826-78e8b6edcede"
      },
      "outputs": [
        {
          "output_type": "stream",
          "name": "stdout",
          "text": [
            "Model: \"sequential\"\n",
            "_________________________________________________________________\n",
            " Layer (type)                Output Shape              Param #   \n",
            "=================================================================\n",
            " embedding (Embedding)       (None, 20, 50)            420350    \n",
            "                                                                 \n",
            " flatten (Flatten)           (None, 1000)              0         \n",
            "                                                                 \n",
            " dense (Dense)               (None, 1)                 1001      \n",
            "                                                                 \n",
            "=================================================================\n",
            "Total params: 421351 (1.61 MB)\n",
            "Trainable params: 421351 (1.61 MB)\n",
            "Non-trainable params: 0 (0.00 Byte)\n",
            "_________________________________________________________________\n",
            "Epoch 1/20\n",
            "140/140 [==============================] - 3s 16ms/step - loss: 0.3286 - accuracy: 0.8813 - val_loss: 0.1785 - val_accuracy: 0.9444\n",
            "Epoch 2/20\n",
            "140/140 [==============================] - 2s 13ms/step - loss: 0.1144 - accuracy: 0.9684 - val_loss: 0.0838 - val_accuracy: 0.9794\n",
            "Epoch 3/20\n",
            "140/140 [==============================] - 1s 9ms/step - loss: 0.0618 - accuracy: 0.9827 - val_loss: 0.0620 - val_accuracy: 0.9830\n",
            "Epoch 4/20\n",
            "140/140 [==============================] - 1s 7ms/step - loss: 0.0427 - accuracy: 0.9879 - val_loss: 0.0542 - val_accuracy: 0.9848\n",
            "Epoch 5/20\n",
            "140/140 [==============================] - 1s 8ms/step - loss: 0.0315 - accuracy: 0.9912 - val_loss: 0.0512 - val_accuracy: 0.9865\n",
            "Epoch 6/20\n",
            "140/140 [==============================] - 1s 8ms/step - loss: 0.0235 - accuracy: 0.9928 - val_loss: 0.0492 - val_accuracy: 0.9865\n",
            "Epoch 7/20\n",
            "140/140 [==============================] - 1s 7ms/step - loss: 0.0181 - accuracy: 0.9957 - val_loss: 0.0485 - val_accuracy: 0.9883\n",
            "Epoch 8/20\n",
            "140/140 [==============================] - 1s 8ms/step - loss: 0.0143 - accuracy: 0.9971 - val_loss: 0.0498 - val_accuracy: 0.9874\n",
            "Epoch 9/20\n",
            "140/140 [==============================] - 1s 8ms/step - loss: 0.0116 - accuracy: 0.9980 - val_loss: 0.0498 - val_accuracy: 0.9874\n",
            "Epoch 10/20\n",
            "140/140 [==============================] - 1s 8ms/step - loss: 0.0095 - accuracy: 0.9982 - val_loss: 0.0513 - val_accuracy: 0.9865\n",
            "Epoch 11/20\n",
            "140/140 [==============================] - 1s 8ms/step - loss: 0.0079 - accuracy: 0.9984 - val_loss: 0.0518 - val_accuracy: 0.9874\n",
            "Epoch 12/20\n",
            "140/140 [==============================] - 1s 9ms/step - loss: 0.0068 - accuracy: 0.9987 - val_loss: 0.0542 - val_accuracy: 0.9865\n",
            "Epoch 13/20\n",
            "140/140 [==============================] - 2s 12ms/step - loss: 0.0059 - accuracy: 0.9989 - val_loss: 0.0547 - val_accuracy: 0.9865\n",
            "Epoch 14/20\n",
            "140/140 [==============================] - 2s 12ms/step - loss: 0.0051 - accuracy: 0.9993 - val_loss: 0.0559 - val_accuracy: 0.9865\n",
            "Epoch 15/20\n",
            "140/140 [==============================] - 2s 11ms/step - loss: 0.0045 - accuracy: 0.9993 - val_loss: 0.0571 - val_accuracy: 0.9865\n",
            "Epoch 16/20\n",
            "140/140 [==============================] - 1s 8ms/step - loss: 0.0040 - accuracy: 0.9993 - val_loss: 0.0588 - val_accuracy: 0.9865\n",
            "Epoch 17/20\n",
            "140/140 [==============================] - 1s 8ms/step - loss: 0.0036 - accuracy: 0.9996 - val_loss: 0.0595 - val_accuracy: 0.9865\n",
            "Epoch 18/20\n",
            "140/140 [==============================] - 1s 7ms/step - loss: 0.0032 - accuracy: 0.9996 - val_loss: 0.0622 - val_accuracy: 0.9865\n",
            "Epoch 19/20\n",
            "140/140 [==============================] - 1s 8ms/step - loss: 0.0032 - accuracy: 0.9998 - val_loss: 0.0621 - val_accuracy: 0.9865\n",
            "Epoch 20/20\n",
            "140/140 [==============================] - 1s 8ms/step - loss: 0.0028 - accuracy: 0.9998 - val_loss: 0.0639 - val_accuracy: 0.9848\n",
            "35/35 [==============================] - 0s 2ms/step - loss: 0.0639 - accuracy: 0.9848\n",
            "Precisión: 98.48%\n"
          ]
        }
      ],
      "source": [
        "# MODELO 1. SIN EMBEDDINGS PRE-ENTRENADOS\n",
        "\n",
        "from keras.models import Sequential\n",
        "from keras.layers import Flatten, Dense, Embedding\n",
        "\n",
        "model1 = Sequential()\n",
        "\n",
        "model1.add(Embedding(max_words, embedding_dim, input_length=max_comment_length))\n",
        "\n",
        "model1.add(Flatten())\n",
        "\n",
        "# Añadimos el clasificador\n",
        "model1.add(Dense(1, activation='sigmoid'))\n",
        "\n",
        "model1.compile(optimizer='adam', loss='binary_crossentropy', metrics=['accuracy'])\n",
        "model1.summary()\n",
        "\n",
        "history = model1.fit(x_train, y_train,\n",
        "                    epochs=20,\n",
        "                    batch_size=32,\n",
        "                    validation_data=(x_test, y_test))\n",
        "\n",
        "score1 = model1.evaluate(x_test, y_test)\n",
        "\n",
        "print(\"Precisión: %.2f%%\" % (score1[1]*100))"
      ]
    },
    {
      "cell_type": "markdown",
      "source": [
        "Como podemos observar, utilizando una capa de embedding la precisión es del 98.74 %."
      ],
      "metadata": {
        "id": "Cm5hEqHyWcdb"
      }
    },
    {
      "cell_type": "markdown",
      "source": [
        "#### EMBEDDINGS PRE-ENTRENADOS"
      ],
      "metadata": {
        "id": "lpRDcjKYS_PC"
      }
    },
    {
      "cell_type": "markdown",
      "source": [
        "Ahora utilizaremos un embeddings pre-entrenados. Para ellos, haremos uso del word embedding GloVe"
      ],
      "metadata": {
        "id": "9DHX8dQ6W8JK"
      }
    },
    {
      "cell_type": "code",
      "execution_count": 27,
      "metadata": {
        "colab": {
          "base_uri": "https://localhost:8080/"
        },
        "id": "fEZv4hve5HXr",
        "outputId": "eaf8842e-eaf6-41ba-9ed3-ccc4b994ab58"
      },
      "outputs": [
        {
          "output_type": "stream",
          "name": "stdout",
          "text": [
            "Se han encontrado 0 vectores de palabras.\n"
          ]
        }
      ],
      "source": [
        "import os\n",
        "import numpy as np\n",
        "\n",
        "glove_dir = '/content/drive/MyDrive/'\n",
        "\n",
        "embeddings_index = {}\n",
        "f = open(os.path.join(glove_dir, 'glove.6B.50d.txt'))\n",
        "for line in f:\n",
        "    values = line.split()\n",
        "    word = values[0]\n",
        "    coefs = np.asarray(values[1:], dtype='float32')\n",
        "    embeddings_index[word] = coefs\n",
        "f.close()\n",
        "\n",
        "print('Se han encontrado %s vectores de palabras.' % len(embeddings_index))"
      ]
    },
    {
      "cell_type": "code",
      "execution_count": 28,
      "metadata": {
        "collapsed": true,
        "id": "m5Zs0sIU5HXs"
      },
      "outputs": [],
      "source": [
        "embedding_dim = 50\n",
        "\n",
        "embedding_matrix = np.zeros((max_words, embedding_dim))\n",
        "for word, i in word_index.items():\n",
        "    embedding_vector = embeddings_index.get(word)\n",
        "    if i < max_words:\n",
        "        if embedding_vector is not None:\n",
        "            # La palabras no encontradas serán 0.\n",
        "            embedding_matrix[i] = embedding_vector"
      ]
    },
    {
      "cell_type": "markdown",
      "source": [
        "### MODELO 2"
      ],
      "metadata": {
        "id": "goJ9ls22N8K7"
      }
    },
    {
      "cell_type": "markdown",
      "metadata": {
        "id": "Zqvm9DNK5HXs"
      },
      "source": [
        "#### Definimos un modelo\n",
        "\n",
        "Usaremos la misma arquitectura de modelo que antes:"
      ]
    },
    {
      "cell_type": "code",
      "execution_count": 29,
      "metadata": {
        "colab": {
          "base_uri": "https://localhost:8080/"
        },
        "id": "QnP6jLBR5HXs",
        "outputId": "1f2832b3-b6d2-4575-a440-12902060d227"
      },
      "outputs": [
        {
          "output_type": "stream",
          "name": "stdout",
          "text": [
            "Model: \"sequential_1\"\n",
            "_________________________________________________________________\n",
            " Layer (type)                Output Shape              Param #   \n",
            "=================================================================\n",
            " embedding_1 (Embedding)     (None, 20, 50)            420350    \n",
            "                                                                 \n",
            " flatten_1 (Flatten)         (None, 1000)              0         \n",
            "                                                                 \n",
            " dense_1 (Dense)             (None, 1)                 1001      \n",
            "                                                                 \n",
            "=================================================================\n",
            "Total params: 421351 (1.61 MB)\n",
            "Trainable params: 421351 (1.61 MB)\n",
            "Non-trainable params: 0 (0.00 Byte)\n",
            "_________________________________________________________________\n"
          ]
        }
      ],
      "source": [
        "# MODELO 2. EMBEDDINGS PRE-ENTRENADOS CONGELADOS\n",
        "\n",
        "from keras.models import Sequential\n",
        "from keras.layers import Embedding, Flatten, Dense\n",
        "\n",
        "model2 = Sequential()\n",
        "model2.add(Embedding(max_words, embedding_dim, input_length=max_comment_length))\n",
        "model2.add(Flatten())\n",
        "model2.add(Dense(1, activation='sigmoid'))\n",
        "model2.summary()"
      ]
    },
    {
      "cell_type": "markdown",
      "source": [
        "La capa de Embedding tiene una sola matriz de pesos, una matriz bidimensional donde cada entrada i es el vector de palabras asociadas al índice i. Procedamos a cargar dicha matriz:"
      ],
      "metadata": {
        "id": "OicO7PGJXMFY"
      }
    },
    {
      "cell_type": "code",
      "execution_count": 30,
      "metadata": {
        "collapsed": true,
        "id": "x38tZ6Fn5HXs"
      },
      "outputs": [],
      "source": [
        "model2.layers[0].set_weights([embedding_matrix])\n",
        "model2.layers[0].trainable = False"
      ]
    },
    {
      "cell_type": "markdown",
      "metadata": {
        "id": "HcWGxxEU5HXt"
      },
      "source": [
        "#### Entrenar y evaluar\n",
        "\n",
        "Compilemos nuestro modelo y evaluémoslo."
      ]
    },
    {
      "cell_type": "code",
      "execution_count": 31,
      "metadata": {
        "colab": {
          "base_uri": "https://localhost:8080/"
        },
        "id": "EMK_DYeI5HXt",
        "outputId": "5d8075fe-e219-4e19-efaf-f3ede4c55346"
      },
      "outputs": [
        {
          "output_type": "stream",
          "name": "stdout",
          "text": [
            "Epoch 1/20\n",
            "140/140 [==============================] - 1s 4ms/step - loss: 0.6684 - accuracy: 0.8609 - val_loss: 0.6447 - val_accuracy: 0.8664\n",
            "Epoch 2/20\n",
            "140/140 [==============================] - 0s 3ms/step - loss: 0.6242 - accuracy: 0.8658 - val_loss: 0.6040 - val_accuracy: 0.8664\n",
            "Epoch 3/20\n",
            "140/140 [==============================] - 1s 5ms/step - loss: 0.5865 - accuracy: 0.8658 - val_loss: 0.5693 - val_accuracy: 0.8664\n",
            "Epoch 4/20\n",
            "140/140 [==============================] - 1s 4ms/step - loss: 0.5544 - accuracy: 0.8658 - val_loss: 0.5395 - val_accuracy: 0.8664\n",
            "Epoch 5/20\n",
            "140/140 [==============================] - 1s 4ms/step - loss: 0.5271 - accuracy: 0.8658 - val_loss: 0.5145 - val_accuracy: 0.8664\n",
            "Epoch 6/20\n",
            "140/140 [==============================] - 2s 13ms/step - loss: 0.5040 - accuracy: 0.8658 - val_loss: 0.4932 - val_accuracy: 0.8664\n",
            "Epoch 7/20\n",
            "140/140 [==============================] - 1s 5ms/step - loss: 0.4845 - accuracy: 0.8658 - val_loss: 0.4753 - val_accuracy: 0.8664\n",
            "Epoch 8/20\n",
            "140/140 [==============================] - 1s 4ms/step - loss: 0.4682 - accuracy: 0.8658 - val_loss: 0.4605 - val_accuracy: 0.8664\n",
            "Epoch 9/20\n",
            "140/140 [==============================] - 0s 3ms/step - loss: 0.4545 - accuracy: 0.8658 - val_loss: 0.4477 - val_accuracy: 0.8664\n",
            "Epoch 10/20\n",
            "140/140 [==============================] - 0s 3ms/step - loss: 0.4431 - accuracy: 0.8658 - val_loss: 0.4375 - val_accuracy: 0.8664\n",
            "Epoch 11/20\n",
            "140/140 [==============================] - 0s 3ms/step - loss: 0.4336 - accuracy: 0.8658 - val_loss: 0.4287 - val_accuracy: 0.8664\n",
            "Epoch 12/20\n",
            "140/140 [==============================] - 0s 3ms/step - loss: 0.4259 - accuracy: 0.8658 - val_loss: 0.4218 - val_accuracy: 0.8664\n",
            "Epoch 13/20\n",
            "140/140 [==============================] - 0s 3ms/step - loss: 0.4195 - accuracy: 0.8658 - val_loss: 0.4160 - val_accuracy: 0.8664\n",
            "Epoch 14/20\n",
            "140/140 [==============================] - 0s 3ms/step - loss: 0.4142 - accuracy: 0.8658 - val_loss: 0.4112 - val_accuracy: 0.8664\n",
            "Epoch 15/20\n",
            "140/140 [==============================] - 0s 2ms/step - loss: 0.4099 - accuracy: 0.8658 - val_loss: 0.4074 - val_accuracy: 0.8664\n",
            "Epoch 16/20\n",
            "140/140 [==============================] - 0s 3ms/step - loss: 0.4065 - accuracy: 0.8658 - val_loss: 0.4042 - val_accuracy: 0.8664\n",
            "Epoch 17/20\n",
            "140/140 [==============================] - 0s 3ms/step - loss: 0.4037 - accuracy: 0.8658 - val_loss: 0.4017 - val_accuracy: 0.8664\n",
            "Epoch 18/20\n",
            "140/140 [==============================] - 0s 2ms/step - loss: 0.4015 - accuracy: 0.8658 - val_loss: 0.3997 - val_accuracy: 0.8664\n",
            "Epoch 19/20\n",
            "140/140 [==============================] - 0s 3ms/step - loss: 0.3997 - accuracy: 0.8658 - val_loss: 0.3981 - val_accuracy: 0.8664\n",
            "Epoch 20/20\n",
            "140/140 [==============================] - 0s 3ms/step - loss: 0.3984 - accuracy: 0.8658 - val_loss: 0.3969 - val_accuracy: 0.8664\n",
            "35/35 [==============================] - 0s 2ms/step - loss: 0.3969 - accuracy: 0.8664\n",
            "Precisión: 86.64%\n"
          ]
        }
      ],
      "source": [
        "model2.compile(optimizer='adam',\n",
        "              loss='binary_crossentropy',\n",
        "              metrics=['accuracy'])\n",
        "\n",
        "history = model2.fit(x_train, y_train,\n",
        "                    epochs=20,\n",
        "                    batch_size=32,\n",
        "                    validation_data=(x_test, y_test))\n",
        "\n",
        "score2 = model2.evaluate(x_test, y_test)\n",
        "print(\"Precisión: %.2f%%\" % (score2[1]*100))"
      ]
    },
    {
      "cell_type": "markdown",
      "source": [
        "Obtenemos un 86,64 % de precisión con el modelo pre-procesado congelado."
      ],
      "metadata": {
        "id": "mApnpYuIXvpk"
      }
    },
    {
      "cell_type": "markdown",
      "source": [
        "### MODELO 3"
      ],
      "metadata": {
        "id": "EOvSnamPOABV"
      }
    },
    {
      "cell_type": "markdown",
      "source": [
        "También podemos entrenar el mismo modelo sin congelar la capa de embedding."
      ],
      "metadata": {
        "id": "RV_kbXbqQr9Y"
      }
    },
    {
      "cell_type": "code",
      "execution_count": 32,
      "metadata": {
        "colab": {
          "base_uri": "https://localhost:8080/"
        },
        "id": "QtegIcSE5HXu",
        "outputId": "d7c63e58-caff-443c-b741-7c048731d594"
      },
      "outputs": [
        {
          "output_type": "stream",
          "name": "stdout",
          "text": [
            "Model: \"sequential_2\"\n",
            "_________________________________________________________________\n",
            " Layer (type)                Output Shape              Param #   \n",
            "=================================================================\n",
            " embedding_2 (Embedding)     (None, 20, 50)            420350    \n",
            "                                                                 \n",
            " flatten_2 (Flatten)         (None, 1000)              0         \n",
            "                                                                 \n",
            " dense_2 (Dense)             (None, 1)                 1001      \n",
            "                                                                 \n",
            "=================================================================\n",
            "Total params: 421351 (1.61 MB)\n",
            "Trainable params: 421351 (1.61 MB)\n",
            "Non-trainable params: 0 (0.00 Byte)\n",
            "_________________________________________________________________\n",
            "Epoch 1/20\n",
            "140/140 [==============================] - 2s 9ms/step - loss: 0.3228 - accuracy: 0.8869 - val_loss: 0.1523 - val_accuracy: 0.9596\n",
            "Epoch 2/20\n",
            "140/140 [==============================] - 1s 9ms/step - loss: 0.0971 - accuracy: 0.9740 - val_loss: 0.0743 - val_accuracy: 0.9794\n",
            "Epoch 3/20\n",
            "140/140 [==============================] - 1s 8ms/step - loss: 0.0541 - accuracy: 0.9852 - val_loss: 0.0574 - val_accuracy: 0.9848\n",
            "Epoch 4/20\n",
            "140/140 [==============================] - 1s 9ms/step - loss: 0.0374 - accuracy: 0.9895 - val_loss: 0.0511 - val_accuracy: 0.9865\n",
            "Epoch 5/20\n",
            "140/140 [==============================] - 2s 12ms/step - loss: 0.0269 - accuracy: 0.9924 - val_loss: 0.0485 - val_accuracy: 0.9865\n",
            "Epoch 6/20\n",
            "140/140 [==============================] - 2s 13ms/step - loss: 0.0199 - accuracy: 0.9942 - val_loss: 0.0479 - val_accuracy: 0.9865\n",
            "Epoch 7/20\n",
            "140/140 [==============================] - 2s 12ms/step - loss: 0.0153 - accuracy: 0.9957 - val_loss: 0.0488 - val_accuracy: 0.9865\n",
            "Epoch 8/20\n",
            "140/140 [==============================] - 1s 8ms/step - loss: 0.0118 - accuracy: 0.9975 - val_loss: 0.0488 - val_accuracy: 0.9874\n",
            "Epoch 9/20\n",
            "140/140 [==============================] - 1s 8ms/step - loss: 0.0098 - accuracy: 0.9980 - val_loss: 0.0497 - val_accuracy: 0.9883\n",
            "Epoch 10/20\n",
            "140/140 [==============================] - 1s 8ms/step - loss: 0.0080 - accuracy: 0.9984 - val_loss: 0.0511 - val_accuracy: 0.9883\n",
            "Epoch 11/20\n",
            "140/140 [==============================] - 1s 8ms/step - loss: 0.0066 - accuracy: 0.9989 - val_loss: 0.0540 - val_accuracy: 0.9865\n",
            "Epoch 12/20\n",
            "140/140 [==============================] - 1s 8ms/step - loss: 0.0058 - accuracy: 0.9989 - val_loss: 0.0546 - val_accuracy: 0.9874\n",
            "Epoch 13/20\n",
            "140/140 [==============================] - 1s 8ms/step - loss: 0.0049 - accuracy: 0.9993 - val_loss: 0.0554 - val_accuracy: 0.9883\n",
            "Epoch 14/20\n",
            "140/140 [==============================] - 1s 8ms/step - loss: 0.0044 - accuracy: 0.9993 - val_loss: 0.0571 - val_accuracy: 0.9883\n",
            "Epoch 15/20\n",
            "140/140 [==============================] - 1s 8ms/step - loss: 0.0040 - accuracy: 0.9993 - val_loss: 0.0583 - val_accuracy: 0.9883\n",
            "Epoch 16/20\n",
            "140/140 [==============================] - 1s 9ms/step - loss: 0.0036 - accuracy: 0.9996 - val_loss: 0.0596 - val_accuracy: 0.9883\n",
            "Epoch 17/20\n",
            "140/140 [==============================] - 2s 12ms/step - loss: 0.0033 - accuracy: 0.9996 - val_loss: 0.0616 - val_accuracy: 0.9865\n",
            "Epoch 18/20\n",
            "140/140 [==============================] - 2s 13ms/step - loss: 0.0029 - accuracy: 0.9993 - val_loss: 0.0637 - val_accuracy: 0.9857\n",
            "Epoch 19/20\n",
            "140/140 [==============================] - 1s 10ms/step - loss: 0.0028 - accuracy: 0.9998 - val_loss: 0.0639 - val_accuracy: 0.9865\n",
            "Epoch 20/20\n",
            "140/140 [==============================] - 1s 8ms/step - loss: 0.0026 - accuracy: 0.9998 - val_loss: 0.0652 - val_accuracy: 0.9874\n",
            "35/35 [==============================] - 0s 2ms/step - loss: 0.0652 - accuracy: 0.9874\n",
            "Precisión: 98.74%\n"
          ]
        }
      ],
      "source": [
        "# MODELO3. EMBEDDINGS PREENTRENADOS SIN CONGELAR\n",
        "\n",
        "from keras.models import Sequential\n",
        "from keras.layers import Embedding, Flatten, Dense\n",
        "\n",
        "model3 = Sequential()\n",
        "model3.add(Embedding(max_words, embedding_dim, input_length=max_comment_length))\n",
        "model3.add(Flatten())\n",
        "model3.add(Dense(1, activation='sigmoid'))\n",
        "model3.summary()\n",
        "\n",
        "model3.layers[0].set_weights([embedding_matrix])\n",
        "model3.layers[0].trainable = True\n",
        "\n",
        "model3.compile(optimizer='adam',\n",
        "              loss='binary_crossentropy',\n",
        "              metrics=['accuracy'])\n",
        "history = model3.fit(x_train, y_train,\n",
        "                    epochs=20,\n",
        "                    batch_size=32,\n",
        "                    validation_data=(x_test, y_test))\n",
        "\n",
        "score3 = model3.evaluate(x_test, y_test)\n",
        "print(\"Precisión: %.2f%%\" % (score3[1]*100))"
      ]
    },
    {
      "cell_type": "markdown",
      "source": [
        "En este caso, con el modelo pre-procesado sin congelar obtenemos un 98.74 % de precisión."
      ],
      "metadata": {
        "id": "IMgOILcpYHCP"
      }
    },
    {
      "cell_type": "markdown",
      "source": [
        "### RESUMEN DE LOS RESULTADOS"
      ],
      "metadata": {
        "id": "pBlUzXYuOHDA"
      }
    },
    {
      "cell_type": "code",
      "execution_count": 33,
      "metadata": {
        "colab": {
          "base_uri": "https://localhost:8080/"
        },
        "id": "PG05YT6hssVI",
        "outputId": "fc4add38-da02-435d-bdb6-f8af3720297a"
      },
      "outputs": [
        {
          "output_type": "stream",
          "name": "stdout",
          "text": [
            "Sin word embeddings pre-entrenados\n",
            "Precisión: 98.48%\n",
            "Con word embeddings pre-entrenados congelados\n",
            "Precisión: 86.64%\n",
            "Con word embeddings pre-entrenados sin congelar\n",
            "Precisión: 98.74%\n"
          ]
        }
      ],
      "source": [
        "print(\"Sin word embeddings pre-entrenados\")\n",
        "print(\"Precisión: %.2f%%\" % (score1[1]*100))\n",
        "print(\"Con word embeddings pre-entrenados congelados\")\n",
        "print(\"Precisión: %.2f%%\" % (score2[1]*100))\n",
        "print(\"Con word embeddings pre-entrenados sin congelar\")\n",
        "print(\"Precisión: %.2f%%\" % (score3[1]*100))"
      ]
    },
    {
      "cell_type": "markdown",
      "metadata": {
        "id": "r180VgcW4xHT"
      },
      "source": [
        "# 5) Aplica los modelos construidos a los datos de test y compáralos.\n",
        "\n",
        "Calcula las métricas de recall, precisión y f1.\n",
        "Discute cual es el mejor modelo y cual es peor y porqué."
      ]
    },
    {
      "cell_type": "markdown",
      "metadata": {
        "id": "CwDBPcs8PjvI"
      },
      "source": [
        "\n",
        "\n",
        "En un problema de clasificación multiclase suele ser muy interesante analizar el rendimiento de la clasificación en cada una de las clases\n",
        "\n",
        "Esto nos permite analizar en qué clases funciona mejor o peor el clasificador, de acuerdo a métricas como la precisión (cuando predice dicha clase cuánto acierta) y la exhaustividad  (cuántos ejemplos de una clase predice correctamente). También podemos ver la media (armònica) entre ambas medidas (F1 score).\n",
        "\n",
        "\n",
        "---\n",
        "\n"
      ]
    },
    {
      "cell_type": "markdown",
      "source": [
        "### Árbol de decisión"
      ],
      "metadata": {
        "id": "m7UwODUVeu6V"
      }
    },
    {
      "cell_type": "code",
      "source": [
        "from sklearn.metrics import classification_report, confusion_matrix\n",
        "\n",
        "print(\"Report de entrenamiento:\")\n",
        "print(classification_report(train_df['v1'].values, tree_train_predictions))\n",
        "\n",
        "print(\"Report de test:\")\n",
        "print(classification_report(test_df['v1'].values, tree_test_predictions))"
      ],
      "metadata": {
        "id": "VpfasKRze2ta",
        "colab": {
          "base_uri": "https://localhost:8080/"
        },
        "outputId": "5a55e675-75a8-4d89-ed9f-3a5ec5f60f85"
      },
      "execution_count": 57,
      "outputs": [
        {
          "output_type": "stream",
          "name": "stdout",
          "text": [
            "Report de entrenamiento:\n",
            "              precision    recall  f1-score   support\n",
            "\n",
            "         ham       0.96      1.00      0.98      2905\n",
            "        spam       0.99      0.75      0.85       438\n",
            "\n",
            "    accuracy                           0.97      3343\n",
            "   macro avg       0.98      0.87      0.92      3343\n",
            "weighted avg       0.97      0.97      0.96      3343\n",
            "\n",
            "Report de test:\n",
            "              precision    recall  f1-score   support\n",
            "\n",
            "         ham       0.94      0.99      0.96       959\n",
            "        spam       0.94      0.59      0.72       156\n",
            "\n",
            "    accuracy                           0.94      1115\n",
            "   macro avg       0.94      0.79      0.84      1115\n",
            "weighted avg       0.94      0.94      0.93      1115\n",
            "\n"
          ]
        }
      ]
    },
    {
      "cell_type": "markdown",
      "source": [
        "Tras usar los árboles de decisión, podemos apreciar que en el test la clase \"ham\" tiene una gran precisón, recall y f1 score. No obstante, la clase \"spam\", pese a tener una precisón igual, es decir, que se han encontrado rasgos distintivos para su identificación, lo cierto es que el recall y es mucho menor, lo cual significa que se tiende a confundir con otros.\n",
        "En general, como veremos ahora, no ha sido el mejor de todos los modelos, ya que hay otros que han conseguido un mejor resultado."
      ],
      "metadata": {
        "id": "PUlpT3pkHXPs"
      }
    },
    {
      "cell_type": "markdown",
      "source": [
        "### K-NN"
      ],
      "metadata": {
        "id": "4Oue7bw6eb5b"
      }
    },
    {
      "cell_type": "code",
      "execution_count": 58,
      "metadata": {
        "outputId": "3ac9ffc3-5f25-40d3-c2d5-8d9217b683fb",
        "colab": {
          "base_uri": "https://localhost:8080/"
        },
        "id": "43flM_TFelDa"
      },
      "outputs": [
        {
          "output_type": "stream",
          "name": "stdout",
          "text": [
            "Report de entrenamiento:\n",
            "              precision    recall  f1-score   support\n",
            "\n",
            "         ham       1.00      1.00      1.00      2905\n",
            "        spam       1.00      1.00      1.00       438\n",
            "\n",
            "    accuracy                           1.00      3343\n",
            "   macro avg       1.00      1.00      1.00      3343\n",
            "weighted avg       1.00      1.00      1.00      3343\n",
            "\n",
            "Report de test:\n",
            "              precision    recall  f1-score   support\n",
            "\n",
            "         ham       0.94      1.00      0.97       959\n",
            "        spam       1.00      0.62      0.77       156\n",
            "\n",
            "    accuracy                           0.95      1115\n",
            "   macro avg       0.97      0.81      0.87      1115\n",
            "weighted avg       0.95      0.95      0.94      1115\n",
            "\n"
          ]
        }
      ],
      "source": [
        "from sklearn.metrics import classification_report, confusion_matrix\n",
        "print(\"Report de entrenamiento:\")\n",
        "print(classification_report(train_df['v1'].values, knn_train_predictions))\n",
        "\n",
        "print(\"Report de test:\")\n",
        "print(classification_report(test_df['v1'].values, knn_test_predictions))"
      ]
    },
    {
      "cell_type": "markdown",
      "source": [
        "Tras usar K-NN, podemos apreciar que en el test la clase \"ham\" tiene una gran precisón, recall y f1 score. No obstante, la clase \"spam\", pese a tener una precisón incluso superior, es decir, que se han encontrado rasgos distintivos para su identificación, lo cierto es que el recall y es mucho menor, lo cual significa que se tiende a confundir con otros.\n",
        "En general, podemos apreciar que ha conseguido resultados ligeramente superirores al modelo anterior."
      ],
      "metadata": {
        "id": "uqjPkxcUH_gd"
      }
    },
    {
      "cell_type": "markdown",
      "source": [
        "### Naive Bayes"
      ],
      "metadata": {
        "id": "btce_mnUeq72"
      }
    },
    {
      "cell_type": "code",
      "execution_count": 59,
      "metadata": {
        "id": "2j9gcgzdPjvI",
        "outputId": "378ce1e3-e79c-4ae1-8e0f-4a8f13db99d9",
        "colab": {
          "base_uri": "https://localhost:8080/"
        }
      },
      "outputs": [
        {
          "output_type": "stream",
          "name": "stdout",
          "text": [
            "Report de entrenamiento:\n",
            "              precision    recall  f1-score   support\n",
            "\n",
            "         ham       0.98      1.00      0.99      2905\n",
            "        spam       1.00      0.86      0.92       438\n",
            "\n",
            "    accuracy                           0.98      3343\n",
            "   macro avg       0.99      0.93      0.96      3343\n",
            "weighted avg       0.98      0.98      0.98      3343\n",
            "\n",
            "Report de test:\n",
            "              precision    recall  f1-score   support\n",
            "\n",
            "         ham       0.96      1.00      0.98       959\n",
            "        spam       1.00      0.72      0.84       156\n",
            "\n",
            "    accuracy                           0.96      1115\n",
            "   macro avg       0.98      0.86      0.91      1115\n",
            "weighted avg       0.96      0.96      0.96      1115\n",
            "\n"
          ]
        }
      ],
      "source": [
        "from sklearn.metrics import classification_report, confusion_matrix\n",
        "print(\"Report de entrenamiento:\")\n",
        "print(classification_report(train_df['v1'].values, bnb_train_predictions))\n",
        "\n",
        "print(\"Report de test:\")\n",
        "print(classification_report(test_df['v1'].values, bnb_test_predictions))"
      ]
    },
    {
      "cell_type": "markdown",
      "source": [
        "Tras usar naive bayes, podemos apreciar que en el test la clase \"ham\" tiene una gran precisón, recall y f1 score. Por otro lado, la clase \"spam\", pese a tener una precisón superior, es decir, que se han encontrado rasgos distintivos para su identificación, lo cierto es que el recall y es menor, lo cual significa que se tiende a confundir con otros.\n",
        "En general, es el modelo más preciso entre los que hemos visto, ya que consigue un papel mejor a la hora de identificar la clase \"spam\" respecto a los modelos anteriores."
      ],
      "metadata": {
        "id": "E9db5K4qIpUA"
      }
    },
    {
      "cell_type": "markdown",
      "source": [
        "En suma, podemos apreciar que el mejor modelo ha sido naive bayes, ya que ha conseguido una precisión y exhaustividad mayor que los demás. Además, cabe resaltar que ha hecho un papel considerablemente mejor con la clase \"spam\" en comparación a los otros modelos. En contraste, tanto K-NN como los árboles de decisión nos han arrojado modelos similares, siendo este último un poco menos preciso. En general, con la clase \"ham\" han desempeñado una labor parecida al modelo de naive bayes, pero es con la clase \"spam\" donde han tenido más carencias."
      ],
      "metadata": {
        "id": "EQfJhFWwJG8o"
      }
    }
  ],
  "metadata": {
    "colab": {
      "provenance": [],
      "toc_visible": true
    },
    "kernelspec": {
      "display_name": "Python 3",
      "language": "python",
      "name": "python3"
    },
    "language_info": {
      "codemirror_mode": {
        "name": "ipython",
        "version": 3
      },
      "file_extension": ".py",
      "mimetype": "text/x-python",
      "name": "python",
      "nbconvert_exporter": "python",
      "pygments_lexer": "ipython3",
      "version": "3.8.12"
    }
  },
  "nbformat": 4,
  "nbformat_minor": 0
}