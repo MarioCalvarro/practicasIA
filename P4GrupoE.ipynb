{
  "cells": [
    {
      "cell_type": "markdown",
      "metadata": {
        "id": "OUBRwgEu3yu1"
      },
      "source": [
        "# Práctica 4: Procesamiento del Lenguaje Natural\n",
        "\n",
        "__Fecha de entrega: 14 de mayo de 2024__\n",
        "\n",
        "El objetivo de esta práctica es aplicar los conceptos teóricos vistos en clase en el módulo de PLN.\n",
        "\n",
        "Lo más importante en esta práctica no es el código Python, sino el análisis de los datos y modelos que construyas y las explicaciones razonadas de cada una de las decisiones que tomes. __No se valorarán trozos de código o gráficas sin ningún tipo de contexto o explicación__.\n",
        "\n",
        "Finalmente, recuerda establecer el parámetro `random_state` en todas las funciones que tomen decisiones aleatorias para que los resultados sean reproducibles (los resultados no varíen entre ejecuciones)."
      ]
    },
    {
      "cell_type": "markdown",
      "metadata": {
        "id": "yeVD_g2D3yvC"
      },
      "source": [
        "# 1) Carga del conjunto de datos\n",
        "\n",
        "El fichero `spam.csv` contiene mensajes SMS etiquetados como spam or ham (legítimo).\n",
        "\n",
        "Muestra un ejemplo de cada clase.\n",
        "\n",
        "Haz un estudio del conjunto de datos. ¿qué palabras aparecen más veces?, ¿tendría sentido normalizar de alguna manera el corpus?\n",
        "\n",
        "Crea una partición de los datos dejando el 60% para entrenamiento, 20% para validación y el 20% restante para test. Comprueba que la distribución de los ejemplos en las particiones es similar."
      ]
    },
    {
      "cell_type": "code",
      "execution_count": 32,
      "metadata": {
        "id": "V3YxCTUW3yu9"
      },
      "outputs": [],
      "source": [
        "RANDOM_STATE = 1234"
      ]
    },
    {
      "cell_type": "code",
      "source": [
        "# acceso a google drive\n",
        "from google.colab import drive\n",
        "drive.mount('/content/drive')\n"
      ],
      "metadata": {
        "id": "CUSCxqoh40_k",
        "outputId": "deea4a31-a6f4-47cd-aa02-ffb597e47b18",
        "colab": {
          "base_uri": "https://localhost:8080/"
        }
      },
      "execution_count": 4,
      "outputs": [
        {
          "output_type": "stream",
          "name": "stdout",
          "text": [
            "Mounted at /content/drive\n"
          ]
        }
      ]
    },
    {
      "cell_type": "code",
      "source": [
        "import pandas as pd\n",
        "import numpy as np\n",
        "import re\n",
        "import nltk\n",
        "import matplotlib.pyplot as plt\n",
        "df1 = pd.read_csv('/content/drive/MyDrive/spam.csv')\n",
        "df1"
      ],
      "metadata": {
        "colab": {
          "base_uri": "https://localhost:8080/",
          "height": 424
        },
        "id": "k9HPGct048c3",
        "outputId": "9a13e07f-5de5-4477-cedd-deff7e655905"
      },
      "execution_count": 81,
      "outputs": [
        {
          "output_type": "execute_result",
          "data": {
            "text/plain": [
              "        v1                                                 v2 Unnamed: 2  \\\n",
              "0      ham  Go until jurong point, crazy.. Available only ...        NaN   \n",
              "1      ham                      Ok lar... Joking wif u oni...        NaN   \n",
              "2     spam  Free entry in 2 a wkly comp to win FA Cup fina...        NaN   \n",
              "3      ham  U dun say so early hor... U c already then say...        NaN   \n",
              "4      ham  Nah I don't think he goes to usf, he lives aro...        NaN   \n",
              "...    ...                                                ...        ...   \n",
              "5568   ham              Will �_ b going to esplanade fr home?        NaN   \n",
              "5569   ham  Pity, * was in mood for that. So...any other s...        NaN   \n",
              "5570   ham  The guy did some bitching but I acted like i'd...        NaN   \n",
              "5571   ham                         Rofl. Its true to its name        NaN   \n",
              "5572   NaN                                encoding = 'cp1252'        NaN   \n",
              "\n",
              "     Unnamed: 3 Unnamed: 4  \n",
              "0           NaN        NaN  \n",
              "1           NaN        NaN  \n",
              "2           NaN        NaN  \n",
              "3           NaN        NaN  \n",
              "4           NaN        NaN  \n",
              "...         ...        ...  \n",
              "5568        NaN        NaN  \n",
              "5569        NaN        NaN  \n",
              "5570        NaN        NaN  \n",
              "5571        NaN        NaN  \n",
              "5572        NaN        NaN  \n",
              "\n",
              "[5573 rows x 5 columns]"
            ],
            "text/html": [
              "\n",
              "  <div id=\"df-70429de9-6ec5-481c-b24e-903e4d67c0f8\" class=\"colab-df-container\">\n",
              "    <div>\n",
              "<style scoped>\n",
              "    .dataframe tbody tr th:only-of-type {\n",
              "        vertical-align: middle;\n",
              "    }\n",
              "\n",
              "    .dataframe tbody tr th {\n",
              "        vertical-align: top;\n",
              "    }\n",
              "\n",
              "    .dataframe thead th {\n",
              "        text-align: right;\n",
              "    }\n",
              "</style>\n",
              "<table border=\"1\" class=\"dataframe\">\n",
              "  <thead>\n",
              "    <tr style=\"text-align: right;\">\n",
              "      <th></th>\n",
              "      <th>v1</th>\n",
              "      <th>v2</th>\n",
              "      <th>Unnamed: 2</th>\n",
              "      <th>Unnamed: 3</th>\n",
              "      <th>Unnamed: 4</th>\n",
              "    </tr>\n",
              "  </thead>\n",
              "  <tbody>\n",
              "    <tr>\n",
              "      <th>0</th>\n",
              "      <td>ham</td>\n",
              "      <td>Go until jurong point, crazy.. Available only ...</td>\n",
              "      <td>NaN</td>\n",
              "      <td>NaN</td>\n",
              "      <td>NaN</td>\n",
              "    </tr>\n",
              "    <tr>\n",
              "      <th>1</th>\n",
              "      <td>ham</td>\n",
              "      <td>Ok lar... Joking wif u oni...</td>\n",
              "      <td>NaN</td>\n",
              "      <td>NaN</td>\n",
              "      <td>NaN</td>\n",
              "    </tr>\n",
              "    <tr>\n",
              "      <th>2</th>\n",
              "      <td>spam</td>\n",
              "      <td>Free entry in 2 a wkly comp to win FA Cup fina...</td>\n",
              "      <td>NaN</td>\n",
              "      <td>NaN</td>\n",
              "      <td>NaN</td>\n",
              "    </tr>\n",
              "    <tr>\n",
              "      <th>3</th>\n",
              "      <td>ham</td>\n",
              "      <td>U dun say so early hor... U c already then say...</td>\n",
              "      <td>NaN</td>\n",
              "      <td>NaN</td>\n",
              "      <td>NaN</td>\n",
              "    </tr>\n",
              "    <tr>\n",
              "      <th>4</th>\n",
              "      <td>ham</td>\n",
              "      <td>Nah I don't think he goes to usf, he lives aro...</td>\n",
              "      <td>NaN</td>\n",
              "      <td>NaN</td>\n",
              "      <td>NaN</td>\n",
              "    </tr>\n",
              "    <tr>\n",
              "      <th>...</th>\n",
              "      <td>...</td>\n",
              "      <td>...</td>\n",
              "      <td>...</td>\n",
              "      <td>...</td>\n",
              "      <td>...</td>\n",
              "    </tr>\n",
              "    <tr>\n",
              "      <th>5568</th>\n",
              "      <td>ham</td>\n",
              "      <td>Will �_ b going to esplanade fr home?</td>\n",
              "      <td>NaN</td>\n",
              "      <td>NaN</td>\n",
              "      <td>NaN</td>\n",
              "    </tr>\n",
              "    <tr>\n",
              "      <th>5569</th>\n",
              "      <td>ham</td>\n",
              "      <td>Pity, * was in mood for that. So...any other s...</td>\n",
              "      <td>NaN</td>\n",
              "      <td>NaN</td>\n",
              "      <td>NaN</td>\n",
              "    </tr>\n",
              "    <tr>\n",
              "      <th>5570</th>\n",
              "      <td>ham</td>\n",
              "      <td>The guy did some bitching but I acted like i'd...</td>\n",
              "      <td>NaN</td>\n",
              "      <td>NaN</td>\n",
              "      <td>NaN</td>\n",
              "    </tr>\n",
              "    <tr>\n",
              "      <th>5571</th>\n",
              "      <td>ham</td>\n",
              "      <td>Rofl. Its true to its name</td>\n",
              "      <td>NaN</td>\n",
              "      <td>NaN</td>\n",
              "      <td>NaN</td>\n",
              "    </tr>\n",
              "    <tr>\n",
              "      <th>5572</th>\n",
              "      <td>NaN</td>\n",
              "      <td>encoding = 'cp1252'</td>\n",
              "      <td>NaN</td>\n",
              "      <td>NaN</td>\n",
              "      <td>NaN</td>\n",
              "    </tr>\n",
              "  </tbody>\n",
              "</table>\n",
              "<p>5573 rows × 5 columns</p>\n",
              "</div>\n",
              "    <div class=\"colab-df-buttons\">\n",
              "\n",
              "  <div class=\"colab-df-container\">\n",
              "    <button class=\"colab-df-convert\" onclick=\"convertToInteractive('df-70429de9-6ec5-481c-b24e-903e4d67c0f8')\"\n",
              "            title=\"Convert this dataframe to an interactive table.\"\n",
              "            style=\"display:none;\">\n",
              "\n",
              "  <svg xmlns=\"http://www.w3.org/2000/svg\" height=\"24px\" viewBox=\"0 -960 960 960\">\n",
              "    <path d=\"M120-120v-720h720v720H120Zm60-500h600v-160H180v160Zm220 220h160v-160H400v160Zm0 220h160v-160H400v160ZM180-400h160v-160H180v160Zm440 0h160v-160H620v160ZM180-180h160v-160H180v160Zm440 0h160v-160H620v160Z\"/>\n",
              "  </svg>\n",
              "    </button>\n",
              "\n",
              "  <style>\n",
              "    .colab-df-container {\n",
              "      display:flex;\n",
              "      gap: 12px;\n",
              "    }\n",
              "\n",
              "    .colab-df-convert {\n",
              "      background-color: #E8F0FE;\n",
              "      border: none;\n",
              "      border-radius: 50%;\n",
              "      cursor: pointer;\n",
              "      display: none;\n",
              "      fill: #1967D2;\n",
              "      height: 32px;\n",
              "      padding: 0 0 0 0;\n",
              "      width: 32px;\n",
              "    }\n",
              "\n",
              "    .colab-df-convert:hover {\n",
              "      background-color: #E2EBFA;\n",
              "      box-shadow: 0px 1px 2px rgba(60, 64, 67, 0.3), 0px 1px 3px 1px rgba(60, 64, 67, 0.15);\n",
              "      fill: #174EA6;\n",
              "    }\n",
              "\n",
              "    .colab-df-buttons div {\n",
              "      margin-bottom: 4px;\n",
              "    }\n",
              "\n",
              "    [theme=dark] .colab-df-convert {\n",
              "      background-color: #3B4455;\n",
              "      fill: #D2E3FC;\n",
              "    }\n",
              "\n",
              "    [theme=dark] .colab-df-convert:hover {\n",
              "      background-color: #434B5C;\n",
              "      box-shadow: 0px 1px 3px 1px rgba(0, 0, 0, 0.15);\n",
              "      filter: drop-shadow(0px 1px 2px rgba(0, 0, 0, 0.3));\n",
              "      fill: #FFFFFF;\n",
              "    }\n",
              "  </style>\n",
              "\n",
              "    <script>\n",
              "      const buttonEl =\n",
              "        document.querySelector('#df-70429de9-6ec5-481c-b24e-903e4d67c0f8 button.colab-df-convert');\n",
              "      buttonEl.style.display =\n",
              "        google.colab.kernel.accessAllowed ? 'block' : 'none';\n",
              "\n",
              "      async function convertToInteractive(key) {\n",
              "        const element = document.querySelector('#df-70429de9-6ec5-481c-b24e-903e4d67c0f8');\n",
              "        const dataTable =\n",
              "          await google.colab.kernel.invokeFunction('convertToInteractive',\n",
              "                                                    [key], {});\n",
              "        if (!dataTable) return;\n",
              "\n",
              "        const docLinkHtml = 'Like what you see? Visit the ' +\n",
              "          '<a target=\"_blank\" href=https://colab.research.google.com/notebooks/data_table.ipynb>data table notebook</a>'\n",
              "          + ' to learn more about interactive tables.';\n",
              "        element.innerHTML = '';\n",
              "        dataTable['output_type'] = 'display_data';\n",
              "        await google.colab.output.renderOutput(dataTable, element);\n",
              "        const docLink = document.createElement('div');\n",
              "        docLink.innerHTML = docLinkHtml;\n",
              "        element.appendChild(docLink);\n",
              "      }\n",
              "    </script>\n",
              "  </div>\n",
              "\n",
              "\n",
              "<div id=\"df-5884dc36-7a9e-428a-9901-b8c25a826b90\">\n",
              "  <button class=\"colab-df-quickchart\" onclick=\"quickchart('df-5884dc36-7a9e-428a-9901-b8c25a826b90')\"\n",
              "            title=\"Suggest charts\"\n",
              "            style=\"display:none;\">\n",
              "\n",
              "<svg xmlns=\"http://www.w3.org/2000/svg\" height=\"24px\"viewBox=\"0 0 24 24\"\n",
              "     width=\"24px\">\n",
              "    <g>\n",
              "        <path d=\"M19 3H5c-1.1 0-2 .9-2 2v14c0 1.1.9 2 2 2h14c1.1 0 2-.9 2-2V5c0-1.1-.9-2-2-2zM9 17H7v-7h2v7zm4 0h-2V7h2v10zm4 0h-2v-4h2v4z\"/>\n",
              "    </g>\n",
              "</svg>\n",
              "  </button>\n",
              "\n",
              "<style>\n",
              "  .colab-df-quickchart {\n",
              "      --bg-color: #E8F0FE;\n",
              "      --fill-color: #1967D2;\n",
              "      --hover-bg-color: #E2EBFA;\n",
              "      --hover-fill-color: #174EA6;\n",
              "      --disabled-fill-color: #AAA;\n",
              "      --disabled-bg-color: #DDD;\n",
              "  }\n",
              "\n",
              "  [theme=dark] .colab-df-quickchart {\n",
              "      --bg-color: #3B4455;\n",
              "      --fill-color: #D2E3FC;\n",
              "      --hover-bg-color: #434B5C;\n",
              "      --hover-fill-color: #FFFFFF;\n",
              "      --disabled-bg-color: #3B4455;\n",
              "      --disabled-fill-color: #666;\n",
              "  }\n",
              "\n",
              "  .colab-df-quickchart {\n",
              "    background-color: var(--bg-color);\n",
              "    border: none;\n",
              "    border-radius: 50%;\n",
              "    cursor: pointer;\n",
              "    display: none;\n",
              "    fill: var(--fill-color);\n",
              "    height: 32px;\n",
              "    padding: 0;\n",
              "    width: 32px;\n",
              "  }\n",
              "\n",
              "  .colab-df-quickchart:hover {\n",
              "    background-color: var(--hover-bg-color);\n",
              "    box-shadow: 0 1px 2px rgba(60, 64, 67, 0.3), 0 1px 3px 1px rgba(60, 64, 67, 0.15);\n",
              "    fill: var(--button-hover-fill-color);\n",
              "  }\n",
              "\n",
              "  .colab-df-quickchart-complete:disabled,\n",
              "  .colab-df-quickchart-complete:disabled:hover {\n",
              "    background-color: var(--disabled-bg-color);\n",
              "    fill: var(--disabled-fill-color);\n",
              "    box-shadow: none;\n",
              "  }\n",
              "\n",
              "  .colab-df-spinner {\n",
              "    border: 2px solid var(--fill-color);\n",
              "    border-color: transparent;\n",
              "    border-bottom-color: var(--fill-color);\n",
              "    animation:\n",
              "      spin 1s steps(1) infinite;\n",
              "  }\n",
              "\n",
              "  @keyframes spin {\n",
              "    0% {\n",
              "      border-color: transparent;\n",
              "      border-bottom-color: var(--fill-color);\n",
              "      border-left-color: var(--fill-color);\n",
              "    }\n",
              "    20% {\n",
              "      border-color: transparent;\n",
              "      border-left-color: var(--fill-color);\n",
              "      border-top-color: var(--fill-color);\n",
              "    }\n",
              "    30% {\n",
              "      border-color: transparent;\n",
              "      border-left-color: var(--fill-color);\n",
              "      border-top-color: var(--fill-color);\n",
              "      border-right-color: var(--fill-color);\n",
              "    }\n",
              "    40% {\n",
              "      border-color: transparent;\n",
              "      border-right-color: var(--fill-color);\n",
              "      border-top-color: var(--fill-color);\n",
              "    }\n",
              "    60% {\n",
              "      border-color: transparent;\n",
              "      border-right-color: var(--fill-color);\n",
              "    }\n",
              "    80% {\n",
              "      border-color: transparent;\n",
              "      border-right-color: var(--fill-color);\n",
              "      border-bottom-color: var(--fill-color);\n",
              "    }\n",
              "    90% {\n",
              "      border-color: transparent;\n",
              "      border-bottom-color: var(--fill-color);\n",
              "    }\n",
              "  }\n",
              "</style>\n",
              "\n",
              "  <script>\n",
              "    async function quickchart(key) {\n",
              "      const quickchartButtonEl =\n",
              "        document.querySelector('#' + key + ' button');\n",
              "      quickchartButtonEl.disabled = true;  // To prevent multiple clicks.\n",
              "      quickchartButtonEl.classList.add('colab-df-spinner');\n",
              "      try {\n",
              "        const charts = await google.colab.kernel.invokeFunction(\n",
              "            'suggestCharts', [key], {});\n",
              "      } catch (error) {\n",
              "        console.error('Error during call to suggestCharts:', error);\n",
              "      }\n",
              "      quickchartButtonEl.classList.remove('colab-df-spinner');\n",
              "      quickchartButtonEl.classList.add('colab-df-quickchart-complete');\n",
              "    }\n",
              "    (() => {\n",
              "      let quickchartButtonEl =\n",
              "        document.querySelector('#df-5884dc36-7a9e-428a-9901-b8c25a826b90 button');\n",
              "      quickchartButtonEl.style.display =\n",
              "        google.colab.kernel.accessAllowed ? 'block' : 'none';\n",
              "    })();\n",
              "  </script>\n",
              "</div>\n",
              "    </div>\n",
              "  </div>\n"
            ],
            "application/vnd.google.colaboratory.intrinsic+json": {
              "type": "dataframe",
              "variable_name": "df1",
              "summary": "{\n  \"name\": \"df1\",\n  \"rows\": 5573,\n  \"fields\": [\n    {\n      \"column\": \"v1\",\n      \"properties\": {\n        \"dtype\": \"category\",\n        \"num_unique_values\": 2,\n        \"samples\": [\n          \"spam\",\n          \"ham\"\n        ],\n        \"semantic_type\": \"\",\n        \"description\": \"\"\n      }\n    },\n    {\n      \"column\": \"v2\",\n      \"properties\": {\n        \"dtype\": \"string\",\n        \"num_unique_values\": 5170,\n        \"samples\": [\n          \"Did u download the fring app?\",\n          \"Pass dis to all ur contacts n see wat u get! Red;i'm in luv wid u. Blue;u put a smile on my face. Purple;u r realy hot. Pink;u r so swt. Orange;i thnk i lyk u. Green;i realy wana go out wid u. Yelow;i wnt u bck. Black;i'm jealous of u. Brown;i miss you Nw plz giv me one color\"\n        ],\n        \"semantic_type\": \"\",\n        \"description\": \"\"\n      }\n    },\n    {\n      \"column\": \"Unnamed: 2\",\n      \"properties\": {\n        \"dtype\": \"category\",\n        \"num_unique_values\": 43,\n        \"samples\": [\n          \" GOD said\",\n          \" SHE SHUDVETOLD U. DID URGRAN KNOW?NEWAY\"\n        ],\n        \"semantic_type\": \"\",\n        \"description\": \"\"\n      }\n    },\n    {\n      \"column\": \"Unnamed: 3\",\n      \"properties\": {\n        \"dtype\": \"category\",\n        \"num_unique_values\": 10,\n        \"samples\": [\n          \" \\\\\\\"OH No! COMPETITION\\\\\\\". Who knew\",\n          \" why to miss them\"\n        ],\n        \"semantic_type\": \"\",\n        \"description\": \"\"\n      }\n    },\n    {\n      \"column\": \"Unnamed: 4\",\n      \"properties\": {\n        \"dtype\": \"category\",\n        \"num_unique_values\": 5,\n        \"samples\": [\n          \"GNT:-)\\\"\",\n          \" one day these two will become FREINDS FOREVER!\\\"\"\n        ],\n        \"semantic_type\": \"\",\n        \"description\": \"\"\n      }\n    }\n  ]\n}"
            }
          },
          "metadata": {},
          "execution_count": 81
        }
      ]
    },
    {
      "cell_type": "code",
      "source": [
        "#df_1 = df1[df1.iloc[:, 2].isna()]\n",
        "#df_1 = df_1[df_1.iloc[:, 3].isna()]\n",
        "#df_1 = df_1[df_1.iloc[:, 4].isna()]\n",
        "\n",
        "df1 = df1.iloc[:, :-3]\n",
        "df1 = df1.dropna()\n",
        "'''\n",
        "for indice_fila, fila in df_filtrado.iterrows():\n",
        "     palabra = fila.iloc[3]  # Acceder al valor en la tercera columna de cada fila\n",
        "     if not pd.isna(palabra):  # Verificar si el valor no es NaN\n",
        "        print(palabra)\n",
        "'''\n",
        "\n",
        "df1"
      ],
      "metadata": {
        "id": "7hUrClD8GiKK",
        "outputId": "988ee4dc-a3c2-4f87-9279-4f0023861c83",
        "colab": {
          "base_uri": "https://localhost:8080/",
          "height": 424
        }
      },
      "execution_count": 82,
      "outputs": [
        {
          "output_type": "execute_result",
          "data": {
            "text/plain": [
              "      v1                                                 v2\n",
              "0      1  Go until jurong point, crazy.. Available only ...\n",
              "1      1                      Ok lar... Joking wif u oni...\n",
              "2      0  Free entry in 2 a wkly comp to win FA Cup fina...\n",
              "3      1  U dun say so early hor... U c already then say...\n",
              "4      1  Nah I don't think he goes to usf, he lives aro...\n",
              "...   ..                                                ...\n",
              "5567   0  This is the 2nd time we have tried 2 contact u...\n",
              "5568   1              Will �_ b going to esplanade fr home?\n",
              "5569   1  Pity, * was in mood for that. So...any other s...\n",
              "5570   1  The guy did some bitching but I acted like i'd...\n",
              "5571   1                         Rofl. Its true to its name\n",
              "\n",
              "[5572 rows x 2 columns]"
            ],
            "text/html": [
              "\n",
              "  <div id=\"df-85b6995b-e442-43f2-b309-46a2cbf1f9be\" class=\"colab-df-container\">\n",
              "    <div>\n",
              "<style scoped>\n",
              "    .dataframe tbody tr th:only-of-type {\n",
              "        vertical-align: middle;\n",
              "    }\n",
              "\n",
              "    .dataframe tbody tr th {\n",
              "        vertical-align: top;\n",
              "    }\n",
              "\n",
              "    .dataframe thead th {\n",
              "        text-align: right;\n",
              "    }\n",
              "</style>\n",
              "<table border=\"1\" class=\"dataframe\">\n",
              "  <thead>\n",
              "    <tr style=\"text-align: right;\">\n",
              "      <th></th>\n",
              "      <th>v1</th>\n",
              "      <th>v2</th>\n",
              "    </tr>\n",
              "  </thead>\n",
              "  <tbody>\n",
              "    <tr>\n",
              "      <th>0</th>\n",
              "      <td>1</td>\n",
              "      <td>Go until jurong point, crazy.. Available only ...</td>\n",
              "    </tr>\n",
              "    <tr>\n",
              "      <th>1</th>\n",
              "      <td>1</td>\n",
              "      <td>Ok lar... Joking wif u oni...</td>\n",
              "    </tr>\n",
              "    <tr>\n",
              "      <th>2</th>\n",
              "      <td>0</td>\n",
              "      <td>Free entry in 2 a wkly comp to win FA Cup fina...</td>\n",
              "    </tr>\n",
              "    <tr>\n",
              "      <th>3</th>\n",
              "      <td>1</td>\n",
              "      <td>U dun say so early hor... U c already then say...</td>\n",
              "    </tr>\n",
              "    <tr>\n",
              "      <th>4</th>\n",
              "      <td>1</td>\n",
              "      <td>Nah I don't think he goes to usf, he lives aro...</td>\n",
              "    </tr>\n",
              "    <tr>\n",
              "      <th>...</th>\n",
              "      <td>...</td>\n",
              "      <td>...</td>\n",
              "    </tr>\n",
              "    <tr>\n",
              "      <th>5567</th>\n",
              "      <td>0</td>\n",
              "      <td>This is the 2nd time we have tried 2 contact u...</td>\n",
              "    </tr>\n",
              "    <tr>\n",
              "      <th>5568</th>\n",
              "      <td>1</td>\n",
              "      <td>Will �_ b going to esplanade fr home?</td>\n",
              "    </tr>\n",
              "    <tr>\n",
              "      <th>5569</th>\n",
              "      <td>1</td>\n",
              "      <td>Pity, * was in mood for that. So...any other s...</td>\n",
              "    </tr>\n",
              "    <tr>\n",
              "      <th>5570</th>\n",
              "      <td>1</td>\n",
              "      <td>The guy did some bitching but I acted like i'd...</td>\n",
              "    </tr>\n",
              "    <tr>\n",
              "      <th>5571</th>\n",
              "      <td>1</td>\n",
              "      <td>Rofl. Its true to its name</td>\n",
              "    </tr>\n",
              "  </tbody>\n",
              "</table>\n",
              "<p>5572 rows × 2 columns</p>\n",
              "</div>\n",
              "    <div class=\"colab-df-buttons\">\n",
              "\n",
              "  <div class=\"colab-df-container\">\n",
              "    <button class=\"colab-df-convert\" onclick=\"convertToInteractive('df-85b6995b-e442-43f2-b309-46a2cbf1f9be')\"\n",
              "            title=\"Convert this dataframe to an interactive table.\"\n",
              "            style=\"display:none;\">\n",
              "\n",
              "  <svg xmlns=\"http://www.w3.org/2000/svg\" height=\"24px\" viewBox=\"0 -960 960 960\">\n",
              "    <path d=\"M120-120v-720h720v720H120Zm60-500h600v-160H180v160Zm220 220h160v-160H400v160Zm0 220h160v-160H400v160ZM180-400h160v-160H180v160Zm440 0h160v-160H620v160ZM180-180h160v-160H180v160Zm440 0h160v-160H620v160Z\"/>\n",
              "  </svg>\n",
              "    </button>\n",
              "\n",
              "  <style>\n",
              "    .colab-df-container {\n",
              "      display:flex;\n",
              "      gap: 12px;\n",
              "    }\n",
              "\n",
              "    .colab-df-convert {\n",
              "      background-color: #E8F0FE;\n",
              "      border: none;\n",
              "      border-radius: 50%;\n",
              "      cursor: pointer;\n",
              "      display: none;\n",
              "      fill: #1967D2;\n",
              "      height: 32px;\n",
              "      padding: 0 0 0 0;\n",
              "      width: 32px;\n",
              "    }\n",
              "\n",
              "    .colab-df-convert:hover {\n",
              "      background-color: #E2EBFA;\n",
              "      box-shadow: 0px 1px 2px rgba(60, 64, 67, 0.3), 0px 1px 3px 1px rgba(60, 64, 67, 0.15);\n",
              "      fill: #174EA6;\n",
              "    }\n",
              "\n",
              "    .colab-df-buttons div {\n",
              "      margin-bottom: 4px;\n",
              "    }\n",
              "\n",
              "    [theme=dark] .colab-df-convert {\n",
              "      background-color: #3B4455;\n",
              "      fill: #D2E3FC;\n",
              "    }\n",
              "\n",
              "    [theme=dark] .colab-df-convert:hover {\n",
              "      background-color: #434B5C;\n",
              "      box-shadow: 0px 1px 3px 1px rgba(0, 0, 0, 0.15);\n",
              "      filter: drop-shadow(0px 1px 2px rgba(0, 0, 0, 0.3));\n",
              "      fill: #FFFFFF;\n",
              "    }\n",
              "  </style>\n",
              "\n",
              "    <script>\n",
              "      const buttonEl =\n",
              "        document.querySelector('#df-85b6995b-e442-43f2-b309-46a2cbf1f9be button.colab-df-convert');\n",
              "      buttonEl.style.display =\n",
              "        google.colab.kernel.accessAllowed ? 'block' : 'none';\n",
              "\n",
              "      async function convertToInteractive(key) {\n",
              "        const element = document.querySelector('#df-85b6995b-e442-43f2-b309-46a2cbf1f9be');\n",
              "        const dataTable =\n",
              "          await google.colab.kernel.invokeFunction('convertToInteractive',\n",
              "                                                    [key], {});\n",
              "        if (!dataTable) return;\n",
              "\n",
              "        const docLinkHtml = 'Like what you see? Visit the ' +\n",
              "          '<a target=\"_blank\" href=https://colab.research.google.com/notebooks/data_table.ipynb>data table notebook</a>'\n",
              "          + ' to learn more about interactive tables.';\n",
              "        element.innerHTML = '';\n",
              "        dataTable['output_type'] = 'display_data';\n",
              "        await google.colab.output.renderOutput(dataTable, element);\n",
              "        const docLink = document.createElement('div');\n",
              "        docLink.innerHTML = docLinkHtml;\n",
              "        element.appendChild(docLink);\n",
              "      }\n",
              "    </script>\n",
              "  </div>\n",
              "\n",
              "\n",
              "<div id=\"df-86a05824-c4a9-48f7-aad5-467f5a514eb4\">\n",
              "  <button class=\"colab-df-quickchart\" onclick=\"quickchart('df-86a05824-c4a9-48f7-aad5-467f5a514eb4')\"\n",
              "            title=\"Suggest charts\"\n",
              "            style=\"display:none;\">\n",
              "\n",
              "<svg xmlns=\"http://www.w3.org/2000/svg\" height=\"24px\"viewBox=\"0 0 24 24\"\n",
              "     width=\"24px\">\n",
              "    <g>\n",
              "        <path d=\"M19 3H5c-1.1 0-2 .9-2 2v14c0 1.1.9 2 2 2h14c1.1 0 2-.9 2-2V5c0-1.1-.9-2-2-2zM9 17H7v-7h2v7zm4 0h-2V7h2v10zm4 0h-2v-4h2v4z\"/>\n",
              "    </g>\n",
              "</svg>\n",
              "  </button>\n",
              "\n",
              "<style>\n",
              "  .colab-df-quickchart {\n",
              "      --bg-color: #E8F0FE;\n",
              "      --fill-color: #1967D2;\n",
              "      --hover-bg-color: #E2EBFA;\n",
              "      --hover-fill-color: #174EA6;\n",
              "      --disabled-fill-color: #AAA;\n",
              "      --disabled-bg-color: #DDD;\n",
              "  }\n",
              "\n",
              "  [theme=dark] .colab-df-quickchart {\n",
              "      --bg-color: #3B4455;\n",
              "      --fill-color: #D2E3FC;\n",
              "      --hover-bg-color: #434B5C;\n",
              "      --hover-fill-color: #FFFFFF;\n",
              "      --disabled-bg-color: #3B4455;\n",
              "      --disabled-fill-color: #666;\n",
              "  }\n",
              "\n",
              "  .colab-df-quickchart {\n",
              "    background-color: var(--bg-color);\n",
              "    border: none;\n",
              "    border-radius: 50%;\n",
              "    cursor: pointer;\n",
              "    display: none;\n",
              "    fill: var(--fill-color);\n",
              "    height: 32px;\n",
              "    padding: 0;\n",
              "    width: 32px;\n",
              "  }\n",
              "\n",
              "  .colab-df-quickchart:hover {\n",
              "    background-color: var(--hover-bg-color);\n",
              "    box-shadow: 0 1px 2px rgba(60, 64, 67, 0.3), 0 1px 3px 1px rgba(60, 64, 67, 0.15);\n",
              "    fill: var(--button-hover-fill-color);\n",
              "  }\n",
              "\n",
              "  .colab-df-quickchart-complete:disabled,\n",
              "  .colab-df-quickchart-complete:disabled:hover {\n",
              "    background-color: var(--disabled-bg-color);\n",
              "    fill: var(--disabled-fill-color);\n",
              "    box-shadow: none;\n",
              "  }\n",
              "\n",
              "  .colab-df-spinner {\n",
              "    border: 2px solid var(--fill-color);\n",
              "    border-color: transparent;\n",
              "    border-bottom-color: var(--fill-color);\n",
              "    animation:\n",
              "      spin 1s steps(1) infinite;\n",
              "  }\n",
              "\n",
              "  @keyframes spin {\n",
              "    0% {\n",
              "      border-color: transparent;\n",
              "      border-bottom-color: var(--fill-color);\n",
              "      border-left-color: var(--fill-color);\n",
              "    }\n",
              "    20% {\n",
              "      border-color: transparent;\n",
              "      border-left-color: var(--fill-color);\n",
              "      border-top-color: var(--fill-color);\n",
              "    }\n",
              "    30% {\n",
              "      border-color: transparent;\n",
              "      border-left-color: var(--fill-color);\n",
              "      border-top-color: var(--fill-color);\n",
              "      border-right-color: var(--fill-color);\n",
              "    }\n",
              "    40% {\n",
              "      border-color: transparent;\n",
              "      border-right-color: var(--fill-color);\n",
              "      border-top-color: var(--fill-color);\n",
              "    }\n",
              "    60% {\n",
              "      border-color: transparent;\n",
              "      border-right-color: var(--fill-color);\n",
              "    }\n",
              "    80% {\n",
              "      border-color: transparent;\n",
              "      border-right-color: var(--fill-color);\n",
              "      border-bottom-color: var(--fill-color);\n",
              "    }\n",
              "    90% {\n",
              "      border-color: transparent;\n",
              "      border-bottom-color: var(--fill-color);\n",
              "    }\n",
              "  }\n",
              "</style>\n",
              "\n",
              "  <script>\n",
              "    async function quickchart(key) {\n",
              "      const quickchartButtonEl =\n",
              "        document.querySelector('#' + key + ' button');\n",
              "      quickchartButtonEl.disabled = true;  // To prevent multiple clicks.\n",
              "      quickchartButtonEl.classList.add('colab-df-spinner');\n",
              "      try {\n",
              "        const charts = await google.colab.kernel.invokeFunction(\n",
              "            'suggestCharts', [key], {});\n",
              "      } catch (error) {\n",
              "        console.error('Error during call to suggestCharts:', error);\n",
              "      }\n",
              "      quickchartButtonEl.classList.remove('colab-df-spinner');\n",
              "      quickchartButtonEl.classList.add('colab-df-quickchart-complete');\n",
              "    }\n",
              "    (() => {\n",
              "      let quickchartButtonEl =\n",
              "        document.querySelector('#df-86a05824-c4a9-48f7-aad5-467f5a514eb4 button');\n",
              "      quickchartButtonEl.style.display =\n",
              "        google.colab.kernel.accessAllowed ? 'block' : 'none';\n",
              "    })();\n",
              "  </script>\n",
              "</div>\n",
              "    </div>\n",
              "  </div>\n"
            ],
            "application/vnd.google.colaboratory.intrinsic+json": {
              "type": "dataframe",
              "variable_name": "df1",
              "summary": "{\n  \"name\": \"df1\",\n  \"rows\": 5572,\n  \"fields\": [\n    {\n      \"column\": \"v1\",\n      \"properties\": {\n        \"dtype\": \"number\",\n        \"std\": 0,\n        \"min\": 0,\n        \"max\": 1,\n        \"num_unique_values\": 2,\n        \"samples\": [\n          0,\n          1\n        ],\n        \"semantic_type\": \"\",\n        \"description\": \"\"\n      }\n    },\n    {\n      \"column\": \"v2\",\n      \"properties\": {\n        \"dtype\": \"string\",\n        \"num_unique_values\": 5169,\n        \"samples\": [\n          \"Did u download the fring app?\",\n          \"Pass dis to all ur contacts n see wat u get! Red;i'm in luv wid u. Blue;u put a smile on my face. Purple;u r realy hot. Pink;u r so swt. Orange;i thnk i lyk u. Green;i realy wana go out wid u. Yelow;i wnt u bck. Black;i'm jealous of u. Brown;i miss you Nw plz giv me one color\"\n        ],\n        \"semantic_type\": \"\",\n        \"description\": \"\"\n      }\n    }\n  ]\n}"
            }
          },
          "metadata": {},
          "execution_count": 82
        }
      ]
    },
    {
      "cell_type": "code",
      "source": [
        "for clase in df1['v1'].unique():\n",
        " if not pd.isna(clase):\n",
        "      # Obtener el primer elemento de cada clase\n",
        "      primer_elemento = df1[df1['v1'] == clase].iloc[0]\n",
        "      # Agregarlo al diccionario\n",
        "      print(primer_elemento)"
      ],
      "metadata": {
        "id": "8n2NhNqI7pB4",
        "outputId": "206dcba9-222a-497c-dc56-7c40ec4850bd",
        "colab": {
          "base_uri": "https://localhost:8080/"
        }
      },
      "execution_count": 83,
      "outputs": [
        {
          "output_type": "stream",
          "name": "stdout",
          "text": [
            "v1                                                    1\n",
            "v2    Go until jurong point, crazy.. Available only ...\n",
            "Name: 0, dtype: object\n",
            "v1                                                    0\n",
            "v2    Free entry in 2 a wkly comp to win FA Cup fina...\n",
            "Name: 2, dtype: object\n"
          ]
        }
      ]
    },
    {
      "cell_type": "code",
      "source": [
        "print(df1['v1'].value_counts())"
      ],
      "metadata": {
        "id": "QmetXzn583gV",
        "outputId": "f83d8d7b-5b4a-43cd-c9c9-e8efe3b3eb70",
        "colab": {
          "base_uri": "https://localhost:8080/"
        }
      },
      "execution_count": 84,
      "outputs": [
        {
          "output_type": "stream",
          "name": "stdout",
          "text": [
            "v1\n",
            "1    4825\n",
            "0     747\n",
            "Name: count, dtype: int64\n"
          ]
        }
      ]
    },
    {
      "cell_type": "markdown",
      "source": [
        "Vemos que la cantidad de mensajes del tipo 'ham' aparece mucho más que el tipo 'spam' lo que indica que no estña balanceado. Por tanto, a la hora de sacar conlcusiones tendremos que tener en mente este hecho, ya que podría suceder que no fueran todo lo representativas que qusiéramos."
      ],
      "metadata": {
        "id": "iFOBmvDa9Qbg"
      }
    },
    {
      "cell_type": "markdown",
      "source": [
        "A continuación normalizaremos el documento eliminando caracteres especiales, pasando a minúsculas y eliminando palabras vacías."
      ],
      "metadata": {
        "id": "6i8nFNEY-NtH"
      }
    },
    {
      "cell_type": "code",
      "source": [
        "wpt = nltk.WordPunctTokenizer()\n",
        "nltk.download('stopwords')\n",
        "stop_words = nltk.corpus.stopwords.words('english')\n",
        "\n",
        "def normalize_document(doc):\n",
        "    # lower case and remove special characters\\whitespaces\n",
        "    doc = re.sub(r'[^a-zA-Z\\s]', '', doc, re.I|re.A)\n",
        "    doc = doc.lower()\n",
        "    doc = doc.strip()\n",
        "    # tokenize document\n",
        "    tokens = wpt.tokenize(doc)\n",
        "    # filter stopwords out of document\n",
        "    filtered_tokens = [token for token in tokens if token not in stop_words]\n",
        "    # re-create document from filtered tokens\n",
        "    doc = ' '.join(filtered_tokens)\n",
        "    return doc\n",
        "\n",
        "normalize_corpus = np.vectorize(normalize_document)"
      ],
      "metadata": {
        "colab": {
          "base_uri": "https://localhost:8080/"
        },
        "id": "6TtJNEc6-M79",
        "outputId": "284fa3e1-e4c7-4a6d-89c9-785ebfcb722c"
      },
      "execution_count": 85,
      "outputs": [
        {
          "output_type": "stream",
          "name": "stderr",
          "text": [
            "[nltk_data] Downloading package stopwords to /root/nltk_data...\n",
            "[nltk_data]   Package stopwords is already up-to-date!\n"
          ]
        }
      ]
    },
    {
      "cell_type": "code",
      "source": [
        "df1_normalizado = normalize_corpus(df1['v2'].values)\n"
      ],
      "metadata": {
        "id": "TNiasTQm_CjD"
      },
      "execution_count": 86,
      "outputs": []
    },
    {
      "cell_type": "code",
      "source": [
        "from sklearn.feature_extraction.text import CountVectorizer\n",
        "\n",
        "cv = CountVectorizer()\n",
        "cv_matrix = cv.fit_transform(df1_normalizado)\n",
        "cv_matrix\n",
        "cv_matrix = cv_matrix.toarray()\n",
        "cv_matrix\n",
        "suma_columnas = cv_matrix.sum(axis = 0)\n",
        "indice_columna_maxima = np.argmax(suma_columnas)\n",
        "\n",
        "nombres_columnas = cv.get_feature_names_out()\n",
        "\n",
        "print(nombres_columnas[indice_columna_maxima])\n",
        "print(np.max(suma_columnas))"
      ],
      "metadata": {
        "colab": {
          "base_uri": "https://localhost:8080/"
        },
        "id": "1_sHM_xS-BxQ",
        "outputId": "825a0b27-215e-4e51-f60b-1826cd5ba144"
      },
      "execution_count": 87,
      "outputs": [
        {
          "output_type": "stream",
          "name": "stdout",
          "text": [
            "call\n",
            "579\n"
          ]
        }
      ]
    },
    {
      "cell_type": "markdown",
      "source": [
        "La palabra que más se repite es call y aparece 579 veces."
      ],
      "metadata": {
        "id": "442AG3ZSEP7Y"
      }
    },
    {
      "cell_type": "markdown",
      "metadata": {
        "id": "r4rXv3xX3yvG"
      },
      "source": [
        "# 2) Representación como bolsa de palabras\n",
        "\n",
        "Elige justificadamente una representación de bolsa de palabras y aplícala.\n",
        "Muestra un ejemplo antes y después de aplicar la representación. Explica los cambios."
      ]
    },
    {
      "cell_type": "markdown",
      "metadata": {
        "id": "jaUSgloS4xHS"
      },
      "source": [
        "# 3) Aplica 3 algoritmos de aprendizaje automático para resolver la tarea\n",
        "\n",
        "Justifica porqué los has elegido.\n",
        "Ajusta los modelos respecto a un hiperparámetro que consideres oportuno. Justifica tu elección.\n",
        "Explica los resultados obtenidos."
      ]
    },
    {
      "cell_type": "markdown",
      "metadata": {
        "id": "eV9JSByt4xHS"
      },
      "source": [
        "# 4) Construye redes neuronales con Keras con distintas maneras de usar word embeddings\n",
        "\n",
        "Justifica tus decisiones y explica los resultados obtenidos."
      ]
    },
    {
      "cell_type": "code",
      "execution_count": 88,
      "metadata": {
        "colab": {
          "base_uri": "https://localhost:8080/"
        },
        "id": "jWi6XDaxBAom",
        "outputId": "277cd84f-92bc-4d6b-c589-7cef31fb84a4"
      },
      "outputs": [
        {
          "output_type": "stream",
          "name": "stdout",
          "text": [
            "Found 8916 unique tokens.\n"
          ]
        }
      ],
      "source": [
        "from keras.preprocessing.text import Tokenizer\n",
        "from keras.utils import pad_sequences\n",
        "\n",
        "max_words = 1500\n",
        "max_comment_length = 20\n",
        "\n",
        "\n",
        "\n",
        "df1['v1'] = df1['v1'].replace({'ham': 1, 'spam': 0})\n",
        "\n",
        "\n",
        "tokenizer = Tokenizer(num_words=max_words)\n",
        "tokenizer.fit_on_texts(df1.v2)\n",
        "\n",
        "sequences = tokenizer.texts_to_sequences(df1.v2)\n",
        "\n",
        "word_index = tokenizer.word_index\n",
        "print('Found %s unique tokens.' % len(word_index))\n",
        "max_words = len(word_index)\n",
        "\n",
        "data = pad_sequences(sequences, maxlen=max_comment_length)"
      ]
    },
    {
      "cell_type": "code",
      "execution_count": 89,
      "metadata": {
        "colab": {
          "base_uri": "https://localhost:8080/"
        },
        "id": "ccvxgdjZ0NwO",
        "outputId": "494deae0-b07a-49dd-c27a-f5c55a1c714a"
      },
      "outputs": [
        {
          "output_type": "stream",
          "name": "stdout",
          "text": [
            "Nah I don't think he goes to usf, he lives around here though\n",
            "[   0    0    0    0    0    0    0    0 1017    1   98  107   69  487\n",
            "    2  955   69  219  111  471]\n",
            "1\n"
          ]
        }
      ],
      "source": [
        "print(df1.v2[4])\n",
        "print(data[4])\n",
        "print(df1.v1[4])"
      ]
    },
    {
      "cell_type": "code",
      "execution_count": 90,
      "metadata": {
        "colab": {
          "base_uri": "https://localhost:8080/"
        },
        "id": "vHUP_sBf9IQt",
        "outputId": "cda88400-337e-41ac-c86e-58cab6d79149"
      },
      "outputs": [
        {
          "output_type": "stream",
          "name": "stdout",
          "text": [
            "Training texts: 4457\n",
            "Test texts: 1115\n"
          ]
        }
      ],
      "source": [
        "from sklearn.model_selection import train_test_split\n",
        "\n",
        "#valor de random state\n",
        "rs=333\n",
        "\n",
        "df1['v1'].replace({'ham': 1, 'spam': 0})\n",
        "d=df1.values\n",
        "\n",
        "x_train, x_test, y_train, y_test = train_test_split(data, df1.v1, test_size=0.20, random_state=rs, stratify = df1.v1)\n",
        "\n",
        "print(\"Training texts:\", len(y_train))\n",
        "print(\"Test texts:\", len(y_test))"
      ]
    },
    {
      "cell_type": "code",
      "execution_count": 91,
      "metadata": {
        "id": "6YL5tXWuu1v6"
      },
      "outputs": [],
      "source": [
        "# Fijamos el tamaño de los embedding a 50 dimensiones\n",
        "\n",
        "embedding_dim = 50"
      ]
    },
    {
      "cell_type": "markdown",
      "source": [
        "###MODELO 1"
      ],
      "metadata": {
        "id": "5a_IPWx9NpPK"
      }
    },
    {
      "cell_type": "code",
      "execution_count": 92,
      "metadata": {
        "colab": {
          "base_uri": "https://localhost:8080/"
        },
        "id": "2P1FmfpU5HXn",
        "outputId": "3beb4374-77ea-4901-8943-09d59f0de15a"
      },
      "outputs": [
        {
          "output_type": "stream",
          "name": "stdout",
          "text": [
            "Model: \"sequential_9\"\n",
            "_________________________________________________________________\n",
            " Layer (type)                Output Shape              Param #   \n",
            "=================================================================\n",
            " embedding_9 (Embedding)     (None, 20, 50)            445800    \n",
            "                                                                 \n",
            " flatten_9 (Flatten)         (None, 1000)              0         \n",
            "                                                                 \n",
            " dense_9 (Dense)             (None, 1)                 1001      \n",
            "                                                                 \n",
            "=================================================================\n",
            "Total params: 446801 (1.70 MB)\n",
            "Trainable params: 446801 (1.70 MB)\n",
            "Non-trainable params: 0 (0.00 Byte)\n",
            "_________________________________________________________________\n",
            "Epoch 1/20\n",
            "140/140 [==============================] - 2s 8ms/step - loss: 0.3073 - accuracy: 0.9163 - val_loss: 0.1613 - val_accuracy: 0.9578\n",
            "Epoch 2/20\n",
            "140/140 [==============================] - 1s 7ms/step - loss: 0.0977 - accuracy: 0.9746 - val_loss: 0.0714 - val_accuracy: 0.9839\n",
            "Epoch 3/20\n",
            "140/140 [==============================] - 1s 7ms/step - loss: 0.0497 - accuracy: 0.9865 - val_loss: 0.0501 - val_accuracy: 0.9865\n",
            "Epoch 4/20\n",
            "140/140 [==============================] - 1s 7ms/step - loss: 0.0323 - accuracy: 0.9912 - val_loss: 0.0439 - val_accuracy: 0.9865\n",
            "Epoch 5/20\n",
            "140/140 [==============================] - 1s 7ms/step - loss: 0.0234 - accuracy: 0.9937 - val_loss: 0.0397 - val_accuracy: 0.9901\n",
            "Epoch 6/20\n",
            "140/140 [==============================] - 1s 7ms/step - loss: 0.0166 - accuracy: 0.9951 - val_loss: 0.0374 - val_accuracy: 0.9910\n",
            "Epoch 7/20\n",
            "140/140 [==============================] - 1s 7ms/step - loss: 0.0119 - accuracy: 0.9978 - val_loss: 0.0366 - val_accuracy: 0.9892\n",
            "Epoch 8/20\n",
            "140/140 [==============================] - 1s 10ms/step - loss: 0.0087 - accuracy: 0.9984 - val_loss: 0.0375 - val_accuracy: 0.9901\n",
            "Epoch 9/20\n",
            "140/140 [==============================] - 1s 11ms/step - loss: 0.0066 - accuracy: 0.9987 - val_loss: 0.0376 - val_accuracy: 0.9901\n",
            "Epoch 10/20\n",
            "140/140 [==============================] - 1s 9ms/step - loss: 0.0052 - accuracy: 0.9993 - val_loss: 0.0382 - val_accuracy: 0.9892\n",
            "Epoch 11/20\n",
            "140/140 [==============================] - 1s 7ms/step - loss: 0.0040 - accuracy: 0.9996 - val_loss: 0.0403 - val_accuracy: 0.9901\n",
            "Epoch 12/20\n",
            "140/140 [==============================] - 1s 7ms/step - loss: 0.0033 - accuracy: 0.9996 - val_loss: 0.0406 - val_accuracy: 0.9901\n",
            "Epoch 13/20\n",
            "140/140 [==============================] - 1s 7ms/step - loss: 0.0027 - accuracy: 0.9996 - val_loss: 0.0412 - val_accuracy: 0.9892\n",
            "Epoch 14/20\n",
            "140/140 [==============================] - 1s 7ms/step - loss: 0.0022 - accuracy: 0.9996 - val_loss: 0.0430 - val_accuracy: 0.9892\n",
            "Epoch 15/20\n",
            "140/140 [==============================] - 1s 7ms/step - loss: 0.0019 - accuracy: 0.9996 - val_loss: 0.0427 - val_accuracy: 0.9892\n",
            "Epoch 16/20\n",
            "140/140 [==============================] - 1s 7ms/step - loss: 0.0015 - accuracy: 0.9998 - val_loss: 0.0440 - val_accuracy: 0.9892\n",
            "Epoch 17/20\n",
            "140/140 [==============================] - 1s 7ms/step - loss: 0.0013 - accuracy: 0.9998 - val_loss: 0.0446 - val_accuracy: 0.9892\n",
            "Epoch 18/20\n",
            "140/140 [==============================] - 1s 7ms/step - loss: 0.0011 - accuracy: 1.0000 - val_loss: 0.0462 - val_accuracy: 0.9892\n",
            "Epoch 19/20\n",
            "140/140 [==============================] - 1s 7ms/step - loss: 9.7945e-04 - accuracy: 0.9998 - val_loss: 0.0458 - val_accuracy: 0.9883\n",
            "Epoch 20/20\n",
            "140/140 [==============================] - 1s 8ms/step - loss: 8.3632e-04 - accuracy: 1.0000 - val_loss: 0.0472 - val_accuracy: 0.9883\n",
            "35/35 [==============================] - 0s 2ms/step - loss: 0.0472 - accuracy: 0.9883\n",
            "Accuracy: 98.83%\n"
          ]
        }
      ],
      "source": [
        "# MODELO 1. SIN EMBEDDINGS PRE-ENTRENADOS\n",
        "\n",
        "from keras.models import Sequential\n",
        "from keras.layers import Flatten, Dense, Embedding\n",
        "\n",
        "model1 = Sequential()\n",
        "# We specify the maximum input length to our Embedding layer\n",
        "# so we can later flatten the embedded inputs\n",
        "\n",
        "\n",
        "model1.add(Embedding(max_words, embedding_dim, input_length=max_comment_length))\n",
        "# After the Embedding layer, our activations have shape `(max_words, max_comment_length, embedding_dim)`.\n",
        "\n",
        "# We flatten the 3D tensor of embeddings into a 2D tensor of shape `(max_words, max_comment_length * embedding_dim)`\n",
        "\n",
        "model1.add(Flatten())\n",
        "\n",
        "# We add the classifier on top\n",
        "model1.add(Dense(1, activation='sigmoid'))\n",
        "\n",
        "model1.compile(optimizer='adam', loss='binary_crossentropy', metrics=['accuracy'])\n",
        "model1.summary()\n",
        "\n",
        "history = model1.fit(x_train, y_train,\n",
        "                    epochs=20,\n",
        "                    batch_size=32,\n",
        "                    validation_data=(x_test, y_test))\n",
        "\n",
        "score1 = model1.evaluate(x_test, y_test)\n",
        "\n",
        "print(\"Accuracy: %.2f%%\" % (score1[1]*100))"
      ]
    },
    {
      "cell_type": "markdown",
      "source": [
        "### EMBEDDINGS PRE-ENTRENADOS"
      ],
      "metadata": {
        "id": "lpRDcjKYS_PC"
      }
    },
    {
      "cell_type": "markdown",
      "source": [],
      "metadata": {
        "id": "6tsE_IiUQops"
      }
    },
    {
      "cell_type": "code",
      "execution_count": 93,
      "metadata": {
        "colab": {
          "base_uri": "https://localhost:8080/"
        },
        "id": "fEZv4hve5HXr",
        "outputId": "861608fa-07c9-490e-b3d3-dda9fece514e"
      },
      "outputs": [
        {
          "output_type": "stream",
          "name": "stdout",
          "text": [
            "Found 0 word vectors.\n"
          ]
        }
      ],
      "source": [
        "import os\n",
        "import numpy as np\n",
        "\n",
        "glove_dir = '/content/drive/MyDrive/'\n",
        "\n",
        "embeddings_index = {}\n",
        "f = open(os.path.join(glove_dir, 'glove.6B.50d.txt'))\n",
        "for line in f:\n",
        "    values = line.split()\n",
        "    word = values[0]\n",
        "    coefs = np.asarray(values[1:], dtype='float32')\n",
        "    embeddings_index[word] = coefs\n",
        "f.close()\n",
        "\n",
        "print('Found %s word vectors.' % len(embeddings_index))"
      ]
    },
    {
      "cell_type": "code",
      "execution_count": 94,
      "metadata": {
        "collapsed": true,
        "id": "m5Zs0sIU5HXs"
      },
      "outputs": [],
      "source": [
        "embedding_dim = 50\n",
        "\n",
        "embedding_matrix = np.zeros((max_words, embedding_dim))\n",
        "for word, i in word_index.items():\n",
        "    embedding_vector = embeddings_index.get(word)\n",
        "    if i < max_words:\n",
        "        if embedding_vector is not None:\n",
        "            # Words not found in embedding index will be all-zeros.\n",
        "            embedding_matrix[i] = embedding_vector"
      ]
    },
    {
      "cell_type": "markdown",
      "source": [
        "### MODELO 2"
      ],
      "metadata": {
        "id": "goJ9ls22N8K7"
      }
    },
    {
      "cell_type": "markdown",
      "metadata": {
        "id": "Zqvm9DNK5HXs"
      },
      "source": [
        "## Definimos un modelo\n",
        "\n",
        "Usaremos la misma arquitectura de modelo que antes:"
      ]
    },
    {
      "cell_type": "code",
      "execution_count": 95,
      "metadata": {
        "colab": {
          "base_uri": "https://localhost:8080/"
        },
        "id": "QnP6jLBR5HXs",
        "outputId": "a397d626-400f-4215-a650-e88a42d38043"
      },
      "outputs": [
        {
          "output_type": "stream",
          "name": "stdout",
          "text": [
            "Model: \"sequential_10\"\n",
            "_________________________________________________________________\n",
            " Layer (type)                Output Shape              Param #   \n",
            "=================================================================\n",
            " embedding_10 (Embedding)    (None, 20, 50)            445800    \n",
            "                                                                 \n",
            " flatten_10 (Flatten)        (None, 1000)              0         \n",
            "                                                                 \n",
            " dense_10 (Dense)            (None, 1)                 1001      \n",
            "                                                                 \n",
            "=================================================================\n",
            "Total params: 446801 (1.70 MB)\n",
            "Trainable params: 446801 (1.70 MB)\n",
            "Non-trainable params: 0 (0.00 Byte)\n",
            "_________________________________________________________________\n"
          ]
        }
      ],
      "source": [
        "# MODELO 2. EMBEDDINGS PRE-ENTRENADOS CONGELADOS\n",
        "\n",
        "from keras.models import Sequential\n",
        "from keras.layers import Embedding, Flatten, Dense\n",
        "\n",
        "model2 = Sequential()\n",
        "model2.add(Embedding(max_words, embedding_dim, input_length=max_comment_length))\n",
        "model2.add(Flatten())\n",
        "model2.add(Dense(1, activation='sigmoid'))\n",
        "model2.summary()"
      ]
    },
    {
      "cell_type": "markdown",
      "metadata": {
        "id": "Aq9tCKoe5HXs"
      },
      "source": [
        "## Cargar los embeddings GloVe en el modelo\n",
        "\n",
        "\n",
        "The `Embedding` layer has a single weight matrix: a 2D float matrix where each entry `i` is the word vector meant to be associated with\n",
        "index `i`. Simple enough. Let's just load the GloVe matrix we prepared into our `Embedding` layer, the first layer in our model:"
      ]
    },
    {
      "cell_type": "code",
      "execution_count": 96,
      "metadata": {
        "collapsed": true,
        "id": "x38tZ6Fn5HXs"
      },
      "outputs": [],
      "source": [
        "model2.layers[0].set_weights([embedding_matrix])\n",
        "model2.layers[0].trainable = False"
      ]
    },
    {
      "cell_type": "markdown",
      "metadata": {
        "id": "HcWGxxEU5HXt"
      },
      "source": [
        "### Train and evaluate\n",
        "\n",
        "Let's compile our model and train it:"
      ]
    },
    {
      "cell_type": "code",
      "execution_count": 97,
      "metadata": {
        "colab": {
          "base_uri": "https://localhost:8080/"
        },
        "id": "EMK_DYeI5HXt",
        "outputId": "11800887-4c45-43ee-92f3-7fb1c5c937fc"
      },
      "outputs": [
        {
          "output_type": "stream",
          "name": "stdout",
          "text": [
            "Epoch 1/20\n",
            "140/140 [==============================] - 1s 4ms/step - loss: 0.6693 - accuracy: 0.8604 - val_loss: 0.6460 - val_accuracy: 0.8664\n",
            "Epoch 2/20\n",
            "140/140 [==============================] - 0s 2ms/step - loss: 0.6253 - accuracy: 0.8658 - val_loss: 0.6051 - val_accuracy: 0.8664\n",
            "Epoch 3/20\n",
            "140/140 [==============================] - 0s 2ms/step - loss: 0.5876 - accuracy: 0.8658 - val_loss: 0.5701 - val_accuracy: 0.8664\n",
            "Epoch 4/20\n",
            "140/140 [==============================] - 0s 2ms/step - loss: 0.5553 - accuracy: 0.8658 - val_loss: 0.5403 - val_accuracy: 0.8664\n",
            "Epoch 5/20\n",
            "140/140 [==============================] - 0s 2ms/step - loss: 0.5278 - accuracy: 0.8658 - val_loss: 0.5151 - val_accuracy: 0.8664\n",
            "Epoch 6/20\n",
            "140/140 [==============================] - 0s 2ms/step - loss: 0.5046 - accuracy: 0.8658 - val_loss: 0.4938 - val_accuracy: 0.8664\n",
            "Epoch 7/20\n",
            "140/140 [==============================] - 0s 2ms/step - loss: 0.4850 - accuracy: 0.8658 - val_loss: 0.4757 - val_accuracy: 0.8664\n",
            "Epoch 8/20\n",
            "140/140 [==============================] - 0s 3ms/step - loss: 0.4685 - accuracy: 0.8658 - val_loss: 0.4607 - val_accuracy: 0.8664\n",
            "Epoch 9/20\n",
            "140/140 [==============================] - 0s 2ms/step - loss: 0.4548 - accuracy: 0.8658 - val_loss: 0.4481 - val_accuracy: 0.8664\n",
            "Epoch 10/20\n",
            "140/140 [==============================] - 0s 2ms/step - loss: 0.4433 - accuracy: 0.8658 - val_loss: 0.4377 - val_accuracy: 0.8664\n",
            "Epoch 11/20\n",
            "140/140 [==============================] - 0s 3ms/step - loss: 0.4338 - accuracy: 0.8658 - val_loss: 0.4290 - val_accuracy: 0.8664\n",
            "Epoch 12/20\n",
            "140/140 [==============================] - 0s 3ms/step - loss: 0.4259 - accuracy: 0.8658 - val_loss: 0.4218 - val_accuracy: 0.8664\n",
            "Epoch 13/20\n",
            "140/140 [==============================] - 0s 2ms/step - loss: 0.4195 - accuracy: 0.8658 - val_loss: 0.4160 - val_accuracy: 0.8664\n",
            "Epoch 14/20\n",
            "140/140 [==============================] - 0s 3ms/step - loss: 0.4142 - accuracy: 0.8658 - val_loss: 0.4112 - val_accuracy: 0.8664\n",
            "Epoch 15/20\n",
            "140/140 [==============================] - 0s 2ms/step - loss: 0.4100 - accuracy: 0.8658 - val_loss: 0.4073 - val_accuracy: 0.8664\n",
            "Epoch 16/20\n",
            "140/140 [==============================] - 1s 4ms/step - loss: 0.4065 - accuracy: 0.8658 - val_loss: 0.4042 - val_accuracy: 0.8664\n",
            "Epoch 17/20\n",
            "140/140 [==============================] - 1s 4ms/step - loss: 0.4037 - accuracy: 0.8658 - val_loss: 0.4016 - val_accuracy: 0.8664\n",
            "Epoch 18/20\n",
            "140/140 [==============================] - 0s 3ms/step - loss: 0.4015 - accuracy: 0.8658 - val_loss: 0.3998 - val_accuracy: 0.8664\n",
            "Epoch 19/20\n",
            "140/140 [==============================] - 1s 4ms/step - loss: 0.3998 - accuracy: 0.8658 - val_loss: 0.3982 - val_accuracy: 0.8664\n",
            "Epoch 20/20\n",
            "140/140 [==============================] - 0s 3ms/step - loss: 0.3984 - accuracy: 0.8658 - val_loss: 0.3970 - val_accuracy: 0.8664\n",
            "35/35 [==============================] - 0s 2ms/step - loss: 0.3970 - accuracy: 0.8664\n",
            "Accuracy: 86.64%\n"
          ]
        }
      ],
      "source": [
        "model2.compile(optimizer='adam',\n",
        "              loss='binary_crossentropy',\n",
        "              metrics=['accuracy'])\n",
        "\n",
        "history = model2.fit(x_train, y_train,\n",
        "                    epochs=20,\n",
        "                    batch_size=32,\n",
        "                    validation_data=(x_test, y_test))\n",
        "\n",
        "score2 = model2.evaluate(x_test, y_test)\n",
        "print(\"Accuracy: %.2f%%\" % (score2[1]*100))"
      ]
    },
    {
      "cell_type": "markdown",
      "source": [
        "### MODELO 3"
      ],
      "metadata": {
        "id": "EOvSnamPOABV"
      }
    },
    {
      "cell_type": "markdown",
      "source": [],
      "metadata": {
        "id": "RV_kbXbqQr9Y"
      }
    },
    {
      "cell_type": "code",
      "execution_count": 98,
      "metadata": {
        "colab": {
          "base_uri": "https://localhost:8080/"
        },
        "id": "QtegIcSE5HXu",
        "outputId": "a90bd8f8-1eba-4ec3-e9fc-83865e63edfe"
      },
      "outputs": [
        {
          "output_type": "stream",
          "name": "stdout",
          "text": [
            "Model: \"sequential_11\"\n",
            "_________________________________________________________________\n",
            " Layer (type)                Output Shape              Param #   \n",
            "=================================================================\n",
            " embedding_11 (Embedding)    (None, 20, 50)            445800    \n",
            "                                                                 \n",
            " flatten_11 (Flatten)        (None, 1000)              0         \n",
            "                                                                 \n",
            " dense_11 (Dense)            (None, 1)                 1001      \n",
            "                                                                 \n",
            "=================================================================\n",
            "Total params: 446801 (1.70 MB)\n",
            "Trainable params: 446801 (1.70 MB)\n",
            "Non-trainable params: 0 (0.00 Byte)\n",
            "_________________________________________________________________\n",
            "Epoch 1/20\n",
            "140/140 [==============================] - 2s 8ms/step - loss: 0.2937 - accuracy: 0.9251 - val_loss: 0.1182 - val_accuracy: 0.9659\n",
            "Epoch 2/20\n",
            "140/140 [==============================] - 1s 7ms/step - loss: 0.0751 - accuracy: 0.9791 - val_loss: 0.0600 - val_accuracy: 0.9839\n",
            "Epoch 3/20\n",
            "140/140 [==============================] - 1s 7ms/step - loss: 0.0410 - accuracy: 0.9888 - val_loss: 0.0463 - val_accuracy: 0.9874\n",
            "Epoch 4/20\n",
            "140/140 [==============================] - 1s 7ms/step - loss: 0.0270 - accuracy: 0.9928 - val_loss: 0.0415 - val_accuracy: 0.9883\n",
            "Epoch 5/20\n",
            "140/140 [==============================] - 1s 7ms/step - loss: 0.0188 - accuracy: 0.9948 - val_loss: 0.0391 - val_accuracy: 0.9892\n",
            "Epoch 6/20\n",
            "140/140 [==============================] - 1s 8ms/step - loss: 0.0128 - accuracy: 0.9969 - val_loss: 0.0378 - val_accuracy: 0.9892\n",
            "Epoch 7/20\n",
            "140/140 [==============================] - 2s 11ms/step - loss: 0.0090 - accuracy: 0.9987 - val_loss: 0.0390 - val_accuracy: 0.9901\n",
            "Epoch 8/20\n",
            "140/140 [==============================] - 2s 11ms/step - loss: 0.0068 - accuracy: 0.9991 - val_loss: 0.0391 - val_accuracy: 0.9892\n",
            "Epoch 9/20\n",
            "140/140 [==============================] - 1s 8ms/step - loss: 0.0050 - accuracy: 0.9993 - val_loss: 0.0400 - val_accuracy: 0.9883\n",
            "Epoch 10/20\n",
            "140/140 [==============================] - 1s 7ms/step - loss: 0.0040 - accuracy: 0.9996 - val_loss: 0.0401 - val_accuracy: 0.9883\n",
            "Epoch 11/20\n",
            "140/140 [==============================] - 1s 7ms/step - loss: 0.0032 - accuracy: 0.9996 - val_loss: 0.0416 - val_accuracy: 0.9883\n",
            "Epoch 12/20\n",
            "140/140 [==============================] - 1s 7ms/step - loss: 0.0026 - accuracy: 0.9993 - val_loss: 0.0421 - val_accuracy: 0.9883\n",
            "Epoch 13/20\n",
            "140/140 [==============================] - 1s 7ms/step - loss: 0.0021 - accuracy: 0.9998 - val_loss: 0.0437 - val_accuracy: 0.9883\n",
            "Epoch 14/20\n",
            "140/140 [==============================] - 1s 7ms/step - loss: 0.0018 - accuracy: 0.9996 - val_loss: 0.0444 - val_accuracy: 0.9883\n",
            "Epoch 15/20\n",
            "140/140 [==============================] - 1s 7ms/step - loss: 0.0015 - accuracy: 0.9998 - val_loss: 0.0443 - val_accuracy: 0.9865\n",
            "Epoch 16/20\n",
            "140/140 [==============================] - 1s 7ms/step - loss: 0.0013 - accuracy: 0.9998 - val_loss: 0.0471 - val_accuracy: 0.9892\n",
            "Epoch 17/20\n",
            "140/140 [==============================] - 1s 7ms/step - loss: 0.0011 - accuracy: 0.9998 - val_loss: 0.0468 - val_accuracy: 0.9874\n",
            "Epoch 18/20\n",
            "140/140 [==============================] - 1s 7ms/step - loss: 8.9520e-04 - accuracy: 1.0000 - val_loss: 0.0480 - val_accuracy: 0.9874\n",
            "Epoch 19/20\n",
            "140/140 [==============================] - 1s 10ms/step - loss: 7.7538e-04 - accuracy: 1.0000 - val_loss: 0.0495 - val_accuracy: 0.9883\n",
            "Epoch 20/20\n",
            "140/140 [==============================] - 2s 11ms/step - loss: 6.7054e-04 - accuracy: 1.0000 - val_loss: 0.0504 - val_accuracy: 0.9883\n",
            "35/35 [==============================] - 0s 2ms/step - loss: 0.0504 - accuracy: 0.9883\n"
          ]
        }
      ],
      "source": [
        "# MODELO3. EMBEDDINGS PREENTRENADOS SIN CONGELAR\n",
        "\n",
        "from keras.models import Sequential\n",
        "from keras.layers import Embedding, Flatten, Dense\n",
        "\n",
        "model3 = Sequential()\n",
        "model3.add(Embedding(max_words, embedding_dim, input_length=max_comment_length))\n",
        "model3.add(Flatten())\n",
        "model3.add(Dense(1, activation='sigmoid'))\n",
        "model3.summary()\n",
        "\n",
        "model3.layers[0].set_weights([embedding_matrix])\n",
        "model3.layers[0].trainable = True\n",
        "\n",
        "model3.compile(optimizer='adam',\n",
        "              loss='binary_crossentropy',\n",
        "              metrics=['accuracy'])\n",
        "history = model3.fit(x_train, y_train,\n",
        "                    epochs=20,\n",
        "                    batch_size=32,\n",
        "                    validation_data=(x_test, y_test))\n",
        "\n",
        "score3 = model3.evaluate(x_test, y_test)"
      ]
    },
    {
      "cell_type": "markdown",
      "source": [
        "### RESUMEN DE LOS RESULTADOS"
      ],
      "metadata": {
        "id": "pBlUzXYuOHDA"
      }
    },
    {
      "cell_type": "code",
      "execution_count": 99,
      "metadata": {
        "colab": {
          "base_uri": "https://localhost:8080/"
        },
        "id": "PG05YT6hssVI",
        "outputId": "42806645-758c-4f65-be5f-707c1023d0d4"
      },
      "outputs": [
        {
          "output_type": "stream",
          "name": "stdout",
          "text": [
            "Sin word embeddings pre-entrenados\n",
            "Accuracy: 98.83%\n",
            "Con word embeddings pre-entrenados congelados\n",
            "Accuracy: 86.64%\n",
            "Con word embeddings pre-entrenados sin congelar\n",
            "Accuracy: 98.83%\n"
          ]
        }
      ],
      "source": [
        "print(\"Sin word embeddings pre-entrenados\")\n",
        "print(\"Accuracy: %.2f%%\" % (score1[1]*100))\n",
        "print(\"Con word embeddings pre-entrenados congelados\")\n",
        "print(\"Accuracy: %.2f%%\" % (score2[1]*100))\n",
        "print(\"Con word embeddings pre-entrenados sin congelar\")\n",
        "print(\"Accuracy: %.2f%%\" % (score3[1]*100))"
      ]
    },
    {
      "cell_type": "markdown",
      "metadata": {
        "id": "r180VgcW4xHT"
      },
      "source": [
        "# 5) Aplica los modelos construidos a los datos de test y compáralos.\n",
        "\n",
        "Calcula las métricas de recall, precisión y f1.\n",
        "Discute cual es el mejor modelo y cual es peor y porqué."
      ]
    },
    {
      "cell_type": "code",
      "source": [],
      "metadata": {
        "id": "Y7BO6jnUFlqt"
      },
      "execution_count": null,
      "outputs": []
    }
  ],
  "metadata": {
    "colab": {
      "provenance": []
    },
    "kernelspec": {
      "display_name": "Python 3",
      "language": "python",
      "name": "python3"
    },
    "language_info": {
      "codemirror_mode": {
        "name": "ipython",
        "version": 3
      },
      "file_extension": ".py",
      "mimetype": "text/x-python",
      "name": "python",
      "nbconvert_exporter": "python",
      "pygments_lexer": "ipython3",
      "version": "3.8.12"
    }
  },
  "nbformat": 4,
  "nbformat_minor": 0
}