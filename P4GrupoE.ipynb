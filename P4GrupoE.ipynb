{
  "cells": [
    {
      "cell_type": "markdown",
      "metadata": {
        "id": "OUBRwgEu3yu1"
      },
      "source": [
        "# Práctica 4: Procesamiento del Lenguaje Natural\n",
        "\n",
        "## Grupo E: Mario Calvarro y Beñat Pérez\n",
        "\n",
        "__Fecha de entrega: 14 de mayo de 2024__\n",
        "\n",
        "El objetivo de esta práctica es aplicar los conceptos teóricos vistos en clase en el módulo de PLN.\n",
        "\n",
        "Lo más importante en esta práctica no es el código Python, sino el análisis de los datos y modelos que construyas y las explicaciones razonadas de cada una de las decisiones que tomes. __No se valorarán trozos de código o gráficas sin ningún tipo de contexto o explicación__.\n",
        "\n",
        "Finalmente, recuerda establecer el parámetro `random_state` en todas las funciones que tomen decisiones aleatorias para que los resultados sean reproducibles (los resultados no varíen entre ejecuciones)."
      ]
    },
    {
      "cell_type": "markdown",
      "metadata": {
        "id": "yeVD_g2D3yvC"
      },
      "source": [
        "# 1) Carga del conjunto de datos\n",
        "\n",
        "El fichero `spam.csv` contiene mensajes SMS etiquetados como spam or ham (legítimo).\n",
        "\n",
        "Muestra un ejemplo de cada clase.\n",
        "\n",
        "Haz un estudio del conjunto de datos. ¿qué palabras aparecen más veces?, ¿tendría sentido normalizar de alguna manera el corpus?\n",
        "\n",
        "Crea una partición de los datos dejando el 60% para entrenamiento, 20% para validación y el 20% restante para test. Comprueba que la distribución de los ejemplos en las particiones es similar."
      ]
    },
    {
      "cell_type": "code",
      "execution_count": 1,
      "metadata": {
        "id": "V3YxCTUW3yu9"
      },
      "outputs": [],
      "source": [
        "RANDOM_STATE = 1234"
      ]
    },
    {
      "cell_type": "code",
      "source": [
        "# acceso a google drive\n",
        "from google.colab import drive\n",
        "drive.mount('/content/drive')\n"
      ],
      "metadata": {
        "id": "CUSCxqoh40_k",
        "colab": {
          "base_uri": "https://localhost:8080/"
        },
        "outputId": "3b98a7a3-edcf-4e95-d77c-60d55a76ca9f"
      },
      "execution_count": 2,
      "outputs": [
        {
          "output_type": "stream",
          "name": "stdout",
          "text": [
            "Mounted at /content/drive\n"
          ]
        }
      ]
    },
    {
      "cell_type": "code",
      "source": [
        "import pandas as pd\n",
        "import numpy as np\n",
        "import re\n",
        "import nltk\n",
        "import matplotlib.pyplot as plt\n",
        "df1 = pd.read_csv('/content/drive/MyDrive/spam.csv', encoding=\"cp1252\")\n",
        "df1"
      ],
      "metadata": {
        "colab": {
          "base_uri": "https://localhost:8080/",
          "height": 423
        },
        "id": "k9HPGct048c3",
        "outputId": "77f7a6fc-87da-466e-b925-d6c4877b86a1"
      },
      "execution_count": 3,
      "outputs": [
        {
          "output_type": "execute_result",
          "data": {
            "text/plain": [
              "        v1                                                 v2 Unnamed: 2  \\\n",
              "0      ham  Go until jurong point, crazy.. Available only ...        NaN   \n",
              "1      ham                      Ok lar... Joking wif u oni...        NaN   \n",
              "2     spam  Free entry in 2 a wkly comp to win FA Cup fina...        NaN   \n",
              "3      ham  U dun say so early hor... U c already then say...        NaN   \n",
              "4      ham  Nah I don't think he goes to usf, he lives aro...        NaN   \n",
              "...    ...                                                ...        ...   \n",
              "5567  spam  This is the 2nd time we have tried 2 contact u...        NaN   \n",
              "5568   ham              Will Ì_ b going to esplanade fr home?        NaN   \n",
              "5569   ham  Pity, * was in mood for that. So...any other s...        NaN   \n",
              "5570   ham  The guy did some bitching but I acted like i'd...        NaN   \n",
              "5571   ham                         Rofl. Its true to its name        NaN   \n",
              "\n",
              "     Unnamed: 3 Unnamed: 4  \n",
              "0           NaN        NaN  \n",
              "1           NaN        NaN  \n",
              "2           NaN        NaN  \n",
              "3           NaN        NaN  \n",
              "4           NaN        NaN  \n",
              "...         ...        ...  \n",
              "5567        NaN        NaN  \n",
              "5568        NaN        NaN  \n",
              "5569        NaN        NaN  \n",
              "5570        NaN        NaN  \n",
              "5571        NaN        NaN  \n",
              "\n",
              "[5572 rows x 5 columns]"
            ],
            "text/html": [
              "\n",
              "  <div id=\"df-34ca9fee-2363-4390-9e2a-560c109ce1ff\" class=\"colab-df-container\">\n",
              "    <div>\n",
              "<style scoped>\n",
              "    .dataframe tbody tr th:only-of-type {\n",
              "        vertical-align: middle;\n",
              "    }\n",
              "\n",
              "    .dataframe tbody tr th {\n",
              "        vertical-align: top;\n",
              "    }\n",
              "\n",
              "    .dataframe thead th {\n",
              "        text-align: right;\n",
              "    }\n",
              "</style>\n",
              "<table border=\"1\" class=\"dataframe\">\n",
              "  <thead>\n",
              "    <tr style=\"text-align: right;\">\n",
              "      <th></th>\n",
              "      <th>v1</th>\n",
              "      <th>v2</th>\n",
              "      <th>Unnamed: 2</th>\n",
              "      <th>Unnamed: 3</th>\n",
              "      <th>Unnamed: 4</th>\n",
              "    </tr>\n",
              "  </thead>\n",
              "  <tbody>\n",
              "    <tr>\n",
              "      <th>0</th>\n",
              "      <td>ham</td>\n",
              "      <td>Go until jurong point, crazy.. Available only ...</td>\n",
              "      <td>NaN</td>\n",
              "      <td>NaN</td>\n",
              "      <td>NaN</td>\n",
              "    </tr>\n",
              "    <tr>\n",
              "      <th>1</th>\n",
              "      <td>ham</td>\n",
              "      <td>Ok lar... Joking wif u oni...</td>\n",
              "      <td>NaN</td>\n",
              "      <td>NaN</td>\n",
              "      <td>NaN</td>\n",
              "    </tr>\n",
              "    <tr>\n",
              "      <th>2</th>\n",
              "      <td>spam</td>\n",
              "      <td>Free entry in 2 a wkly comp to win FA Cup fina...</td>\n",
              "      <td>NaN</td>\n",
              "      <td>NaN</td>\n",
              "      <td>NaN</td>\n",
              "    </tr>\n",
              "    <tr>\n",
              "      <th>3</th>\n",
              "      <td>ham</td>\n",
              "      <td>U dun say so early hor... U c already then say...</td>\n",
              "      <td>NaN</td>\n",
              "      <td>NaN</td>\n",
              "      <td>NaN</td>\n",
              "    </tr>\n",
              "    <tr>\n",
              "      <th>4</th>\n",
              "      <td>ham</td>\n",
              "      <td>Nah I don't think he goes to usf, he lives aro...</td>\n",
              "      <td>NaN</td>\n",
              "      <td>NaN</td>\n",
              "      <td>NaN</td>\n",
              "    </tr>\n",
              "    <tr>\n",
              "      <th>...</th>\n",
              "      <td>...</td>\n",
              "      <td>...</td>\n",
              "      <td>...</td>\n",
              "      <td>...</td>\n",
              "      <td>...</td>\n",
              "    </tr>\n",
              "    <tr>\n",
              "      <th>5567</th>\n",
              "      <td>spam</td>\n",
              "      <td>This is the 2nd time we have tried 2 contact u...</td>\n",
              "      <td>NaN</td>\n",
              "      <td>NaN</td>\n",
              "      <td>NaN</td>\n",
              "    </tr>\n",
              "    <tr>\n",
              "      <th>5568</th>\n",
              "      <td>ham</td>\n",
              "      <td>Will Ì_ b going to esplanade fr home?</td>\n",
              "      <td>NaN</td>\n",
              "      <td>NaN</td>\n",
              "      <td>NaN</td>\n",
              "    </tr>\n",
              "    <tr>\n",
              "      <th>5569</th>\n",
              "      <td>ham</td>\n",
              "      <td>Pity, * was in mood for that. So...any other s...</td>\n",
              "      <td>NaN</td>\n",
              "      <td>NaN</td>\n",
              "      <td>NaN</td>\n",
              "    </tr>\n",
              "    <tr>\n",
              "      <th>5570</th>\n",
              "      <td>ham</td>\n",
              "      <td>The guy did some bitching but I acted like i'd...</td>\n",
              "      <td>NaN</td>\n",
              "      <td>NaN</td>\n",
              "      <td>NaN</td>\n",
              "    </tr>\n",
              "    <tr>\n",
              "      <th>5571</th>\n",
              "      <td>ham</td>\n",
              "      <td>Rofl. Its true to its name</td>\n",
              "      <td>NaN</td>\n",
              "      <td>NaN</td>\n",
              "      <td>NaN</td>\n",
              "    </tr>\n",
              "  </tbody>\n",
              "</table>\n",
              "<p>5572 rows × 5 columns</p>\n",
              "</div>\n",
              "    <div class=\"colab-df-buttons\">\n",
              "\n",
              "  <div class=\"colab-df-container\">\n",
              "    <button class=\"colab-df-convert\" onclick=\"convertToInteractive('df-34ca9fee-2363-4390-9e2a-560c109ce1ff')\"\n",
              "            title=\"Convert this dataframe to an interactive table.\"\n",
              "            style=\"display:none;\">\n",
              "\n",
              "  <svg xmlns=\"http://www.w3.org/2000/svg\" height=\"24px\" viewBox=\"0 -960 960 960\">\n",
              "    <path d=\"M120-120v-720h720v720H120Zm60-500h600v-160H180v160Zm220 220h160v-160H400v160Zm0 220h160v-160H400v160ZM180-400h160v-160H180v160Zm440 0h160v-160H620v160ZM180-180h160v-160H180v160Zm440 0h160v-160H620v160Z\"/>\n",
              "  </svg>\n",
              "    </button>\n",
              "\n",
              "  <style>\n",
              "    .colab-df-container {\n",
              "      display:flex;\n",
              "      gap: 12px;\n",
              "    }\n",
              "\n",
              "    .colab-df-convert {\n",
              "      background-color: #E8F0FE;\n",
              "      border: none;\n",
              "      border-radius: 50%;\n",
              "      cursor: pointer;\n",
              "      display: none;\n",
              "      fill: #1967D2;\n",
              "      height: 32px;\n",
              "      padding: 0 0 0 0;\n",
              "      width: 32px;\n",
              "    }\n",
              "\n",
              "    .colab-df-convert:hover {\n",
              "      background-color: #E2EBFA;\n",
              "      box-shadow: 0px 1px 2px rgba(60, 64, 67, 0.3), 0px 1px 3px 1px rgba(60, 64, 67, 0.15);\n",
              "      fill: #174EA6;\n",
              "    }\n",
              "\n",
              "    .colab-df-buttons div {\n",
              "      margin-bottom: 4px;\n",
              "    }\n",
              "\n",
              "    [theme=dark] .colab-df-convert {\n",
              "      background-color: #3B4455;\n",
              "      fill: #D2E3FC;\n",
              "    }\n",
              "\n",
              "    [theme=dark] .colab-df-convert:hover {\n",
              "      background-color: #434B5C;\n",
              "      box-shadow: 0px 1px 3px 1px rgba(0, 0, 0, 0.15);\n",
              "      filter: drop-shadow(0px 1px 2px rgba(0, 0, 0, 0.3));\n",
              "      fill: #FFFFFF;\n",
              "    }\n",
              "  </style>\n",
              "\n",
              "    <script>\n",
              "      const buttonEl =\n",
              "        document.querySelector('#df-34ca9fee-2363-4390-9e2a-560c109ce1ff button.colab-df-convert');\n",
              "      buttonEl.style.display =\n",
              "        google.colab.kernel.accessAllowed ? 'block' : 'none';\n",
              "\n",
              "      async function convertToInteractive(key) {\n",
              "        const element = document.querySelector('#df-34ca9fee-2363-4390-9e2a-560c109ce1ff');\n",
              "        const dataTable =\n",
              "          await google.colab.kernel.invokeFunction('convertToInteractive',\n",
              "                                                    [key], {});\n",
              "        if (!dataTable) return;\n",
              "\n",
              "        const docLinkHtml = 'Like what you see? Visit the ' +\n",
              "          '<a target=\"_blank\" href=https://colab.research.google.com/notebooks/data_table.ipynb>data table notebook</a>'\n",
              "          + ' to learn more about interactive tables.';\n",
              "        element.innerHTML = '';\n",
              "        dataTable['output_type'] = 'display_data';\n",
              "        await google.colab.output.renderOutput(dataTable, element);\n",
              "        const docLink = document.createElement('div');\n",
              "        docLink.innerHTML = docLinkHtml;\n",
              "        element.appendChild(docLink);\n",
              "      }\n",
              "    </script>\n",
              "  </div>\n",
              "\n",
              "\n",
              "<div id=\"df-0f7457df-6fb0-4fb3-b358-49450dc0f648\">\n",
              "  <button class=\"colab-df-quickchart\" onclick=\"quickchart('df-0f7457df-6fb0-4fb3-b358-49450dc0f648')\"\n",
              "            title=\"Suggest charts\"\n",
              "            style=\"display:none;\">\n",
              "\n",
              "<svg xmlns=\"http://www.w3.org/2000/svg\" height=\"24px\"viewBox=\"0 0 24 24\"\n",
              "     width=\"24px\">\n",
              "    <g>\n",
              "        <path d=\"M19 3H5c-1.1 0-2 .9-2 2v14c0 1.1.9 2 2 2h14c1.1 0 2-.9 2-2V5c0-1.1-.9-2-2-2zM9 17H7v-7h2v7zm4 0h-2V7h2v10zm4 0h-2v-4h2v4z\"/>\n",
              "    </g>\n",
              "</svg>\n",
              "  </button>\n",
              "\n",
              "<style>\n",
              "  .colab-df-quickchart {\n",
              "      --bg-color: #E8F0FE;\n",
              "      --fill-color: #1967D2;\n",
              "      --hover-bg-color: #E2EBFA;\n",
              "      --hover-fill-color: #174EA6;\n",
              "      --disabled-fill-color: #AAA;\n",
              "      --disabled-bg-color: #DDD;\n",
              "  }\n",
              "\n",
              "  [theme=dark] .colab-df-quickchart {\n",
              "      --bg-color: #3B4455;\n",
              "      --fill-color: #D2E3FC;\n",
              "      --hover-bg-color: #434B5C;\n",
              "      --hover-fill-color: #FFFFFF;\n",
              "      --disabled-bg-color: #3B4455;\n",
              "      --disabled-fill-color: #666;\n",
              "  }\n",
              "\n",
              "  .colab-df-quickchart {\n",
              "    background-color: var(--bg-color);\n",
              "    border: none;\n",
              "    border-radius: 50%;\n",
              "    cursor: pointer;\n",
              "    display: none;\n",
              "    fill: var(--fill-color);\n",
              "    height: 32px;\n",
              "    padding: 0;\n",
              "    width: 32px;\n",
              "  }\n",
              "\n",
              "  .colab-df-quickchart:hover {\n",
              "    background-color: var(--hover-bg-color);\n",
              "    box-shadow: 0 1px 2px rgba(60, 64, 67, 0.3), 0 1px 3px 1px rgba(60, 64, 67, 0.15);\n",
              "    fill: var(--button-hover-fill-color);\n",
              "  }\n",
              "\n",
              "  .colab-df-quickchart-complete:disabled,\n",
              "  .colab-df-quickchart-complete:disabled:hover {\n",
              "    background-color: var(--disabled-bg-color);\n",
              "    fill: var(--disabled-fill-color);\n",
              "    box-shadow: none;\n",
              "  }\n",
              "\n",
              "  .colab-df-spinner {\n",
              "    border: 2px solid var(--fill-color);\n",
              "    border-color: transparent;\n",
              "    border-bottom-color: var(--fill-color);\n",
              "    animation:\n",
              "      spin 1s steps(1) infinite;\n",
              "  }\n",
              "\n",
              "  @keyframes spin {\n",
              "    0% {\n",
              "      border-color: transparent;\n",
              "      border-bottom-color: var(--fill-color);\n",
              "      border-left-color: var(--fill-color);\n",
              "    }\n",
              "    20% {\n",
              "      border-color: transparent;\n",
              "      border-left-color: var(--fill-color);\n",
              "      border-top-color: var(--fill-color);\n",
              "    }\n",
              "    30% {\n",
              "      border-color: transparent;\n",
              "      border-left-color: var(--fill-color);\n",
              "      border-top-color: var(--fill-color);\n",
              "      border-right-color: var(--fill-color);\n",
              "    }\n",
              "    40% {\n",
              "      border-color: transparent;\n",
              "      border-right-color: var(--fill-color);\n",
              "      border-top-color: var(--fill-color);\n",
              "    }\n",
              "    60% {\n",
              "      border-color: transparent;\n",
              "      border-right-color: var(--fill-color);\n",
              "    }\n",
              "    80% {\n",
              "      border-color: transparent;\n",
              "      border-right-color: var(--fill-color);\n",
              "      border-bottom-color: var(--fill-color);\n",
              "    }\n",
              "    90% {\n",
              "      border-color: transparent;\n",
              "      border-bottom-color: var(--fill-color);\n",
              "    }\n",
              "  }\n",
              "</style>\n",
              "\n",
              "  <script>\n",
              "    async function quickchart(key) {\n",
              "      const quickchartButtonEl =\n",
              "        document.querySelector('#' + key + ' button');\n",
              "      quickchartButtonEl.disabled = true;  // To prevent multiple clicks.\n",
              "      quickchartButtonEl.classList.add('colab-df-spinner');\n",
              "      try {\n",
              "        const charts = await google.colab.kernel.invokeFunction(\n",
              "            'suggestCharts', [key], {});\n",
              "      } catch (error) {\n",
              "        console.error('Error during call to suggestCharts:', error);\n",
              "      }\n",
              "      quickchartButtonEl.classList.remove('colab-df-spinner');\n",
              "      quickchartButtonEl.classList.add('colab-df-quickchart-complete');\n",
              "    }\n",
              "    (() => {\n",
              "      let quickchartButtonEl =\n",
              "        document.querySelector('#df-0f7457df-6fb0-4fb3-b358-49450dc0f648 button');\n",
              "      quickchartButtonEl.style.display =\n",
              "        google.colab.kernel.accessAllowed ? 'block' : 'none';\n",
              "    })();\n",
              "  </script>\n",
              "</div>\n",
              "    </div>\n",
              "  </div>\n"
            ],
            "application/vnd.google.colaboratory.intrinsic+json": {
              "type": "dataframe",
              "variable_name": "df1",
              "summary": "{\n  \"name\": \"df1\",\n  \"rows\": 5572,\n  \"fields\": [\n    {\n      \"column\": \"v1\",\n      \"properties\": {\n        \"dtype\": \"category\",\n        \"num_unique_values\": 2,\n        \"samples\": [\n          \"spam\",\n          \"ham\"\n        ],\n        \"semantic_type\": \"\",\n        \"description\": \"\"\n      }\n    },\n    {\n      \"column\": \"v2\",\n      \"properties\": {\n        \"dtype\": \"string\",\n        \"num_unique_values\": 5169,\n        \"samples\": [\n          \"Did u download the fring app?\",\n          \"Pass dis to all ur contacts n see wat u get! Red;i'm in luv wid u. Blue;u put a smile on my face. Purple;u r realy hot. Pink;u r so swt. Orange;i thnk i lyk u. Green;i realy wana go out wid u. Yelow;i wnt u bck. Black;i'm jealous of u. Brown;i miss you Nw plz giv me one color\"\n        ],\n        \"semantic_type\": \"\",\n        \"description\": \"\"\n      }\n    },\n    {\n      \"column\": \"Unnamed: 2\",\n      \"properties\": {\n        \"dtype\": \"category\",\n        \"num_unique_values\": 43,\n        \"samples\": [\n          \" GOD said\",\n          \" SHE SHUDVETOLD U. DID URGRAN KNOW?NEWAY\"\n        ],\n        \"semantic_type\": \"\",\n        \"description\": \"\"\n      }\n    },\n    {\n      \"column\": \"Unnamed: 3\",\n      \"properties\": {\n        \"dtype\": \"category\",\n        \"num_unique_values\": 10,\n        \"samples\": [\n          \" \\\\\\\"OH No! COMPETITION\\\\\\\". Who knew\",\n          \" why to miss them\"\n        ],\n        \"semantic_type\": \"\",\n        \"description\": \"\"\n      }\n    },\n    {\n      \"column\": \"Unnamed: 4\",\n      \"properties\": {\n        \"dtype\": \"category\",\n        \"num_unique_values\": 5,\n        \"samples\": [\n          \"GNT:-)\\\"\",\n          \" one day these two will become FREINDS FOREVER!\\\"\"\n        ],\n        \"semantic_type\": \"\",\n        \"description\": \"\"\n      }\n    }\n  ]\n}"
            }
          },
          "metadata": {},
          "execution_count": 3
        }
      ]
    },
    {
      "cell_type": "markdown",
      "source": [
        "Ahora eliminamos las columnas con valores nulos."
      ],
      "metadata": {
        "id": "b_76t7qpOC3z"
      }
    },
    {
      "cell_type": "code",
      "source": [
        "df1 = df1.iloc[:, :2]\n",
        "df1 = df1.dropna()\n",
        "df1"
      ],
      "metadata": {
        "id": "7hUrClD8GiKK",
        "outputId": "d5e9f373-4aa1-4490-94ad-47433ccd2749",
        "colab": {
          "base_uri": "https://localhost:8080/",
          "height": 423
        }
      },
      "execution_count": 6,
      "outputs": [
        {
          "output_type": "execute_result",
          "data": {
            "text/plain": [
              "        v1                                                 v2\n",
              "0      ham  Go until jurong point, crazy.. Available only ...\n",
              "1      ham                      Ok lar... Joking wif u oni...\n",
              "2     spam  Free entry in 2 a wkly comp to win FA Cup fina...\n",
              "3      ham  U dun say so early hor... U c already then say...\n",
              "4      ham  Nah I don't think he goes to usf, he lives aro...\n",
              "...    ...                                                ...\n",
              "5567  spam  This is the 2nd time we have tried 2 contact u...\n",
              "5568   ham              Will Ì_ b going to esplanade fr home?\n",
              "5569   ham  Pity, * was in mood for that. So...any other s...\n",
              "5570   ham  The guy did some bitching but I acted like i'd...\n",
              "5571   ham                         Rofl. Its true to its name\n",
              "\n",
              "[5572 rows x 2 columns]"
            ],
            "text/html": [
              "\n",
              "  <div id=\"df-d14917af-7905-45da-96e3-7faba0d66079\" class=\"colab-df-container\">\n",
              "    <div>\n",
              "<style scoped>\n",
              "    .dataframe tbody tr th:only-of-type {\n",
              "        vertical-align: middle;\n",
              "    }\n",
              "\n",
              "    .dataframe tbody tr th {\n",
              "        vertical-align: top;\n",
              "    }\n",
              "\n",
              "    .dataframe thead th {\n",
              "        text-align: right;\n",
              "    }\n",
              "</style>\n",
              "<table border=\"1\" class=\"dataframe\">\n",
              "  <thead>\n",
              "    <tr style=\"text-align: right;\">\n",
              "      <th></th>\n",
              "      <th>v1</th>\n",
              "      <th>v2</th>\n",
              "    </tr>\n",
              "  </thead>\n",
              "  <tbody>\n",
              "    <tr>\n",
              "      <th>0</th>\n",
              "      <td>ham</td>\n",
              "      <td>Go until jurong point, crazy.. Available only ...</td>\n",
              "    </tr>\n",
              "    <tr>\n",
              "      <th>1</th>\n",
              "      <td>ham</td>\n",
              "      <td>Ok lar... Joking wif u oni...</td>\n",
              "    </tr>\n",
              "    <tr>\n",
              "      <th>2</th>\n",
              "      <td>spam</td>\n",
              "      <td>Free entry in 2 a wkly comp to win FA Cup fina...</td>\n",
              "    </tr>\n",
              "    <tr>\n",
              "      <th>3</th>\n",
              "      <td>ham</td>\n",
              "      <td>U dun say so early hor... U c already then say...</td>\n",
              "    </tr>\n",
              "    <tr>\n",
              "      <th>4</th>\n",
              "      <td>ham</td>\n",
              "      <td>Nah I don't think he goes to usf, he lives aro...</td>\n",
              "    </tr>\n",
              "    <tr>\n",
              "      <th>...</th>\n",
              "      <td>...</td>\n",
              "      <td>...</td>\n",
              "    </tr>\n",
              "    <tr>\n",
              "      <th>5567</th>\n",
              "      <td>spam</td>\n",
              "      <td>This is the 2nd time we have tried 2 contact u...</td>\n",
              "    </tr>\n",
              "    <tr>\n",
              "      <th>5568</th>\n",
              "      <td>ham</td>\n",
              "      <td>Will Ì_ b going to esplanade fr home?</td>\n",
              "    </tr>\n",
              "    <tr>\n",
              "      <th>5569</th>\n",
              "      <td>ham</td>\n",
              "      <td>Pity, * was in mood for that. So...any other s...</td>\n",
              "    </tr>\n",
              "    <tr>\n",
              "      <th>5570</th>\n",
              "      <td>ham</td>\n",
              "      <td>The guy did some bitching but I acted like i'd...</td>\n",
              "    </tr>\n",
              "    <tr>\n",
              "      <th>5571</th>\n",
              "      <td>ham</td>\n",
              "      <td>Rofl. Its true to its name</td>\n",
              "    </tr>\n",
              "  </tbody>\n",
              "</table>\n",
              "<p>5572 rows × 2 columns</p>\n",
              "</div>\n",
              "    <div class=\"colab-df-buttons\">\n",
              "\n",
              "  <div class=\"colab-df-container\">\n",
              "    <button class=\"colab-df-convert\" onclick=\"convertToInteractive('df-d14917af-7905-45da-96e3-7faba0d66079')\"\n",
              "            title=\"Convert this dataframe to an interactive table.\"\n",
              "            style=\"display:none;\">\n",
              "\n",
              "  <svg xmlns=\"http://www.w3.org/2000/svg\" height=\"24px\" viewBox=\"0 -960 960 960\">\n",
              "    <path d=\"M120-120v-720h720v720H120Zm60-500h600v-160H180v160Zm220 220h160v-160H400v160Zm0 220h160v-160H400v160ZM180-400h160v-160H180v160Zm440 0h160v-160H620v160ZM180-180h160v-160H180v160Zm440 0h160v-160H620v160Z\"/>\n",
              "  </svg>\n",
              "    </button>\n",
              "\n",
              "  <style>\n",
              "    .colab-df-container {\n",
              "      display:flex;\n",
              "      gap: 12px;\n",
              "    }\n",
              "\n",
              "    .colab-df-convert {\n",
              "      background-color: #E8F0FE;\n",
              "      border: none;\n",
              "      border-radius: 50%;\n",
              "      cursor: pointer;\n",
              "      display: none;\n",
              "      fill: #1967D2;\n",
              "      height: 32px;\n",
              "      padding: 0 0 0 0;\n",
              "      width: 32px;\n",
              "    }\n",
              "\n",
              "    .colab-df-convert:hover {\n",
              "      background-color: #E2EBFA;\n",
              "      box-shadow: 0px 1px 2px rgba(60, 64, 67, 0.3), 0px 1px 3px 1px rgba(60, 64, 67, 0.15);\n",
              "      fill: #174EA6;\n",
              "    }\n",
              "\n",
              "    .colab-df-buttons div {\n",
              "      margin-bottom: 4px;\n",
              "    }\n",
              "\n",
              "    [theme=dark] .colab-df-convert {\n",
              "      background-color: #3B4455;\n",
              "      fill: #D2E3FC;\n",
              "    }\n",
              "\n",
              "    [theme=dark] .colab-df-convert:hover {\n",
              "      background-color: #434B5C;\n",
              "      box-shadow: 0px 1px 3px 1px rgba(0, 0, 0, 0.15);\n",
              "      filter: drop-shadow(0px 1px 2px rgba(0, 0, 0, 0.3));\n",
              "      fill: #FFFFFF;\n",
              "    }\n",
              "  </style>\n",
              "\n",
              "    <script>\n",
              "      const buttonEl =\n",
              "        document.querySelector('#df-d14917af-7905-45da-96e3-7faba0d66079 button.colab-df-convert');\n",
              "      buttonEl.style.display =\n",
              "        google.colab.kernel.accessAllowed ? 'block' : 'none';\n",
              "\n",
              "      async function convertToInteractive(key) {\n",
              "        const element = document.querySelector('#df-d14917af-7905-45da-96e3-7faba0d66079');\n",
              "        const dataTable =\n",
              "          await google.colab.kernel.invokeFunction('convertToInteractive',\n",
              "                                                    [key], {});\n",
              "        if (!dataTable) return;\n",
              "\n",
              "        const docLinkHtml = 'Like what you see? Visit the ' +\n",
              "          '<a target=\"_blank\" href=https://colab.research.google.com/notebooks/data_table.ipynb>data table notebook</a>'\n",
              "          + ' to learn more about interactive tables.';\n",
              "        element.innerHTML = '';\n",
              "        dataTable['output_type'] = 'display_data';\n",
              "        await google.colab.output.renderOutput(dataTable, element);\n",
              "        const docLink = document.createElement('div');\n",
              "        docLink.innerHTML = docLinkHtml;\n",
              "        element.appendChild(docLink);\n",
              "      }\n",
              "    </script>\n",
              "  </div>\n",
              "\n",
              "\n",
              "<div id=\"df-a1a216cc-b3f5-451b-84b6-16a9d480b32d\">\n",
              "  <button class=\"colab-df-quickchart\" onclick=\"quickchart('df-a1a216cc-b3f5-451b-84b6-16a9d480b32d')\"\n",
              "            title=\"Suggest charts\"\n",
              "            style=\"display:none;\">\n",
              "\n",
              "<svg xmlns=\"http://www.w3.org/2000/svg\" height=\"24px\"viewBox=\"0 0 24 24\"\n",
              "     width=\"24px\">\n",
              "    <g>\n",
              "        <path d=\"M19 3H5c-1.1 0-2 .9-2 2v14c0 1.1.9 2 2 2h14c1.1 0 2-.9 2-2V5c0-1.1-.9-2-2-2zM9 17H7v-7h2v7zm4 0h-2V7h2v10zm4 0h-2v-4h2v4z\"/>\n",
              "    </g>\n",
              "</svg>\n",
              "  </button>\n",
              "\n",
              "<style>\n",
              "  .colab-df-quickchart {\n",
              "      --bg-color: #E8F0FE;\n",
              "      --fill-color: #1967D2;\n",
              "      --hover-bg-color: #E2EBFA;\n",
              "      --hover-fill-color: #174EA6;\n",
              "      --disabled-fill-color: #AAA;\n",
              "      --disabled-bg-color: #DDD;\n",
              "  }\n",
              "\n",
              "  [theme=dark] .colab-df-quickchart {\n",
              "      --bg-color: #3B4455;\n",
              "      --fill-color: #D2E3FC;\n",
              "      --hover-bg-color: #434B5C;\n",
              "      --hover-fill-color: #FFFFFF;\n",
              "      --disabled-bg-color: #3B4455;\n",
              "      --disabled-fill-color: #666;\n",
              "  }\n",
              "\n",
              "  .colab-df-quickchart {\n",
              "    background-color: var(--bg-color);\n",
              "    border: none;\n",
              "    border-radius: 50%;\n",
              "    cursor: pointer;\n",
              "    display: none;\n",
              "    fill: var(--fill-color);\n",
              "    height: 32px;\n",
              "    padding: 0;\n",
              "    width: 32px;\n",
              "  }\n",
              "\n",
              "  .colab-df-quickchart:hover {\n",
              "    background-color: var(--hover-bg-color);\n",
              "    box-shadow: 0 1px 2px rgba(60, 64, 67, 0.3), 0 1px 3px 1px rgba(60, 64, 67, 0.15);\n",
              "    fill: var(--button-hover-fill-color);\n",
              "  }\n",
              "\n",
              "  .colab-df-quickchart-complete:disabled,\n",
              "  .colab-df-quickchart-complete:disabled:hover {\n",
              "    background-color: var(--disabled-bg-color);\n",
              "    fill: var(--disabled-fill-color);\n",
              "    box-shadow: none;\n",
              "  }\n",
              "\n",
              "  .colab-df-spinner {\n",
              "    border: 2px solid var(--fill-color);\n",
              "    border-color: transparent;\n",
              "    border-bottom-color: var(--fill-color);\n",
              "    animation:\n",
              "      spin 1s steps(1) infinite;\n",
              "  }\n",
              "\n",
              "  @keyframes spin {\n",
              "    0% {\n",
              "      border-color: transparent;\n",
              "      border-bottom-color: var(--fill-color);\n",
              "      border-left-color: var(--fill-color);\n",
              "    }\n",
              "    20% {\n",
              "      border-color: transparent;\n",
              "      border-left-color: var(--fill-color);\n",
              "      border-top-color: var(--fill-color);\n",
              "    }\n",
              "    30% {\n",
              "      border-color: transparent;\n",
              "      border-left-color: var(--fill-color);\n",
              "      border-top-color: var(--fill-color);\n",
              "      border-right-color: var(--fill-color);\n",
              "    }\n",
              "    40% {\n",
              "      border-color: transparent;\n",
              "      border-right-color: var(--fill-color);\n",
              "      border-top-color: var(--fill-color);\n",
              "    }\n",
              "    60% {\n",
              "      border-color: transparent;\n",
              "      border-right-color: var(--fill-color);\n",
              "    }\n",
              "    80% {\n",
              "      border-color: transparent;\n",
              "      border-right-color: var(--fill-color);\n",
              "      border-bottom-color: var(--fill-color);\n",
              "    }\n",
              "    90% {\n",
              "      border-color: transparent;\n",
              "      border-bottom-color: var(--fill-color);\n",
              "    }\n",
              "  }\n",
              "</style>\n",
              "\n",
              "  <script>\n",
              "    async function quickchart(key) {\n",
              "      const quickchartButtonEl =\n",
              "        document.querySelector('#' + key + ' button');\n",
              "      quickchartButtonEl.disabled = true;  // To prevent multiple clicks.\n",
              "      quickchartButtonEl.classList.add('colab-df-spinner');\n",
              "      try {\n",
              "        const charts = await google.colab.kernel.invokeFunction(\n",
              "            'suggestCharts', [key], {});\n",
              "      } catch (error) {\n",
              "        console.error('Error during call to suggestCharts:', error);\n",
              "      }\n",
              "      quickchartButtonEl.classList.remove('colab-df-spinner');\n",
              "      quickchartButtonEl.classList.add('colab-df-quickchart-complete');\n",
              "    }\n",
              "    (() => {\n",
              "      let quickchartButtonEl =\n",
              "        document.querySelector('#df-a1a216cc-b3f5-451b-84b6-16a9d480b32d button');\n",
              "      quickchartButtonEl.style.display =\n",
              "        google.colab.kernel.accessAllowed ? 'block' : 'none';\n",
              "    })();\n",
              "  </script>\n",
              "</div>\n",
              "    </div>\n",
              "  </div>\n"
            ],
            "application/vnd.google.colaboratory.intrinsic+json": {
              "type": "dataframe",
              "variable_name": "df1",
              "summary": "{\n  \"name\": \"df1\",\n  \"rows\": 5572,\n  \"fields\": [\n    {\n      \"column\": \"v1\",\n      \"properties\": {\n        \"dtype\": \"category\",\n        \"num_unique_values\": 2,\n        \"samples\": [\n          \"spam\",\n          \"ham\"\n        ],\n        \"semantic_type\": \"\",\n        \"description\": \"\"\n      }\n    },\n    {\n      \"column\": \"v2\",\n      \"properties\": {\n        \"dtype\": \"string\",\n        \"num_unique_values\": 5169,\n        \"samples\": [\n          \"Did u download the fring app?\",\n          \"Pass dis to all ur contacts n see wat u get! Red;i'm in luv wid u. Blue;u put a smile on my face. Purple;u r realy hot. Pink;u r so swt. Orange;i thnk i lyk u. Green;i realy wana go out wid u. Yelow;i wnt u bck. Black;i'm jealous of u. Brown;i miss you Nw plz giv me one color\"\n        ],\n        \"semantic_type\": \"\",\n        \"description\": \"\"\n      }\n    }\n  ]\n}"
            }
          },
          "metadata": {},
          "execution_count": 6
        }
      ]
    },
    {
      "cell_type": "markdown",
      "source": [
        "Y vemos un ejemplo de cada tipo:"
      ],
      "metadata": {
        "id": "lA5xlC_otNur"
      }
    },
    {
      "cell_type": "code",
      "source": [
        "for clase in df1['v1'].unique():\n",
        " if not pd.isna(clase):\n",
        "      # Obtener el primer elemento de cada clase\n",
        "      primer_elemento = df1[df1['v1'] == clase].iloc[0]\n",
        "      # Agregarlo al diccionario\n",
        "      print(primer_elemento)"
      ],
      "metadata": {
        "id": "8n2NhNqI7pB4",
        "colab": {
          "base_uri": "https://localhost:8080/"
        },
        "outputId": "44d16343-2fcd-4c47-e287-1e42a3d2e7d6"
      },
      "execution_count": 7,
      "outputs": [
        {
          "output_type": "stream",
          "name": "stdout",
          "text": [
            "v1                                                  ham\n",
            "v2    Go until jurong point, crazy.. Available only ...\n",
            "Name: 0, dtype: object\n",
            "v1                                                 spam\n",
            "v2    Free entry in 2 a wkly comp to win FA Cup fina...\n",
            "Name: 2, dtype: object\n"
          ]
        }
      ]
    },
    {
      "cell_type": "markdown",
      "source": [
        "Así como el número de mensajes de cada tipo."
      ],
      "metadata": {
        "id": "HpRkC01utR-o"
      }
    },
    {
      "cell_type": "code",
      "source": [
        "print(df1['v1'].value_counts())"
      ],
      "metadata": {
        "id": "QmetXzn583gV",
        "colab": {
          "base_uri": "https://localhost:8080/"
        },
        "outputId": "d755bc88-ce96-45d8-b760-03065f44ad94"
      },
      "execution_count": null,
      "outputs": [
        {
          "output_type": "stream",
          "name": "stdout",
          "text": [
            "v1\n",
            "ham     4825\n",
            "spam     747\n",
            "Name: count, dtype: int64\n"
          ]
        }
      ]
    },
    {
      "cell_type": "markdown",
      "source": [
        "Vemos que la cantidad de mensajes del tipo *ham* aparece mucho más que el tipo *spam* lo que indica que el *dataset* no esta balanceado. Por tanto, a la hora de sacar conclusiones tendremos que tener en mente este hecho, ya que podría suceder que no fueran todo lo representativas que quisiéramos."
      ],
      "metadata": {
        "id": "iFOBmvDa9Qbg"
      }
    },
    {
      "cell_type": "markdown",
      "source": [
        "A continuación normalizaremos el documento eliminando caracteres especiales, pasando a minúsculas y eliminando palabras vacías."
      ],
      "metadata": {
        "id": "6i8nFNEY-NtH"
      }
    },
    {
      "cell_type": "code",
      "source": [
        "wpt = nltk.WordPunctTokenizer()\n",
        "nltk.download('stopwords')\n",
        "stop_words = nltk.corpus.stopwords.words('english')\n",
        "\n",
        "def normalize_document(doc):\n",
        "    # lower case and remove special characters\\whitespaces\n",
        "    doc = re.sub(r'[^a-zA-Z\\s]', '', doc, re.I|re.A)\n",
        "    doc = doc.lower()\n",
        "    doc = doc.strip()\n",
        "    # tokenize document\n",
        "    tokens = wpt.tokenize(doc)\n",
        "    # filter stopwords out of document\n",
        "    filtered_tokens = [token for token in tokens if token not in stop_words]\n",
        "    # re-create document from filtered tokens\n",
        "    doc = ' '.join(filtered_tokens)\n",
        "    return doc\n",
        "\n",
        "normalize_corpus = np.vectorize(normalize_document)"
      ],
      "metadata": {
        "colab": {
          "base_uri": "https://localhost:8080/"
        },
        "id": "6TtJNEc6-M79",
        "outputId": "ebcf04d8-30c4-461a-917f-f4e74de72e58"
      },
      "execution_count": 8,
      "outputs": [
        {
          "output_type": "stream",
          "name": "stderr",
          "text": [
            "[nltk_data] Downloading package stopwords to /root/nltk_data...\n",
            "[nltk_data]   Unzipping corpora/stopwords.zip.\n"
          ]
        }
      ]
    },
    {
      "cell_type": "code",
      "source": [
        "from sklearn.feature_extraction.text import CountVectorizer\n",
        "\n",
        "# Normalizamos los datos\n",
        "datos_normalizados = normalize_corpus(df1['v2'].values)\n",
        "\n",
        "cv = CountVectorizer()\n",
        "cv_matrix = cv.fit_transform(datos_normalizados)\n",
        "cv_matrix = cv_matrix.toarray()\n",
        "suma_columnas = cv_matrix.sum(axis = 0)\n",
        "indice_columna_maxima = np.argmax(suma_columnas)\n",
        "\n",
        "nombres_columnas = cv.get_feature_names_out()\n",
        "\n",
        "print(f\"La palabra más repetida es '{nombres_columnas[indice_columna_maxima]}'.\")\n",
        "print(f\"Se repite un total de {np.max(suma_columnas)} veces.\")"
      ],
      "metadata": {
        "colab": {
          "base_uri": "https://localhost:8080/"
        },
        "id": "1_sHM_xS-BxQ",
        "outputId": "d206f821-b811-4676-a41f-a754213e59b8"
      },
      "execution_count": 9,
      "outputs": [
        {
          "output_type": "stream",
          "name": "stdout",
          "text": [
            "La palabra más repetida es 'call'.\n",
            "Se repite un total de 579 veces.\n"
          ]
        }
      ]
    },
    {
      "cell_type": "markdown",
      "source": [
        "Creamos ahora la partición del dataset."
      ],
      "metadata": {
        "id": "d5KSCbAwUpfZ"
      }
    },
    {
      "cell_type": "code",
      "source": [
        "# Aplicamos la normalización de los datos sobre el dataset\n",
        "df1['v2'] = df1['v2'].apply(lambda x: normalize_corpus(x))\n",
        "\n",
        "from sklearn.model_selection import train_test_split\n",
        "\n",
        "# Creamos una partición temporal del 40%\n",
        "train_df, temp_df = train_test_split(df1, test_size=0.4, random_state=RANDOM_STATE)\n",
        "\n",
        "# Del 40% temporal, 50% a test y 50% a validación\n",
        "val_df, test_df = train_test_split(temp_df, test_size=0.5, random_state=RANDOM_STATE)"
      ],
      "metadata": {
        "id": "klEPrFRbUt77"
      },
      "execution_count": 10,
      "outputs": []
    },
    {
      "cell_type": "markdown",
      "metadata": {
        "id": "r4rXv3xX3yvG"
      },
      "source": [
        "# 2) Representación como bolsa de palabras\n",
        "\n",
        "Elige justificadamente una representación de bolsa de palabras y aplícala.\n",
        "Muestra un ejemplo antes y después de aplicar la representación. Explica los cambios."
      ]
    },
    {
      "cell_type": "markdown",
      "source": [
        "Debido a que las palabras que se encuentran en el corpus pueden o no estar en un diccionario habitual (ya que utilizan una «jerga» de los SMS en la que las palabras se acortan) y no aparecen demasiadas palabras \"raras\" (números sueltos y demás símbolos), nos hemos decantado por usar el diccionario inferido por el conjunto de entrenamiento. Para eliminar las palabras con poco valor diferenciador, aplicaremos una transformación TF-IDF."
      ],
      "metadata": {
        "id": "xMZETF0jhU6G"
      }
    },
    {
      "cell_type": "code",
      "source": [
        "import numpy as np\n",
        "import numpy.ma as ma\n",
        "\n",
        "def write_terms (feature_names, data, vector_data, index):\n",
        "    '''\n",
        "    Escribe los términos presentes en un mensaje representado como bolsa de palabras.\n",
        "\n",
        "    - feature_names: terminos usados para vectorizar\n",
        "    - data: lista de mensajes original (si data==None no se muestra el mensaje original)\n",
        "    - vector_data: matriz (dispersa) de mensaje vectorizados\n",
        "    - index: posición del mensaje a mostrar\n",
        "    '''\n",
        "    # máscara para seleccionar sólo el mensaje en posición index\n",
        "    mask=vector_data[index,:]>0\n",
        "\n",
        "    # términos que aparecen en ese mensaje vectorizado\n",
        "    terminos = ma.array(feature_names, mask = ~(mask[0].toarray()))\n",
        "\n",
        "    # mostrar mensaje original\n",
        "    if data is not None:\n",
        "        print('Mensaje', index, ':', data[index])\n",
        "\n",
        "    # mostrar términos que aparecen en el mensaje vectorizado\n",
        "    print('Mensaje', index, 'vectorizado:', terminos.compressed(),'\\n')"
      ],
      "metadata": {
        "id": "2GYCVAd0bic5"
      },
      "execution_count": 11,
      "outputs": []
    },
    {
      "cell_type": "code",
      "source": [
        "from sklearn.feature_extraction.text import TfidfTransformer\n",
        "\n",
        "vectorizer = CountVectorizer(stop_words='english')\n",
        "\n",
        "# Tomamos los textos del conjunto de entrenamiento y los transformamos en\n",
        "# una matriz de datos (palabras) según el diccionario estándar\n",
        "train_vector_data = vectorizer.fit_transform(train_df['v2'])\n",
        "\n",
        "# Sacamos las palabras asociadas a los vectores\n",
        "feature_names = vectorizer.get_feature_names_out()\n",
        "\n",
        "tfidfer = TfidfTransformer()\n",
        "train_preprocessed = tfidfer.fit_transform(train_vector_data)"
      ],
      "metadata": {
        "id": "ejUtnRiSZ_6M"
      },
      "execution_count": 12,
      "outputs": []
    },
    {
      "cell_type": "code",
      "source": [
        "write_terms(feature_names, train_df['v2'].values, train_preprocessed, 100)"
      ],
      "metadata": {
        "colab": {
          "base_uri": "https://localhost:8080/"
        },
        "id": "pTllAL9Vbvsm",
        "outputId": "275d4758-d367-486e-c0af-157c2572b5f8"
      },
      "execution_count": 14,
      "outputs": [
        {
          "output_type": "stream",
          "name": "stdout",
          "text": [
            "Mensaje 100 : got video tape pple type message lor u free wan help hee cos noe u wan watch infernal affairs ask u along asking shuhui oso\n",
            "Mensaje 100 vectorizado: ['affairs' 'ask' 'asking' 'cos' 'free' 'got' 'hee' 'help' 'infernal' 'lor'\n",
            " 'message' 'noe' 'oso' 'pple' 'shuhui' 'tape' 'type' 'video' 'wan' 'watch'] \n",
            "\n"
          ]
        }
      ]
    },
    {
      "cell_type": "markdown",
      "source": [
        "Los datos que hemos usado para entrenar el `CountVectorizer` y el `TfidfTransformer` son los de entrenamiento que hemos sacado al hacer las particiones.\n",
        "\n",
        "El ejemplo de mensaje que hemos puesto (el 100 de entre los de entrenamiento) muestra la diferencia entre el original y el vector de la bolsa de palabras que surge de él. Podemos apreciar que el vector no tiene palabras repetidas y palabras muy comunes como *u* han sido ignoradas.\n",
        "\n",
        "Ahora aplicamos las transformaciones sobre los datos de test y validación."
      ],
      "metadata": {
        "id": "nFE9HgqqiePx"
      }
    },
    {
      "cell_type": "code",
      "source": [
        "# Test\n",
        "test_vector_data = vectorizer.transform(test_df['v2'])\n",
        "test_preprocessed = tfidfer.transform(test_vector_data)\n",
        "\n",
        "# Validación\n",
        "val_vector_data = vectorizer.transform(val_df['v2'])\n",
        "val_preprocessed = tfidfer.transform(val_vector_data)"
      ],
      "metadata": {
        "id": "mHW1qafDk41x"
      },
      "execution_count": 15,
      "outputs": []
    },
    {
      "cell_type": "markdown",
      "metadata": {
        "id": "jaUSgloS4xHS"
      },
      "source": [
        "# 3) Aplica 3 algoritmos de aprendizaje automático para resolver la tarea\n",
        "\n",
        "Justifica porqué los has elegido.\n",
        "Ajusta los modelos respecto a un hiperparámetro que consideres oportuno. Justifica tu elección.\n",
        "Explica los resultados obtenidos."
      ]
    },
    {
      "cell_type": "markdown",
      "source": [
        "## Árbol de decisión\n",
        "Como en la anterior práctica usaremos árboles de decisión. El hiperparámetro que optimizaremos será, de nuevo, la profundidad máxima."
      ],
      "metadata": {
        "id": "0RqABpqlsFud"
      }
    },
    {
      "cell_type": "code",
      "source": [
        "from sklearn.tree import DecisionTreeClassifier\n",
        "import matplotlib.pyplot as plt\n",
        "from sklearn.model_selection import cross_validate\n",
        "\n",
        "train_accuracy = []\n",
        "test_accuracy = []\n",
        "\n",
        "# Entrenamos y validamos varios árboles con distintas profundidades máximas\n",
        "max_depths = range(1, 20)\n",
        "for md in max_depths:\n",
        "    clf = DecisionTreeClassifier(criterion=\"entropy\", max_depth=md, min_samples_split=2, random_state=RANDOM_STATE)\n",
        "    scores = cross_validate(clf, train_preprocessed, train_df['v1'].values, scoring='accuracy', cv=10, return_train_score=True)\n",
        "\n",
        "    train_accuracy.append(np.mean(scores['train_score']))\n",
        "    test_accuracy.append(np.mean(scores['test_score']))\n",
        "\n",
        "\n",
        "# Draw lines\n",
        "plt.plot(max_depths, train_accuracy, color=\"r\",  label=\"Training\")\n",
        "plt.plot(max_depths, test_accuracy, color=\"g\", label=\"Test\")\n",
        "\n",
        "# Create plot\n",
        "plt.title(\"Curva de aprendizaje\")\n",
        "plt.xlabel(\"Parametro\"), plt.ylabel(\"Accuracy Score\"), plt.legend(loc=\"best\")\n",
        "plt.tight_layout()\n",
        "plt.show()"
      ],
      "metadata": {
        "colab": {
          "base_uri": "https://localhost:8080/",
          "height": 487
        },
        "id": "15CdhylusSFW",
        "outputId": "6c1b5e3e-381b-40c5-c586-9a1f4dde6d0b"
      },
      "execution_count": 16,
      "outputs": [
        {
          "output_type": "display_data",
          "data": {
            "text/plain": [
              "<Figure size 640x480 with 1 Axes>"
            ],
            "image/png": "[encoded data removed]"
          },
          "metadata": {}
        }
      ]
    },
    {
      "cell_type": "markdown",
      "source": [
        "Como podemos apreciar a partir del valor `10` el algoritmo comienza a tener overfitting y los resultados del test no mejoran por lo que usaremos ese valor."
      ],
      "metadata": {
        "id": "FRa7EagQt8WB"
      }
    },
    {
      "cell_type": "code",
      "source": [
        "tree_classifier = DecisionTreeClassifier(criterion=\"entropy\", max_depth=10, min_samples_split=2, random_state=RANDOM_STATE)\n",
        "tree_classifier.fit(train_preprocessed, train_df['v1'].values)\n",
        "\n",
        "tree_train_predictions = tree_classifier.predict(train_preprocessed)\n",
        "tree_test_predictions = tree_classifier.predict(test_preprocessed)\n",
        "\n",
        "print(\"Árbol, porcentaje de aciertos en entrenamiento:\", np.mean(tree_train_predictions == train_df['v1'].values))\n",
        "print(\"Árbol, porcentaje de aciertos en test:\", np.mean(tree_test_predictions == test_df['v1'].values))"
      ],
      "metadata": {
        "colab": {
          "base_uri": "https://localhost:8080/"
        },
        "id": "ow1x3kQUuJhZ",
        "outputId": "97884b25-785f-4d30-f5e3-8c359c6af204"
      },
      "execution_count": 17,
      "outputs": [
        {
          "output_type": "stream",
          "name": "stdout",
          "text": [
            "Árbol, porcentaje de aciertos en entrenamiento: 0.9661980257253964\n",
            "Árbol, porcentaje de aciertos en test: 0.9372197309417041\n"
          ]
        }
      ]
    },
    {
      "cell_type": "markdown",
      "source": [
        "Podemos apreciar que este algoritmo con esta profundidad aporta un alto porcentaje de aciertos (93%) incluso en un *dataset* sobre el que no ha sido entrenado."
      ],
      "metadata": {
        "id": "CLbMtZdHuyb2"
      }
    },
    {
      "cell_type": "markdown",
      "source": [
        "## K-NN\n",
        "Como en la anterior práctica usaremos `k` vecinos más cercanos. El hiperparámetro que optimizaremos será, de nuevo, el número de vecinos.\n",
        "Ya adelantamos que este algoritmo no es la mejor opción debido a que sufre la «maldición de la dimensionalidad» que en esta clase de problemas es muy acusada (muchas dimensiones y matrices muy dispersas) lo que causará que el algoritmo tenga un rendimiento muy pobre."
      ],
      "metadata": {
        "id": "PFxJE1YGvNJf"
      }
    },
    {
      "cell_type": "code",
      "source": [
        "import matplotlib.pyplot as plt\n",
        "from sklearn.neighbors import KNeighborsClassifier\n",
        "from sklearn.model_selection import cross_validate\n",
        "\n",
        "test_accuracy = []\n",
        "test_std = []\n",
        "\n",
        "# Entrenamos y validamos varios algoritmos con distinto número de vecinos\n",
        "num_vec = range(1, 15)\n",
        "for nv in num_vec:\n",
        "    clf = KNeighborsClassifier(n_neighbors=nv, weights='distance')\n",
        "    scores = cross_validate(clf, train_preprocessed, train_df['v1'].values, scoring='accuracy', cv=10, return_train_score=True)\n",
        "\n",
        "    test_accuracy.append(np.mean(scores['test_score']))\n",
        "    test_std.append(np.std(scores['test_score']))\n",
        "\n",
        "\n",
        "# Dibujamos la línea con la accuracy (exactitud) en el test\n",
        "plt.plot(num_vec, test_accuracy, color=\"g\", label=\"Accuracy\")\n",
        "\n",
        "# Dibujamos la banda de la desviación típica\n",
        "lower_limit = np.array(test_accuracy) - np.array(test_std)\n",
        "upper_limit = np.array(test_accuracy) + np.array(test_std)\n",
        "plt.fill_between(num_vec, lower_limit, upper_limit, color=\"#DDDDDD\")\n",
        "\n",
        "# Creamos el gráfico\n",
        "plt.title(\"Curva de aprendizaje\")\n",
        "plt.xlabel(\"Parametro\"), plt.ylabel(\"Accuracy Score\"), plt.legend(loc=\"best\")\n",
        "plt.tight_layout()\n",
        "plt.show()"
      ],
      "metadata": {
        "colab": {
          "base_uri": "https://localhost:8080/",
          "height": 487
        },
        "id": "B3RU2Eepv4x2",
        "outputId": "69e03c3c-e44a-45ec-e07b-e6ba408cd04b"
      },
      "execution_count": 18,
      "outputs": [
        {
          "output_type": "display_data",
          "data": {
            "text/plain": [
              "<Figure size 640x480 with 1 Axes>"
            ],
            "image/png": "[encoded data removed]"
          },
          "metadata": {}
        }
      ]
    },
    {
      "cell_type": "markdown",
      "source": [
        "Como podemos apreciar este algoritmo comienza a perder precisión a partir de un valor del hiperparámetro muy bajo, `2`."
      ],
      "metadata": {
        "id": "DEG9Lakbz8yb"
      }
    },
    {
      "cell_type": "code",
      "source": [
        "knn_classifier = KNeighborsClassifier(n_neighbors=2, weights='distance')\n",
        "knn_classifier.fit(train_preprocessed, train_df['v1'].values)\n",
        "\n",
        "knn_train_predictions = knn_classifier.predict(train_preprocessed)\n",
        "knn_test_predictions = knn_classifier.predict(test_preprocessed)\n",
        "\n",
        "print(\"k-NN, porcentaje de aciertos en entrenamiento:\", np.mean(knn_train_predictions == train_df['v1'].values))\n",
        "print(\"k-NN, porcentaje de aciertos en test:\", np.mean(knn_test_predictions == test_df['v1'].values))"
      ],
      "metadata": {
        "colab": {
          "base_uri": "https://localhost:8080/"
        },
        "id": "_FoHtmf-0LKg",
        "outputId": "7ddbac60-847e-4bcf-8fda-e138e7f5319e"
      },
      "execution_count": 19,
      "outputs": [
        {
          "output_type": "stream",
          "name": "stdout",
          "text": [
            "k-NN, porcentaje de aciertos en entrenamiento: 1.0\n",
            "k-NN, porcentaje de aciertos en test: 0.947085201793722\n"
          ]
        }
      ]
    },
    {
      "cell_type": "markdown",
      "source": [
        "A pesar de todo, este algoritmo sigue aportando un resultado más que aceptable."
      ],
      "metadata": {
        "id": "wxmWFjU00h72"
      }
    },
    {
      "cell_type": "markdown",
      "source": [
        "## Naive Bayes\n",
        "Como clasificador *Naive Bayes* usaremos el **Bernoulli** ya que es el más apto para clasificar documentos cortos y detectar contenido muy específico (como es en este caso ser o no *spam*). Ya que los datos que surgen de aplicar TF-IDF son continuos y este algoritmo necesita valores binarios, usaremos como hiperpárametro el *threshold* a partir del cuál se «binariza» un valor."
      ],
      "metadata": {
        "id": "49SDF9-jyPtz"
      }
    },
    {
      "cell_type": "code",
      "source": [
        "from sklearn.naive_bayes import BernoulliNB\n",
        "import matplotlib.pyplot as plt\n",
        "from sklearn.model_selection import cross_validate\n",
        "\n",
        "train_accuracy = []\n",
        "test_accuracy = []\n",
        "\n",
        "# Entrenamos y validamos varios thresholds\n",
        "thres = [x / 10 for x in range(0, 11)]\n",
        "for th in thres:\n",
        "    clf = BernoulliNB(binarize=th)\n",
        "    scores = cross_validate(clf, train_preprocessed, train_df['v1'].values, scoring='accuracy', cv=10, return_train_score=True)\n",
        "\n",
        "    train_accuracy.append(np.mean(scores['train_score']))\n",
        "    test_accuracy.append(np.mean(scores['test_score']))\n",
        "\n",
        "\n",
        "# Draw lines\n",
        "plt.plot(thres, train_accuracy, color=\"r\",  label=\"Training\")\n",
        "plt.plot(thres, test_accuracy, color=\"g\", label=\"Test\")\n",
        "\n",
        "# Create plot\n",
        "plt.title(\"Curva de aprendizaje\")\n",
        "plt.xlabel(\"Parametro\"), plt.ylabel(\"Accuracy Score\"), plt.legend(loc=\"best\")\n",
        "plt.tight_layout()\n",
        "plt.show()"
      ],
      "metadata": {
        "colab": {
          "base_uri": "https://localhost:8080/",
          "height": 487
        },
        "id": "rM_msft1zmcu",
        "outputId": "ce72f089-7618-4079-91f3-b62fbae5f1eb"
      },
      "execution_count": 20,
      "outputs": [
        {
          "output_type": "display_data",
          "data": {
            "text/plain": [
              "<Figure size 640x480 with 1 Axes>"
            ],
            "image/png": "[encoded data removed]"
          },
          "metadata": {}
        }
      ]
    },
    {
      "cell_type": "markdown",
      "source": [
        "Claramente, un valor bajo, `0.2`, es la mejor opción en este caso."
      ],
      "metadata": {
        "id": "aI_D4gEd2r4l"
      }
    },
    {
      "cell_type": "code",
      "source": [
        "bnb_classifier = BernoulliNB(binarize=0.2)\n",
        "\n",
        "bnb_classifier.fit(train_preprocessed, train_df['v1'].values)\n",
        "\n",
        "bnb_train_predictions = bnb_classifier.predict(train_preprocessed)\n",
        "bnb_test_predictions = bnb_classifier.predict(test_preprocessed)\n",
        "\n",
        "print(\"Multinomial Naive Bayes, porcentaje de aciertos en entrenamiento:\", np.mean(bnb_train_predictions == train_df['v1'].values))\n",
        "print(\"Multinomial Naive Bayes, porcentaje de aciertos en test:\", np.mean(bnb_test_predictions == test_df['v1'].values))"
      ],
      "metadata": {
        "colab": {
          "base_uri": "https://localhost:8080/"
        },
        "id": "mkNNsBCi2zAi",
        "outputId": "e74abdef-3d31-42e9-be2c-c0952cbaf9c2"
      },
      "execution_count": 21,
      "outputs": [
        {
          "output_type": "stream",
          "name": "stdout",
          "text": [
            "Multinomial Naive Bayes, porcentaje de aciertos en entrenamiento: 0.9814537840263237\n",
            "Multinomial Naive Bayes, porcentaje de aciertos en test: 0.9614349775784753\n"
          ]
        }
      ]
    },
    {
      "cell_type": "markdown",
      "source": [
        "Este algoritmo aporta los mejores resultados sobre las métricas que comparamos teniendo un coste computacional sustancialmente menor."
      ],
      "metadata": {
        "id": "MDxJbgG03NrV"
      }
    },
    {
      "cell_type": "markdown",
      "metadata": {
        "id": "eV9JSByt4xHS"
      },
      "source": [
        "# 4) Construye redes neuronales con Keras con distintas maneras de usar word embeddings\n",
        "\n",
        "Justifica tus decisiones y explica los resultados obtenidos."
      ]
    },
    {
      "cell_type": "markdown",
      "source": [
        "A continuación, veremos distintas formas de usar word embeddings:"
      ],
      "metadata": {
        "id": "3vGA0fMxWCC-"
      }
    },
    {
      "cell_type": "code",
      "execution_count": 22,
      "metadata": {
        "colab": {
          "base_uri": "https://localhost:8080/"
        },
        "id": "jWi6XDaxBAom",
        "outputId": "3e118a95-da2e-457b-c1af-502c2721fca5"
      },
      "outputs": [
        {
          "output_type": "stream",
          "name": "stdout",
          "text": [
            "Se han encontrado 8407 tokens únicos.\n"
          ]
        }
      ],
      "source": [
        "from keras.preprocessing.text import Tokenizer\n",
        "from keras.utils import pad_sequences\n",
        "\n",
        "max_words = 1500\n",
        "max_comment_length = 20\n",
        "\n",
        "df1['v1'] = df1['v1'].replace({'ham': 1, 'spam': 0})\n",
        "\n",
        "tokenizer = Tokenizer(num_words=max_words)\n",
        "tokenizer.fit_on_texts(df1.v2)\n",
        "\n",
        "sequences = tokenizer.texts_to_sequences(df1.v2)\n",
        "\n",
        "word_index = tokenizer.word_index\n",
        "print('Se han encontrado %s tokens únicos.' % len(word_index))\n",
        "max_words = len(word_index)\n",
        "\n",
        "data = pad_sequences(sequences, maxlen=max_comment_length)"
      ]
    },
    {
      "cell_type": "code",
      "execution_count": 23,
      "metadata": {
        "colab": {
          "base_uri": "https://localhost:8080/"
        },
        "id": "ccvxgdjZ0NwO",
        "outputId": "fcbd9a96-d11b-486c-c735-79fd017650a2"
      },
      "outputs": [
        {
          "output_type": "stream",
          "name": "stdout",
          "text": [
            "nah dont think goes usf lives around though\n",
            "[  0   0   0   0   0   0   0   0   0   0   0   0   0 815   6  44 356 763\n",
            " 119 357]\n",
            "1\n"
          ]
        }
      ],
      "source": [
        "print(df1.v2[4])\n",
        "print(data[4])\n",
        "print(df1.v1[4])"
      ]
    },
    {
      "cell_type": "code",
      "execution_count": 24,
      "metadata": {
        "colab": {
          "base_uri": "https://localhost:8080/"
        },
        "id": "vHUP_sBf9IQt",
        "outputId": "6f898329-d36c-4911-fc5d-67e679ac434f"
      },
      "outputs": [
        {
          "output_type": "stream",
          "name": "stdout",
          "text": [
            "Textos de entrenamiento: 4457\n",
            "Testear textos: 1115\n"
          ]
        }
      ],
      "source": [
        "from sklearn.model_selection import train_test_split\n",
        "\n",
        "df1['v1'].replace({'ham': 1, 'spam': 0})\n",
        "d=df1.values\n",
        "\n",
        "x_train, x_test, y_train, y_test = train_test_split(data, df1.v1, test_size=0.20, random_state=RANDOM_STATE, stratify = df1.v1)\n",
        "\n",
        "print(\"Textos de entrenamiento:\", len(y_train))\n",
        "print(\"Testear textos:\", len(y_test))"
      ]
    },
    {
      "cell_type": "code",
      "execution_count": 25,
      "metadata": {
        "id": "6YL5tXWuu1v6"
      },
      "outputs": [],
      "source": [
        "# Fijamos el tamaño de los embedding a 50 dimensiones\n",
        "\n",
        "embedding_dim = 50"
      ]
    },
    {
      "cell_type": "markdown",
      "source": [
        "###MODELO 1"
      ],
      "metadata": {
        "id": "5a_IPWx9NpPK"
      }
    },
    {
      "cell_type": "markdown",
      "source": [
        "En primer lugar, veamos como se comporta sin embeddings pre-entrenados."
      ],
      "metadata": {
        "id": "O_SERmdOWX19"
      }
    },
    {
      "cell_type": "code",
      "execution_count": 26,
      "metadata": {
        "colab": {
          "base_uri": "https://localhost:8080/"
        },
        "id": "2P1FmfpU5HXn",
        "outputId": "5907840c-35f4-49f3-a6f9-3ce0fdfa25ba"
      },
      "outputs": [
        {
          "output_type": "stream",
          "name": "stdout",
          "text": [
            "Model: \"sequential\"\n",
            "_________________________________________________________________\n",
            " Layer (type)                Output Shape              Param #   \n",
            "=================================================================\n",
            " embedding (Embedding)       (None, 20, 50)            420350    \n",
            "                                                                 \n",
            " flatten (Flatten)           (None, 1000)              0         \n",
            "                                                                 \n",
            " dense (Dense)               (None, 1)                 1001      \n",
            "                                                                 \n",
            "=================================================================\n",
            "Total params: 421351 (1.61 MB)\n",
            "Trainable params: 421351 (1.61 MB)\n",
            "Non-trainable params: 0 (0.00 Byte)\n",
            "_________________________________________________________________\n",
            "Epoch 1/20\n",
            "140/140 [==============================] - 2s 9ms/step - loss: 0.3299 - accuracy: 0.8802 - val_loss: 0.1840 - val_accuracy: 0.9363\n",
            "Epoch 2/20\n",
            "140/140 [==============================] - 1s 8ms/step - loss: 0.1180 - accuracy: 0.9686 - val_loss: 0.0819 - val_accuracy: 0.9758\n",
            "Epoch 3/20\n",
            "140/140 [==============================] - 1s 7ms/step - loss: 0.0635 - accuracy: 0.9829 - val_loss: 0.0600 - val_accuracy: 0.9839\n",
            "Epoch 4/20\n",
            "140/140 [==============================] - 1s 7ms/step - loss: 0.0440 - accuracy: 0.9890 - val_loss: 0.0518 - val_accuracy: 0.9839\n",
            "Epoch 5/20\n",
            "140/140 [==============================] - 1s 10ms/step - loss: 0.0324 - accuracy: 0.9908 - val_loss: 0.0482 - val_accuracy: 0.9857\n",
            "Epoch 6/20\n",
            "140/140 [==============================] - 2s 11ms/step - loss: 0.0248 - accuracy: 0.9926 - val_loss: 0.0455 - val_accuracy: 0.9857\n",
            "Epoch 7/20\n",
            "140/140 [==============================] - 2s 11ms/step - loss: 0.0196 - accuracy: 0.9957 - val_loss: 0.0449 - val_accuracy: 0.9857\n",
            "Epoch 8/20\n",
            "140/140 [==============================] - 1s 8ms/step - loss: 0.0155 - accuracy: 0.9969 - val_loss: 0.0447 - val_accuracy: 0.9857\n",
            "Epoch 9/20\n",
            "140/140 [==============================] - 1s 7ms/step - loss: 0.0124 - accuracy: 0.9973 - val_loss: 0.0456 - val_accuracy: 0.9874\n",
            "Epoch 10/20\n",
            "140/140 [==============================] - 1s 7ms/step - loss: 0.0105 - accuracy: 0.9982 - val_loss: 0.0461 - val_accuracy: 0.9857\n",
            "Epoch 11/20\n",
            "140/140 [==============================] - 1s 7ms/step - loss: 0.0092 - accuracy: 0.9982 - val_loss: 0.0466 - val_accuracy: 0.9857\n",
            "Epoch 12/20\n",
            "140/140 [==============================] - 1s 7ms/step - loss: 0.0080 - accuracy: 0.9984 - val_loss: 0.0473 - val_accuracy: 0.9865\n",
            "Epoch 13/20\n",
            "140/140 [==============================] - 1s 7ms/step - loss: 0.0068 - accuracy: 0.9989 - val_loss: 0.0485 - val_accuracy: 0.9857\n",
            "Epoch 14/20\n",
            "140/140 [==============================] - 1s 7ms/step - loss: 0.0061 - accuracy: 0.9989 - val_loss: 0.0495 - val_accuracy: 0.9857\n",
            "Epoch 15/20\n",
            "140/140 [==============================] - 1s 6ms/step - loss: 0.0057 - accuracy: 0.9991 - val_loss: 0.0507 - val_accuracy: 0.9857\n",
            "Epoch 16/20\n",
            "140/140 [==============================] - 1s 6ms/step - loss: 0.0051 - accuracy: 0.9991 - val_loss: 0.0521 - val_accuracy: 0.9857\n",
            "Epoch 17/20\n",
            "140/140 [==============================] - 1s 6ms/step - loss: 0.0047 - accuracy: 0.9991 - val_loss: 0.0532 - val_accuracy: 0.9857\n",
            "Epoch 18/20\n",
            "140/140 [==============================] - 1s 7ms/step - loss: 0.0044 - accuracy: 0.9993 - val_loss: 0.0539 - val_accuracy: 0.9857\n",
            "Epoch 19/20\n",
            "140/140 [==============================] - 1s 10ms/step - loss: 0.0042 - accuracy: 0.9991 - val_loss: 0.0554 - val_accuracy: 0.9830\n",
            "Epoch 20/20\n",
            "140/140 [==============================] - 2s 11ms/step - loss: 0.0038 - accuracy: 0.9996 - val_loss: 0.0569 - val_accuracy: 0.9839\n",
            "35/35 [==============================] - 0s 1ms/step - loss: 0.0569 - accuracy: 0.9839\n",
            "Precisión: 98.39%\n"
          ]
        }
      ],
      "source": [
        "# MODELO 1. SIN EMBEDDINGS PRE-ENTRENADOS\n",
        "\n",
        "from keras.models import Sequential\n",
        "from keras.layers import Flatten, Dense, Embedding\n",
        "\n",
        "model1 = Sequential()\n",
        "\n",
        "model1.add(Embedding(max_words, embedding_dim, input_length=max_comment_length))\n",
        "\n",
        "model1.add(Flatten())\n",
        "\n",
        "# Añadimos el clasificador\n",
        "model1.add(Dense(1, activation='sigmoid'))\n",
        "\n",
        "model1.compile(optimizer='adam', loss='binary_crossentropy', metrics=['accuracy'])\n",
        "model1.summary()\n",
        "\n",
        "history = model1.fit(x_train, y_train,\n",
        "                    epochs=20,\n",
        "                    batch_size=32,\n",
        "                    validation_data=(x_test, y_test))\n",
        "\n",
        "score1 = model1.evaluate(x_test, y_test)\n",
        "\n",
        "print(\"Precisión: %.2f%%\" % (score1[1]*100))"
      ]
    },
    {
      "cell_type": "markdown",
      "source": [
        "Como podemos observar, utilizando una capa de embedding la precisión es del 98 %."
      ],
      "metadata": {
        "id": "Cm5hEqHyWcdb"
      }
    },
    {
      "cell_type": "markdown",
      "source": [
        "### MODELO 2"
      ],
      "metadata": {
        "id": "goJ9ls22N8K7"
      }
    },
    {
      "cell_type": "markdown",
      "source": [
        "#### EMBEDDINGS PRE-ENTRENADOS"
      ],
      "metadata": {
        "id": "lpRDcjKYS_PC"
      }
    },
    {
      "cell_type": "markdown",
      "source": [
        "Ahora utilizaremos un embeddings pre-entrenados. Para ellos, haremos uso del word embedding GloVe"
      ],
      "metadata": {
        "id": "9DHX8dQ6W8JK"
      }
    },
    {
      "cell_type": "code",
      "execution_count": 27,
      "metadata": {
        "colab": {
          "base_uri": "https://localhost:8080/"
        },
        "id": "fEZv4hve5HXr",
        "outputId": "db231fb9-266f-45d9-8757-bc33f47bfcb0"
      },
      "outputs": [
        {
          "output_type": "stream",
          "name": "stdout",
          "text": [
            "Se han encontrado 400000 vectores de palabras.\n"
          ]
        }
      ],
      "source": [
        "import os\n",
        "import numpy as np\n",
        "\n",
        "glove_dir = '/content/drive/MyDrive/'\n",
        "\n",
        "embeddings_index = {}\n",
        "f = open(os.path.join(glove_dir, 'glove.6B.50d.txt'))\n",
        "for line in f:\n",
        "    values = line.split()\n",
        "    word = values[0]\n",
        "    coefs = np.asarray(values[1:], dtype='float32')\n",
        "    embeddings_index[word] = coefs\n",
        "f.close()\n",
        "\n",
        "print('Se han encontrado %s vectores de palabras.' % len(embeddings_index))"
      ]
    },
    {
      "cell_type": "code",
      "execution_count": 28,
      "metadata": {
        "collapsed": true,
        "id": "m5Zs0sIU5HXs"
      },
      "outputs": [],
      "source": [
        "embedding_dim = 50\n",
        "\n",
        "embedding_matrix = np.zeros((max_words, embedding_dim))\n",
        "for word, i in word_index.items():\n",
        "    embedding_vector = embeddings_index.get(word)\n",
        "    if i < max_words:\n",
        "        if embedding_vector is not None:\n",
        "            # La palabras no encontradas serán 0.\n",
        "            embedding_matrix[i] = embedding_vector"
      ]
    },
    {
      "cell_type": "markdown",
      "metadata": {
        "id": "Zqvm9DNK5HXs"
      },
      "source": [
        "#### Definimos un modelo\n",
        "\n",
        "Usaremos la misma arquitectura de modelo que antes:"
      ]
    },
    {
      "cell_type": "code",
      "execution_count": 29,
      "metadata": {
        "colab": {
          "base_uri": "https://localhost:8080/"
        },
        "id": "QnP6jLBR5HXs",
        "outputId": "c8056ed0-2ee5-4419-f3c8-b56fb929c8aa"
      },
      "outputs": [
        {
          "output_type": "stream",
          "name": "stdout",
          "text": [
            "Model: \"sequential_1\"\n",
            "_________________________________________________________________\n",
            " Layer (type)                Output Shape              Param #   \n",
            "=================================================================\n",
            " embedding_1 (Embedding)     (None, 20, 50)            420350    \n",
            "                                                                 \n",
            " flatten_1 (Flatten)         (None, 1000)              0         \n",
            "                                                                 \n",
            " dense_1 (Dense)             (None, 1)                 1001      \n",
            "                                                                 \n",
            "=================================================================\n",
            "Total params: 421351 (1.61 MB)\n",
            "Trainable params: 421351 (1.61 MB)\n",
            "Non-trainable params: 0 (0.00 Byte)\n",
            "_________________________________________________________________\n"
          ]
        }
      ],
      "source": [
        "# MODELO 2. EMBEDDINGS PRE-ENTRENADOS CONGELADOS\n",
        "\n",
        "from keras.models import Sequential\n",
        "from keras.layers import Embedding, Flatten, Dense\n",
        "\n",
        "model2 = Sequential()\n",
        "model2.add(Embedding(max_words, embedding_dim, input_length=max_comment_length))\n",
        "model2.add(Flatten())\n",
        "model2.add(Dense(1, activation='sigmoid'))\n",
        "model2.summary()"
      ]
    },
    {
      "cell_type": "markdown",
      "source": [
        "La capa de Embedding tiene una sola matriz de pesos, una matriz bidimensional donde cada entrada i es el vector de palabras asociadas al índice i. Procedamos a cargar dicha matriz:"
      ],
      "metadata": {
        "id": "OicO7PGJXMFY"
      }
    },
    {
      "cell_type": "code",
      "execution_count": 30,
      "metadata": {
        "collapsed": true,
        "id": "x38tZ6Fn5HXs"
      },
      "outputs": [],
      "source": [
        "model2.layers[0].set_weights([embedding_matrix])\n",
        "model2.layers[0].trainable = False"
      ]
    },
    {
      "cell_type": "markdown",
      "metadata": {
        "id": "HcWGxxEU5HXt"
      },
      "source": [
        "#### Entrenar y evaluar\n",
        "\n",
        "Compilemos nuestro modelo y evaluémoslo."
      ]
    },
    {
      "cell_type": "code",
      "execution_count": 31,
      "metadata": {
        "colab": {
          "base_uri": "https://localhost:8080/"
        },
        "id": "EMK_DYeI5HXt",
        "outputId": "2a3ee5cc-06b0-47fb-f38d-85a15e3522ee"
      },
      "outputs": [
        {
          "output_type": "stream",
          "name": "stdout",
          "text": [
            "Epoch 1/20\n",
            "140/140 [==============================] - 1s 5ms/step - loss: 0.3496 - accuracy: 0.8791 - val_loss: 0.2287 - val_accuracy: 0.9354\n",
            "Epoch 2/20\n",
            "140/140 [==============================] - 0s 3ms/step - loss: 0.2001 - accuracy: 0.9450 - val_loss: 0.1804 - val_accuracy: 0.9471\n",
            "Epoch 3/20\n",
            "140/140 [==============================] - 0s 2ms/step - loss: 0.1661 - accuracy: 0.9567 - val_loss: 0.1616 - val_accuracy: 0.9525\n",
            "Epoch 4/20\n",
            "140/140 [==============================] - 0s 2ms/step - loss: 0.1485 - accuracy: 0.9625 - val_loss: 0.1506 - val_accuracy: 0.9543\n",
            "Epoch 5/20\n",
            "140/140 [==============================] - 0s 2ms/step - loss: 0.1366 - accuracy: 0.9650 - val_loss: 0.1429 - val_accuracy: 0.9552\n",
            "Epoch 6/20\n",
            "140/140 [==============================] - 0s 2ms/step - loss: 0.1281 - accuracy: 0.9675 - val_loss: 0.1375 - val_accuracy: 0.9543\n",
            "Epoch 7/20\n",
            "140/140 [==============================] - 0s 3ms/step - loss: 0.1209 - accuracy: 0.9679 - val_loss: 0.1329 - val_accuracy: 0.9587\n",
            "Epoch 8/20\n",
            "140/140 [==============================] - 0s 2ms/step - loss: 0.1150 - accuracy: 0.9693 - val_loss: 0.1293 - val_accuracy: 0.9561\n",
            "Epoch 9/20\n",
            "140/140 [==============================] - 0s 2ms/step - loss: 0.1104 - accuracy: 0.9722 - val_loss: 0.1260 - val_accuracy: 0.9578\n",
            "Epoch 10/20\n",
            "140/140 [==============================] - 0s 2ms/step - loss: 0.1057 - accuracy: 0.9740 - val_loss: 0.1236 - val_accuracy: 0.9587\n",
            "Epoch 11/20\n",
            "140/140 [==============================] - 0s 2ms/step - loss: 0.1020 - accuracy: 0.9753 - val_loss: 0.1224 - val_accuracy: 0.9578\n",
            "Epoch 12/20\n",
            "140/140 [==============================] - 0s 2ms/step - loss: 0.0986 - accuracy: 0.9764 - val_loss: 0.1188 - val_accuracy: 0.9596\n",
            "Epoch 13/20\n",
            "140/140 [==============================] - 0s 3ms/step - loss: 0.0951 - accuracy: 0.9773 - val_loss: 0.1176 - val_accuracy: 0.9605\n",
            "Epoch 14/20\n",
            "140/140 [==============================] - 0s 2ms/step - loss: 0.0924 - accuracy: 0.9767 - val_loss: 0.1155 - val_accuracy: 0.9596\n",
            "Epoch 15/20\n",
            "140/140 [==============================] - 0s 2ms/step - loss: 0.0897 - accuracy: 0.9778 - val_loss: 0.1136 - val_accuracy: 0.9578\n",
            "Epoch 16/20\n",
            "140/140 [==============================] - 0s 2ms/step - loss: 0.0871 - accuracy: 0.9787 - val_loss: 0.1125 - val_accuracy: 0.9596\n",
            "Epoch 17/20\n",
            "140/140 [==============================] - 0s 2ms/step - loss: 0.0847 - accuracy: 0.9789 - val_loss: 0.1109 - val_accuracy: 0.9596\n",
            "Epoch 18/20\n",
            "140/140 [==============================] - 0s 2ms/step - loss: 0.0829 - accuracy: 0.9800 - val_loss: 0.1105 - val_accuracy: 0.9596\n",
            "Epoch 19/20\n",
            "140/140 [==============================] - 0s 3ms/step - loss: 0.0807 - accuracy: 0.9805 - val_loss: 0.1088 - val_accuracy: 0.9614\n",
            "Epoch 20/20\n",
            "140/140 [==============================] - 0s 2ms/step - loss: 0.0788 - accuracy: 0.9796 - val_loss: 0.1078 - val_accuracy: 0.9605\n",
            "35/35 [==============================] - 0s 2ms/step - loss: 0.1078 - accuracy: 0.9605\n",
            "Precisión: 96.05%\n"
          ]
        }
      ],
      "source": [
        "model2.compile(optimizer='adam',\n",
        "              loss='binary_crossentropy',\n",
        "              metrics=['accuracy'])\n",
        "\n",
        "history = model2.fit(x_train, y_train,\n",
        "                    epochs=20,\n",
        "                    batch_size=32,\n",
        "                    validation_data=(x_test, y_test))\n",
        "\n",
        "score2 = model2.evaluate(x_test, y_test)\n",
        "print(\"Precisión: %.2f%%\" % (score2[1]*100))"
      ]
    },
    {
      "cell_type": "markdown",
      "source": [
        "Obtenemos un 96 % de precisión con el modelo pre-procesado congelado."
      ],
      "metadata": {
        "id": "mApnpYuIXvpk"
      }
    },
    {
      "cell_type": "markdown",
      "source": [
        "### MODELO 3"
      ],
      "metadata": {
        "id": "EOvSnamPOABV"
      }
    },
    {
      "cell_type": "markdown",
      "source": [
        "También podemos entrenar el mismo modelo sin congelar la capa de embedding."
      ],
      "metadata": {
        "id": "RV_kbXbqQr9Y"
      }
    },
    {
      "cell_type": "code",
      "execution_count": 32,
      "metadata": {
        "colab": {
          "base_uri": "https://localhost:8080/"
        },
        "id": "QtegIcSE5HXu",
        "outputId": "3f9b9a8e-733e-41de-cf19-47c170ebd92f"
      },
      "outputs": [
        {
          "output_type": "stream",
          "name": "stdout",
          "text": [
            "Model: \"sequential_2\"\n",
            "_________________________________________________________________\n",
            " Layer (type)                Output Shape              Param #   \n",
            "=================================================================\n",
            " embedding_2 (Embedding)     (None, 20, 50)            420350    \n",
            "                                                                 \n",
            " flatten_2 (Flatten)         (None, 1000)              0         \n",
            "                                                                 \n",
            " dense_2 (Dense)             (None, 1)                 1001      \n",
            "                                                                 \n",
            "=================================================================\n",
            "Total params: 421351 (1.61 MB)\n",
            "Trainable params: 421351 (1.61 MB)\n",
            "Non-trainable params: 0 (0.00 Byte)\n",
            "_________________________________________________________________\n",
            "Epoch 1/20\n",
            "140/140 [==============================] - 2s 8ms/step - loss: 0.3015 - accuracy: 0.8858 - val_loss: 0.1577 - val_accuracy: 0.9516\n",
            "Epoch 2/20\n",
            "140/140 [==============================] - 1s 6ms/step - loss: 0.1268 - accuracy: 0.9596 - val_loss: 0.1105 - val_accuracy: 0.9632\n",
            "Epoch 3/20\n",
            "140/140 [==============================] - 1s 6ms/step - loss: 0.0920 - accuracy: 0.9731 - val_loss: 0.0891 - val_accuracy: 0.9704\n",
            "Epoch 4/20\n",
            "140/140 [==============================] - 1s 6ms/step - loss: 0.0719 - accuracy: 0.9798 - val_loss: 0.0750 - val_accuracy: 0.9758\n",
            "Epoch 5/20\n",
            "140/140 [==============================] - 1s 6ms/step - loss: 0.0581 - accuracy: 0.9827 - val_loss: 0.0655 - val_accuracy: 0.9758\n",
            "Epoch 6/20\n",
            "140/140 [==============================] - 1s 6ms/step - loss: 0.0478 - accuracy: 0.9865 - val_loss: 0.0588 - val_accuracy: 0.9803\n",
            "Epoch 7/20\n",
            "140/140 [==============================] - 1s 6ms/step - loss: 0.0397 - accuracy: 0.9888 - val_loss: 0.0541 - val_accuracy: 0.9848\n",
            "Epoch 8/20\n",
            "140/140 [==============================] - 1s 6ms/step - loss: 0.0339 - accuracy: 0.9906 - val_loss: 0.0508 - val_accuracy: 0.9848\n",
            "Epoch 9/20\n",
            "140/140 [==============================] - 1s 7ms/step - loss: 0.0284 - accuracy: 0.9928 - val_loss: 0.0486 - val_accuracy: 0.9857\n",
            "Epoch 10/20\n",
            "140/140 [==============================] - 1s 9ms/step - loss: 0.0243 - accuracy: 0.9937 - val_loss: 0.0469 - val_accuracy: 0.9865\n",
            "Epoch 11/20\n",
            "140/140 [==============================] - 1s 10ms/step - loss: 0.0211 - accuracy: 0.9946 - val_loss: 0.0459 - val_accuracy: 0.9874\n",
            "Epoch 12/20\n",
            "140/140 [==============================] - 1s 10ms/step - loss: 0.0182 - accuracy: 0.9955 - val_loss: 0.0446 - val_accuracy: 0.9865\n",
            "Epoch 13/20\n",
            "140/140 [==============================] - 1s 7ms/step - loss: 0.0159 - accuracy: 0.9962 - val_loss: 0.0442 - val_accuracy: 0.9865\n",
            "Epoch 14/20\n",
            "140/140 [==============================] - 1s 6ms/step - loss: 0.0141 - accuracy: 0.9964 - val_loss: 0.0443 - val_accuracy: 0.9874\n",
            "Epoch 15/20\n",
            "140/140 [==============================] - 1s 6ms/step - loss: 0.0125 - accuracy: 0.9966 - val_loss: 0.0439 - val_accuracy: 0.9883\n",
            "Epoch 16/20\n",
            "140/140 [==============================] - 1s 6ms/step - loss: 0.0112 - accuracy: 0.9973 - val_loss: 0.0441 - val_accuracy: 0.9883\n",
            "Epoch 17/20\n",
            "140/140 [==============================] - 1s 6ms/step - loss: 0.0100 - accuracy: 0.9978 - val_loss: 0.0441 - val_accuracy: 0.9883\n",
            "Epoch 18/20\n",
            "140/140 [==============================] - 1s 6ms/step - loss: 0.0090 - accuracy: 0.9984 - val_loss: 0.0447 - val_accuracy: 0.9892\n",
            "Epoch 19/20\n",
            "140/140 [==============================] - 1s 6ms/step - loss: 0.0083 - accuracy: 0.9982 - val_loss: 0.0445 - val_accuracy: 0.9892\n",
            "Epoch 20/20\n",
            "140/140 [==============================] - 1s 6ms/step - loss: 0.0074 - accuracy: 0.9987 - val_loss: 0.0451 - val_accuracy: 0.9892\n",
            "35/35 [==============================] - 0s 2ms/step - loss: 0.0451 - accuracy: 0.9892\n",
            "Precisión: 98.92%\n"
          ]
        }
      ],
      "source": [
        "# MODELO3. EMBEDDINGS PREENTRENADOS SIN CONGELAR\n",
        "\n",
        "from keras.models import Sequential\n",
        "from keras.layers import Embedding, Flatten, Dense\n",
        "\n",
        "model3 = Sequential()\n",
        "model3.add(Embedding(max_words, embedding_dim, input_length=max_comment_length))\n",
        "model3.add(Flatten())\n",
        "model3.add(Dense(1, activation='sigmoid'))\n",
        "model3.summary()\n",
        "\n",
        "model3.layers[0].set_weights([embedding_matrix])\n",
        "model3.layers[0].trainable = True\n",
        "\n",
        "model3.compile(optimizer='adam',\n",
        "              loss='binary_crossentropy',\n",
        "              metrics=['accuracy'])\n",
        "history = model3.fit(x_train, y_train,\n",
        "                    epochs=20,\n",
        "                    batch_size=32,\n",
        "                    validation_data=(x_test, y_test))\n",
        "\n",
        "score3 = model3.evaluate(x_test, y_test)\n",
        "print(\"Precisión: %.2f%%\" % (score3[1]*100))"
      ]
    },
    {
      "cell_type": "markdown",
      "source": [
        "En este caso, con el modelo pre-procesado sin congelar obtenemos un 98.92 % de precisión."
      ],
      "metadata": {
        "id": "IMgOILcpYHCP"
      }
    },
    {
      "cell_type": "markdown",
      "source": [
        "### RESUMEN DE LOS RESULTADOS"
      ],
      "metadata": {
        "id": "pBlUzXYuOHDA"
      }
    },
    {
      "cell_type": "code",
      "execution_count": 33,
      "metadata": {
        "colab": {
          "base_uri": "https://localhost:8080/"
        },
        "id": "PG05YT6hssVI",
        "outputId": "492a48e2-1916-4389-d136-021d5bea2f80"
      },
      "outputs": [
        {
          "output_type": "stream",
          "name": "stdout",
          "text": [
            "Sin word embeddings pre-entrenados\n",
            "Precisión: 98.39%\n",
            "Con word embeddings pre-entrenados congelados\n",
            "Precisión: 96.05%\n",
            "Con word embeddings pre-entrenados sin congelar\n",
            "Precisión: 98.92%\n"
          ]
        }
      ],
      "source": [
        "print(\"Sin word embeddings pre-entrenados\")\n",
        "print(\"Precisión: %.2f%%\" % (score1[1]*100))\n",
        "print(\"Con word embeddings pre-entrenados congelados\")\n",
        "print(\"Precisión: %.2f%%\" % (score2[1]*100))\n",
        "print(\"Con word embeddings pre-entrenados sin congelar\")\n",
        "print(\"Precisión: %.2f%%\" % (score3[1]*100))"
      ]
    },
    {
      "cell_type": "markdown",
      "metadata": {
        "id": "r180VgcW4xHT"
      },
      "source": [
        "# 5) Aplica los modelos construidos a los datos de test y compáralos.\n",
        "\n",
        "Calcula las métricas de recall, precisión y f1.\n",
        "Discute cual es el mejor modelo y cual es peor y porqué."
      ]
    },
    {
      "cell_type": "markdown",
      "metadata": {
        "id": "CwDBPcs8PjvI"
      },
      "source": [
        "\n",
        "\n",
        "En un problema de clasificación multiclase suele ser muy interesante analizar el rendimiento de la clasificación en cada una de las clases\n",
        "\n",
        "Esto nos permite analizar en qué clases funciona mejor o peor el clasificador, de acuerdo a métricas como la precisión (cuando predice dicha clase cuánto acierta) y la exhaustividad  (cuántos ejemplos de una clase predice correctamente). También podemos ver la media (armònica) entre ambas medidas (F1 score).\n",
        "\n",
        "\n",
        "---\n",
        "\n"
      ]
    },
    {
      "cell_type": "markdown",
      "source": [
        "### Árbol de decisión"
      ],
      "metadata": {
        "id": "m7UwODUVeu6V"
      }
    },
    {
      "cell_type": "code",
      "source": [
        "from sklearn.metrics import classification_report, confusion_matrix\n",
        "\n",
        "print(\"Report de entrenamiento:\")\n",
        "print(classification_report(train_df['v1'].values, tree_train_predictions))\n",
        "\n",
        "print(\"Report de test:\")\n",
        "print(classification_report(test_df['v1'].values, tree_test_predictions))"
      ],
      "metadata": {
        "id": "VpfasKRze2ta",
        "colab": {
          "base_uri": "https://localhost:8080/"
        },
        "outputId": "4dbfe3d2-52f6-4402-e5c3-cb9c236d4b15"
      },
      "execution_count": 34,
      "outputs": [
        {
          "output_type": "stream",
          "name": "stdout",
          "text": [
            "Report de entrenamiento:\n",
            "              precision    recall  f1-score   support\n",
            "\n",
            "         ham       0.96      1.00      0.98      2905\n",
            "        spam       0.99      0.75      0.85       438\n",
            "\n",
            "    accuracy                           0.97      3343\n",
            "   macro avg       0.98      0.87      0.92      3343\n",
            "weighted avg       0.97      0.97      0.96      3343\n",
            "\n",
            "Report de test:\n",
            "              precision    recall  f1-score   support\n",
            "\n",
            "         ham       0.94      0.99      0.96       959\n",
            "        spam       0.94      0.59      0.72       156\n",
            "\n",
            "    accuracy                           0.94      1115\n",
            "   macro avg       0.94      0.79      0.84      1115\n",
            "weighted avg       0.94      0.94      0.93      1115\n",
            "\n"
          ]
        }
      ]
    },
    {
      "cell_type": "markdown",
      "source": [
        "Tras usar los árboles de decisión, podemos apreciar que en el test la clase \"ham\" tiene una gran precisón, recall y f1 score. No obstante, la clase \"spam\", pese a tener una precisón igual, es decir, que se han encontrado rasgos distintivos para su identificación, lo cierto es que el recall y es mucho menor, lo cual significa que se tiende a confundir con otros.\n",
        "En general, como veremos ahora, no ha sido el mejor de todos los modelos, ya que hay otros que han conseguido un mejor resultado."
      ],
      "metadata": {
        "id": "PUlpT3pkHXPs"
      }
    },
    {
      "cell_type": "markdown",
      "source": [
        "### K-NN"
      ],
      "metadata": {
        "id": "4Oue7bw6eb5b"
      }
    },
    {
      "cell_type": "code",
      "execution_count": 35,
      "metadata": {
        "outputId": "4e7d2207-efbd-4cf8-da62-80c6b3f5faa2",
        "colab": {
          "base_uri": "https://localhost:8080/"
        },
        "id": "43flM_TFelDa"
      },
      "outputs": [
        {
          "output_type": "stream",
          "name": "stdout",
          "text": [
            "Report de entrenamiento:\n",
            "              precision    recall  f1-score   support\n",
            "\n",
            "         ham       1.00      1.00      1.00      2905\n",
            "        spam       1.00      1.00      1.00       438\n",
            "\n",
            "    accuracy                           1.00      3343\n",
            "   macro avg       1.00      1.00      1.00      3343\n",
            "weighted avg       1.00      1.00      1.00      3343\n",
            "\n",
            "Report de test:\n",
            "              precision    recall  f1-score   support\n",
            "\n",
            "         ham       0.94      1.00      0.97       959\n",
            "        spam       1.00      0.62      0.77       156\n",
            "\n",
            "    accuracy                           0.95      1115\n",
            "   macro avg       0.97      0.81      0.87      1115\n",
            "weighted avg       0.95      0.95      0.94      1115\n",
            "\n"
          ]
        }
      ],
      "source": [
        "from sklearn.metrics import classification_report, confusion_matrix\n",
        "print(\"Report de entrenamiento:\")\n",
        "print(classification_report(train_df['v1'].values, knn_train_predictions))\n",
        "\n",
        "print(\"Report de test:\")\n",
        "print(classification_report(test_df['v1'].values, knn_test_predictions))"
      ]
    },
    {
      "cell_type": "markdown",
      "source": [
        "Tras usar K-NN, podemos apreciar que en el test la clase \"ham\" tiene una gran precisón, recall y f1 score. No obstante, la clase \"spam\", pese a tener una precisón incluso superior, es decir, que se han encontrado rasgos distintivos para su identificación, lo cierto es que el recall es mucho menor, lo cual significa que se tiende a confundir con otros.\n",
        "En general, podemos apreciar que ha conseguido resultados ligeramente superiores al modelo anterior."
      ],
      "metadata": {
        "id": "uqjPkxcUH_gd"
      }
    },
    {
      "cell_type": "markdown",
      "source": [
        "### Naive Bayes"
      ],
      "metadata": {
        "id": "btce_mnUeq72"
      }
    },
    {
      "cell_type": "code",
      "execution_count": 36,
      "metadata": {
        "id": "2j9gcgzdPjvI",
        "outputId": "cc6d6c85-2fe0-4b3f-8b74-3f654ac6acc8",
        "colab": {
          "base_uri": "https://localhost:8080/"
        }
      },
      "outputs": [
        {
          "output_type": "stream",
          "name": "stdout",
          "text": [
            "Report de entrenamiento:\n",
            "              precision    recall  f1-score   support\n",
            "\n",
            "         ham       0.98      1.00      0.99      2905\n",
            "        spam       1.00      0.86      0.92       438\n",
            "\n",
            "    accuracy                           0.98      3343\n",
            "   macro avg       0.99      0.93      0.96      3343\n",
            "weighted avg       0.98      0.98      0.98      3343\n",
            "\n",
            "Report de test:\n",
            "              precision    recall  f1-score   support\n",
            "\n",
            "         ham       0.96      1.00      0.98       959\n",
            "        spam       1.00      0.72      0.84       156\n",
            "\n",
            "    accuracy                           0.96      1115\n",
            "   macro avg       0.98      0.86      0.91      1115\n",
            "weighted avg       0.96      0.96      0.96      1115\n",
            "\n"
          ]
        }
      ],
      "source": [
        "from sklearn.metrics import classification_report, confusion_matrix\n",
        "print(\"Report de entrenamiento:\")\n",
        "print(classification_report(train_df['v1'].values, bnb_train_predictions))\n",
        "\n",
        "print(\"Report de test:\")\n",
        "print(classification_report(test_df['v1'].values, bnb_test_predictions))"
      ]
    },
    {
      "cell_type": "markdown",
      "source": [
        "Tras usar naive bayes, podemos apreciar que en el test la clase \"ham\" tiene una gran precisón, recall y f1 score. Por otro lado, la clase \"spam\", pese a tener una precisón superior, es decir, que se han encontrado rasgos distintivos para su identificación, lo cierto es que el recall y es menor, lo cual significa que se tiende a confundir con otros.\n",
        "En general, es el modelo más preciso entre los que hemos visto, ya que consigue un papel mejor a la hora de identificar la clase \"spam\" respecto a los modelos anteriores."
      ],
      "metadata": {
        "id": "E9db5K4qIpUA"
      }
    },
    {
      "cell_type": "markdown",
      "source": [
        "En suma, podemos apreciar que el mejor modelo ha sido naive bayes, ya que ha conseguido una precisión y exhaustividad mayor que los demás. Además, cabe resaltar que ha hecho un papel considerablemente mejor con la clase \"spam\" en comparación a los otros modelos. En contraste, tanto K-NN como los árboles de decisión nos han arrojado modelos similares, siendo este último un poco menos preciso. En general, con la clase \"ham\" han desempeñado una labor parecida al modelo de naive bayes, pero es con la clase \"spam\" donde han tenido más carencias."
      ],
      "metadata": {
        "id": "EQfJhFWwJG8o"
      }
    }
  ],
  "metadata": {
    "colab": {
      "provenance": [],
      "toc_visible": true
    },
    "kernelspec": {
      "display_name": "Python 3",
      "language": "python",
      "name": "python3"
    },
    "language_info": {
      "codemirror_mode": {
        "name": "ipython",
        "version": 3
      },
      "file_extension": ".py",
      "mimetype": "text/x-python",
      "name": "python",
      "nbconvert_exporter": "python",
      "pygments_lexer": "ipython3",
      "version": "3.8.12"
    }
  },
  "nbformat": 4,
  "nbformat_minor": 0
}