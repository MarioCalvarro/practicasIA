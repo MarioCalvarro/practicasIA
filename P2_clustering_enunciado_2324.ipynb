{
  "cells": [
    {
      "cell_type": "markdown",
      "metadata": {
        "id": "view-in-github",
        "colab_type": "text"
      },
      "source": [
        "<a href=\"https://colab.research.google.com/github/MarioCalvarro/practicasIA/blob/main/P2_clustering_enunciado_2324.ipynb\" target=\"_parent\"><img src=\"https://colab.research.google.com/assets/colab-badge.svg\" alt=\"Open In Colab\"/></a>"
      ]
    },
    {
      "cell_type": "markdown",
      "metadata": {
        "id": "israeli-category"
      },
      "source": [
        "# Práctica 2: Aprendizaje automático no supervisado\n",
        "\n",
        "El objetivo de esta práctica es aplicar algunos algoritmos de aprendizaje automático no supervisado disponibles en la scikit-learn [sklearn](https://scikit-learn.org/stable/) sobre un conjunto de datos e interpretar los resultados obtenidos.\n",
        "\n",
        "Lo más importante en esta práctica no es el código Python, sino el análisis de los datos y modelos que construyas y las explicaciones razonadas de cada una de las decisiones que tomes. __No se valorarán trozos de código o gráficas sin ningún tipo de contexto o explicación__.\n",
        "\n",
        "Finalmente, recuerda establecer el parámetro `random_state` en todas las funciones que tomen decisiones aleatorias para que los resultados sean reproducibles (los resultados no varíen entre ejecuciones)."
      ],
      "id": "israeli-category"
    },
    {
      "cell_type": "markdown",
      "metadata": {
        "id": "flexible-little"
      },
      "source": [
        "__Número de grupo: E__\n",
        "\n",
        "__Nombres de los estudiantes: Mario Calvarro Marines & Beñat Perez de Arenaza Eizaguire__"
      ],
      "id": "flexible-little"
    },
    {
      "cell_type": "code",
      "execution_count": 16,
      "metadata": {
        "id": "pY_8Ydubsgcq",
        "colab": {
          "base_uri": "https://localhost:8080/"
        },
        "outputId": "a0586eb8-e66a-4ae6-e449-9fde2f3d91d8"
      },
      "outputs": [
        {
          "output_type": "stream",
          "name": "stdout",
          "text": [
            "Drive already mounted at /content/drive; to attempt to forcibly remount, call drive.mount(\"/content/drive\", force_remount=True).\n"
          ]
        }
      ],
      "source": [
        "# acceso a google drive\n",
        "\n",
        "from google.colab import drive\n",
        "drive.mount('/content/drive')"
      ],
      "id": "pY_8Ydubsgcq"
    },
    {
      "cell_type": "markdown",
      "metadata": {
        "id": "entertaining-roberts"
      },
      "source": [
        "## 1) Carga del conjunto de datos\n",
        "\n",
        "Crea un dataframe a partir del fichero `housing.csv` que se proporciona junto con la práctica.\n",
        "Antes de nada, elimina las filas con valores nulos.\n",
        "\n"
      ],
      "id": "entertaining-roberts"
    },
    {
      "cell_type": "code",
      "execution_count": 17,
      "metadata": {
        "id": "4t5-_GF9xOaG",
        "colab": {
          "base_uri": "https://localhost:8080/",
          "height": 444
        },
        "outputId": "1d9c8baf-8c85-459a-e1b8-a7a7a673920d"
      },
      "outputs": [
        {
          "output_type": "execute_result",
          "data": {
            "text/plain": [
              "       longitude  latitude  housing_median_age  total_rooms  total_bedrooms  \\\n",
              "0        -122.23     37.88                41.0        880.0           129.0   \n",
              "1        -122.22     37.86                21.0       7099.0          1106.0   \n",
              "2        -122.24     37.85                52.0       1467.0           190.0   \n",
              "3        -122.25     37.85                52.0       1274.0           235.0   \n",
              "4        -122.25     37.85                52.0       1627.0           280.0   \n",
              "...          ...       ...                 ...          ...             ...   \n",
              "20635    -121.09     39.48                25.0       1665.0           374.0   \n",
              "20636    -121.21     39.49                18.0        697.0           150.0   \n",
              "20637    -121.22     39.43                17.0       2254.0           485.0   \n",
              "20638    -121.32     39.43                18.0       1860.0           409.0   \n",
              "20639    -121.24     39.37                16.0       2785.0           616.0   \n",
              "\n",
              "       population  households  median_income  median_house_value  \\\n",
              "0           322.0       126.0         8.3252            452600.0   \n",
              "1          2401.0      1138.0         8.3014            358500.0   \n",
              "2           496.0       177.0         7.2574            352100.0   \n",
              "3           558.0       219.0         5.6431            341300.0   \n",
              "4           565.0       259.0         3.8462            342200.0   \n",
              "...           ...         ...            ...                 ...   \n",
              "20635       845.0       330.0         1.5603             78100.0   \n",
              "20636       356.0       114.0         2.5568             77100.0   \n",
              "20637      1007.0       433.0         1.7000             92300.0   \n",
              "20638       741.0       349.0         1.8672             84700.0   \n",
              "20639      1387.0       530.0         2.3886             89400.0   \n",
              "\n",
              "      ocean_proximity  \n",
              "0            NEAR BAY  \n",
              "1            NEAR BAY  \n",
              "2            NEAR BAY  \n",
              "3            NEAR BAY  \n",
              "4            NEAR BAY  \n",
              "...               ...  \n",
              "20635          INLAND  \n",
              "20636          INLAND  \n",
              "20637          INLAND  \n",
              "20638          INLAND  \n",
              "20639          INLAND  \n",
              "\n",
              "[20640 rows x 10 columns]"
            ],
            "text/html": [
              "\n",
              "  <div id=\"df-b9410aea-a234-4d32-ae86-ac096e86a943\" class=\"colab-df-container\">\n",
              "    <div>\n",
              "<style scoped>\n",
              "    .dataframe tbody tr th:only-of-type {\n",
              "        vertical-align: middle;\n",
              "    }\n",
              "\n",
              "    .dataframe tbody tr th {\n",
              "        vertical-align: top;\n",
              "    }\n",
              "\n",
              "    .dataframe thead th {\n",
              "        text-align: right;\n",
              "    }\n",
              "</style>\n",
              "<table border=\"1\" class=\"dataframe\">\n",
              "  <thead>\n",
              "    <tr style=\"text-align: right;\">\n",
              "      <th></th>\n",
              "      <th>longitude</th>\n",
              "      <th>latitude</th>\n",
              "      <th>housing_median_age</th>\n",
              "      <th>total_rooms</th>\n",
              "      <th>total_bedrooms</th>\n",
              "      <th>population</th>\n",
              "      <th>households</th>\n",
              "      <th>median_income</th>\n",
              "      <th>median_house_value</th>\n",
              "      <th>ocean_proximity</th>\n",
              "    </tr>\n",
              "  </thead>\n",
              "  <tbody>\n",
              "    <tr>\n",
              "      <th>0</th>\n",
              "      <td>-122.23</td>\n",
              "      <td>37.88</td>\n",
              "      <td>41.0</td>\n",
              "      <td>880.0</td>\n",
              "      <td>129.0</td>\n",
              "      <td>322.0</td>\n",
              "      <td>126.0</td>\n",
              "      <td>8.3252</td>\n",
              "      <td>452600.0</td>\n",
              "      <td>NEAR BAY</td>\n",
              "    </tr>\n",
              "    <tr>\n",
              "      <th>1</th>\n",
              "      <td>-122.22</td>\n",
              "      <td>37.86</td>\n",
              "      <td>21.0</td>\n",
              "      <td>7099.0</td>\n",
              "      <td>1106.0</td>\n",
              "      <td>2401.0</td>\n",
              "      <td>1138.0</td>\n",
              "      <td>8.3014</td>\n",
              "      <td>358500.0</td>\n",
              "      <td>NEAR BAY</td>\n",
              "    </tr>\n",
              "    <tr>\n",
              "      <th>2</th>\n",
              "      <td>-122.24</td>\n",
              "      <td>37.85</td>\n",
              "      <td>52.0</td>\n",
              "      <td>1467.0</td>\n",
              "      <td>190.0</td>\n",
              "      <td>496.0</td>\n",
              "      <td>177.0</td>\n",
              "      <td>7.2574</td>\n",
              "      <td>352100.0</td>\n",
              "      <td>NEAR BAY</td>\n",
              "    </tr>\n",
              "    <tr>\n",
              "      <th>3</th>\n",
              "      <td>-122.25</td>\n",
              "      <td>37.85</td>\n",
              "      <td>52.0</td>\n",
              "      <td>1274.0</td>\n",
              "      <td>235.0</td>\n",
              "      <td>558.0</td>\n",
              "      <td>219.0</td>\n",
              "      <td>5.6431</td>\n",
              "      <td>341300.0</td>\n",
              "      <td>NEAR BAY</td>\n",
              "    </tr>\n",
              "    <tr>\n",
              "      <th>4</th>\n",
              "      <td>-122.25</td>\n",
              "      <td>37.85</td>\n",
              "      <td>52.0</td>\n",
              "      <td>1627.0</td>\n",
              "      <td>280.0</td>\n",
              "      <td>565.0</td>\n",
              "      <td>259.0</td>\n",
              "      <td>3.8462</td>\n",
              "      <td>342200.0</td>\n",
              "      <td>NEAR BAY</td>\n",
              "    </tr>\n",
              "    <tr>\n",
              "      <th>...</th>\n",
              "      <td>...</td>\n",
              "      <td>...</td>\n",
              "      <td>...</td>\n",
              "      <td>...</td>\n",
              "      <td>...</td>\n",
              "      <td>...</td>\n",
              "      <td>...</td>\n",
              "      <td>...</td>\n",
              "      <td>...</td>\n",
              "      <td>...</td>\n",
              "    </tr>\n",
              "    <tr>\n",
              "      <th>20635</th>\n",
              "      <td>-121.09</td>\n",
              "      <td>39.48</td>\n",
              "      <td>25.0</td>\n",
              "      <td>1665.0</td>\n",
              "      <td>374.0</td>\n",
              "      <td>845.0</td>\n",
              "      <td>330.0</td>\n",
              "      <td>1.5603</td>\n",
              "      <td>78100.0</td>\n",
              "      <td>INLAND</td>\n",
              "    </tr>\n",
              "    <tr>\n",
              "      <th>20636</th>\n",
              "      <td>-121.21</td>\n",
              "      <td>39.49</td>\n",
              "      <td>18.0</td>\n",
              "      <td>697.0</td>\n",
              "      <td>150.0</td>\n",
              "      <td>356.0</td>\n",
              "      <td>114.0</td>\n",
              "      <td>2.5568</td>\n",
              "      <td>77100.0</td>\n",
              "      <td>INLAND</td>\n",
              "    </tr>\n",
              "    <tr>\n",
              "      <th>20637</th>\n",
              "      <td>-121.22</td>\n",
              "      <td>39.43</td>\n",
              "      <td>17.0</td>\n",
              "      <td>2254.0</td>\n",
              "      <td>485.0</td>\n",
              "      <td>1007.0</td>\n",
              "      <td>433.0</td>\n",
              "      <td>1.7000</td>\n",
              "      <td>92300.0</td>\n",
              "      <td>INLAND</td>\n",
              "    </tr>\n",
              "    <tr>\n",
              "      <th>20638</th>\n",
              "      <td>-121.32</td>\n",
              "      <td>39.43</td>\n",
              "      <td>18.0</td>\n",
              "      <td>1860.0</td>\n",
              "      <td>409.0</td>\n",
              "      <td>741.0</td>\n",
              "      <td>349.0</td>\n",
              "      <td>1.8672</td>\n",
              "      <td>84700.0</td>\n",
              "      <td>INLAND</td>\n",
              "    </tr>\n",
              "    <tr>\n",
              "      <th>20639</th>\n",
              "      <td>-121.24</td>\n",
              "      <td>39.37</td>\n",
              "      <td>16.0</td>\n",
              "      <td>2785.0</td>\n",
              "      <td>616.0</td>\n",
              "      <td>1387.0</td>\n",
              "      <td>530.0</td>\n",
              "      <td>2.3886</td>\n",
              "      <td>89400.0</td>\n",
              "      <td>INLAND</td>\n",
              "    </tr>\n",
              "  </tbody>\n",
              "</table>\n",
              "<p>20640 rows × 10 columns</p>\n",
              "</div>\n",
              "    <div class=\"colab-df-buttons\">\n",
              "\n",
              "  <div class=\"colab-df-container\">\n",
              "    <button class=\"colab-df-convert\" onclick=\"convertToInteractive('df-b9410aea-a234-4d32-ae86-ac096e86a943')\"\n",
              "            title=\"Convert this dataframe to an interactive table.\"\n",
              "            style=\"display:none;\">\n",
              "\n",
              "  <svg xmlns=\"http://www.w3.org/2000/svg\" height=\"24px\" viewBox=\"0 -960 960 960\">\n",
              "    <path d=\"M120-120v-720h720v720H120Zm60-500h600v-160H180v160Zm220 220h160v-160H400v160Zm0 220h160v-160H400v160ZM180-400h160v-160H180v160Zm440 0h160v-160H620v160ZM180-180h160v-160H180v160Zm440 0h160v-160H620v160Z\"/>\n",
              "  </svg>\n",
              "    </button>\n",
              "\n",
              "  <style>\n",
              "    .colab-df-container {\n",
              "      display:flex;\n",
              "      gap: 12px;\n",
              "    }\n",
              "\n",
              "    .colab-df-convert {\n",
              "      background-color: #E8F0FE;\n",
              "      border: none;\n",
              "      border-radius: 50%;\n",
              "      cursor: pointer;\n",
              "      display: none;\n",
              "      fill: #1967D2;\n",
              "      height: 32px;\n",
              "      padding: 0 0 0 0;\n",
              "      width: 32px;\n",
              "    }\n",
              "\n",
              "    .colab-df-convert:hover {\n",
              "      background-color: #E2EBFA;\n",
              "      box-shadow: 0px 1px 2px rgba(60, 64, 67, 0.3), 0px 1px 3px 1px rgba(60, 64, 67, 0.15);\n",
              "      fill: #174EA6;\n",
              "    }\n",
              "\n",
              "    .colab-df-buttons div {\n",
              "      margin-bottom: 4px;\n",
              "    }\n",
              "\n",
              "    [theme=dark] .colab-df-convert {\n",
              "      background-color: #3B4455;\n",
              "      fill: #D2E3FC;\n",
              "    }\n",
              "\n",
              "    [theme=dark] .colab-df-convert:hover {\n",
              "      background-color: #434B5C;\n",
              "      box-shadow: 0px 1px 3px 1px rgba(0, 0, 0, 0.15);\n",
              "      filter: drop-shadow(0px 1px 2px rgba(0, 0, 0, 0.3));\n",
              "      fill: #FFFFFF;\n",
              "    }\n",
              "  </style>\n",
              "\n",
              "    <script>\n",
              "      const buttonEl =\n",
              "        document.querySelector('#df-b9410aea-a234-4d32-ae86-ac096e86a943 button.colab-df-convert');\n",
              "      buttonEl.style.display =\n",
              "        google.colab.kernel.accessAllowed ? 'block' : 'none';\n",
              "\n",
              "      async function convertToInteractive(key) {\n",
              "        const element = document.querySelector('#df-b9410aea-a234-4d32-ae86-ac096e86a943');\n",
              "        const dataTable =\n",
              "          await google.colab.kernel.invokeFunction('convertToInteractive',\n",
              "                                                    [key], {});\n",
              "        if (!dataTable) return;\n",
              "\n",
              "        const docLinkHtml = 'Like what you see? Visit the ' +\n",
              "          '<a target=\"_blank\" href=https://colab.research.google.com/notebooks/data_table.ipynb>data table notebook</a>'\n",
              "          + ' to learn more about interactive tables.';\n",
              "        element.innerHTML = '';\n",
              "        dataTable['output_type'] = 'display_data';\n",
              "        await google.colab.output.renderOutput(dataTable, element);\n",
              "        const docLink = document.createElement('div');\n",
              "        docLink.innerHTML = docLinkHtml;\n",
              "        element.appendChild(docLink);\n",
              "      }\n",
              "    </script>\n",
              "  </div>\n",
              "\n",
              "\n",
              "<div id=\"df-6dc03b4d-60f6-4adb-9383-0073a716e8d9\">\n",
              "  <button class=\"colab-df-quickchart\" onclick=\"quickchart('df-6dc03b4d-60f6-4adb-9383-0073a716e8d9')\"\n",
              "            title=\"Suggest charts\"\n",
              "            style=\"display:none;\">\n",
              "\n",
              "<svg xmlns=\"http://www.w3.org/2000/svg\" height=\"24px\"viewBox=\"0 0 24 24\"\n",
              "     width=\"24px\">\n",
              "    <g>\n",
              "        <path d=\"M19 3H5c-1.1 0-2 .9-2 2v14c0 1.1.9 2 2 2h14c1.1 0 2-.9 2-2V5c0-1.1-.9-2-2-2zM9 17H7v-7h2v7zm4 0h-2V7h2v10zm4 0h-2v-4h2v4z\"/>\n",
              "    </g>\n",
              "</svg>\n",
              "  </button>\n",
              "\n",
              "<style>\n",
              "  .colab-df-quickchart {\n",
              "      --bg-color: #E8F0FE;\n",
              "      --fill-color: #1967D2;\n",
              "      --hover-bg-color: #E2EBFA;\n",
              "      --hover-fill-color: #174EA6;\n",
              "      --disabled-fill-color: #AAA;\n",
              "      --disabled-bg-color: #DDD;\n",
              "  }\n",
              "\n",
              "  [theme=dark] .colab-df-quickchart {\n",
              "      --bg-color: #3B4455;\n",
              "      --fill-color: #D2E3FC;\n",
              "      --hover-bg-color: #434B5C;\n",
              "      --hover-fill-color: #FFFFFF;\n",
              "      --disabled-bg-color: #3B4455;\n",
              "      --disabled-fill-color: #666;\n",
              "  }\n",
              "\n",
              "  .colab-df-quickchart {\n",
              "    background-color: var(--bg-color);\n",
              "    border: none;\n",
              "    border-radius: 50%;\n",
              "    cursor: pointer;\n",
              "    display: none;\n",
              "    fill: var(--fill-color);\n",
              "    height: 32px;\n",
              "    padding: 0;\n",
              "    width: 32px;\n",
              "  }\n",
              "\n",
              "  .colab-df-quickchart:hover {\n",
              "    background-color: var(--hover-bg-color);\n",
              "    box-shadow: 0 1px 2px rgba(60, 64, 67, 0.3), 0 1px 3px 1px rgba(60, 64, 67, 0.15);\n",
              "    fill: var(--button-hover-fill-color);\n",
              "  }\n",
              "\n",
              "  .colab-df-quickchart-complete:disabled,\n",
              "  .colab-df-quickchart-complete:disabled:hover {\n",
              "    background-color: var(--disabled-bg-color);\n",
              "    fill: var(--disabled-fill-color);\n",
              "    box-shadow: none;\n",
              "  }\n",
              "\n",
              "  .colab-df-spinner {\n",
              "    border: 2px solid var(--fill-color);\n",
              "    border-color: transparent;\n",
              "    border-bottom-color: var(--fill-color);\n",
              "    animation:\n",
              "      spin 1s steps(1) infinite;\n",
              "  }\n",
              "\n",
              "  @keyframes spin {\n",
              "    0% {\n",
              "      border-color: transparent;\n",
              "      border-bottom-color: var(--fill-color);\n",
              "      border-left-color: var(--fill-color);\n",
              "    }\n",
              "    20% {\n",
              "      border-color: transparent;\n",
              "      border-left-color: var(--fill-color);\n",
              "      border-top-color: var(--fill-color);\n",
              "    }\n",
              "    30% {\n",
              "      border-color: transparent;\n",
              "      border-left-color: var(--fill-color);\n",
              "      border-top-color: var(--fill-color);\n",
              "      border-right-color: var(--fill-color);\n",
              "    }\n",
              "    40% {\n",
              "      border-color: transparent;\n",
              "      border-right-color: var(--fill-color);\n",
              "      border-top-color: var(--fill-color);\n",
              "    }\n",
              "    60% {\n",
              "      border-color: transparent;\n",
              "      border-right-color: var(--fill-color);\n",
              "    }\n",
              "    80% {\n",
              "      border-color: transparent;\n",
              "      border-right-color: var(--fill-color);\n",
              "      border-bottom-color: var(--fill-color);\n",
              "    }\n",
              "    90% {\n",
              "      border-color: transparent;\n",
              "      border-bottom-color: var(--fill-color);\n",
              "    }\n",
              "  }\n",
              "</style>\n",
              "\n",
              "  <script>\n",
              "    async function quickchart(key) {\n",
              "      const quickchartButtonEl =\n",
              "        document.querySelector('#' + key + ' button');\n",
              "      quickchartButtonEl.disabled = true;  // To prevent multiple clicks.\n",
              "      quickchartButtonEl.classList.add('colab-df-spinner');\n",
              "      try {\n",
              "        const charts = await google.colab.kernel.invokeFunction(\n",
              "            'suggestCharts', [key], {});\n",
              "      } catch (error) {\n",
              "        console.error('Error during call to suggestCharts:', error);\n",
              "      }\n",
              "      quickchartButtonEl.classList.remove('colab-df-spinner');\n",
              "      quickchartButtonEl.classList.add('colab-df-quickchart-complete');\n",
              "    }\n",
              "    (() => {\n",
              "      let quickchartButtonEl =\n",
              "        document.querySelector('#df-6dc03b4d-60f6-4adb-9383-0073a716e8d9 button');\n",
              "      quickchartButtonEl.style.display =\n",
              "        google.colab.kernel.accessAllowed ? 'block' : 'none';\n",
              "    })();\n",
              "  </script>\n",
              "</div>\n",
              "    </div>\n",
              "  </div>\n"
            ],
            "application/vnd.google.colaboratory.intrinsic+json": {
              "type": "dataframe",
              "variable_name": "df",
              "summary": "{\n  \"name\": \"df\",\n  \"rows\": 20640,\n  \"fields\": [\n    {\n      \"column\": \"longitude\",\n      \"properties\": {\n        \"dtype\": \"number\",\n        \"std\": 2.0035317235025882,\n        \"min\": -124.35,\n        \"max\": -114.31,\n        \"num_unique_values\": 844,\n        \"samples\": [\n          -118.63,\n          -119.86,\n          -121.26\n        ],\n        \"semantic_type\": \"\",\n        \"description\": \"\"\n      }\n    },\n    {\n      \"column\": \"latitude\",\n      \"properties\": {\n        \"dtype\": \"number\",\n        \"std\": 2.1359523974571153,\n        \"min\": 32.54,\n        \"max\": 41.95,\n        \"num_unique_values\": 862,\n        \"samples\": [\n          33.7,\n          34.41,\n          38.24\n        ],\n        \"semantic_type\": \"\",\n        \"description\": \"\"\n      }\n    },\n    {\n      \"column\": \"housing_median_age\",\n      \"properties\": {\n        \"dtype\": \"number\",\n        \"std\": 12.58555761211165,\n        \"min\": 1.0,\n        \"max\": 52.0,\n        \"num_unique_values\": 52,\n        \"samples\": [\n          35.0,\n          25.0,\n          7.0\n        ],\n        \"semantic_type\": \"\",\n        \"description\": \"\"\n      }\n    },\n    {\n      \"column\": \"total_rooms\",\n      \"properties\": {\n        \"dtype\": \"number\",\n        \"std\": 2181.615251582795,\n        \"min\": 2.0,\n        \"max\": 39320.0,\n        \"num_unique_values\": 5926,\n        \"samples\": [\n          699.0,\n          1544.0,\n          3966.0\n        ],\n        \"semantic_type\": \"\",\n        \"description\": \"\"\n      }\n    },\n    {\n      \"column\": \"total_bedrooms\",\n      \"properties\": {\n        \"dtype\": \"number\",\n        \"std\": 421.3850700740323,\n        \"min\": 1.0,\n        \"max\": 6445.0,\n        \"num_unique_values\": 1923,\n        \"samples\": [\n          1538.0,\n          1298.0,\n          1578.0\n        ],\n        \"semantic_type\": \"\",\n        \"description\": \"\"\n      }\n    },\n    {\n      \"column\": \"population\",\n      \"properties\": {\n        \"dtype\": \"number\",\n        \"std\": 1132.462121765341,\n        \"min\": 3.0,\n        \"max\": 35682.0,\n        \"num_unique_values\": 3888,\n        \"samples\": [\n          4169.0,\n          636.0,\n          3367.0\n        ],\n        \"semantic_type\": \"\",\n        \"description\": \"\"\n      }\n    },\n    {\n      \"column\": \"households\",\n      \"properties\": {\n        \"dtype\": \"number\",\n        \"std\": 382.32975283161073,\n        \"min\": 1.0,\n        \"max\": 6082.0,\n        \"num_unique_values\": 1815,\n        \"samples\": [\n          21.0,\n          750.0,\n          1447.0\n        ],\n        \"semantic_type\": \"\",\n        \"description\": \"\"\n      }\n    },\n    {\n      \"column\": \"median_income\",\n      \"properties\": {\n        \"dtype\": \"number\",\n        \"std\": 1.8998217179452688,\n        \"min\": 0.4999,\n        \"max\": 15.0001,\n        \"num_unique_values\": 12928,\n        \"samples\": [\n          5.0286,\n          2.0433,\n          6.1228\n        ],\n        \"semantic_type\": \"\",\n        \"description\": \"\"\n      }\n    },\n    {\n      \"column\": \"median_house_value\",\n      \"properties\": {\n        \"dtype\": \"number\",\n        \"std\": 115395.61587441387,\n        \"min\": 14999.0,\n        \"max\": 500001.0,\n        \"num_unique_values\": 3842,\n        \"samples\": [\n          194300.0,\n          379000.0,\n          230100.0\n        ],\n        \"semantic_type\": \"\",\n        \"description\": \"\"\n      }\n    },\n    {\n      \"column\": \"ocean_proximity\",\n      \"properties\": {\n        \"dtype\": \"category\",\n        \"num_unique_values\": 5,\n        \"samples\": [\n          \"<1H OCEAN\",\n          \"ISLAND\",\n          \"INLAND\"\n        ],\n        \"semantic_type\": \"\",\n        \"description\": \"\"\n      }\n    }\n  ]\n}"
            }
          },
          "metadata": {},
          "execution_count": 17
        }
      ],
      "source": [
        "import pandas as pd\n",
        "import seaborn as sns\n",
        "\n",
        "df = pd.read_csv('/content/drive/MyDrive/housing.csv')\n",
        "df"
      ],
      "id": "4t5-_GF9xOaG"
    },
    {
      "cell_type": "markdown",
      "source": [
        "## 2) Análisis de los datos"
      ],
      "metadata": {
        "id": "4DWPyrMespOa"
      },
      "id": "4DWPyrMespOa"
    },
    {
      "cell_type": "markdown",
      "metadata": {
        "id": "gorgeous-basket"
      },
      "source": [
        "### 2.1) Numéricos\n",
        "\n",
        "Analiza razonadamente las distribuciones de cada una de las variables numéricas (medias, desviaciones típicas, rangos, ...) y las principales relaciones entre pares de variables (diagrama de dispersión, coeficientes de correlación, ...)."
      ],
      "id": "gorgeous-basket"
    },
    {
      "cell_type": "code",
      "execution_count": null,
      "metadata": {
        "id": "6KQE61L1xWET"
      },
      "outputs": [],
      "source": [
        "df.describe().transpose()"
      ],
      "id": "6KQE61L1xWET"
    },
    {
      "cell_type": "markdown",
      "source": [
        "En primer lugar, analizaremos una a una las variables numéricas:"
      ],
      "metadata": {
        "id": "yPxtgnGkIMgb"
      },
      "id": "yPxtgnGkIMgb"
    },
    {
      "cell_type": "markdown",
      "source": [
        "####Habitaciones"
      ],
      "metadata": {
        "id": "QM8wcxNKIzsO"
      },
      "id": "QM8wcxNKIzsO"
    },
    {
      "cell_type": "code",
      "source": [
        "df['total_rooms'].describe().transpose()"
      ],
      "metadata": {
        "id": "Dw4P13yrIzsO"
      },
      "execution_count": null,
      "outputs": [],
      "id": "Dw4P13yrIzsO"
    },
    {
      "cell_type": "code",
      "source": [
        "df[\"total_rooms\"].plot(kind=\"density\", xlim=[0, 40000])"
      ],
      "metadata": {
        "id": "dtTLpRIb017A"
      },
      "execution_count": null,
      "outputs": [],
      "id": "dtTLpRIb017A"
    },
    {
      "cell_type": "markdown",
      "source": [
        "En la gráfica podemos observar que la mayoría de distritos tienen entre 1 y 4000 habitaciones (lo que posiblemente sean comunidades de viviendas unifamiliares). Sin embargo, existe algún distrito (posiblemente en las grandes ciudades) con hasta 40000 habitaciones."
      ],
      "metadata": {
        "id": "llk-LuV4JVOE"
      },
      "id": "llk-LuV4JVOE"
    },
    {
      "cell_type": "markdown",
      "source": [
        "####Dormitorios"
      ],
      "metadata": {
        "id": "AcI_hq8tI4it"
      },
      "id": "AcI_hq8tI4it"
    },
    {
      "cell_type": "code",
      "source": [
        "df['total_bedrooms'].describe().transpose()"
      ],
      "metadata": {
        "id": "aGLd5f-jI4iv"
      },
      "execution_count": null,
      "outputs": [],
      "id": "aGLd5f-jI4iv"
    },
    {
      "cell_type": "code",
      "source": [
        "df[\"total_bedrooms\"].plot(kind=\"density\", xlim=[0, 6500])"
      ],
      "metadata": {
        "id": "BIrzqUFM11aV"
      },
      "execution_count": null,
      "outputs": [],
      "id": "BIrzqUFM11aV"
    },
    {
      "cell_type": "markdown",
      "source": [
        "Al ser el número de dormitorios una variable muy similar al número de habitaciones, tenemos que estas dos variables siguen una distribución muy similar (y una no aporta mucha información nueva con respecto a la otra)."
      ],
      "metadata": {
        "id": "gphEU3wIJVvQ"
      },
      "id": "gphEU3wIJVvQ"
    },
    {
      "cell_type": "markdown",
      "source": [
        "####Población"
      ],
      "metadata": {
        "id": "UeRrbqJDJA4B"
      },
      "id": "UeRrbqJDJA4B"
    },
    {
      "cell_type": "code",
      "source": [
        "df['population'].describe().transpose()"
      ],
      "metadata": {
        "id": "XI__M-u_JA4C"
      },
      "execution_count": null,
      "outputs": [],
      "id": "XI__M-u_JA4C"
    },
    {
      "cell_type": "code",
      "source": [
        "df[\"population\"].plot(kind=\"density\", xlim=[0, 36000])"
      ],
      "metadata": {
        "id": "MjU21zjY2SEV"
      },
      "execution_count": null,
      "outputs": [],
      "id": "MjU21zjY2SEV"
    },
    {
      "cell_type": "markdown",
      "source": [
        "De nuevo, esta variable nos aporta aproximadamente la misma información que las dos anteriores."
      ],
      "metadata": {
        "id": "Lqu0rjCXJWgO"
      },
      "id": "Lqu0rjCXJWgO"
    },
    {
      "cell_type": "markdown",
      "source": [
        "####Hogares"
      ],
      "metadata": {
        "id": "8eew-5VvJD1D"
      },
      "id": "8eew-5VvJD1D"
    },
    {
      "cell_type": "code",
      "source": [
        "df['households'].describe().transpose()"
      ],
      "metadata": {
        "id": "Tv-0Jc0JJD1E"
      },
      "execution_count": null,
      "outputs": [],
      "id": "Tv-0Jc0JJD1E"
    },
    {
      "cell_type": "code",
      "source": [
        "df[\"households\"].plot(kind=\"density\", xlim=[0, 6100])"
      ],
      "metadata": {
        "id": "pSixItBC33xR"
      },
      "execution_count": null,
      "outputs": [],
      "id": "pSixItBC33xR"
    },
    {
      "cell_type": "markdown",
      "source": [
        "Véase el anterior comentario."
      ],
      "metadata": {
        "id": "p8SEyDkvJXNA"
      },
      "id": "p8SEyDkvJXNA"
    },
    {
      "cell_type": "markdown",
      "source": [
        "####Ingresos"
      ],
      "metadata": {
        "id": "IwfAb5dmJIo9"
      },
      "id": "IwfAb5dmJIo9"
    },
    {
      "cell_type": "code",
      "source": [
        "df['median_income'].describe().transpose()"
      ],
      "metadata": {
        "id": "GRCuee66JIo_"
      },
      "execution_count": null,
      "outputs": [],
      "id": "GRCuee66JIo_"
    },
    {
      "cell_type": "code",
      "source": [
        "df[\"median_income\"].plot(kind=\"density\", xlim=[0, 16])"
      ],
      "metadata": {
        "id": "OBY_3S_i4Dra"
      },
      "execution_count": null,
      "outputs": [],
      "id": "OBY_3S_i4Dra"
    },
    {
      "cell_type": "markdown",
      "source": [
        "Esta gráfica nos indica el salario medio mensual de las distintas comunidades. Como se puede apreciar, en el estado de California se ofrecen (de manera más o menos general) salarios bastante competitivos (entre 2 y 6 mil dolares), aunque también existen algunas comunidades con salarios aún mayores (hasta 16mil dolares de media) y menores."
      ],
      "metadata": {
        "id": "EaYjB0xLJYIL"
      },
      "id": "EaYjB0xLJYIL"
    },
    {
      "cell_type": "markdown",
      "source": [
        "####Valor"
      ],
      "metadata": {
        "id": "UDbViAjxJLy6"
      },
      "id": "UDbViAjxJLy6"
    },
    {
      "cell_type": "code",
      "source": [
        "df['median_house_value'].describe().transpose()"
      ],
      "metadata": {
        "id": "uijywu8gJLy7"
      },
      "execution_count": null,
      "outputs": [],
      "id": "uijywu8gJLy7"
    },
    {
      "cell_type": "code",
      "source": [
        "df[\"median_house_value\"].plot(kind=\"density\", xlim=[0, 550000])"
      ],
      "metadata": {
        "id": "_qZsBX1m47Oc"
      },
      "execution_count": null,
      "outputs": [],
      "id": "_qZsBX1m47Oc"
    },
    {
      "cell_type": "markdown",
      "source": [
        "En este caso podemos apreciar que los hogares en California tienen un alto valor ya que la mayoría se encuentran entre los 100mil y 400mil dólares. Sin embargo, es posible que en la recogida de datos se haya establecido un límite superior arbitrario en los 500mil dolares puesto que en este punto aparece una subida muy rápida en el número de comunidades en las que el valor medio es exactamente este número."
      ],
      "metadata": {
        "id": "ANyE4B6zJYmk"
      },
      "id": "ANyE4B6zJYmk"
    },
    {
      "cell_type": "markdown",
      "source": [
        "#### Antigüedad"
      ],
      "metadata": {
        "id": "wNqxtGbeuW-G"
      },
      "id": "wNqxtGbeuW-G"
    },
    {
      "cell_type": "code",
      "source": [
        "df['housing_median_age'].describe().transpose()"
      ],
      "metadata": {
        "id": "MHFiCtkvuZvi"
      },
      "execution_count": null,
      "outputs": [],
      "id": "MHFiCtkvuZvi"
    },
    {
      "cell_type": "code",
      "source": [
        "df[\"housing_median_age\"].plot(kind=\"density\", xlim=[0, 54])"
      ],
      "metadata": {
        "id": "LXyJ0eqougKM"
      },
      "execution_count": null,
      "outputs": [],
      "id": "LXyJ0eqougKM"
    },
    {
      "cell_type": "markdown",
      "source": [
        "Podemos apreciar que la mediana de antigüedad de los hogares en las distintas comunidades de California tiene una gran variabilidad siendo el rango más común entre los 15 y los 40 años, aunque también existe un elevado número de comunidades con hogares bastante viejos (50 años)."
      ],
      "metadata": {
        "id": "t_8MoiInul2z"
      },
      "id": "t_8MoiInul2z"
    },
    {
      "cell_type": "markdown",
      "source": [
        "#### Relaciones\n",
        "A continuación, mostraremos una imagen global de todos los pares de variables. De estos, analizaremos los más relevantes uno a uno."
      ],
      "metadata": {
        "id": "AW-cwtO5A39M"
      },
      "id": "AW-cwtO5A39M"
    },
    {
      "cell_type": "code",
      "execution_count": null,
      "metadata": {
        "id": "gS5QnHzouQb6"
      },
      "outputs": [],
      "source": [
        "sns.pairplot(df)"
      ],
      "id": "gS5QnHzouQb6"
    },
    {
      "cell_type": "markdown",
      "source": [
        "Para comenzar, calculemos la matriz de correlación de las variables para decidir qué pares de variables serán intersantes de comparar; si dos variables tiene una correlación baja en valor absoluto, no tendrá mucho interés compararlos, ya que probablemente no podramos sacar nada en claro de ello. No obstante, si la correlación es alta, entonces la comparación podrá llevarnos a inferir ciertas conclusiones. En este caso, consideraremos por alta aquella correlación que sea superior a 0.65. Esto es, analizaremos el comportamiento de aquellas duplas de variable culla correlación en valor absoluto sea mayor que 0.65."
      ],
      "metadata": {
        "id": "tl4lzeMuDLNK"
      },
      "id": "tl4lzeMuDLNK"
    },
    {
      "cell_type": "code",
      "source": [
        "df.corr()"
      ],
      "metadata": {
        "id": "wRkH9WNlClkl"
      },
      "execution_count": null,
      "outputs": [],
      "id": "wRkH9WNlClkl"
    },
    {
      "cell_type": "markdown",
      "metadata": {
        "id": "J-jx8X_J7Sgc"
      },
      "source": [
        "#### Longitud/Latitud\n",
        "Veamos donde se sitúan las distintas viviendas a través de la relación entre longitud y latitud."
      ],
      "id": "J-jx8X_J7Sgc"
    },
    {
      "cell_type": "code",
      "execution_count": null,
      "metadata": {
        "id": "8Fvqlj1F7mkd"
      },
      "outputs": [],
      "source": [
        "df.plot.scatter(x='longitude', y='latitude', c='lime')"
      ],
      "id": "8Fvqlj1F7mkd"
    },
    {
      "cell_type": "markdown",
      "metadata": {
        "id": "mdZYTJXC77Wn"
      },
      "source": [
        "Podemos apreciar el contorno del estado de California así como su geografía (donde hay desierto y montañas podemos encontrar menos hogares)."
      ],
      "id": "mdZYTJXC77Wn"
    },
    {
      "cell_type": "markdown",
      "source": [
        "#### Habitaciones totales/Geografía\n"
      ],
      "metadata": {
        "id": "bsGZXWeiFNOm"
      },
      "id": "bsGZXWeiFNOm"
    },
    {
      "cell_type": "code",
      "source": [
        "import plotly.express as px\n",
        "\n",
        "# El gráfico muestra con un color más intenso los cuadrados (que son la suma de todos los puntos\n",
        "# de datos contenidos en ellos) con un valor mayor\n",
        "fig = px.density_heatmap(df, x='longitude', y='latitude', z='total_bedrooms',\n",
        "                         color_continuous_scale='Brwnyl',\n",
        "                         nbinsx=1000, nbinsy=500,)\n",
        "fig.update_layout(title='Mapa de calor de California con \\\"total_bedrooms\\\" como densidad',\n",
        "                  xaxis_title='Longitude',\n",
        "                  yaxis_title='Latitude')\n",
        "\n",
        "fig.show()"
      ],
      "metadata": {
        "id": "I62bTQ3eFBjd"
      },
      "execution_count": null,
      "outputs": [],
      "id": "I62bTQ3eFBjd"
    },
    {
      "cell_type": "markdown",
      "source": [
        "En el anterior gráfico podemos apreciar (con un mapa de calor) los lugares en los que se concentran los distritos con un número alto de número de habitaciones. Claramente, estos se corresponden con las métropolis de California (zonas de San Franciso y Los Ángeles)."
      ],
      "metadata": {
        "id": "ldN9q8KMBGYT"
      },
      "id": "ldN9q8KMBGYT"
    },
    {
      "cell_type": "markdown",
      "source": [
        "#### Antigüedad/Geografía"
      ],
      "metadata": {
        "id": "UDsNMf3GxCtn"
      },
      "id": "UDsNMf3GxCtn"
    },
    {
      "cell_type": "code",
      "source": [
        "fig = px.scatter(df, x='longitude', y='latitude', color='housing_median_age',\n",
        "                 color_continuous_scale='Brwnyl')\n",
        "\n",
        "fig.update_layout(title='California Scatter Plot: Housing Median Age',\n",
        "                  xaxis_title='Longitude',\n",
        "                  yaxis_title='Latitude')\n",
        "\n",
        "fig.show()"
      ],
      "metadata": {
        "id": "yz-tV4KLxQKS"
      },
      "execution_count": null,
      "outputs": [],
      "id": "yz-tV4KLxQKS"
    },
    {
      "cell_type": "markdown",
      "source": [
        "En la anterior gráfica podemos apreciar donde se está aumentanto la oferta de hogares en California al fijarnos en los lugares con comunidades con hogares relativamente modernos (inferior a 10 años). Por ejemplo, podemos destacar la zona el este de Los Ángeles con un número relativamente elevado de comunidades con hogares nuevos."
      ],
      "metadata": {
        "id": "Z2Qru2O8yDtU"
      },
      "id": "Z2Qru2O8yDtU"
    },
    {
      "cell_type": "markdown",
      "source": [
        "#### Habitaciones totales/Dormitorios totales"
      ],
      "metadata": {
        "id": "g6yaPTSWFZZ0"
      },
      "id": "g6yaPTSWFZZ0"
    },
    {
      "cell_type": "code",
      "source": [
        "sns.scatterplot(data=df, x='total_rooms', y='total_bedrooms', color='lime')\n",
        "sns.regplot(data=df, x='total_rooms', y='total_bedrooms', scatter=False, color='blue')"
      ],
      "metadata": {
        "id": "yZ8l_5hYF1cr"
      },
      "execution_count": null,
      "outputs": [],
      "id": "yZ8l_5hYF1cr"
    },
    {
      "cell_type": "markdown",
      "source": [
        "Como podemos apreciar la relación entre estas dos variables es lineal de forma que, como hemos indicado anteriormente, la información que nos aporta una es similar a la aportada por la otra. Esto se aplica a todas las variables que hemos dicho anteriormente (habitaciones totales, dormitorios totales, población y número de casas)."
      ],
      "metadata": {
        "id": "7z9x8ewK75rh"
      },
      "id": "7z9x8ewK75rh"
    },
    {
      "cell_type": "markdown",
      "source": [
        "#### Ingresos  / Valor de la casa"
      ],
      "metadata": {
        "id": "emRAuXx_HMxQ"
      },
      "id": "emRAuXx_HMxQ"
    },
    {
      "cell_type": "code",
      "source": [
        "df.plot.scatter(x='median_income', y='median_house_value', c='lime')"
      ],
      "metadata": {
        "id": "hcx8dp1WHRUq"
      },
      "execution_count": null,
      "outputs": [],
      "id": "hcx8dp1WHRUq"
    },
    {
      "cell_type": "markdown",
      "source": [
        "En esta nueva gráfica podemos observar que, por lo general, a mayor mediana de ingresos en una comunidad, mayor será la mediana del valor de los hogares. Sin embargo, como hemos dicho anteriormente, resulta bastante extraño la acumulación de puntos con un \"median_house_value\" de exactamente 500mil dólares, posiblemente debido a una recogida incorrecta de datos o un límite arbitrario impuesto por el creador del _dataset_."
      ],
      "metadata": {
        "id": "BtUy_O8vqSHI"
      },
      "id": "BtUy_O8vqSHI"
    },
    {
      "cell_type": "markdown",
      "metadata": {
        "id": "isW6NIbvhrOY"
      },
      "source": [
        "\n",
        "### 2.2) Categóricos\n",
        "\n",
        "Analiza razonadamente las distribuciones de los valores de las variables categóricas incluyendo un diagrama de frecuencias y comentando lo más destacable."
      ],
      "id": "isW6NIbvhrOY"
    },
    {
      "cell_type": "code",
      "execution_count": null,
      "metadata": {
        "id": "RhW-bgHG6vbV"
      },
      "outputs": [],
      "source": [
        "df['ocean_proximity'].describe().transpose()"
      ],
      "id": "RhW-bgHG6vbV"
    },
    {
      "cell_type": "code",
      "source": [
        "df[\"ocean_proximity\"].value_counts().plot(kind='bar')"
      ],
      "metadata": {
        "id": "lHXDdJgarTLa"
      },
      "execution_count": null,
      "outputs": [],
      "id": "lHXDdJgarTLa"
    },
    {
      "cell_type": "markdown",
      "source": [
        "Podemos apreciar que la mayoría de hogares se encuentran cercanos al océano (<1H OCEAN, INLAND, NEAR_BAY), pero también existe un elevado número de comunidades en el interior del estado. Cabe destacar también que existe un reducido, y posiblemente exclusivo, número de distritos en islas."
      ],
      "metadata": {
        "id": "kisLQ3FssmUO"
      },
      "id": "kisLQ3FssmUO"
    },
    {
      "cell_type": "markdown",
      "metadata": {
        "id": "ranking-mainstream"
      },
      "source": [
        "## 3) Preprocesar los datos\n",
        "\n",
        "Para realizar el clustering puedes decidir quedarte con un subconjunto de las variables. Justifica la respuesta de tu decisión.\n",
        "\n",
        "Teniendo en cuenta que vamos a utilizar el algoritmo k-Means, explica razonadamente si es necesario o no cambiar la escalas de los datos y si a priori es mejor reescalarlos (MinMaxScaler) o estandarizarlos (StandarScaler).\n",
        "\n",
        "Si decides preprocesarlos, accede al array interno del dataframe y crea un nuevo array con los datos escalados."
      ],
      "id": "ranking-mainstream"
    },
    {
      "cell_type": "markdown",
      "source": [
        "### 3.1) Subconjunto de variables\n",
        "Como hemos venido adelantando, en el _dataset_ nos encontramos con múltiples variables que, de una forma u otra, nos aportan la misma información. Por esta razón, consideramos que lo mejor que podemos hacer es tomar un tipo de variables como representante de estas e ignorar el resto. Las variables que aportan la misma información son total_rooms, total_bedrooms, population y households. Como representante tomaremos _population_."
      ],
      "metadata": {
        "id": "uG7xy9SztSe6"
      },
      "id": "uG7xy9SztSe6"
    },
    {
      "cell_type": "code",
      "source": [
        "df2 = df.drop(columns=[\"total_rooms\", \"total_bedrooms\", \"households\"])"
      ],
      "metadata": {
        "id": "rTMVxMcM_Al1"
      },
      "execution_count": 18,
      "outputs": [],
      "id": "rTMVxMcM_Al1"
    },
    {
      "cell_type": "code",
      "source": [
        "df2"
      ],
      "metadata": {
        "id": "HaoB57OJ_Z02"
      },
      "execution_count": null,
      "outputs": [],
      "id": "HaoB57OJ_Z02"
    },
    {
      "cell_type": "markdown",
      "source": [
        "### 3.2) Transformación de las variables\n",
        "\n",
        "Considerando que todas las variables, después de eliminar las redundates, miden magnitudes en unidades completamente distintas (con la excepción de longitud/latitud), hemos considerado que lo mejor será llevarlas todas a una escala equivalente de entre 0 y 1. El caso de la geografía no nos dará problemas puesto que la longitud y la latitud se mueven en unas distancias más o menos equivalentes (una especie de cuadrado)."
      ],
      "metadata": {
        "id": "kT58d9hj_oxU"
      },
      "id": "kT58d9hj_oxU"
    },
    {
      "cell_type": "code",
      "source": [
        "from sklearn.preprocessing import OneHotEncoder\n",
        "from sklearn.preprocessing import MinMaxScaler\n",
        "\n",
        "# Hacemos One-Hot enconding para la variable categórica\n",
        "# Es decir, creamos una nueva columna binaria para cada valor posible de esta variable\n",
        "ocean_proximity_column = df2['ocean_proximity']\n",
        "\n",
        "# One-hot codificación\n",
        "encoder = OneHotEncoder(sparse_output=False, categories=[['NEAR BAY', 'INLAND', '<1H OCEAN', 'NEAR OCEAN', 'ISLAND']])\n",
        "ocean_proximity_encoded = encoder.fit_transform(ocean_proximity_column.values.reshape(-1, 1))\n",
        "\n",
        "# Construimos las columnas para los valores codificados\n",
        "encoded_feature_names = encoder.categories_[0]\n",
        "encoded_column_names = [f'ocean_proximity_{category}' for category in encoded_feature_names]\n",
        "\n",
        "# Convertimos el array a un Dataframe\n",
        "ocean_proximity_encoded_df = pd.DataFrame(ocean_proximity_encoded, columns=encoded_column_names)\n",
        "\n",
        "# Y lo concatenamos al que nos interesa\n",
        "df2_encoded = pd.concat([df2.drop(columns=['ocean_proximity']), ocean_proximity_encoded_df], axis=1)\n",
        "\n",
        "# Aplicamos Min-Max\n",
        "min_max_scaler = MinMaxScaler()\n",
        "df2_scaled = min_max_scaler.fit_transform(df2_encoded)\n",
        "column_names = [\"longitude\", \"latitude\", \"housing_median_age\", \"population\", \"median_income\", \"median_house_value\"] + encoded_column_names\n",
        "df2_scaled = pd.DataFrame(df2_scaled, columns=column_names)\n",
        "df2_scaled"
      ],
      "metadata": {
        "id": "VRwbQMF3BKLG",
        "colab": {
          "base_uri": "https://localhost:8080/",
          "height": 461
        },
        "outputId": "da3ec6c4-fee7-4e33-eceb-3d7074e5b20f"
      },
      "execution_count": 19,
      "outputs": [
        {
          "output_type": "execute_result",
          "data": {
            "text/plain": [
              "       longitude  latitude  housing_median_age  population  median_income  \\\n",
              "0       0.211155  0.567481            0.784314    0.008941       0.539668   \n",
              "1       0.212151  0.565356            0.392157    0.067210       0.538027   \n",
              "2       0.210159  0.564293            1.000000    0.013818       0.466028   \n",
              "3       0.209163  0.564293            1.000000    0.015555       0.354699   \n",
              "4       0.209163  0.564293            1.000000    0.015752       0.230776   \n",
              "...          ...       ...                 ...         ...            ...   \n",
              "20635   0.324701  0.737513            0.470588    0.023599       0.073130   \n",
              "20636   0.312749  0.738576            0.333333    0.009894       0.141853   \n",
              "20637   0.311753  0.732200            0.313725    0.028140       0.082764   \n",
              "20638   0.301793  0.732200            0.333333    0.020684       0.094295   \n",
              "20639   0.309761  0.725824            0.294118    0.038790       0.130253   \n",
              "\n",
              "       median_house_value  ocean_proximity_NEAR BAY  ocean_proximity_INLAND  \\\n",
              "0                0.902266                       1.0                     0.0   \n",
              "1                0.708247                       1.0                     0.0   \n",
              "2                0.695051                       1.0                     0.0   \n",
              "3                0.672783                       1.0                     0.0   \n",
              "4                0.674638                       1.0                     0.0   \n",
              "...                   ...                       ...                     ...   \n",
              "20635            0.130105                       0.0                     1.0   \n",
              "20636            0.128043                       0.0                     1.0   \n",
              "20637            0.159383                       0.0                     1.0   \n",
              "20638            0.143713                       0.0                     1.0   \n",
              "20639            0.153403                       0.0                     1.0   \n",
              "\n",
              "       ocean_proximity_<1H OCEAN  ocean_proximity_NEAR OCEAN  \\\n",
              "0                            0.0                         0.0   \n",
              "1                            0.0                         0.0   \n",
              "2                            0.0                         0.0   \n",
              "3                            0.0                         0.0   \n",
              "4                            0.0                         0.0   \n",
              "...                          ...                         ...   \n",
              "20635                        0.0                         0.0   \n",
              "20636                        0.0                         0.0   \n",
              "20637                        0.0                         0.0   \n",
              "20638                        0.0                         0.0   \n",
              "20639                        0.0                         0.0   \n",
              "\n",
              "       ocean_proximity_ISLAND  \n",
              "0                         0.0  \n",
              "1                         0.0  \n",
              "2                         0.0  \n",
              "3                         0.0  \n",
              "4                         0.0  \n",
              "...                       ...  \n",
              "20635                     0.0  \n",
              "20636                     0.0  \n",
              "20637                     0.0  \n",
              "20638                     0.0  \n",
              "20639                     0.0  \n",
              "\n",
              "[20640 rows x 11 columns]"
            ],
            "text/html": [
              "\n",
              "  <div id=\"df-0b6edf3b-2700-4373-8732-8cebfdd4dc43\" class=\"colab-df-container\">\n",
              "    <div>\n",
              "<style scoped>\n",
              "    .dataframe tbody tr th:only-of-type {\n",
              "        vertical-align: middle;\n",
              "    }\n",
              "\n",
              "    .dataframe tbody tr th {\n",
              "        vertical-align: top;\n",
              "    }\n",
              "\n",
              "    .dataframe thead th {\n",
              "        text-align: right;\n",
              "    }\n",
              "</style>\n",
              "<table border=\"1\" class=\"dataframe\">\n",
              "  <thead>\n",
              "    <tr style=\"text-align: right;\">\n",
              "      <th></th>\n",
              "      <th>longitude</th>\n",
              "      <th>latitude</th>\n",
              "      <th>housing_median_age</th>\n",
              "      <th>population</th>\n",
              "      <th>median_income</th>\n",
              "      <th>median_house_value</th>\n",
              "      <th>ocean_proximity_NEAR BAY</th>\n",
              "      <th>ocean_proximity_INLAND</th>\n",
              "      <th>ocean_proximity_&lt;1H OCEAN</th>\n",
              "      <th>ocean_proximity_NEAR OCEAN</th>\n",
              "      <th>ocean_proximity_ISLAND</th>\n",
              "    </tr>\n",
              "  </thead>\n",
              "  <tbody>\n",
              "    <tr>\n",
              "      <th>0</th>\n",
              "      <td>0.211155</td>\n",
              "      <td>0.567481</td>\n",
              "      <td>0.784314</td>\n",
              "      <td>0.008941</td>\n",
              "      <td>0.539668</td>\n",
              "      <td>0.902266</td>\n",
              "      <td>1.0</td>\n",
              "      <td>0.0</td>\n",
              "      <td>0.0</td>\n",
              "      <td>0.0</td>\n",
              "      <td>0.0</td>\n",
              "    </tr>\n",
              "    <tr>\n",
              "      <th>1</th>\n",
              "      <td>0.212151</td>\n",
              "      <td>0.565356</td>\n",
              "      <td>0.392157</td>\n",
              "      <td>0.067210</td>\n",
              "      <td>0.538027</td>\n",
              "      <td>0.708247</td>\n",
              "      <td>1.0</td>\n",
              "      <td>0.0</td>\n",
              "      <td>0.0</td>\n",
              "      <td>0.0</td>\n",
              "      <td>0.0</td>\n",
              "    </tr>\n",
              "    <tr>\n",
              "      <th>2</th>\n",
              "      <td>0.210159</td>\n",
              "      <td>0.564293</td>\n",
              "      <td>1.000000</td>\n",
              "      <td>0.013818</td>\n",
              "      <td>0.466028</td>\n",
              "      <td>0.695051</td>\n",
              "      <td>1.0</td>\n",
              "      <td>0.0</td>\n",
              "      <td>0.0</td>\n",
              "      <td>0.0</td>\n",
              "      <td>0.0</td>\n",
              "    </tr>\n",
              "    <tr>\n",
              "      <th>3</th>\n",
              "      <td>0.209163</td>\n",
              "      <td>0.564293</td>\n",
              "      <td>1.000000</td>\n",
              "      <td>0.015555</td>\n",
              "      <td>0.354699</td>\n",
              "      <td>0.672783</td>\n",
              "      <td>1.0</td>\n",
              "      <td>0.0</td>\n",
              "      <td>0.0</td>\n",
              "      <td>0.0</td>\n",
              "      <td>0.0</td>\n",
              "    </tr>\n",
              "    <tr>\n",
              "      <th>4</th>\n",
              "      <td>0.209163</td>\n",
              "      <td>0.564293</td>\n",
              "      <td>1.000000</td>\n",
              "      <td>0.015752</td>\n",
              "      <td>0.230776</td>\n",
              "      <td>0.674638</td>\n",
              "      <td>1.0</td>\n",
              "      <td>0.0</td>\n",
              "      <td>0.0</td>\n",
              "      <td>0.0</td>\n",
              "      <td>0.0</td>\n",
              "    </tr>\n",
              "    <tr>\n",
              "      <th>...</th>\n",
              "      <td>...</td>\n",
              "      <td>...</td>\n",
              "      <td>...</td>\n",
              "      <td>...</td>\n",
              "      <td>...</td>\n",
              "      <td>...</td>\n",
              "      <td>...</td>\n",
              "      <td>...</td>\n",
              "      <td>...</td>\n",
              "      <td>...</td>\n",
              "      <td>...</td>\n",
              "    </tr>\n",
              "    <tr>\n",
              "      <th>20635</th>\n",
              "      <td>0.324701</td>\n",
              "      <td>0.737513</td>\n",
              "      <td>0.470588</td>\n",
              "      <td>0.023599</td>\n",
              "      <td>0.073130</td>\n",
              "      <td>0.130105</td>\n",
              "      <td>0.0</td>\n",
              "      <td>1.0</td>\n",
              "      <td>0.0</td>\n",
              "      <td>0.0</td>\n",
              "      <td>0.0</td>\n",
              "    </tr>\n",
              "    <tr>\n",
              "      <th>20636</th>\n",
              "      <td>0.312749</td>\n",
              "      <td>0.738576</td>\n",
              "      <td>0.333333</td>\n",
              "      <td>0.009894</td>\n",
              "      <td>0.141853</td>\n",
              "      <td>0.128043</td>\n",
              "      <td>0.0</td>\n",
              "      <td>1.0</td>\n",
              "      <td>0.0</td>\n",
              "      <td>0.0</td>\n",
              "      <td>0.0</td>\n",
              "    </tr>\n",
              "    <tr>\n",
              "      <th>20637</th>\n",
              "      <td>0.311753</td>\n",
              "      <td>0.732200</td>\n",
              "      <td>0.313725</td>\n",
              "      <td>0.028140</td>\n",
              "      <td>0.082764</td>\n",
              "      <td>0.159383</td>\n",
              "      <td>0.0</td>\n",
              "      <td>1.0</td>\n",
              "      <td>0.0</td>\n",
              "      <td>0.0</td>\n",
              "      <td>0.0</td>\n",
              "    </tr>\n",
              "    <tr>\n",
              "      <th>20638</th>\n",
              "      <td>0.301793</td>\n",
              "      <td>0.732200</td>\n",
              "      <td>0.333333</td>\n",
              "      <td>0.020684</td>\n",
              "      <td>0.094295</td>\n",
              "      <td>0.143713</td>\n",
              "      <td>0.0</td>\n",
              "      <td>1.0</td>\n",
              "      <td>0.0</td>\n",
              "      <td>0.0</td>\n",
              "      <td>0.0</td>\n",
              "    </tr>\n",
              "    <tr>\n",
              "      <th>20639</th>\n",
              "      <td>0.309761</td>\n",
              "      <td>0.725824</td>\n",
              "      <td>0.294118</td>\n",
              "      <td>0.038790</td>\n",
              "      <td>0.130253</td>\n",
              "      <td>0.153403</td>\n",
              "      <td>0.0</td>\n",
              "      <td>1.0</td>\n",
              "      <td>0.0</td>\n",
              "      <td>0.0</td>\n",
              "      <td>0.0</td>\n",
              "    </tr>\n",
              "  </tbody>\n",
              "</table>\n",
              "<p>20640 rows × 11 columns</p>\n",
              "</div>\n",
              "    <div class=\"colab-df-buttons\">\n",
              "\n",
              "  <div class=\"colab-df-container\">\n",
              "    <button class=\"colab-df-convert\" onclick=\"convertToInteractive('df-0b6edf3b-2700-4373-8732-8cebfdd4dc43')\"\n",
              "            title=\"Convert this dataframe to an interactive table.\"\n",
              "            style=\"display:none;\">\n",
              "\n",
              "  <svg xmlns=\"http://www.w3.org/2000/svg\" height=\"24px\" viewBox=\"0 -960 960 960\">\n",
              "    <path d=\"M120-120v-720h720v720H120Zm60-500h600v-160H180v160Zm220 220h160v-160H400v160Zm0 220h160v-160H400v160ZM180-400h160v-160H180v160Zm440 0h160v-160H620v160ZM180-180h160v-160H180v160Zm440 0h160v-160H620v160Z\"/>\n",
              "  </svg>\n",
              "    </button>\n",
              "\n",
              "  <style>\n",
              "    .colab-df-container {\n",
              "      display:flex;\n",
              "      gap: 12px;\n",
              "    }\n",
              "\n",
              "    .colab-df-convert {\n",
              "      background-color: #E8F0FE;\n",
              "      border: none;\n",
              "      border-radius: 50%;\n",
              "      cursor: pointer;\n",
              "      display: none;\n",
              "      fill: #1967D2;\n",
              "      height: 32px;\n",
              "      padding: 0 0 0 0;\n",
              "      width: 32px;\n",
              "    }\n",
              "\n",
              "    .colab-df-convert:hover {\n",
              "      background-color: #E2EBFA;\n",
              "      box-shadow: 0px 1px 2px rgba(60, 64, 67, 0.3), 0px 1px 3px 1px rgba(60, 64, 67, 0.15);\n",
              "      fill: #174EA6;\n",
              "    }\n",
              "\n",
              "    .colab-df-buttons div {\n",
              "      margin-bottom: 4px;\n",
              "    }\n",
              "\n",
              "    [theme=dark] .colab-df-convert {\n",
              "      background-color: #3B4455;\n",
              "      fill: #D2E3FC;\n",
              "    }\n",
              "\n",
              "    [theme=dark] .colab-df-convert:hover {\n",
              "      background-color: #434B5C;\n",
              "      box-shadow: 0px 1px 3px 1px rgba(0, 0, 0, 0.15);\n",
              "      filter: drop-shadow(0px 1px 2px rgba(0, 0, 0, 0.3));\n",
              "      fill: #FFFFFF;\n",
              "    }\n",
              "  </style>\n",
              "\n",
              "    <script>\n",
              "      const buttonEl =\n",
              "        document.querySelector('#df-0b6edf3b-2700-4373-8732-8cebfdd4dc43 button.colab-df-convert');\n",
              "      buttonEl.style.display =\n",
              "        google.colab.kernel.accessAllowed ? 'block' : 'none';\n",
              "\n",
              "      async function convertToInteractive(key) {\n",
              "        const element = document.querySelector('#df-0b6edf3b-2700-4373-8732-8cebfdd4dc43');\n",
              "        const dataTable =\n",
              "          await google.colab.kernel.invokeFunction('convertToInteractive',\n",
              "                                                    [key], {});\n",
              "        if (!dataTable) return;\n",
              "\n",
              "        const docLinkHtml = 'Like what you see? Visit the ' +\n",
              "          '<a target=\"_blank\" href=https://colab.research.google.com/notebooks/data_table.ipynb>data table notebook</a>'\n",
              "          + ' to learn more about interactive tables.';\n",
              "        element.innerHTML = '';\n",
              "        dataTable['output_type'] = 'display_data';\n",
              "        await google.colab.output.renderOutput(dataTable, element);\n",
              "        const docLink = document.createElement('div');\n",
              "        docLink.innerHTML = docLinkHtml;\n",
              "        element.appendChild(docLink);\n",
              "      }\n",
              "    </script>\n",
              "  </div>\n",
              "\n",
              "\n",
              "<div id=\"df-6bd6060b-d875-4468-ae5b-9159fc56a4b7\">\n",
              "  <button class=\"colab-df-quickchart\" onclick=\"quickchart('df-6bd6060b-d875-4468-ae5b-9159fc56a4b7')\"\n",
              "            title=\"Suggest charts\"\n",
              "            style=\"display:none;\">\n",
              "\n",
              "<svg xmlns=\"http://www.w3.org/2000/svg\" height=\"24px\"viewBox=\"0 0 24 24\"\n",
              "     width=\"24px\">\n",
              "    <g>\n",
              "        <path d=\"M19 3H5c-1.1 0-2 .9-2 2v14c0 1.1.9 2 2 2h14c1.1 0 2-.9 2-2V5c0-1.1-.9-2-2-2zM9 17H7v-7h2v7zm4 0h-2V7h2v10zm4 0h-2v-4h2v4z\"/>\n",
              "    </g>\n",
              "</svg>\n",
              "  </button>\n",
              "\n",
              "<style>\n",
              "  .colab-df-quickchart {\n",
              "      --bg-color: #E8F0FE;\n",
              "      --fill-color: #1967D2;\n",
              "      --hover-bg-color: #E2EBFA;\n",
              "      --hover-fill-color: #174EA6;\n",
              "      --disabled-fill-color: #AAA;\n",
              "      --disabled-bg-color: #DDD;\n",
              "  }\n",
              "\n",
              "  [theme=dark] .colab-df-quickchart {\n",
              "      --bg-color: #3B4455;\n",
              "      --fill-color: #D2E3FC;\n",
              "      --hover-bg-color: #434B5C;\n",
              "      --hover-fill-color: #FFFFFF;\n",
              "      --disabled-bg-color: #3B4455;\n",
              "      --disabled-fill-color: #666;\n",
              "  }\n",
              "\n",
              "  .colab-df-quickchart {\n",
              "    background-color: var(--bg-color);\n",
              "    border: none;\n",
              "    border-radius: 50%;\n",
              "    cursor: pointer;\n",
              "    display: none;\n",
              "    fill: var(--fill-color);\n",
              "    height: 32px;\n",
              "    padding: 0;\n",
              "    width: 32px;\n",
              "  }\n",
              "\n",
              "  .colab-df-quickchart:hover {\n",
              "    background-color: var(--hover-bg-color);\n",
              "    box-shadow: 0 1px 2px rgba(60, 64, 67, 0.3), 0 1px 3px 1px rgba(60, 64, 67, 0.15);\n",
              "    fill: var(--button-hover-fill-color);\n",
              "  }\n",
              "\n",
              "  .colab-df-quickchart-complete:disabled,\n",
              "  .colab-df-quickchart-complete:disabled:hover {\n",
              "    background-color: var(--disabled-bg-color);\n",
              "    fill: var(--disabled-fill-color);\n",
              "    box-shadow: none;\n",
              "  }\n",
              "\n",
              "  .colab-df-spinner {\n",
              "    border: 2px solid var(--fill-color);\n",
              "    border-color: transparent;\n",
              "    border-bottom-color: var(--fill-color);\n",
              "    animation:\n",
              "      spin 1s steps(1) infinite;\n",
              "  }\n",
              "\n",
              "  @keyframes spin {\n",
              "    0% {\n",
              "      border-color: transparent;\n",
              "      border-bottom-color: var(--fill-color);\n",
              "      border-left-color: var(--fill-color);\n",
              "    }\n",
              "    20% {\n",
              "      border-color: transparent;\n",
              "      border-left-color: var(--fill-color);\n",
              "      border-top-color: var(--fill-color);\n",
              "    }\n",
              "    30% {\n",
              "      border-color: transparent;\n",
              "      border-left-color: var(--fill-color);\n",
              "      border-top-color: var(--fill-color);\n",
              "      border-right-color: var(--fill-color);\n",
              "    }\n",
              "    40% {\n",
              "      border-color: transparent;\n",
              "      border-right-color: var(--fill-color);\n",
              "      border-top-color: var(--fill-color);\n",
              "    }\n",
              "    60% {\n",
              "      border-color: transparent;\n",
              "      border-right-color: var(--fill-color);\n",
              "    }\n",
              "    80% {\n",
              "      border-color: transparent;\n",
              "      border-right-color: var(--fill-color);\n",
              "      border-bottom-color: var(--fill-color);\n",
              "    }\n",
              "    90% {\n",
              "      border-color: transparent;\n",
              "      border-bottom-color: var(--fill-color);\n",
              "    }\n",
              "  }\n",
              "</style>\n",
              "\n",
              "  <script>\n",
              "    async function quickchart(key) {\n",
              "      const quickchartButtonEl =\n",
              "        document.querySelector('#' + key + ' button');\n",
              "      quickchartButtonEl.disabled = true;  // To prevent multiple clicks.\n",
              "      quickchartButtonEl.classList.add('colab-df-spinner');\n",
              "      try {\n",
              "        const charts = await google.colab.kernel.invokeFunction(\n",
              "            'suggestCharts', [key], {});\n",
              "      } catch (error) {\n",
              "        console.error('Error during call to suggestCharts:', error);\n",
              "      }\n",
              "      quickchartButtonEl.classList.remove('colab-df-spinner');\n",
              "      quickchartButtonEl.classList.add('colab-df-quickchart-complete');\n",
              "    }\n",
              "    (() => {\n",
              "      let quickchartButtonEl =\n",
              "        document.querySelector('#df-6bd6060b-d875-4468-ae5b-9159fc56a4b7 button');\n",
              "      quickchartButtonEl.style.display =\n",
              "        google.colab.kernel.accessAllowed ? 'block' : 'none';\n",
              "    })();\n",
              "  </script>\n",
              "</div>\n",
              "    </div>\n",
              "  </div>\n"
            ],
            "application/vnd.google.colaboratory.intrinsic+json": {
              "type": "dataframe",
              "variable_name": "df2_scaled",
              "summary": "{\n  \"name\": \"df2_scaled\",\n  \"rows\": 20640,\n  \"fields\": [\n    {\n      \"column\": \"longitude\",\n      \"properties\": {\n        \"dtype\": \"number\",\n        \"std\": 0.19955495254009856,\n        \"min\": 0.0,\n        \"max\": 1.0,\n        \"num_unique_values\": 844,\n        \"samples\": [\n          0.569721115537849,\n          0.4472111553784863,\n          0.30776892430278835\n        ],\n        \"semantic_type\": \"\",\n        \"description\": \"\"\n      }\n    },\n    {\n      \"column\": \"latitude\",\n      \"properties\": {\n        \"dtype\": \"number\",\n        \"std\": 0.22698750238651585,\n        \"min\": 0.0,\n        \"max\": 1.0,\n        \"num_unique_values\": 862,\n        \"samples\": [\n          0.12327311370882077,\n          0.198724760892667,\n          0.605738575982997\n        ],\n        \"semantic_type\": \"\",\n        \"description\": \"\"\n      }\n    },\n    {\n      \"column\": \"housing_median_age\",\n      \"properties\": {\n        \"dtype\": \"number\",\n        \"std\": 0.24677563945316955,\n        \"min\": 0.0,\n        \"max\": 0.9999999999999999,\n        \"num_unique_values\": 52,\n        \"samples\": [\n          0.6666666666666666,\n          0.47058823529411764,\n          0.11764705882352942\n        ],\n        \"semantic_type\": \"\",\n        \"description\": \"\"\n      }\n    },\n    {\n      \"column\": \"population\",\n      \"properties\": {\n        \"dtype\": \"number\",\n        \"std\": 0.03174029882466831,\n        \"min\": 0.0,\n        \"max\": 1.0,\n        \"num_unique_values\": 3888,\n        \"samples\": [\n          0.11676336220185543,\n          0.017741528630286725,\n          0.0942851537318871\n        ],\n        \"semantic_type\": \"\",\n        \"description\": \"\"\n      }\n    },\n    {\n      \"column\": \"median_income\",\n      \"properties\": {\n        \"dtype\": \"number\",\n        \"std\": 0.13102038026684246,\n        \"min\": 0.0,\n        \"max\": 1.0,\n        \"num_unique_values\": 12928,\n        \"samples\": [\n          0.31231983007130937,\n          0.10643991117363898,\n          0.3877808581950594\n        ],\n        \"semantic_type\": \"\",\n        \"description\": \"\"\n      }\n    },\n    {\n      \"column\": \"median_house_value\",\n      \"properties\": {\n        \"dtype\": \"number\",\n        \"std\": 0.23792812374879665,\n        \"min\": 0.0,\n        \"max\": 1.0,\n        \"num_unique_values\": 3842,\n        \"samples\": [\n          0.3696912590051175,\n          0.7505144308683264,\n          0.44350538760664904\n        ],\n        \"semantic_type\": \"\",\n        \"description\": \"\"\n      }\n    },\n    {\n      \"column\": \"ocean_proximity_NEAR BAY\",\n      \"properties\": {\n        \"dtype\": \"number\",\n        \"std\": 0.31407733952346306,\n        \"min\": 0.0,\n        \"max\": 1.0,\n        \"num_unique_values\": 2,\n        \"samples\": [\n          0.0,\n          1.0\n        ],\n        \"semantic_type\": \"\",\n        \"description\": \"\"\n      }\n    },\n    {\n      \"column\": \"ocean_proximity_INLAND\",\n      \"properties\": {\n        \"dtype\": \"number\",\n        \"std\": 0.46547323333495744,\n        \"min\": 0.0,\n        \"max\": 1.0,\n        \"num_unique_values\": 2,\n        \"samples\": [\n          1.0,\n          0.0\n        ],\n        \"semantic_type\": \"\",\n        \"description\": \"\"\n      }\n    },\n    {\n      \"column\": \"ocean_proximity_<1H OCEAN\",\n      \"properties\": {\n        \"dtype\": \"number\",\n        \"std\": 0.49671046488122955,\n        \"min\": 0.0,\n        \"max\": 1.0,\n        \"num_unique_values\": 2,\n        \"samples\": [\n          1.0,\n          0.0\n        ],\n        \"semantic_type\": \"\",\n        \"description\": \"\"\n      }\n    },\n    {\n      \"column\": \"ocean_proximity_NEAR OCEAN\",\n      \"properties\": {\n        \"dtype\": \"number\",\n        \"std\": 0.3349633666924318,\n        \"min\": 0.0,\n        \"max\": 1.0,\n        \"num_unique_values\": 2,\n        \"samples\": [\n          1.0,\n          0.0\n        ],\n        \"semantic_type\": \"\",\n        \"description\": \"\"\n      }\n    },\n    {\n      \"column\": \"ocean_proximity_ISLAND\",\n      \"properties\": {\n        \"dtype\": \"number\",\n        \"std\": 0.015562811842400945,\n        \"min\": 0.0,\n        \"max\": 1.0,\n        \"num_unique_values\": 2,\n        \"samples\": [\n          1.0,\n          0.0\n        ],\n        \"semantic_type\": \"\",\n        \"description\": \"\"\n      }\n    }\n  ]\n}"
            }
          },
          "metadata": {},
          "execution_count": 19
        }
      ],
      "id": "VRwbQMF3BKLG"
    },
    {
      "cell_type": "markdown",
      "metadata": {
        "id": "appreciated-volume"
      },
      "source": [
        "## 4) Encontrar el número óptimo de clusters\n",
        "\n",
        "Decide razonadamente el número óptimo de clusters en el rango 2..10. Ten en cuenta que para interpretar los datos no nos interesa tampoco tener un número excesivo de clusters. Para hacerlo calcula el índice davies_boulding en función del número de clusters."
      ],
      "id": "appreciated-volume"
    },
    {
      "cell_type": "code",
      "execution_count": 20,
      "metadata": {
        "id": "6uohRX6V6uK5"
      },
      "outputs": [],
      "source": [
        "import numpy as np\n",
        "from sklearn.cluster import KMeans\n",
        "from sklearn.cluster import AgglomerativeClustering\n",
        "from sklearn.metrics import davies_bouldin_score\n",
        "from sklearn.datasets import make_blobs\n",
        "import matplotlib as mpl\n",
        "import matplotlib.pyplot as plt\n",
        "from matplotlib.colors import ListedColormap"
      ],
      "id": "6uohRX6V6uK5"
    },
    {
      "cell_type": "code",
      "source": [
        "def plot_clusters(X, labels=None, centers=None):\n",
        "    \"\"\" Función auxiliar para pintar los puntos de los clusters y, optativamente, sus centros.\n",
        "    :param X: array de puntos de dos dimensiones (array de array de enteros)\n",
        "    :param labels: cluster al que pertenece cada punto (array de enteros)\n",
        "    :param centers: coordenadas de los centroides de los clusters (array de array de enteros)\n",
        "    \"\"\"\n",
        "\n",
        "    colors = ['r','g','b','c','y','k','m',]\n",
        "    fig = plt.figure(figsize=(8,8))\n",
        "\n",
        "    # Los dos primeros parámetros de la función scatter son las coordenadas de los puntos,\n",
        "    # el parámetro 'c' indica la clase asignada de cada punto, y 'cmap' se usa para colorear\n",
        "    # las distintas clases\n",
        "    plt.scatter(X[:,0], X[:,1], c=labels, cmap=ListedColormap(colors))\n",
        "\n",
        "    # Pintar los centroides de los clusters\n",
        "    if centers is not None:\n",
        "        plt.scatter(centers[:,0], centers[:,1], marker=\"x\", color='k', s=150, linewidths = 5, zorder=10)\n",
        "\n",
        "    plt.show()"
      ],
      "metadata": {
        "id": "Q1DcrBRO5SoF"
      },
      "id": "Q1DcrBRO5SoF",
      "execution_count": 21,
      "outputs": []
    },
    {
      "cell_type": "markdown",
      "source": [
        "A continuación, vamos a generar los clusters de las parejas de variables que hemos mencionado al principio, y analizaremos cuál es el número óptimo de clusters para cada caso en concreto:"
      ],
      "metadata": {
        "id": "-D3TrPp6NphA"
      },
      "id": "-D3TrPp6NphA"
    },
    {
      "cell_type": "code",
      "source": [
        "K_MAX = 10 # El rango de clusters irá de 2 a 10\n",
        "davies_boulding = np.zeros(K_MAX-2)\n",
        "#X=(df.loc[:,['longitude', 'latitude']]).values\n",
        "for k in range(2, K_MAX):\n",
        "    km1 = KMeans(init='random', n_clusters=k, random_state=333)\n",
        "    km1.fit(df2_scaled)\n",
        "    #plot_clusters(X, km1.labels_, km1.cluster_centers_)\n",
        "    davies_boulding[k-2] = davies_bouldin_score(df2_scaled, km1.labels_)\n"
      ],
      "metadata": {
        "id": "2siJrxtBP_Qm",
        "colab": {
          "base_uri": "https://localhost:8080/"
        },
        "outputId": "ba6beb53-4fef-4d92-edd3-7bff89ce49b9"
      },
      "id": "2siJrxtBP_Qm",
      "execution_count": 30,
      "outputs": [
        {
          "output_type": "stream",
          "name": "stderr",
          "text": [
            "/usr/local/lib/python3.10/dist-packages/sklearn/cluster/_kmeans.py:870: FutureWarning: The default value of `n_init` will change from 10 to 'auto' in 1.4. Set the value of `n_init` explicitly to suppress the warning\n",
            "  warnings.warn(\n",
            "/usr/local/lib/python3.10/dist-packages/sklearn/cluster/_kmeans.py:870: FutureWarning: The default value of `n_init` will change from 10 to 'auto' in 1.4. Set the value of `n_init` explicitly to suppress the warning\n",
            "  warnings.warn(\n",
            "/usr/local/lib/python3.10/dist-packages/sklearn/cluster/_kmeans.py:870: FutureWarning: The default value of `n_init` will change from 10 to 'auto' in 1.4. Set the value of `n_init` explicitly to suppress the warning\n",
            "  warnings.warn(\n",
            "/usr/local/lib/python3.10/dist-packages/sklearn/cluster/_kmeans.py:870: FutureWarning: The default value of `n_init` will change from 10 to 'auto' in 1.4. Set the value of `n_init` explicitly to suppress the warning\n",
            "  warnings.warn(\n",
            "/usr/local/lib/python3.10/dist-packages/sklearn/cluster/_kmeans.py:870: FutureWarning: The default value of `n_init` will change from 10 to 'auto' in 1.4. Set the value of `n_init` explicitly to suppress the warning\n",
            "  warnings.warn(\n",
            "/usr/local/lib/python3.10/dist-packages/sklearn/cluster/_kmeans.py:870: FutureWarning: The default value of `n_init` will change from 10 to 'auto' in 1.4. Set the value of `n_init` explicitly to suppress the warning\n",
            "  warnings.warn(\n",
            "/usr/local/lib/python3.10/dist-packages/sklearn/cluster/_kmeans.py:870: FutureWarning: The default value of `n_init` will change from 10 to 'auto' in 1.4. Set the value of `n_init` explicitly to suppress the warning\n",
            "  warnings.warn(\n",
            "/usr/local/lib/python3.10/dist-packages/sklearn/cluster/_kmeans.py:870: FutureWarning: The default value of `n_init` will change from 10 to 'auto' in 1.4. Set the value of `n_init` explicitly to suppress the warning\n",
            "  warnings.warn(\n"
          ]
        }
      ]
    },
    {
      "cell_type": "code",
      "source": [
        "plt.plot(range(2, K_MAX), davies_boulding)\n",
        "plt.title('Valor de Davies Boulding para diferentes k')"
      ],
      "metadata": {
        "id": "JmiFUr35Oz2L",
        "colab": {
          "base_uri": "https://localhost:8080/",
          "height": 469
        },
        "outputId": "7193ae62-de11-4e64-eb55-0dd6fbb1eb3e"
      },
      "id": "JmiFUr35Oz2L",
      "execution_count": 31,
      "outputs": [
        {
          "output_type": "execute_result",
          "data": {
            "text/plain": [
              "Text(0.5, 1.0, 'Valor de Davies Boulding para diferentes k')"
            ]
          },
          "metadata": {},
          "execution_count": 31
        },
        {
          "output_type": "display_data",
          "data": {
            "text/plain": [
              "<Figure size 640x480 with 1 Axes>"
            ],
            "image/png": "[encoded data removed]"
          },
          "metadata": {}
        }
      ]
    },
    {
      "cell_type": "markdown",
      "source": [
        "Como podemos observar, el valor más bajo de Davies Boulding es para K=4, lo cual nos indica que el número óptimo de clusters es 4.\n",
        "\n"
      ],
      "metadata": {
        "id": "P3mvzOlHJKxh"
      },
      "id": "P3mvzOlHJKxh"
    },
    {
      "cell_type": "markdown",
      "metadata": {
        "id": "limited-temple"
      },
      "source": [
        "## 5) Descripción de los clusters\n",
        "\n",
        "Describe los clusters que has obtenido en el apartado anterior. Si te han salido más de 5 elige 5 de ellos que sean bastante diferentes entre sí.\n",
        "\n",
        "Para hacerlo estudia sus descriptores estadísticos y dales un sentido dentro del contexto del problema.\n",
        "\n",
        "Realiza una visualización teniendo en cuenta la latitud y la longitud e intenta darle una interpretación.\n",
        "\n",
        "__Cuidado__: para poder interpretar correctamente los datos necesitas que estén en su escala original. Si decidiste escalar los datos, deberás ejecutar k-Means con los datos escalados pero asignar las etiquetas de clusters al conjunto de datos inicial. En este caso es muy sencillo porque el algoritmo no cambia el orden de los datos así que puedes crear directamente una nueva columna en el dataframe original con esas etiquetas. Puede que aparezca un SettingWithCopyWarning por asignar una nueva columna en un dataframe que es una vista de otro dataframe. Puedes ignorar este aviso o puedes hacer una copia del dataframe con `copy` para que no comparta memoria con el otro."
      ],
      "id": "limited-temple"
    },
    {
      "cell_type": "code",
      "execution_count": 40,
      "metadata": {
        "id": "LGtgAWV_ydoW",
        "colab": {
          "base_uri": "https://localhost:8080/",
          "height": 493
        },
        "outputId": "b7c0b999-f400-4d26-f007-2873633e6171"
      },
      "outputs": [
        {
          "output_type": "stream",
          "name": "stderr",
          "text": [
            "/usr/local/lib/python3.10/dist-packages/sklearn/cluster/_kmeans.py:870: FutureWarning:\n",
            "\n",
            "The default value of `n_init` will change from 10 to 'auto' in 1.4. Set the value of `n_init` explicitly to suppress the warning\n",
            "\n"
          ]
        },
        {
          "output_type": "execute_result",
          "data": {
            "text/plain": [
              "cluster                               0             1              2  \\\n",
              "longitude          count    2290.000000    6551.00000    9136.000000   \n",
              "                   mean     -122.260694    -119.73299    -118.847766   \n",
              "                   std         0.147004       1.90095       1.588888   \n",
              "                   min      -122.590000    -123.73000    -124.140000   \n",
              "                   25%      -122.410000    -121.35000    -118.500000   \n",
              "...                                 ...           ...            ...   \n",
              "median_house_value min     22500.000000   14999.00000   17500.000000   \n",
              "                   25%    162500.000000   77500.00000  164100.000000   \n",
              "                   50%    233800.000000  108500.00000  214850.000000   \n",
              "                   75%    345700.000000  148950.00000  289100.000000   \n",
              "                   max    500001.000000  500001.00000  500001.000000   \n",
              "\n",
              "cluster                               3  \n",
              "longitude          count    2663.000000  \n",
              "                   mean     -119.330717  \n",
              "                   std         2.325508  \n",
              "                   min      -124.350000  \n",
              "                   25%      -122.020000  \n",
              "...                                 ...  \n",
              "median_house_value min     22500.000000  \n",
              "                   25%    150000.000000  \n",
              "                   50%    229500.000000  \n",
              "                   75%    323000.000000  \n",
              "                   max    500001.000000  \n",
              "\n",
              "[72 rows x 4 columns]"
            ],
            "text/html": [
              "\n",
              "  <div id=\"df-edfe19ba-e525-4b96-8222-157320082605\" class=\"colab-df-container\">\n",
              "    <div>\n",
              "<style scoped>\n",
              "    .dataframe tbody tr th:only-of-type {\n",
              "        vertical-align: middle;\n",
              "    }\n",
              "\n",
              "    .dataframe tbody tr th {\n",
              "        vertical-align: top;\n",
              "    }\n",
              "\n",
              "    .dataframe thead th {\n",
              "        text-align: right;\n",
              "    }\n",
              "</style>\n",
              "<table border=\"1\" class=\"dataframe\">\n",
              "  <thead>\n",
              "    <tr style=\"text-align: right;\">\n",
              "      <th></th>\n",
              "      <th>cluster</th>\n",
              "      <th>0</th>\n",
              "      <th>1</th>\n",
              "      <th>2</th>\n",
              "      <th>3</th>\n",
              "    </tr>\n",
              "  </thead>\n",
              "  <tbody>\n",
              "    <tr>\n",
              "      <th rowspan=\"5\" valign=\"top\">longitude</th>\n",
              "      <th>count</th>\n",
              "      <td>2290.000000</td>\n",
              "      <td>6551.00000</td>\n",
              "      <td>9136.000000</td>\n",
              "      <td>2663.000000</td>\n",
              "    </tr>\n",
              "    <tr>\n",
              "      <th>mean</th>\n",
              "      <td>-122.260694</td>\n",
              "      <td>-119.73299</td>\n",
              "      <td>-118.847766</td>\n",
              "      <td>-119.330717</td>\n",
              "    </tr>\n",
              "    <tr>\n",
              "      <th>std</th>\n",
              "      <td>0.147004</td>\n",
              "      <td>1.90095</td>\n",
              "      <td>1.588888</td>\n",
              "      <td>2.325508</td>\n",
              "    </tr>\n",
              "    <tr>\n",
              "      <th>min</th>\n",
              "      <td>-122.590000</td>\n",
              "      <td>-123.73000</td>\n",
              "      <td>-124.140000</td>\n",
              "      <td>-124.350000</td>\n",
              "    </tr>\n",
              "    <tr>\n",
              "      <th>25%</th>\n",
              "      <td>-122.410000</td>\n",
              "      <td>-121.35000</td>\n",
              "      <td>-118.500000</td>\n",
              "      <td>-122.020000</td>\n",
              "    </tr>\n",
              "    <tr>\n",
              "      <th>...</th>\n",
              "      <th>...</th>\n",
              "      <td>...</td>\n",
              "      <td>...</td>\n",
              "      <td>...</td>\n",
              "      <td>...</td>\n",
              "    </tr>\n",
              "    <tr>\n",
              "      <th rowspan=\"5\" valign=\"top\">median_house_value</th>\n",
              "      <th>min</th>\n",
              "      <td>22500.000000</td>\n",
              "      <td>14999.00000</td>\n",
              "      <td>17500.000000</td>\n",
              "      <td>22500.000000</td>\n",
              "    </tr>\n",
              "    <tr>\n",
              "      <th>25%</th>\n",
              "      <td>162500.000000</td>\n",
              "      <td>77500.00000</td>\n",
              "      <td>164100.000000</td>\n",
              "      <td>150000.000000</td>\n",
              "    </tr>\n",
              "    <tr>\n",
              "      <th>50%</th>\n",
              "      <td>233800.000000</td>\n",
              "      <td>108500.00000</td>\n",
              "      <td>214850.000000</td>\n",
              "      <td>229500.000000</td>\n",
              "    </tr>\n",
              "    <tr>\n",
              "      <th>75%</th>\n",
              "      <td>345700.000000</td>\n",
              "      <td>148950.00000</td>\n",
              "      <td>289100.000000</td>\n",
              "      <td>323000.000000</td>\n",
              "    </tr>\n",
              "    <tr>\n",
              "      <th>max</th>\n",
              "      <td>500001.000000</td>\n",
              "      <td>500001.00000</td>\n",
              "      <td>500001.000000</td>\n",
              "      <td>500001.000000</td>\n",
              "    </tr>\n",
              "  </tbody>\n",
              "</table>\n",
              "<p>72 rows × 4 columns</p>\n",
              "</div>\n",
              "    <div class=\"colab-df-buttons\">\n",
              "\n",
              "  <div class=\"colab-df-container\">\n",
              "    <button class=\"colab-df-convert\" onclick=\"convertToInteractive('df-edfe19ba-e525-4b96-8222-157320082605')\"\n",
              "            title=\"Convert this dataframe to an interactive table.\"\n",
              "            style=\"display:none;\">\n",
              "\n",
              "  <svg xmlns=\"http://www.w3.org/2000/svg\" height=\"24px\" viewBox=\"0 -960 960 960\">\n",
              "    <path d=\"M120-120v-720h720v720H120Zm60-500h600v-160H180v160Zm220 220h160v-160H400v160Zm0 220h160v-160H400v160ZM180-400h160v-160H180v160Zm440 0h160v-160H620v160ZM180-180h160v-160H180v160Zm440 0h160v-160H620v160Z\"/>\n",
              "  </svg>\n",
              "    </button>\n",
              "\n",
              "  <style>\n",
              "    .colab-df-container {\n",
              "      display:flex;\n",
              "      gap: 12px;\n",
              "    }\n",
              "\n",
              "    .colab-df-convert {\n",
              "      background-color: #E8F0FE;\n",
              "      border: none;\n",
              "      border-radius: 50%;\n",
              "      cursor: pointer;\n",
              "      display: none;\n",
              "      fill: #1967D2;\n",
              "      height: 32px;\n",
              "      padding: 0 0 0 0;\n",
              "      width: 32px;\n",
              "    }\n",
              "\n",
              "    .colab-df-convert:hover {\n",
              "      background-color: #E2EBFA;\n",
              "      box-shadow: 0px 1px 2px rgba(60, 64, 67, 0.3), 0px 1px 3px 1px rgba(60, 64, 67, 0.15);\n",
              "      fill: #174EA6;\n",
              "    }\n",
              "\n",
              "    .colab-df-buttons div {\n",
              "      margin-bottom: 4px;\n",
              "    }\n",
              "\n",
              "    [theme=dark] .colab-df-convert {\n",
              "      background-color: #3B4455;\n",
              "      fill: #D2E3FC;\n",
              "    }\n",
              "\n",
              "    [theme=dark] .colab-df-convert:hover {\n",
              "      background-color: #434B5C;\n",
              "      box-shadow: 0px 1px 3px 1px rgba(0, 0, 0, 0.15);\n",
              "      filter: drop-shadow(0px 1px 2px rgba(0, 0, 0, 0.3));\n",
              "      fill: #FFFFFF;\n",
              "    }\n",
              "  </style>\n",
              "\n",
              "    <script>\n",
              "      const buttonEl =\n",
              "        document.querySelector('#df-edfe19ba-e525-4b96-8222-157320082605 button.colab-df-convert');\n",
              "      buttonEl.style.display =\n",
              "        google.colab.kernel.accessAllowed ? 'block' : 'none';\n",
              "\n",
              "      async function convertToInteractive(key) {\n",
              "        const element = document.querySelector('#df-edfe19ba-e525-4b96-8222-157320082605');\n",
              "        const dataTable =\n",
              "          await google.colab.kernel.invokeFunction('convertToInteractive',\n",
              "                                                    [key], {});\n",
              "        if (!dataTable) return;\n",
              "\n",
              "        const docLinkHtml = 'Like what you see? Visit the ' +\n",
              "          '<a target=\"_blank\" href=https://colab.research.google.com/notebooks/data_table.ipynb>data table notebook</a>'\n",
              "          + ' to learn more about interactive tables.';\n",
              "        element.innerHTML = '';\n",
              "        dataTable['output_type'] = 'display_data';\n",
              "        await google.colab.output.renderOutput(dataTable, element);\n",
              "        const docLink = document.createElement('div');\n",
              "        docLink.innerHTML = docLinkHtml;\n",
              "        element.appendChild(docLink);\n",
              "      }\n",
              "    </script>\n",
              "  </div>\n",
              "\n",
              "\n",
              "<div id=\"df-ffccad33-335b-4930-809f-8965f8248713\">\n",
              "  <button class=\"colab-df-quickchart\" onclick=\"quickchart('df-ffccad33-335b-4930-809f-8965f8248713')\"\n",
              "            title=\"Suggest charts\"\n",
              "            style=\"display:none;\">\n",
              "\n",
              "<svg xmlns=\"http://www.w3.org/2000/svg\" height=\"24px\"viewBox=\"0 0 24 24\"\n",
              "     width=\"24px\">\n",
              "    <g>\n",
              "        <path d=\"M19 3H5c-1.1 0-2 .9-2 2v14c0 1.1.9 2 2 2h14c1.1 0 2-.9 2-2V5c0-1.1-.9-2-2-2zM9 17H7v-7h2v7zm4 0h-2V7h2v10zm4 0h-2v-4h2v4z\"/>\n",
              "    </g>\n",
              "</svg>\n",
              "  </button>\n",
              "\n",
              "<style>\n",
              "  .colab-df-quickchart {\n",
              "      --bg-color: #E8F0FE;\n",
              "      --fill-color: #1967D2;\n",
              "      --hover-bg-color: #E2EBFA;\n",
              "      --hover-fill-color: #174EA6;\n",
              "      --disabled-fill-color: #AAA;\n",
              "      --disabled-bg-color: #DDD;\n",
              "  }\n",
              "\n",
              "  [theme=dark] .colab-df-quickchart {\n",
              "      --bg-color: #3B4455;\n",
              "      --fill-color: #D2E3FC;\n",
              "      --hover-bg-color: #434B5C;\n",
              "      --hover-fill-color: #FFFFFF;\n",
              "      --disabled-bg-color: #3B4455;\n",
              "      --disabled-fill-color: #666;\n",
              "  }\n",
              "\n",
              "  .colab-df-quickchart {\n",
              "    background-color: var(--bg-color);\n",
              "    border: none;\n",
              "    border-radius: 50%;\n",
              "    cursor: pointer;\n",
              "    display: none;\n",
              "    fill: var(--fill-color);\n",
              "    height: 32px;\n",
              "    padding: 0;\n",
              "    width: 32px;\n",
              "  }\n",
              "\n",
              "  .colab-df-quickchart:hover {\n",
              "    background-color: var(--hover-bg-color);\n",
              "    box-shadow: 0 1px 2px rgba(60, 64, 67, 0.3), 0 1px 3px 1px rgba(60, 64, 67, 0.15);\n",
              "    fill: var(--button-hover-fill-color);\n",
              "  }\n",
              "\n",
              "  .colab-df-quickchart-complete:disabled,\n",
              "  .colab-df-quickchart-complete:disabled:hover {\n",
              "    background-color: var(--disabled-bg-color);\n",
              "    fill: var(--disabled-fill-color);\n",
              "    box-shadow: none;\n",
              "  }\n",
              "\n",
              "  .colab-df-spinner {\n",
              "    border: 2px solid var(--fill-color);\n",
              "    border-color: transparent;\n",
              "    border-bottom-color: var(--fill-color);\n",
              "    animation:\n",
              "      spin 1s steps(1) infinite;\n",
              "  }\n",
              "\n",
              "  @keyframes spin {\n",
              "    0% {\n",
              "      border-color: transparent;\n",
              "      border-bottom-color: var(--fill-color);\n",
              "      border-left-color: var(--fill-color);\n",
              "    }\n",
              "    20% {\n",
              "      border-color: transparent;\n",
              "      border-left-color: var(--fill-color);\n",
              "      border-top-color: var(--fill-color);\n",
              "    }\n",
              "    30% {\n",
              "      border-color: transparent;\n",
              "      border-left-color: var(--fill-color);\n",
              "      border-top-color: var(--fill-color);\n",
              "      border-right-color: var(--fill-color);\n",
              "    }\n",
              "    40% {\n",
              "      border-color: transparent;\n",
              "      border-right-color: var(--fill-color);\n",
              "      border-top-color: var(--fill-color);\n",
              "    }\n",
              "    60% {\n",
              "      border-color: transparent;\n",
              "      border-right-color: var(--fill-color);\n",
              "    }\n",
              "    80% {\n",
              "      border-color: transparent;\n",
              "      border-right-color: var(--fill-color);\n",
              "      border-bottom-color: var(--fill-color);\n",
              "    }\n",
              "    90% {\n",
              "      border-color: transparent;\n",
              "      border-bottom-color: var(--fill-color);\n",
              "    }\n",
              "  }\n",
              "</style>\n",
              "\n",
              "  <script>\n",
              "    async function quickchart(key) {\n",
              "      const quickchartButtonEl =\n",
              "        document.querySelector('#' + key + ' button');\n",
              "      quickchartButtonEl.disabled = true;  // To prevent multiple clicks.\n",
              "      quickchartButtonEl.classList.add('colab-df-spinner');\n",
              "      try {\n",
              "        const charts = await google.colab.kernel.invokeFunction(\n",
              "            'suggestCharts', [key], {});\n",
              "      } catch (error) {\n",
              "        console.error('Error during call to suggestCharts:', error);\n",
              "      }\n",
              "      quickchartButtonEl.classList.remove('colab-df-spinner');\n",
              "      quickchartButtonEl.classList.add('colab-df-quickchart-complete');\n",
              "    }\n",
              "    (() => {\n",
              "      let quickchartButtonEl =\n",
              "        document.querySelector('#df-ffccad33-335b-4930-809f-8965f8248713 button');\n",
              "      quickchartButtonEl.style.display =\n",
              "        google.colab.kernel.accessAllowed ? 'block' : 'none';\n",
              "    })();\n",
              "  </script>\n",
              "</div>\n",
              "    </div>\n",
              "  </div>\n"
            ],
            "application/vnd.google.colaboratory.intrinsic+json": {
              "type": "dataframe",
              "summary": "{\n  \"name\": \"df1\",\n  \"rows\": 72,\n  \"fields\": [\n    {\n      \"column\": 0,\n      \"properties\": {\n        \"dtype\": \"number\",\n        \"std\": 83306.11801232184,\n        \"min\": -122.59,\n        \"max\": 500001.0,\n        \"num_unique_values\": 62,\n        \"samples\": [\n          0.4999,\n          122818.53706389811,\n          2290.0\n        ],\n        \"semantic_type\": \"\",\n        \"description\": \"\"\n      }\n    },\n    {\n      \"column\": 1,\n      \"properties\": {\n        \"dtype\": \"number\",\n        \"std\": 64262.66404567982,\n        \"min\": -123.73,\n        \"max\": 500001.0,\n        \"num_unique_values\": 63,\n        \"samples\": [\n          148950.0,\n          70007.90849411594,\n          6551.0\n        ],\n        \"semantic_type\": \"\",\n        \"description\": \"\"\n      }\n    },\n    {\n      \"column\": 2,\n      \"properties\": {\n        \"dtype\": \"number\",\n        \"std\": 78565.3242372481,\n        \"min\": -124.14,\n        \"max\": 500001.0,\n        \"num_unique_values\": 65,\n        \"samples\": [\n          0.4999,\n          17500.0,\n          9136.0\n        ],\n        \"semantic_type\": \"\",\n        \"description\": \"\"\n      }\n    },\n    {\n      \"column\": 3,\n      \"properties\": {\n        \"dtype\": \"number\",\n        \"std\": 81248.96910827572,\n        \"min\": -124.35,\n        \"max\": 500001.0,\n        \"num_unique_values\": 64,\n        \"samples\": [\n          0.536,\n          122533.27424490564,\n          2663.0\n        ],\n        \"semantic_type\": \"\",\n        \"description\": \"\"\n      }\n    }\n  ]\n}"
            }
          },
          "metadata": {},
          "execution_count": 40
        }
      ],
      "source": [
        "km1 = KMeans(init='random', n_clusters=4, random_state=333)\n",
        "km1.fit(df2_scaled)\n",
        "df1 = df.assign(cluster=pd.Series(data=km1.labels_))\n",
        "df1.groupby([\"cluster\"]).describe().transpose()"
      ],
      "id": "LGtgAWV_ydoW"
    },
    {
      "cell_type": "code",
      "source": [
        "plt.figure(figsize=(10, 6))\n",
        "for cluster_label in  df1['cluster'].unique()  :\n",
        "    cluster_data = df1[df1['cluster'] == cluster_label]\n",
        "    plt.scatter(cluster_data['longitude'], cluster_data['latitude'], label=f'Cluster {cluster_label}')\n",
        "\n",
        "plt.xlabel('Longitude')\n",
        "plt.ylabel('Latitude')\n",
        "plt.title('Clusters in Longitude/Latitude')\n",
        "plt.legend()\n",
        "plt.grid(True)\n",
        "plt.show()"
      ],
      "metadata": {
        "id": "0EBxwgQW8XgD",
        "colab": {
          "base_uri": "https://localhost:8080/",
          "height": 564
        },
        "outputId": "508554e7-f739-412a-e829-b80d5adaa5b1"
      },
      "id": "0EBxwgQW8XgD",
      "execution_count": 37,
      "outputs": [
        {
          "output_type": "display_data",
          "data": {
            "text/plain": [
              "<Figure size 1000x600 with 1 Axes>"
            ],
            "image/png": "[encoded data removed]"
          },
          "metadata": {}
        }
      ]
    },
    {
      "cell_type": "markdown",
      "source": [
        "Se puede apreciar que las manzanas de california están divididas sobre todo por su proximidad al mar. Es decir, son aquellas manzanas mas próximas a la costa las que más se asemejan entre sí,"
      ],
      "metadata": {
        "id": "kgZD5FUy7aaA"
      },
      "id": "kgZD5FUy7aaA"
    },
    {
      "cell_type": "markdown",
      "metadata": {
        "id": "wBQIjbTPHKRy"
      },
      "source": [
        "## 6.1) Clustering jerárquico aglomerativo\n",
        "Repite los apartados 4 y 5 usando clustering jerárquico aglomerativo.\n",
        "\n"
      ],
      "id": "wBQIjbTPHKRy"
    },
    {
      "cell_type": "code",
      "source": [
        "K_MAX = 11\n",
        "davies_boulding = np.zeros(K_MAX-2)\n",
        "X=(df.loc[:,['longitude', 'latitude']]).values\n",
        "for k in range(2, K_MAX):\n",
        "    ag1 = AgglomerativeClustering(n_clusters=k, linkage='ward', affinity='euclidean')\n",
        "    ag1.fit(df2_scaled)\n",
        "\n",
        "    davies_boulding[k-2] = davies_bouldin_score(df2_scaled, ag1.labels_)"
      ],
      "metadata": {
        "id": "BWl6vdFQC8Wr",
        "colab": {
          "base_uri": "https://localhost:8080/"
        },
        "outputId": "956c534c-c769-4fa7-cfe2-8a0c7e316f50"
      },
      "execution_count": null,
      "outputs": [
        {
          "output_type": "stream",
          "name": "stderr",
          "text": [
            "/usr/local/lib/python3.10/dist-packages/sklearn/cluster/_agglomerative.py:983: FutureWarning:\n",
            "\n",
            "Attribute `affinity` was deprecated in version 1.2 and will be removed in 1.4. Use `metric` instead\n",
            "\n",
            "/usr/local/lib/python3.10/dist-packages/sklearn/cluster/_agglomerative.py:983: FutureWarning:\n",
            "\n",
            "Attribute `affinity` was deprecated in version 1.2 and will be removed in 1.4. Use `metric` instead\n",
            "\n",
            "/usr/local/lib/python3.10/dist-packages/sklearn/cluster/_agglomerative.py:983: FutureWarning:\n",
            "\n",
            "Attribute `affinity` was deprecated in version 1.2 and will be removed in 1.4. Use `metric` instead\n",
            "\n",
            "/usr/local/lib/python3.10/dist-packages/sklearn/cluster/_agglomerative.py:983: FutureWarning:\n",
            "\n",
            "Attribute `affinity` was deprecated in version 1.2 and will be removed in 1.4. Use `metric` instead\n",
            "\n",
            "/usr/local/lib/python3.10/dist-packages/sklearn/cluster/_agglomerative.py:983: FutureWarning:\n",
            "\n",
            "Attribute `affinity` was deprecated in version 1.2 and will be removed in 1.4. Use `metric` instead\n",
            "\n",
            "/usr/local/lib/python3.10/dist-packages/sklearn/cluster/_agglomerative.py:983: FutureWarning:\n",
            "\n",
            "Attribute `affinity` was deprecated in version 1.2 and will be removed in 1.4. Use `metric` instead\n",
            "\n",
            "/usr/local/lib/python3.10/dist-packages/sklearn/cluster/_agglomerative.py:983: FutureWarning:\n",
            "\n",
            "Attribute `affinity` was deprecated in version 1.2 and will be removed in 1.4. Use `metric` instead\n",
            "\n"
          ]
        }
      ],
      "id": "BWl6vdFQC8Wr"
    },
    {
      "cell_type": "code",
      "source": [
        "plt.plot(range(2, K_MAX), davies_boulding)\n",
        "plt.title('Valor de Davies Boulding para diferentes k')"
      ],
      "metadata": {
        "id": "59XDOwnJC8Wt"
      },
      "execution_count": null,
      "outputs": [],
      "id": "59XDOwnJC8Wt"
    },
    {
      "cell_type": "markdown",
      "source": [
        "Como podemos observar, el valor más bajo de Davies Boulding es para K=2, lo cual nos indica que el número óptimo de clusters es 2.\n"
      ],
      "metadata": {
        "id": "l7vg4Vy14Lej"
      },
      "id": "l7vg4Vy14Lej"
    },
    {
      "cell_type": "markdown",
      "metadata": {
        "id": "1KA3_FNMC8W4"
      },
      "source": [
        "## 6.2) Descripción de los clusters\n",
        "\n",
        "Describe los clusters que has obtenido en el apartado anterior. Si te han salido más de 5 elige 5 de ellos que sean bastante diferentes entre sí.\n",
        "\n",
        "Para hacerlo estudia sus descriptores estadísticos y dales un sentido dentro del contexto del problema.\n",
        "\n",
        "Realiza una visualización teniendo en cuenta la latitud y la longitud e intenta darle una interpretación.\n",
        "\n",
        "__Cuidado__: para poder interpretar correctamente los datos necesitas que estén en su escala original. Si decidiste escalar los datos, deberás ejecutar k-Means con los datos escalados pero asignar las etiquetas de clusters al conjunto de datos inicial. En este caso es muy sencillo porque el algoritmo no cambia el orden de los datos así que puedes crear directamente una nueva columna en el dataframe original con esas etiquetas. Puede que aparezca un SettingWithCopyWarning por asignar una nueva columna en un dataframe que es una vista de otro dataframe. Puedes ignorar este aviso o puedes hacer una copia del dataframe con `copy` para que no comparta memoria con el otro."
      ],
      "id": "1KA3_FNMC8W4"
    },
    {
      "cell_type": "code",
      "execution_count": null,
      "metadata": {
        "id": "64muScw1C8W4"
      },
      "outputs": [],
      "source": [
        "ag1 = AgglomerativeClustering(n_clusters=2, linkage='ward', affinity='euclidean')\n",
        "ag1.fit(df2_scaled)\n",
        "df3 = df.assign(cluster=pd.Series(data=ag1.labels_))\n",
        "df3.groupby([\"cluster\"]).describe().transpose()"
      ],
      "id": "64muScw1C8W4"
    },
    {
      "cell_type": "code",
      "source": [
        "plt.figure(figsize=(10, 6))\n",
        "for cluster_label in  df3['cluster'].unique()  :\n",
        "    cluster_data = df3[df3['cluster'] == cluster_label]\n",
        "    plt.scatter(cluster_data['longitude'], cluster_data['latitude'], label=f'Cluster {cluster_label}')\n",
        "\n",
        "plt.xlabel('Longitude')\n",
        "plt.ylabel('Latitude')\n",
        "plt.title('Clusters in Longitude/Latitude')\n",
        "plt.legend()\n",
        "plt.grid(True)\n",
        "plt.show()"
      ],
      "metadata": {
        "id": "I1ctA5fsOkC7"
      },
      "id": "I1ctA5fsOkC7",
      "execution_count": null,
      "outputs": []
    },
    {
      "cell_type": "markdown",
      "source": [
        "Podemos apreciar que dado que exosten dos núcleos urbanos en el estado de California, cada cluster se corresponde con uno de ellos"
      ],
      "metadata": {
        "id": "bhb9QXUkjm4Q"
      },
      "id": "bhb9QXUkjm4Q"
    }
  ],
  "metadata": {
    "colab": {
      "provenance": [],
      "toc_visible": true,
      "include_colab_link": true
    },
    "kernelspec": {
      "display_name": "Python 3",
      "language": "python",
      "name": "python3"
    },
    "language_info": {
      "codemirror_mode": {
        "name": "ipython",
        "version": 3
      },
      "file_extension": ".py",
      "mimetype": "text/x-python",
      "name": "python",
      "nbconvert_exporter": "python",
      "pygments_lexer": "ipython3",
      "version": "3.8.12"
    }
  },
  "nbformat": 4,
  "nbformat_minor": 5
}